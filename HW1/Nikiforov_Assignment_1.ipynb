{
 "cells": [
  {
   "cell_type": "markdown",
   "id": "5c5d10b4-bff6-4d68-a481-4adc6b5b1dff",
   "metadata": {},
   "source": [
    "# About a Common `python` Module!"
   ]
  },
  {
   "cell_type": "markdown",
   "id": "f8273c63-aa5a-4325-8b8e-99fee9b3a4f8",
   "metadata": {},
   "source": [
    "## What is `NumPy`?"
   ]
  },
  {
   "cell_type": "markdown",
   "id": "7342b722-d8af-4d57-ab78-541fe0864e67",
   "metadata": {},
   "source": [
    "`NumPy` is the fundamental package for scientific computing in Python. It is a Python library that provides a multidimensional array object, various derived objects (such as masked arrays and matrices), and an assortment of routines for fast operations on arrays, including mathematical, logical, shape manipulation, sorting, selecting, I/O, discrete Fourier transforms, basic linear algebra, basic statistical operations, random simulation and much more.\n",
    "\n",
    "At the core of the `NumPy` package, is the _ndarray_ object. This encapsulates **n-dimensional arrays of homogeneous data types**, with many operations being performed in compiled code for performance. There are several important differences between `NumPy` arrays and the standard Python sequences:\n",
    "\n",
    "- `NumPy` arrays have a fixed size at creation, unlike Python lists (which can grow dynamically). Changing the size of an _ndarray_ will create a new array and delete the original.\n",
    "- The elements in a `NumPy` array are all required to be of the same data type, and thus will be the same size in memory. The exception: one can have arrays of (Python, including `NumPy`) objects, thereby allowing for arrays of different sized elements.\n",
    "- `NumPy` arrays facilitate advanced mathematical and other types of operations on large numbers of data. Typically, such operations are executed more efficiently and with less code than is possible using Python’s built-in sequences.\n",
    "- A growing plethora of scientific and mathematical Python-based packages are using `NumPy` arrays; though these typically support Python-sequence input, they convert such input to `NumPy` arrays prior to processing, and they often output `NumPy` arrays. In other words, in order to efficiently use much (perhaps even most) of today’s scientific/mathematical Python-based software, just knowing how to use Python’s built-in sequence types is insufficient - one also needs to know how to use `NumPy` arrays.\n",
    "\n",
    "The points about sequence size and speed are particularly important in scientific computing. As a simple example, consider the case of multiplying each element in a 1-D sequence with the corresponding element in another sequence of the same length. If the data are stored in two Python lists, `a` and `b`, we could iterate over each element:"
   ]
  },
  {
   "cell_type": "code",
   "execution_count": 1,
   "id": "50bf8baa-998a-4765-93bc-d988178d74df",
   "metadata": {},
   "outputs": [
    {
     "name": "stdout",
     "output_type": "stream",
     "text": [
      "[0, 1, 4, 9, 16, 25, 36, 49, 64, 81]\n"
     ]
    }
   ],
   "source": [
    "a = b = [x for x in range(0,10)]\n",
    "c = []\n",
    "for i in range(len(a)):\n",
    "    c.append(a[i]*b[i])\n",
    "print(c)"
   ]
  },
  {
   "cell_type": "markdown",
   "id": "66ca8bef-2289-4cb9-a6c8-1a0a7d25d1e1",
   "metadata": {},
   "source": [
    "This produces the correct answer, but if `a` and `b` each contain millions of numbers, we will pay the price for the inefficiencies of looping in Python. We could accomplish the same task much more quickly in C by writing (for clarity we neglect variable declarations and initializations, memory allocation, etc.)\n",
    "\n",
    "```\n",
    "for (i = 0; i < rows; i++): {\n",
    "  c[i] = a[i]*b[i];\n",
    "}\n",
    "```\n",
    "\n",
    "This saves all the overhead involved in interpreting the Python code and manipulating Python objects, but at the expense of the benefits gained from coding in Python. Furthermore, the coding work required increases with the dimensionality of our data. In the case of a 2-D array, for example, the C code (abridged as before) expands to\n",
    "\n",
    "```\n",
    "for (i = 0; i < rows; i++): {\n",
    "  for (j = 0; j < columns; j++): {\n",
    "    c[i][j] = a[i][j]*b[i][j];\n",
    "  }\n",
    "}\n",
    "```\n",
    "\n",
    "`NumPy` gives us the best of both worlds: element-by-element operations are the “default mode” when an ndarray is involved, but the element-by-element operation is speedily executed by pre-compiled C code."
   ]
  },
  {
   "cell_type": "markdown",
   "id": "7ec8143e-c181-42ec-bb03-03ee8de6234a",
   "metadata": {},
   "source": [
    "## Visualizing an Array"
   ]
  },
  {
   "cell_type": "markdown",
   "id": "0df7e00d-9ed6-432e-8fc9-414ebe66b005",
   "metadata": {},
   "source": [
    "We can visualize arrays as vectors, matrices, and their extension to higher dimensions. The picture below from https://predictivehacks.com/tips-about-numpy-arrays/ shows this visually."
   ]
  },
  {
   "cell_type": "markdown",
   "id": "8936e962-b98b-46bc-bf6a-995c20599dbb",
   "metadata": {},
   "source": [
    "![](./numpy_arrays.png)"
   ]
  }
 ],
 "metadata": {
  "kernelspec": {
   "display_name": "Python 3",
   "language": "python",
   "name": "python3"
  },
  "language_info": {
   "codemirror_mode": {
    "name": "ipython",
    "version": 3
   },
   "file_extension": ".py",
   "mimetype": "text/x-python",
   "name": "python",
   "nbconvert_exporter": "python",
   "pygments_lexer": "ipython3",
   "version": "3.8.8"
  }
 },
 "nbformat": 4,
 "nbformat_minor": 5
}
