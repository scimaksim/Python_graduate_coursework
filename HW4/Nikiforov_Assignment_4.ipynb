{
 "cells": [
  {
   "cell_type": "markdown",
   "id": "c3aca46d-bd9c-4343-b201-908c64fd3a26",
   "metadata": {},
   "source": [
    "# Homework 4"
   ]
  },
  {
   "cell_type": "markdown",
   "id": "bbb1c818-6324-497c-a937-cf325ccf90bf",
   "metadata": {},
   "source": [
    "Maksim Nikiforov"
   ]
  },
  {
   "cell_type": "markdown",
   "id": "66c8644f-dcf3-477a-9c3c-f2c442273d63",
   "metadata": {},
   "source": [
    "## Part 1 - Summarizing student data"
   ]
  },
  {
   "cell_type": "markdown",
   "id": "f5743982-7d19-4463-8d20-18142bf8a924",
   "metadata": {},
   "source": [
    "### Task 1 - Read in the data"
   ]
  },
  {
   "cell_type": "code",
   "execution_count": 84,
   "id": "31155fd5-3f2d-4a0a-b0a9-c96599b7b69e",
   "metadata": {},
   "outputs": [],
   "source": [
    "import pandas as pd\n",
    "\n",
    "# Read data locally and specify semicolon as delimiter\n",
    "math_data = pd.read_csv(\"student-mat.csv\", delimiter=';')"
   ]
  },
  {
   "cell_type": "markdown",
   "id": "9736edd4-ce34-4c32-85af-c63b422e3871",
   "metadata": {},
   "source": [
    "### Task 2 - Summarize the data"
   ]
  },
  {
   "cell_type": "markdown",
   "id": "a00b293a-ff20-4494-a263-7a88b1cfb88d",
   "metadata": {},
   "source": [
    "#### Categorical variables"
   ]
  },
  {
   "cell_type": "code",
   "execution_count": 58,
   "id": "9844e0c8-cca9-426f-bd0a-802c4aa6abd7",
   "metadata": {},
   "outputs": [
    {
     "name": "stdout",
     "output_type": "stream",
     "text": [
      "<class 'pandas.core.frame.DataFrame'>\n",
      "RangeIndex: 395 entries, 0 to 394\n",
      "Data columns (total 33 columns):\n",
      " #   Column      Non-Null Count  Dtype   \n",
      "---  ------      --------------  -----   \n",
      " 0   school      395 non-null    category\n",
      " 1   sex         395 non-null    category\n",
      " 2   age         395 non-null    int64   \n",
      " 3   address     395 non-null    category\n",
      " 4   famsize     395 non-null    object  \n",
      " 5   Pstatus     395 non-null    category\n",
      " 6   Medu        395 non-null    category\n",
      " 7   Fedu        395 non-null    category\n",
      " 8   Mjob        395 non-null    category\n",
      " 9   Fjob        395 non-null    category\n",
      " 10  reason      395 non-null    category\n",
      " 11  guardian    395 non-null    category\n",
      " 12  traveltime  395 non-null    category\n",
      " 13  studytime   395 non-null    category\n",
      " 14  failures    395 non-null    int64   \n",
      " 15  schoolsup   395 non-null    category\n",
      " 16  famsup      395 non-null    category\n",
      " 17  paid        395 non-null    category\n",
      " 18  activities  395 non-null    category\n",
      " 19  nursery     395 non-null    object  \n",
      " 20  higher      395 non-null    category\n",
      " 21  internet    395 non-null    category\n",
      " 22  romantic    395 non-null    category\n",
      " 23  famrel      395 non-null    int64   \n",
      " 24  freetime    395 non-null    category\n",
      " 25  goout       395 non-null    category\n",
      " 26  Dalc        395 non-null    int64   \n",
      " 27  Walc        395 non-null    int64   \n",
      " 28  health      395 non-null    category\n",
      " 29  absences    395 non-null    int64   \n",
      " 30  G1          395 non-null    int64   \n",
      " 31  G2          395 non-null    int64   \n",
      " 32  G3          395 non-null    int64   \n",
      "dtypes: category(22), int64(9), object(2)\n",
      "memory usage: 46.1+ KB\n"
     ]
    }
   ],
   "source": [
    "# Convert some of the categorical variables into category type variables\n",
    "math_data.school = math_data.school.astype(\"category\")\n",
    "math_data.sex = math_data.sex.astype(\"category\")\n",
    "math_data.address = math_data.address.astype(\"category\")\n",
    "math_data.Pstatus = math_data.Pstatus.astype(\"category\")\n",
    "math_data.Medu = math_data.Medu.astype(\"category\")\n",
    "math_data.Fedu = math_data.Fedu.astype(\"category\")\n",
    "math_data.Mjob = math_data.Mjob.astype(\"category\")\n",
    "math_data.Fjob = math_data.Fjob.astype(\"category\")\n",
    "math_data.reason = math_data.reason.astype(\"category\")\n",
    "math_data.guardian = math_data.guardian.astype(\"category\")\n",
    "math_data.studytime = math_data.studytime.astype(\"category\")\n",
    "math_data.traveltime = math_data.traveltime.astype(\"category\")\n",
    "math_data.schoolsup = math_data.schoolsup.astype(\"category\")\n",
    "math_data.famsup = math_data.famsup.astype(\"category\")\n",
    "math_data.paid = math_data.paid.astype(\"category\")\n",
    "math_data.activities = math_data.activities.astype(\"category\")\n",
    "math_data.higher = math_data.higher.astype(\"category\")\n",
    "math_data.romantic = math_data.romantic.astype(\"category\")\n",
    "math_data.freetime = math_data.freetime.astype(\"category\")\n",
    "math_data.goout = math_data.goout.astype(\"category\")\n",
    "math_data.health = math_data.health.astype(\"category\")\n",
    "math_data.info()"
   ]
  },
  {
   "cell_type": "code",
   "execution_count": 35,
   "id": "45c38343-dd85-46d3-b196-d82c38719497",
   "metadata": {},
   "outputs": [
    {
     "data": {
      "text/plain": [
       "U    307\n",
       "R     88\n",
       "Name: address, dtype: int64"
      ]
     },
     "execution_count": 35,
     "metadata": {},
     "output_type": "execute_result"
    }
   ],
   "source": [
    "# Create a one-way contingency table\n",
    "math_data.address.value_counts()"
   ]
  },
  {
   "cell_type": "markdown",
   "id": "d0ee452e-d67e-4048-95e3-98131cd3dee9",
   "metadata": {},
   "source": [
    "In this one-way contingency table, we see that most student in the data set - 307 - live live in an urban home. The remaining 88 students live in a rural home."
   ]
  },
  {
   "cell_type": "code",
   "execution_count": 36,
   "id": "c6cbca8e-20a5-49bb-baf0-9fc54b1a5dda",
   "metadata": {},
   "outputs": [
    {
     "data": {
      "text/html": [
       "<div>\n",
       "<style scoped>\n",
       "    .dataframe tbody tr th:only-of-type {\n",
       "        vertical-align: middle;\n",
       "    }\n",
       "\n",
       "    .dataframe tbody tr th {\n",
       "        vertical-align: top;\n",
       "    }\n",
       "\n",
       "    .dataframe thead th {\n",
       "        text-align: right;\n",
       "    }\n",
       "</style>\n",
       "<table border=\"1\" class=\"dataframe\">\n",
       "  <thead>\n",
       "    <tr style=\"text-align: right;\">\n",
       "      <th>higher</th>\n",
       "      <th>no</th>\n",
       "      <th>yes</th>\n",
       "      <th>All</th>\n",
       "    </tr>\n",
       "    <tr>\n",
       "      <th>sex</th>\n",
       "      <th></th>\n",
       "      <th></th>\n",
       "      <th></th>\n",
       "    </tr>\n",
       "  </thead>\n",
       "  <tbody>\n",
       "    <tr>\n",
       "      <th>F</th>\n",
       "      <td>4</td>\n",
       "      <td>204</td>\n",
       "      <td>208</td>\n",
       "    </tr>\n",
       "    <tr>\n",
       "      <th>M</th>\n",
       "      <td>16</td>\n",
       "      <td>171</td>\n",
       "      <td>187</td>\n",
       "    </tr>\n",
       "    <tr>\n",
       "      <th>All</th>\n",
       "      <td>20</td>\n",
       "      <td>375</td>\n",
       "      <td>395</td>\n",
       "    </tr>\n",
       "  </tbody>\n",
       "</table>\n",
       "</div>"
      ],
      "text/plain": [
       "higher  no  yes  All\n",
       "sex                 \n",
       "F        4  204  208\n",
       "M       16  171  187\n",
       "All     20  375  395"
      ]
     },
     "execution_count": 36,
     "metadata": {},
     "output_type": "execute_result"
    }
   ],
   "source": [
    "# Create a two-way contingency table\n",
    "pd.crosstab(math_data.sex, math_data.higher, margins=True)"
   ]
  },
  {
   "cell_type": "markdown",
   "id": "0ea46459-8ed0-4717-8163-06dc1028fc2a",
   "metadata": {},
   "source": [
    "In this two-way contingency table, we see that the data includes information on 208 females and 187 males. Only 4 females and 16 males do not wish to pursue higher education.  "
   ]
  },
  {
   "cell_type": "code",
   "execution_count": 37,
   "id": "664b8d7f-3aeb-4ad1-b6c9-0b995495d6e3",
   "metadata": {},
   "outputs": [
    {
     "data": {
      "text/html": [
       "<div>\n",
       "<style scoped>\n",
       "    .dataframe tbody tr th:only-of-type {\n",
       "        vertical-align: middle;\n",
       "    }\n",
       "\n",
       "    .dataframe tbody tr th {\n",
       "        vertical-align: top;\n",
       "    }\n",
       "\n",
       "    .dataframe thead th {\n",
       "        text-align: right;\n",
       "    }\n",
       "</style>\n",
       "<table border=\"1\" class=\"dataframe\">\n",
       "  <thead>\n",
       "    <tr style=\"text-align: right;\">\n",
       "      <th></th>\n",
       "      <th>sex</th>\n",
       "      <th>F</th>\n",
       "      <th>M</th>\n",
       "      <th>All</th>\n",
       "    </tr>\n",
       "    <tr>\n",
       "      <th>guardian</th>\n",
       "      <th>famsup</th>\n",
       "      <th></th>\n",
       "      <th></th>\n",
       "      <th></th>\n",
       "    </tr>\n",
       "  </thead>\n",
       "  <tbody>\n",
       "    <tr>\n",
       "      <th rowspan=\"2\" valign=\"top\">father</th>\n",
       "      <th>no</th>\n",
       "      <td>13</td>\n",
       "      <td>21</td>\n",
       "      <td>34</td>\n",
       "    </tr>\n",
       "    <tr>\n",
       "      <th>yes</th>\n",
       "      <td>30</td>\n",
       "      <td>26</td>\n",
       "      <td>56</td>\n",
       "    </tr>\n",
       "    <tr>\n",
       "      <th rowspan=\"2\" valign=\"top\">mother</th>\n",
       "      <th>no</th>\n",
       "      <td>46</td>\n",
       "      <td>61</td>\n",
       "      <td>107</td>\n",
       "    </tr>\n",
       "    <tr>\n",
       "      <th>yes</th>\n",
       "      <td>99</td>\n",
       "      <td>67</td>\n",
       "      <td>166</td>\n",
       "    </tr>\n",
       "    <tr>\n",
       "      <th rowspan=\"2\" valign=\"top\">other</th>\n",
       "      <th>no</th>\n",
       "      <td>7</td>\n",
       "      <td>5</td>\n",
       "      <td>12</td>\n",
       "    </tr>\n",
       "    <tr>\n",
       "      <th>yes</th>\n",
       "      <td>13</td>\n",
       "      <td>7</td>\n",
       "      <td>20</td>\n",
       "    </tr>\n",
       "    <tr>\n",
       "      <th>All</th>\n",
       "      <th></th>\n",
       "      <td>208</td>\n",
       "      <td>187</td>\n",
       "      <td>395</td>\n",
       "    </tr>\n",
       "  </tbody>\n",
       "</table>\n",
       "</div>"
      ],
      "text/plain": [
       "sex                F    M  All\n",
       "guardian famsup               \n",
       "father   no       13   21   34\n",
       "         yes      30   26   56\n",
       "mother   no       46   61  107\n",
       "         yes      99   67  166\n",
       "other    no        7    5   12\n",
       "         yes      13    7   20\n",
       "All              208  187  395"
      ]
     },
     "execution_count": 37,
     "metadata": {},
     "output_type": "execute_result"
    }
   ],
   "source": [
    "# Create a three-way contingency table\n",
    "pd.crosstab(\n",
    "    [math_data.guardian, math_data.famsup],\n",
    "    math_data.sex,\n",
    "    margins=True\n",
    ")"
   ]
  },
  {
   "cell_type": "markdown",
   "id": "abba2aef-676d-4635-93d0-2ae666181e32",
   "metadata": {},
   "source": [
    "The majority of students list \"mother\" as their guardian. In this subgroup, 99 females receive family educational support and 46 do not. The males are more evenly split; 67 males with \"mother\" as their guardian receive family educational support, and 61 do not. "
   ]
  },
  {
   "cell_type": "code",
   "execution_count": 43,
   "id": "6246c742-78cb-49d8-b7c4-0c8e5d8d7ed6",
   "metadata": {},
   "outputs": [
    {
     "data": {
      "text/html": [
       "<div>\n",
       "<style scoped>\n",
       "    .dataframe tbody tr th:only-of-type {\n",
       "        vertical-align: middle;\n",
       "    }\n",
       "\n",
       "    .dataframe tbody tr th {\n",
       "        vertical-align: top;\n",
       "    }\n",
       "\n",
       "    .dataframe thead th {\n",
       "        text-align: right;\n",
       "    }\n",
       "</style>\n",
       "<table border=\"1\" class=\"dataframe\">\n",
       "  <thead>\n",
       "    <tr style=\"text-align: right;\">\n",
       "      <th>sex</th>\n",
       "      <th>F</th>\n",
       "      <th>M</th>\n",
       "      <th>All</th>\n",
       "    </tr>\n",
       "    <tr>\n",
       "      <th>reason</th>\n",
       "      <th></th>\n",
       "      <th></th>\n",
       "      <th></th>\n",
       "    </tr>\n",
       "  </thead>\n",
       "  <tbody>\n",
       "    <tr>\n",
       "      <th>course</th>\n",
       "      <td>72</td>\n",
       "      <td>73</td>\n",
       "      <td>145</td>\n",
       "    </tr>\n",
       "    <tr>\n",
       "      <th>home</th>\n",
       "      <td>53</td>\n",
       "      <td>56</td>\n",
       "      <td>109</td>\n",
       "    </tr>\n",
       "    <tr>\n",
       "      <th>other</th>\n",
       "      <td>18</td>\n",
       "      <td>18</td>\n",
       "      <td>36</td>\n",
       "    </tr>\n",
       "    <tr>\n",
       "      <th>reputation</th>\n",
       "      <td>65</td>\n",
       "      <td>40</td>\n",
       "      <td>105</td>\n",
       "    </tr>\n",
       "    <tr>\n",
       "      <th>All</th>\n",
       "      <td>208</td>\n",
       "      <td>187</td>\n",
       "      <td>395</td>\n",
       "    </tr>\n",
       "  </tbody>\n",
       "</table>\n",
       "</div>"
      ],
      "text/plain": [
       "sex           F    M  All\n",
       "reason                   \n",
       "course       72   73  145\n",
       "home         53   56  109\n",
       "other        18   18   36\n",
       "reputation   65   40  105\n",
       "All         208  187  395"
      ]
     },
     "execution_count": 43,
     "metadata": {},
     "output_type": "execute_result"
    }
   ],
   "source": [
    "# Create a conditional two-way table by \n",
    "# subsetting the data (say with .loc) and then creating the two-way table\n",
    "\n",
    "# Subset data with .loc to include only two columns: reason behind school choice and student's sex \n",
    "school_choice_reason = math_data.loc[:, [\"reason\", \"sex\"]] \n",
    "\n",
    "# Create the two-way table\n",
    "pd.crosstab(school_choice_reason.reason, school_choice_reason.sex, margins=True)"
   ]
  },
  {
   "cell_type": "markdown",
   "id": "3b4e9a4a-7589-40c1-8876-b48cccbdc249",
   "metadata": {},
   "source": [
    "Here, we see that the majority of students (145) selected their school because of course preference, followed by proximity to home (109) and school reputation (105). "
   ]
  },
  {
   "cell_type": "code",
   "execution_count": 59,
   "id": "9b17d2e8-c476-489b-b38a-55a3a227e33c",
   "metadata": {},
   "outputs": [
    {
     "data": {
      "text/html": [
       "<div>\n",
       "<style scoped>\n",
       "    .dataframe tbody tr th:only-of-type {\n",
       "        vertical-align: middle;\n",
       "    }\n",
       "\n",
       "    .dataframe tbody tr th {\n",
       "        vertical-align: top;\n",
       "    }\n",
       "\n",
       "    .dataframe thead th {\n",
       "        text-align: right;\n",
       "    }\n",
       "</style>\n",
       "<table border=\"1\" class=\"dataframe\">\n",
       "  <thead>\n",
       "    <tr style=\"text-align: right;\">\n",
       "      <th></th>\n",
       "      <th>sex</th>\n",
       "      <th>F</th>\n",
       "      <th>M</th>\n",
       "      <th>All</th>\n",
       "    </tr>\n",
       "    <tr>\n",
       "      <th>studytime</th>\n",
       "      <th>activities</th>\n",
       "      <th></th>\n",
       "      <th></th>\n",
       "      <th></th>\n",
       "    </tr>\n",
       "  </thead>\n",
       "  <tbody>\n",
       "    <tr>\n",
       "      <th rowspan=\"2\" valign=\"top\">1</th>\n",
       "      <th>no</th>\n",
       "      <td>16</td>\n",
       "      <td>43</td>\n",
       "      <td>59</td>\n",
       "    </tr>\n",
       "    <tr>\n",
       "      <th>yes</th>\n",
       "      <td>11</td>\n",
       "      <td>35</td>\n",
       "      <td>46</td>\n",
       "    </tr>\n",
       "    <tr>\n",
       "      <th rowspan=\"2\" valign=\"top\">2</th>\n",
       "      <th>no</th>\n",
       "      <td>64</td>\n",
       "      <td>31</td>\n",
       "      <td>95</td>\n",
       "    </tr>\n",
       "    <tr>\n",
       "      <th>yes</th>\n",
       "      <td>49</td>\n",
       "      <td>54</td>\n",
       "      <td>103</td>\n",
       "    </tr>\n",
       "    <tr>\n",
       "      <th rowspan=\"2\" valign=\"top\">3</th>\n",
       "      <th>no</th>\n",
       "      <td>24</td>\n",
       "      <td>5</td>\n",
       "      <td>29</td>\n",
       "    </tr>\n",
       "    <tr>\n",
       "      <th>yes</th>\n",
       "      <td>27</td>\n",
       "      <td>9</td>\n",
       "      <td>36</td>\n",
       "    </tr>\n",
       "    <tr>\n",
       "      <th rowspan=\"2\" valign=\"top\">4</th>\n",
       "      <th>no</th>\n",
       "      <td>8</td>\n",
       "      <td>3</td>\n",
       "      <td>11</td>\n",
       "    </tr>\n",
       "    <tr>\n",
       "      <th>yes</th>\n",
       "      <td>9</td>\n",
       "      <td>7</td>\n",
       "      <td>16</td>\n",
       "    </tr>\n",
       "    <tr>\n",
       "      <th>All</th>\n",
       "      <th></th>\n",
       "      <td>208</td>\n",
       "      <td>187</td>\n",
       "      <td>395</td>\n",
       "    </tr>\n",
       "  </tbody>\n",
       "</table>\n",
       "</div>"
      ],
      "text/plain": [
       "sex                     F    M  All\n",
       "studytime activities               \n",
       "1         no           16   43   59\n",
       "          yes          11   35   46\n",
       "2         no           64   31   95\n",
       "          yes          49   54  103\n",
       "3         no           24    5   29\n",
       "          yes          27    9   36\n",
       "4         no            8    3   11\n",
       "          yes           9    7   16\n",
       "All                   208  187  395"
      ]
     },
     "execution_count": 59,
     "metadata": {},
     "output_type": "execute_result"
    }
   ],
   "source": [
    "# Create a conditional two-way table by \n",
    "# creating a three-way table and subsetting it\n",
    "\n",
    "# Create the three-way contingency table\n",
    "study_activities_tab = pd.crosstab(\n",
    "    [math_data.studytime, math_data.activities],\n",
    "    math_data.sex,\n",
    "    margins=True\n",
    ")\n",
    "\n",
    "study_activities_tab"
   ]
  },
  {
   "cell_type": "code",
   "execution_count": 74,
   "id": "26514e2f-8711-416d-8b86-018bdd0caa6f",
   "metadata": {},
   "outputs": [
    {
     "data": {
      "text/plain": [
       "studytime  activities\n",
       "1          no             16\n",
       "           yes            11\n",
       "2          no             64\n",
       "           yes            49\n",
       "3          no             24\n",
       "           yes            27\n",
       "4          no              8\n",
       "           yes             9\n",
       "All                      208\n",
       "Name: F, dtype: int64"
      ]
     },
     "execution_count": 74,
     "metadata": {},
     "output_type": "execute_result"
    }
   ],
   "source": [
    "# Subset three-way table for females only to include \n",
    "# bivariate information on study time and participation in extracurricular activities\n",
    "study_activities_tab.loc[:, \"F\"]"
   ]
  },
  {
   "cell_type": "code",
   "execution_count": 83,
   "id": "6f700701-028f-4364-93a0-8f128175ebf6",
   "metadata": {},
   "outputs": [
    {
     "data": {
      "image/png": "[encoded data removed]",
      "text/plain": [
       "<Figure size 432x288 with 1 Axes>"
      ]
     },
     "metadata": {
      "needs_background": "light"
     },
     "output_type": "display_data"
    }
   ],
   "source": [
    "# Create a stacked bar graph. \n",
    "# Give relevant x and y labels, and a title for the plots.\n",
    "\n",
    "# Import pyplot submodule\n",
    "import matplotlib.pyplot as plt\n",
    "\n",
    "table = pd.crosstab(math_data.romantic, math_data.sex)\n",
    "table.plot.bar(stacked = True)\n",
    "plt.xticks(rotation = 0)\n",
    "plt.xlabel(\"Romantic relationship\")\n",
    "plt.ylabel(\"Count\")\n",
    "plt.title(\"Bar graph of Student's Sex and Relationship Status\")\n",
    "plt.show()\n",
    "plt.close()"
   ]
  },
  {
   "cell_type": "code",
   "execution_count": 82,
   "id": "bd9ef0ce-a0e0-45d2-a28a-67ecd813ed86",
   "metadata": {},
   "outputs": [
    {
     "data": {
      "image/png": "[encoded data removed]",
      "text/plain": [
       "<Figure size 432x288 with 1 Axes>"
      ]
     },
     "metadata": {
      "needs_background": "light"
     },
     "output_type": "display_data"
    }
   ],
   "source": [
    "# Create a side-by-side bar graph. \n",
    "# Give relevant x and y labels, and a title for the plots.\n",
    "table = pd.crosstab(math_data.nursery, math_data.sex)\n",
    "table.plot.bar()\n",
    "plt.xticks(rotation = 0)\n",
    "plt.xlabel(\"Attended nursery school\")\n",
    "plt.ylabel(\"Count\")\n",
    "plt.title(\"Bar graph of Student's Sex and Nursery School Attendance\")\n",
    "plt.show()\n",
    "plt.close()"
   ]
  },
  {
   "cell_type": "markdown",
   "id": "ee249f9b-8861-47da-bbbf-b8aa3c603876",
   "metadata": {},
   "source": [
    "#### Numeric variables (and across groups)"
   ]
  },
  {
   "cell_type": "code",
   "execution_count": null,
   "id": "0fa83af6-22bd-494c-a5a0-add17f521fe2",
   "metadata": {},
   "outputs": [],
   "source": []
  }
 ],
 "metadata": {
  "kernelspec": {
   "display_name": "Python 3 (ipykernel)",
   "language": "python",
   "name": "python3"
  },
  "language_info": {
   "codemirror_mode": {
    "name": "ipython",
    "version": 3
   },
   "file_extension": ".py",
   "mimetype": "text/x-python",
   "name": "python",
   "nbconvert_exporter": "python",
   "pygments_lexer": "ipython3",
   "version": "3.10.2"
  }
 },
 "nbformat": 4,
 "nbformat_minor": 5
}
