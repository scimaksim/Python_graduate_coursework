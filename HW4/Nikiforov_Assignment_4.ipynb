{
 "cells": [
  {
   "cell_type": "markdown",
   "id": "c3aca46d-bd9c-4343-b201-908c64fd3a26",
   "metadata": {},
   "source": [
    "# Homework 4"
   ]
  },
  {
   "cell_type": "markdown",
   "id": "bbb1c818-6324-497c-a937-cf325ccf90bf",
   "metadata": {},
   "source": [
    "Maksim Nikiforov"
   ]
  },
  {
   "cell_type": "markdown",
   "id": "66c8644f-dcf3-477a-9c3c-f2c442273d63",
   "metadata": {},
   "source": [
    "## Part 1 - Summarizing student data"
   ]
  },
  {
   "cell_type": "markdown",
   "id": "f5743982-7d19-4463-8d20-18142bf8a924",
   "metadata": {},
   "source": [
    "### Task 1 - Read in the data"
   ]
  },
  {
   "cell_type": "code",
   "execution_count": 5,
   "id": "31155fd5-3f2d-4a0a-b0a9-c96599b7b69e",
   "metadata": {},
   "outputs": [
    {
     "name": "stdout",
     "output_type": "stream",
     "text": [
      "<class 'pandas.core.frame.DataFrame'>\n",
      "RangeIndex: 395 entries, 0 to 394\n",
      "Data columns (total 33 columns):\n",
      " #   Column      Non-Null Count  Dtype \n",
      "---  ------      --------------  ----- \n",
      " 0   school      395 non-null    object\n",
      " 1   sex         395 non-null    object\n",
      " 2   age         395 non-null    int64 \n",
      " 3   address     395 non-null    object\n",
      " 4   famsize     395 non-null    object\n",
      " 5   Pstatus     395 non-null    object\n",
      " 6   Medu        395 non-null    int64 \n",
      " 7   Fedu        395 non-null    int64 \n",
      " 8   Mjob        395 non-null    object\n",
      " 9   Fjob        395 non-null    object\n",
      " 10  reason      395 non-null    object\n",
      " 11  guardian    395 non-null    object\n",
      " 12  traveltime  395 non-null    int64 \n",
      " 13  studytime   395 non-null    int64 \n",
      " 14  failures    395 non-null    int64 \n",
      " 15  schoolsup   395 non-null    object\n",
      " 16  famsup      395 non-null    object\n",
      " 17  paid        395 non-null    object\n",
      " 18  activities  395 non-null    object\n",
      " 19  nursery     395 non-null    object\n",
      " 20  higher      395 non-null    object\n",
      " 21  internet    395 non-null    object\n",
      " 22  romantic    395 non-null    object\n",
      " 23  famrel      395 non-null    int64 \n",
      " 24  freetime    395 non-null    int64 \n",
      " 25  goout       395 non-null    int64 \n",
      " 26  Dalc        395 non-null    int64 \n",
      " 27  Walc        395 non-null    int64 \n",
      " 28  health      395 non-null    int64 \n",
      " 29  absences    395 non-null    int64 \n",
      " 30  G1          395 non-null    int64 \n",
      " 31  G2          395 non-null    int64 \n",
      " 32  G3          395 non-null    int64 \n",
      "dtypes: int64(16), object(17)\n",
      "memory usage: 102.0+ KB\n"
     ]
    }
   ],
   "source": [
    "import pandas as pd\n",
    "\n",
    "# Read data locally and specify semicolon as delimiter\n",
    "mathData = pd.read_csv(\"student-mat.csv\", delimiter=';')\n",
    "\n",
    "# View data types for all columns\n",
    "mathData.info()"
   ]
  },
  {
   "cell_type": "markdown",
   "id": "9736edd4-ce34-4c32-85af-c63b422e3871",
   "metadata": {},
   "source": [
    "### Task 2 - Summarize the data"
   ]
  },
  {
   "cell_type": "code",
   "execution_count": 14,
   "id": "9844e0c8-cca9-426f-bd0a-802c4aa6abd7",
   "metadata": {},
   "outputs": [
    {
     "name": "stdout",
     "output_type": "stream",
     "text": [
      "<class 'pandas.core.frame.DataFrame'>\n",
      "RangeIndex: 395 entries, 0 to 394\n",
      "Data columns (total 33 columns):\n",
      " #   Column      Non-Null Count  Dtype   \n",
      "---  ------      --------------  -----   \n",
      " 0   school      395 non-null    category\n",
      " 1   sex         395 non-null    category\n",
      " 2   age         395 non-null    int64   \n",
      " 3   address     395 non-null    object  \n",
      " 4   famsize     395 non-null    object  \n",
      " 5   Pstatus     395 non-null    category\n",
      " 6   Medu        395 non-null    category\n",
      " 7   Fedu        395 non-null    category\n",
      " 8   Mjob        395 non-null    category\n",
      " 9   Fjob        395 non-null    category\n",
      " 10  reason      395 non-null    category\n",
      " 11  guardian    395 non-null    category\n",
      " 12  traveltime  395 non-null    int64   \n",
      " 13  studytime   395 non-null    int64   \n",
      " 14  failures    395 non-null    int64   \n",
      " 15  schoolsup   395 non-null    object  \n",
      " 16  famsup      395 non-null    object  \n",
      " 17  paid        395 non-null    object  \n",
      " 18  activities  395 non-null    object  \n",
      " 19  nursery     395 non-null    object  \n",
      " 20  higher      395 non-null    category\n",
      " 21  internet    395 non-null    category\n",
      " 22  romantic    395 non-null    category\n",
      " 23  famrel      395 non-null    int64   \n",
      " 24  freetime    395 non-null    int64   \n",
      " 25  goout       395 non-null    int64   \n",
      " 26  Dalc        395 non-null    int64   \n",
      " 27  Walc        395 non-null    int64   \n",
      " 28  health      395 non-null    int64   \n",
      " 29  absences    395 non-null    int64   \n",
      " 30  G1          395 non-null    int64   \n",
      " 31  G2          395 non-null    int64   \n",
      " 32  G3          395 non-null    int64   \n",
      "dtypes: category(12), int64(14), object(7)\n",
      "memory usage: 71.4+ KB\n"
     ]
    }
   ],
   "source": [
    "# Convert some of the categorical variables into category type variables\n",
    "mathData.school = mathData.school.astype(\"category\")\n",
    "mathData.sex = mathData.sex.astype(\"category\")\n",
    "mathData.Pstatus = mathData.Pstatus.astype(\"category\")\n",
    "mathData.Medu = mathData.Medu.astype(\"category\")\n",
    "mathData.Fedu = mathData.Fedu.astype(\"category\")\n",
    "mathData.Mjob = mathData.Mjob.astype(\"category\")\n",
    "mathData.Fjob = mathData.Fjob.astype(\"category\")\n",
    "mathData.reason = mathData.reason.astype(\"category\")\n",
    "mathData.guardian = mathData.guardian.astype(\"category\")\n",
    "mathData.higher = mathData.higher.astype(\"category\")\n",
    "mathData.romantic = mathData.romantic.astype(\"category\")\n",
    "mathData.internet = mathData.internet.astype(\"category\")\n",
    "mathData.info()"
   ]
  },
  {
   "cell_type": "code",
   "execution_count": null,
   "id": "45c38343-dd85-46d3-b196-d82c38719497",
   "metadata": {},
   "outputs": [],
   "source": []
  }
 ],
 "metadata": {
  "kernelspec": {
   "display_name": "Python 3 (ipykernel)",
   "language": "python",
   "name": "python3"
  },
  "language_info": {
   "codemirror_mode": {
    "name": "ipython",
    "version": 3
   },
   "file_extension": ".py",
   "mimetype": "text/x-python",
   "name": "python",
   "nbconvert_exporter": "python",
   "pygments_lexer": "ipython3",
   "version": "3.10.2"
  }
 },
 "nbformat": 4,
 "nbformat_minor": 5
}
