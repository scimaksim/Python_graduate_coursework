{
 "cells": [
  {
   "cell_type": "markdown",
   "id": "8cb96470-6a62-4e18-8595-8273e79949e8",
   "metadata": {},
   "source": [
    "# Using `MLlib` from `pyspark` to Fit Machine Learning Models"
   ]
  },
  {
   "cell_type": "markdown",
   "id": "57124796-3da8-40dd-9bdd-780171c0ccfd",
   "metadata": {},
   "source": [
    "Create a spark instance (I'm on Windows so I'll need a few more things as well)."
   ]
  },
  {
   "cell_type": "code",
   "execution_count": 2,
   "id": "2bdcc3f9-b2f8-45e5-ba9e-653b7b61fee7",
   "metadata": {},
   "outputs": [],
   "source": [
    "import os\n",
    "import sys\n",
    "os.environ['PYSPARK_PYTHON'] = sys.executable\n",
    "os.environ['PYSPARK_DRIVER_PYTHON'] = sys.executable\n",
    "\n",
    "import pandas as pd\n",
    "from pyspark.sql import SparkSession\n",
    "spark = SparkSession.builder.getOrCreate()"
   ]
  },
  {
   "cell_type": "markdown",
   "id": "fd113d88-10dc-410f-b8bc-16a898049855",
   "metadata": {},
   "source": [
    "Now read in a data set using regular `pandas` and convert it to a `spark` SQL style data frame."
   ]
  },
  {
   "cell_type": "code",
   "execution_count": 4,
   "id": "9d4e18e1-0cb5-41e1-a472-11089adc8f7a",
   "metadata": {},
   "outputs": [
    {
     "data": {
      "text/html": [
       "<div>\n",
       "<style scoped>\n",
       "    .dataframe tbody tr th:only-of-type {\n",
       "        vertical-align: middle;\n",
       "    }\n",
       "\n",
       "    .dataframe tbody tr th {\n",
       "        vertical-align: top;\n",
       "    }\n",
       "\n",
       "    .dataframe thead th {\n",
       "        text-align: right;\n",
       "    }\n",
       "</style>\n",
       "<table border=\"1\" class=\"dataframe\">\n",
       "  <thead>\n",
       "    <tr style=\"text-align: right;\">\n",
       "      <th></th>\n",
       "      <th>name</th>\n",
       "      <th>selling_price</th>\n",
       "      <th>year</th>\n",
       "      <th>seller_type</th>\n",
       "      <th>owner</th>\n",
       "      <th>km_driven</th>\n",
       "      <th>ex_showroom_price</th>\n",
       "    </tr>\n",
       "  </thead>\n",
       "  <tbody>\n",
       "    <tr>\n",
       "      <th>0</th>\n",
       "      <td>Royal Enfield Classic 350</td>\n",
       "      <td>175000</td>\n",
       "      <td>2019</td>\n",
       "      <td>Individual</td>\n",
       "      <td>1st owner</td>\n",
       "      <td>350</td>\n",
       "      <td>NaN</td>\n",
       "    </tr>\n",
       "    <tr>\n",
       "      <th>1</th>\n",
       "      <td>Honda Dio</td>\n",
       "      <td>45000</td>\n",
       "      <td>2017</td>\n",
       "      <td>Individual</td>\n",
       "      <td>1st owner</td>\n",
       "      <td>5650</td>\n",
       "      <td>NaN</td>\n",
       "    </tr>\n",
       "    <tr>\n",
       "      <th>2</th>\n",
       "      <td>Royal Enfield Classic Gunmetal Grey</td>\n",
       "      <td>150000</td>\n",
       "      <td>2018</td>\n",
       "      <td>Individual</td>\n",
       "      <td>1st owner</td>\n",
       "      <td>12000</td>\n",
       "      <td>148114.0</td>\n",
       "    </tr>\n",
       "    <tr>\n",
       "      <th>3</th>\n",
       "      <td>Yamaha Fazer FI V 2.0 [2016-2018]</td>\n",
       "      <td>65000</td>\n",
       "      <td>2015</td>\n",
       "      <td>Individual</td>\n",
       "      <td>1st owner</td>\n",
       "      <td>23000</td>\n",
       "      <td>89643.0</td>\n",
       "    </tr>\n",
       "    <tr>\n",
       "      <th>4</th>\n",
       "      <td>Yamaha SZ [2013-2014]</td>\n",
       "      <td>20000</td>\n",
       "      <td>2011</td>\n",
       "      <td>Individual</td>\n",
       "      <td>2nd owner</td>\n",
       "      <td>21000</td>\n",
       "      <td>NaN</td>\n",
       "    </tr>\n",
       "  </tbody>\n",
       "</table>\n",
       "</div>"
      ],
      "text/plain": [
       "                                  name  selling_price  year seller_type  \\\n",
       "0            Royal Enfield Classic 350         175000  2019  Individual   \n",
       "1                            Honda Dio          45000  2017  Individual   \n",
       "2  Royal Enfield Classic Gunmetal Grey         150000  2018  Individual   \n",
       "3    Yamaha Fazer FI V 2.0 [2016-2018]          65000  2015  Individual   \n",
       "4                Yamaha SZ [2013-2014]          20000  2011  Individual   \n",
       "\n",
       "       owner  km_driven  ex_showroom_price  \n",
       "0  1st owner        350                NaN  \n",
       "1  1st owner       5650                NaN  \n",
       "2  1st owner      12000           148114.0  \n",
       "3  1st owner      23000            89643.0  \n",
       "4  2nd owner      21000                NaN  "
      ]
     },
     "execution_count": 4,
     "metadata": {},
     "output_type": "execute_result"
    }
   ],
   "source": [
    "bike_data = pd.read_csv(\"bikeDetails.csv\")\n",
    "bike_data.head()"
   ]
  },
  {
   "cell_type": "markdown",
   "id": "1e574259-a425-4f57-94f5-4e0e01cb4115",
   "metadata": {},
   "source": [
    "Convert to a spark SQL data frame."
   ]
  },
  {
   "cell_type": "code",
   "execution_count": 5,
   "id": "bd795d76-463a-4260-b8de-f999d6592ed4",
   "metadata": {},
   "outputs": [
    {
     "name": "stdout",
     "output_type": "stream",
     "text": [
      "+--------------------+-------------+----+-----------+---------+---------+-----------------+\n",
      "|                name|selling_price|year|seller_type|    owner|km_driven|ex_showroom_price|\n",
      "+--------------------+-------------+----+-----------+---------+---------+-----------------+\n",
      "|Royal Enfield Cla...|       175000|2019| Individual|1st owner|      350|              NaN|\n",
      "|           Honda Dio|        45000|2017| Individual|1st owner|     5650|              NaN|\n",
      "|Royal Enfield Cla...|       150000|2018| Individual|1st owner|    12000|         148114.0|\n",
      "|Yamaha Fazer FI V...|        65000|2015| Individual|1st owner|    23000|          89643.0|\n",
      "|Yamaha SZ [2013-2...|        20000|2011| Individual|2nd owner|    21000|              NaN|\n",
      "+--------------------+-------------+----+-----------+---------+---------+-----------------+\n",
      "only showing top 5 rows\n",
      "\n"
     ]
    }
   ],
   "source": [
    "bike = spark.createDataFrame(bike_data)\n",
    "bike.show(5)"
   ]
  },
  {
   "cell_type": "markdown",
   "id": "092eeeff-6522-435b-bb2f-c048d4c407e4",
   "metadata": {},
   "source": [
    "We'll fit a linear regression model using log selling price as our response and log km driven and year as our predictors.  This means we need to create some new columns and drop a bunch of others. \n",
    "- We also **need to rename the response** as 'label'.  \n",
    "- These first steps are done using the `SQLTransformer()` function from `pyspark.ml.feature`.  \n",
    "- This will allow us to place these transformations into a `pipeline` (which we'll do in a minute).  \n",
    "\n",
    "Note: Since the transformations we are doing are simple, we could just do them first (say with `pyspark.sql.functions`)."
   ]
  },
  {
   "cell_type": "code",
   "execution_count": 6,
   "id": "d1bc8d13-8a31-4ea3-a73f-8063b5eace96",
   "metadata": {},
   "outputs": [],
   "source": [
    "from pyspark.ml.feature import SQLTransformer"
   ]
  },
  {
   "cell_type": "code",
   "execution_count": 7,
   "id": "5b17fcfb-c334-4bce-a31f-76495305ecb0",
   "metadata": {},
   "outputs": [],
   "source": [
    "sqlTrans = SQLTransformer(\n",
    "    statement = \"SELECT year, log(km_driven) as log_km_driven, log(selling_price) as label FROM __THIS__\"\n",
    ")"
   ]
  },
  {
   "cell_type": "markdown",
   "id": "8b7c9cfd-faf7-4d23-805c-dbcb8a926d67",
   "metadata": {},
   "source": [
    "On any of the transformation methods we do, there is a `.transform()` method that is used to actually feed it data.  Here, we feed it the spark SQL data frame `bike`."
   ]
  },
  {
   "cell_type": "code",
   "execution_count": 8,
   "id": "69957a84-051f-4200-9089-671bf96a7954",
   "metadata": {},
   "outputs": [
    {
     "name": "stdout",
     "output_type": "stream",
     "text": [
      "+----+------------------+------------------+\n",
      "|year|     log_km_driven|             label|\n",
      "+----+------------------+------------------+\n",
      "|2019| 5.857933154483459|12.072541252905651|\n",
      "|2017| 8.639410824140487|10.714417768752456|\n",
      "|2018| 9.392661928770137|11.918390573078392|\n",
      "|2015|10.043249494911286|11.082142548877775|\n",
      "|2011|  9.95227771670556| 9.903487552536127|\n",
      "+----+------------------+------------------+\n",
      "only showing top 5 rows\n",
      "\n"
     ]
    }
   ],
   "source": [
    "sqlTrans.transform(bike).show(5)"
   ]
  },
  {
   "cell_type": "markdown",
   "id": "87f5c404-0e3e-4aa3-9f13-33cb35935c8b",
   "metadata": {},
   "source": [
    "We also **need to put the predictors into a single column** called 'features'.  \n",
    "Placing multiple columns into one can be done via `VectorAssembler()` from `pyspark.ml.feature`."
   ]
  },
  {
   "cell_type": "code",
   "execution_count": 12,
   "id": "43ee9204-a8cf-41e9-a5c3-67627b10d6b1",
   "metadata": {},
   "outputs": [],
   "source": [
    "from pyspark.ml.feature import VectorAssembler"
   ]
  },
  {
   "cell_type": "code",
   "execution_count": 13,
   "id": "cdcf2144-ca15-4c0b-8eaf-70cc823a8ca8",
   "metadata": {},
   "outputs": [],
   "source": [
    "assembler = VectorAssembler(inputCols = [\"year\", \"log_km_driven\"], outputCol = \"features\", handleInvalid = 'keep')"
   ]
  },
  {
   "cell_type": "markdown",
   "id": "a6fb39fb-0197-43ba-96d8-85d702f4e9cf",
   "metadata": {},
   "source": [
    "Notice that we are passing what would be the result columns from the previous SQL transform we did.  The `VectorAssembler()` also has a `.transform()` method.  Let's see how these would be used together to produce a new data set."
   ]
  },
  {
   "cell_type": "code",
   "execution_count": 14,
   "id": "c68a3a66-8303-4f92-8e41-e43b5cc47437",
   "metadata": {},
   "outputs": [
    {
     "name": "stdout",
     "output_type": "stream",
     "text": [
      "+------------------+--------------------+\n",
      "|             label|            features|\n",
      "+------------------+--------------------+\n",
      "|12.072541252905651|[2019.0,5.8579331...|\n",
      "|10.714417768752456|[2017.0,8.6394108...|\n",
      "|11.918390573078392|[2018.0,9.3926619...|\n",
      "|11.082142548877775|[2015.0,10.043249...|\n",
      "| 9.903487552536127|[2011.0,9.9522777...|\n",
      "+------------------+--------------------+\n",
      "only showing top 5 rows\n",
      "\n"
     ]
    }
   ],
   "source": [
    "assembler.transform(\n",
    "    sqlTrans.transform(bike)\n",
    ").select(\"label\", \"features\").show(5)"
   ]
  },
  {
   "cell_type": "markdown",
   "id": "41f0fd7f-1ff7-4da5-8f8a-5b523cf2d891",
   "metadata": {},
   "source": [
    "Awesome!  Our data is now transformed to have the new variables we want and the data is in the format needed to fit model using `MLlib`.  Specifically:\n",
    "- A column named `label` that is the response variable\n",
    "- A column named `features` that is a column containing all the predictor values together\n",
    "\n",
    "Next step, we'll fit a basic multiple linear regression model using the `LinearRegression()` function from `pyspark.ml.regression`.  This function does regularized regression (Elastic net, which includes LASSO and Ridge Regression as special cases) so there are a few set up parameters we can modify to just get the usual MLR fit."
   ]
  },
  {
   "cell_type": "code",
   "execution_count": 15,
   "id": "69aded9d-78ae-4b53-9b41-4810faac0ea1",
   "metadata": {},
   "outputs": [],
   "source": [
    "from pyspark.ml.regression import LinearRegression"
   ]
  },
  {
   "cell_type": "code",
   "execution_count": 16,
   "id": "e48e2a16-40cf-495d-9c59-fabb8e04fcb3",
   "metadata": {},
   "outputs": [],
   "source": [
    "lr = LinearRegression(regParam = 0, elasticNetParam = 0)"
   ]
  },
  {
   "cell_type": "markdown",
   "id": "e4dc8a8c-0c29-49e1-97a5-b1ac70f1bfa2",
   "metadata": {},
   "source": [
    "Now we can use the `.fit()` method on the transformed data we made above."
   ]
  },
  {
   "cell_type": "code",
   "execution_count": 17,
   "id": "edf05787-5cb1-422d-9a46-a3e22433c346",
   "metadata": {},
   "outputs": [],
   "source": [
    "lrModel = lr.fit(\n",
    "    assembler.transform(\n",
    "        sqlTrans.transform(bike)\n",
    "    ).select(\"label\", \"features\")\n",
    ")"
   ]
  },
  {
   "cell_type": "markdown",
   "id": "1f9c894a-d9b5-48ee-ada3-0560933c16c7",
   "metadata": {},
   "source": [
    "We can inspect the model fit using attributes of our `lrModel` object."
   ]
  },
  {
   "cell_type": "code",
   "execution_count": 18,
   "id": "3fba9c91-ba10-488d-8e8f-795fa3f7df8b",
   "metadata": {},
   "outputs": [
    {
     "name": "stdout",
     "output_type": "stream",
     "text": [
      "Intercept: -148.79329108280237 Coefficients: [0.08033659998872915,-0.22686128977706782]\n"
     ]
    }
   ],
   "source": [
    "print(\"Intercept: %s\" % str(lrModel.intercept), \"Coefficients: %s\" % str(lrModel.coefficients))"
   ]
  },
  {
   "cell_type": "markdown",
   "id": "07ae7bc8-6923-4a46-9790-6ecfd12bbf9b",
   "metadata": {},
   "source": [
    "Let's inspect the training set RMSE and other model fit metrics."
   ]
  },
  {
   "cell_type": "code",
   "execution_count": 19,
   "id": "8081aeaf-b29f-4596-8586-05ddc2c06f98",
   "metadata": {},
   "outputs": [
    {
     "name": "stderr",
     "output_type": "stream",
     "text": [
      "C:\\Users\\mnikiforov\\AppData\\Local\\Programs\\Python\\Python310\\lib\\site-packages\\pyspark\\sql\\context.py:125: FutureWarning: Deprecated in 3.0.0. Use SparkSession.builder.getOrCreate() instead.\n",
      "  warnings.warn(\n"
     ]
    },
    {
     "name": "stdout",
     "output_type": "stream",
     "text": [
      "+--------------------+\n",
      "|           residuals|\n",
      "+--------------------+\n",
      "|-0.00482477068216...|\n",
      "| -0.5712654432333988|\n",
      "|  0.7232542782261024|\n",
      "| 0.27560918835935944|\n",
      "| -0.6023373829644285|\n",
      "+--------------------+\n",
      "only showing top 5 rows\n",
      "\n",
      "RMSE: 0.510952\n",
      "r2: 0.483049\n"
     ]
    }
   ],
   "source": [
    "trainingSummary = lrModel.summary\n",
    "trainingSummary.residuals.show(5)\n",
    "print(\"RMSE: %f\" % trainingSummary.rootMeanSquaredError)\n",
    "print(\"r2: %f\" % trainingSummary.r2)"
   ]
  },
  {
   "cell_type": "markdown",
   "id": "eeb91591-2a1b-4695-9ddf-a508217ca507",
   "metadata": {},
   "source": [
    "Of course we will often want to do predictions as well.  This is easy to do!  The model itself actually becomes a transformer once it is fit!  We just use the `.transform()` method and pass it data similar in format to that on which the model was trained.  Here we'll just look at the prediction from the data used to fit the model."
   ]
  },
  {
   "cell_type": "code",
   "execution_count": 20,
   "id": "1adaaba3-85eb-435a-ba23-8e4c9ea0101e",
   "metadata": {},
   "outputs": [],
   "source": [
    "preds = lrModel.transform(\n",
    "    assembler.transform(\n",
    "        sqlTrans.transform(bike)\n",
    "    ).select(\"label\", \"features\")\n",
    ")"
   ]
  },
  {
   "cell_type": "code",
   "execution_count": 21,
   "id": "fa5bcea2-110d-4581-9a88-7001b7009ef7",
   "metadata": {},
   "outputs": [
    {
     "name": "stdout",
     "output_type": "stream",
     "text": [
      "+------------------+--------------------+------------------+\n",
      "|             label|            features|        prediction|\n",
      "+------------------+--------------------+------------------+\n",
      "|12.072541252905651|[2019.0,5.8579331...|12.077366023587814|\n",
      "|10.714417768752456|[2017.0,8.6394108...|11.285683211985855|\n",
      "|11.918390573078392|[2018.0,9.3926619...| 11.19513629485229|\n",
      "|11.082142548877775|[2015.0,10.043249...|10.806533360518415|\n",
      "| 9.903487552536127|[2011.0,9.9522777...|10.505824935500556|\n",
      "+------------------+--------------------+------------------+\n",
      "only showing top 5 rows\n",
      "\n"
     ]
    }
   ],
   "source": [
    "preds.show(5)"
   ]
  },
  {
   "cell_type": "markdown",
   "id": "1a156fd2-4b04-4d25-ac8f-0868c4f25bbe",
   "metadata": {},
   "source": [
    "Cool!  We've fit an MLR model using the `pyspark` `MLlib` library!"
   ]
  },
  {
   "cell_type": "markdown",
   "id": "e5cc71e4-fcba-4a40-bdee-60d9dd906437",
   "metadata": {},
   "source": [
    "# Using Cross-Validation to Select Our Model"
   ]
  },
  {
   "cell_type": "markdown",
   "id": "61fc9e99-0fa7-4fab-b392-5a8d12ea5fd2",
   "metadata": {},
   "source": [
    "Of course we know that what we care about is the quality of the prediction our model makes on **data it wasn't trained on**.  Generally, this means we need to either \n",
    "- split our data into a training and test (sometimes called validation) set\n",
    "- use cross-validation\n",
    "\n",
    "And of course, we've talked about the need for both when selecting from many types of models.\n",
    "\n",
    "Let's focus on doing k-fold CV using `pyspark`.  We need to set up our grid of tuning parameters (if applicable) and then run our CV algorithm.  This can be done using the `ParamGridBuilder()` and `CrossValidator()` functions from `pyspark.ml.tuning`, respectively."
   ]
  },
  {
   "cell_type": "code",
   "execution_count": 22,
   "id": "67652b75-cc9a-4fe7-8fa0-49e3bd13fad2",
   "metadata": {},
   "outputs": [],
   "source": [
    "from pyspark.ml.tuning import CrossValidator, ParamGridBuilder"
   ]
  },
  {
   "cell_type": "markdown",
   "id": "5548fcca-f145-40fe-a592-8c964fea4f43",
   "metadata": {},
   "source": [
    "The only tuning parameter we'll worry about is fitting the intercept.  We can look at how well the model does when we fit an intercept vs when we don't.  We use `ParamGridBuilder()` and `.addGrid()` to specify the tuning parameter values.  Then finally we use the `.build()` method to instruct it to build the grid."
   ]
  },
  {
   "cell_type": "code",
   "execution_count": 23,
   "id": "749f9944-99b6-47b4-a98a-4b34f8b4a455",
   "metadata": {},
   "outputs": [],
   "source": [
    "paramGrid = ParamGridBuilder() \\\n",
    "    .addGrid(lr.regParam, [0]) \\\n",
    "    .addGrid(lr.fitIntercept, [False, True]) \\\n",
    "    .addGrid(lr.elasticNetParam, [0]) \\\n",
    "    .build()"
   ]
  },
  {
   "cell_type": "markdown",
   "id": "716dcfac-9400-400f-b699-69cba47a9e82",
   "metadata": {},
   "source": [
    "Next up, we can use the `CrossValidator()` function to run k-fold CV over the grid of tuning parameters we just set up.  \n",
    "\n",
    "We need to tell `pyspark` what loss function to use when evaluating.  This is done via the `RegressionEvaluator()` function from `pyspark.ml.evaluation`.  To override the default metric used we can specify it explicitly using the `metricName=` argument when calling the function.  `rmse` is the default here."
   ]
  },
  {
   "cell_type": "code",
   "execution_count": 24,
   "id": "5baecc00-3a23-4361-867e-06b25bdf1214",
   "metadata": {},
   "outputs": [],
   "source": [
    "from pyspark.ml.evaluation import RegressionEvaluator"
   ]
  },
  {
   "cell_type": "code",
   "execution_count": 25,
   "id": "f3e7849f-d98d-4715-ace8-05bc31e0dc0c",
   "metadata": {},
   "outputs": [],
   "source": [
    "lr = LinearRegression()\n",
    "crossval = CrossValidator(estimator = lr,\n",
    "                          estimatorParamMaps = paramGrid,\n",
    "                          evaluator = RegressionEvaluator(metricName='rmse'),\n",
    "                          numFolds=5)"
   ]
  },
  {
   "cell_type": "markdown",
   "id": "9d776905-895e-440f-96a1-e7b7a90a0aaa",
   "metadata": {},
   "source": [
    "We've now set up the `crossval` object.  Just like with `sklearn` we now use the `.fit()` method to actually fit the models."
   ]
  },
  {
   "cell_type": "code",
   "execution_count": 26,
   "id": "0a508983-2880-44ae-b288-5bb2308ed1e9",
   "metadata": {},
   "outputs": [],
   "source": [
    "cvModel = crossval.fit(\n",
    "    assembler.transform(\n",
    "        sqlTrans.transform(bike)\n",
    "    ).select(\"label\", \"features\")\n",
    ")"
   ]
  },
  {
   "cell_type": "markdown",
   "id": "d3ce9f80-5e7e-4c5f-b644-15d4358a7ad8",
   "metadata": {},
   "source": [
    "By default, the only model returned is the **best** model as measured by our Loss function.  If you want your submodels back, pass `collectSubModels = True`.  \n",
    "\n",
    "To determine which model was returned we can look at the `.avgMetrics` attribute along with the `paramGrid` object we used to fit the models."
   ]
  },
  {
   "cell_type": "code",
   "execution_count": 27,
   "id": "cea5426d-c7c5-469e-9479-29e6288fb3e1",
   "metadata": {},
   "outputs": [
    {
     "data": {
      "text/plain": [
       "[(0.5134996830715035,\n",
       "  {Param(parent='LinearRegression_c4ff654767f2', name='regParam', doc='regularization parameter (>= 0).'): 0.0,\n",
       "   Param(parent='LinearRegression_c4ff654767f2', name='fitIntercept', doc='whether to fit an intercept term.'): False,\n",
       "   Param(parent='LinearRegression_c4ff654767f2', name='elasticNetParam', doc='the ElasticNet mixing parameter, in range [0, 1]. For alpha = 0, the penalty is an L2 penalty. For alpha = 1, it is an L1 penalty.'): 0.0}),\n",
       " (0.5134996830715035,\n",
       "  {Param(parent='LinearRegression_c4ff654767f2', name='regParam', doc='regularization parameter (>= 0).'): 0.0,\n",
       "   Param(parent='LinearRegression_c4ff654767f2', name='fitIntercept', doc='whether to fit an intercept term.'): True,\n",
       "   Param(parent='LinearRegression_c4ff654767f2', name='elasticNetParam', doc='the ElasticNet mixing parameter, in range [0, 1]. For alpha = 0, the penalty is an L2 penalty. For alpha = 1, it is an L1 penalty.'): 0.0})]"
      ]
     },
     "execution_count": 27,
     "metadata": {},
     "output_type": "execute_result"
    }
   ],
   "source": [
    "list(zip(cvModel.avgMetrics, paramGrid))"
   ]
  },
  {
   "cell_type": "markdown",
   "id": "15dd89db-2aeb-4de1-9ad6-6c9a73e28b60",
   "metadata": {},
   "source": [
    "We can see the best model's parameter estimates as well."
   ]
  },
  {
   "cell_type": "code",
   "execution_count": 28,
   "id": "b2f19cee-96e1-448b-99bc-14d0d8e89735",
   "metadata": {},
   "outputs": [
    {
     "name": "stdout",
     "output_type": "stream",
     "text": [
      "-148.79329108280237 [0.08033659998872915,-0.22686128977706782]\n"
     ]
    }
   ],
   "source": [
    "print(cvModel.bestModel._java_obj.intercept(), cvModel.bestModel._java_obj.coefficients())"
   ]
  },
  {
   "cell_type": "markdown",
   "id": "2e837395-8910-47ac-abda-a611870bf2cc",
   "metadata": {},
   "source": [
    "As with the single linear model fit we did above, this new object, `cvModel`, is now a transformation as well.  This allows us to get prediction using the best fit model.  If we had a test set we could use it to get the test set prediction easily.  As we didn't split into a test set, let's just see how to use it to predict on the training data (i.e. return the fitted values for the model)."
   ]
  },
  {
   "cell_type": "code",
   "execution_count": 29,
   "id": "e15c4b9a-3b9c-4733-85a6-ee2eed11d066",
   "metadata": {},
   "outputs": [],
   "source": [
    "preds = cvModel.transform(\n",
    "    assembler.transform(\n",
    "        sqlTrans.transform(bike)\n",
    "    ).select(\"label\", \"features\")\n",
    ")"
   ]
  },
  {
   "cell_type": "code",
   "execution_count": 30,
   "id": "e1e2f6d6-85fe-42df-b47c-1173bc0aa901",
   "metadata": {},
   "outputs": [
    {
     "name": "stdout",
     "output_type": "stream",
     "text": [
      "+------------------+--------------------+------------------+\n",
      "|             label|            features|        prediction|\n",
      "+------------------+--------------------+------------------+\n",
      "|12.072541252905651|[2019.0,5.8579331...|12.077366023587814|\n",
      "|10.714417768752456|[2017.0,8.6394108...|11.285683211985855|\n",
      "|11.918390573078392|[2018.0,9.3926619...| 11.19513629485229|\n",
      "|11.082142548877775|[2015.0,10.043249...|10.806533360518415|\n",
      "| 9.903487552536127|[2011.0,9.9522777...|10.505824935500556|\n",
      "+------------------+--------------------+------------------+\n",
      "only showing top 5 rows\n",
      "\n"
     ]
    }
   ],
   "source": [
    "preds.show(5)"
   ]
  },
  {
   "cell_type": "markdown",
   "id": "f3c79f2f-7263-406b-a9ff-7be469bcddcc",
   "metadata": {},
   "source": [
    "We can find the training RMSE by passing these predictions to the `RegressionEvaluator().evaluate()` method."
   ]
  },
  {
   "cell_type": "code",
   "execution_count": 31,
   "id": "ab922b95-c156-42ba-8ee5-47198257caf6",
   "metadata": {},
   "outputs": [
    {
     "data": {
      "text/plain": [
       "0.5109515293369582"
      ]
     },
     "execution_count": 31,
     "metadata": {},
     "output_type": "execute_result"
    }
   ],
   "source": [
    "RegressionEvaluator().evaluate(cvModel.transform(\n",
    "    assembler.transform(\n",
    "        sqlTrans.transform(bike)\n",
    "    ).select(\"label\", \"features\")\n",
    "))"
   ]
  },
  {
   "cell_type": "markdown",
   "id": "e003660f-23f3-4b35-a719-40d7dccb9c8d",
   "metadata": {},
   "source": [
    "# Pipelines and the Training/Test Split"
   ]
  },
  {
   "cell_type": "markdown",
   "id": "2911145f-aabc-4c3a-b3c9-01fe66ddcaba",
   "metadata": {},
   "source": [
    "Of course we often want to have a training and test set so we can do all of our model fitting and tuning on the training set and then see how different model types compare on the test set.  We should always split our data into training and test sets first, before doing transformations.  Reason being:\n",
    "- If we do transformations on the training set, we want to use the exact same transformations on the test set\n",
    "- For instance, if we center some predictors (subtract the mean) in our training set, we want to subtract the mean of the **training** set to standardize the test set values prior to doing test set predictions!\n",
    "- By splitting the data first, we can make sure we aren't using any test data (and the knowledge that comes with it) when training our models\n",
    "\n",
    "By setting up a **pipeline** in `MLlib` we can easily (haha, yeah right) create the sequence of transformations/model fits and apply those same transformations on our test set!\n",
    "\n",
    "Let's start with the training/test split.  This can be done using the `.randomSplit()` method on a spark SQL style data frame."
   ]
  },
  {
   "cell_type": "code",
   "execution_count": 32,
   "id": "eea5f9d6-be15-4e2e-8f73-06cc555e9245",
   "metadata": {},
   "outputs": [
    {
     "name": "stdout",
     "output_type": "stream",
     "text": [
      "855 206\n"
     ]
    }
   ],
   "source": [
    "train, test = bike.randomSplit([0.8,0.2], seed = 1)\n",
    "print(train.count(), test.count())"
   ]
  },
  {
   "cell_type": "markdown",
   "id": "79577693-3b0f-4294-a24a-39c9a9459fd1",
   "metadata": {},
   "source": [
    "Now that we've split our data we can **set up** the transformations to do.  Just like with other spark stuff, things are set up as a DAG and done only at run time.  \n",
    "We created the transformation plans previously so we'll just pull them down here for clarity."
   ]
  },
  {
   "cell_type": "code",
   "execution_count": 33,
   "id": "3bd14b8c-f4d7-4a8b-832d-1506c81a6fab",
   "metadata": {},
   "outputs": [],
   "source": [
    "sqlTrans = SQLTransformer(\n",
    "    statement = \"SELECT year, log(km_driven) as log_km_driven, log(selling_price) as label FROM __THIS__\"\n",
    ")"
   ]
  },
  {
   "cell_type": "code",
   "execution_count": 34,
   "id": "eefa4875-b616-42b6-ae2f-c73cfeda2ff1",
   "metadata": {},
   "outputs": [],
   "source": [
    "assembler = VectorAssembler(inputCols = [\"year\", \"log_km_driven\"], outputCol = \"features\", handleInvalid = 'keep')"
   ]
  },
  {
   "attachments": {
    "62d8ffed-25dc-4265-823e-505b77b68eaa.png": {
     "image/png": "[encoded data removed]"
    },
    "762ecc53-8754-4867-9938-53101d12cf08.png": {
     "image/png": "[encoded data removed]"
    }
   },
   "cell_type": "markdown",
   "id": "67ee206d-504f-41d6-a96f-8278359535fe",
   "metadata": {},
   "source": [
    "We are then ready to create our pipeline that includes these transformations and the model that we want to fit.  First, more on what a pipeline is/contains.  From the guide:\n",
    "> A Pipeline is specified as a sequence of stages, and each stage is either a Transformer (like above) or an Estimator (like a model).\n",
    "\n",
    "> These stages are run in order, and the input DataFrame is transformed as it passes through each stage. For Transformer stages, the `.transform()` method is called on the DataFrame. \n",
    "\n",
    "> For Estimator stages, the `.fit()` method is called to produce a Transformer (which becomes part of the PipelineModel, or fitted Pipeline), and that Transformer’s `.transform()` method is called on the DataFrame.\n",
    "\n",
    "![pipeline1.png](attachment:762ecc53-8754-4867-9938-53101d12cf08.png)\n",
    "\n",
    "![pipeline2..png](attachment:62d8ffed-25dc-4265-823e-505b77b68eaa.png)"
   ]
  },
  {
   "cell_type": "markdown",
   "id": "92451add-fe23-4196-86b4-0e3971f0bb4f",
   "metadata": {},
   "source": [
    "We use the `Pipeline()` function from the `pyspark.ml` module to set up our sequence of transformations/estimators."
   ]
  },
  {
   "cell_type": "code",
   "execution_count": 35,
   "id": "aeb06165-54e7-4184-b9ce-d0efd5fe34ac",
   "metadata": {},
   "outputs": [],
   "source": [
    "from pyspark.ml import Pipeline"
   ]
  },
  {
   "cell_type": "code",
   "execution_count": 36,
   "id": "930fceb4-f177-4fa5-9a67-337e26819844",
   "metadata": {},
   "outputs": [],
   "source": [
    "pipeline = Pipeline(stages = [sqlTrans, assembler, lr])"
   ]
  },
  {
   "cell_type": "markdown",
   "id": "4d31b5fc-e665-41c6-b074-d28d89c95ba0",
   "metadata": {},
   "source": [
    "Our DAG is now set up and we can use this pipeline within our CV calculation (or basic model fitting).  What's nice is that since it contains all the information about the transformations done, we can easily apply this to a test set and not have to worry about how to do the transformations/prepping of the data on that set.  \n",
    "\n",
    "Let's set up our cross-validation again just for clarity.  Instead of using the model type as the `estimator` we'll pass the pipeline we've set up."
   ]
  },
  {
   "cell_type": "code",
   "execution_count": 37,
   "id": "3cd29241-7948-4521-92ba-3e90655a1bca",
   "metadata": {},
   "outputs": [],
   "source": [
    "paramGrid = ParamGridBuilder() \\\n",
    "    .addGrid(lr.regParam, [0]) \\\n",
    "    .addGrid(lr.fitIntercept, [False, True]) \\\n",
    "    .addGrid(lr.elasticNetParam, [0]) \\\n",
    "    .build()\n",
    "crossval = CrossValidator(estimator = pipeline,\n",
    "                          estimatorParamMaps = paramGrid,\n",
    "                          evaluator = RegressionEvaluator(),\n",
    "                          numFolds=5)"
   ]
  },
  {
   "cell_type": "markdown",
   "id": "0f55a754-3bd5-4e4e-ad3b-543cbd0cf1cf",
   "metadata": {},
   "source": [
    "With everything set up, we can now fit our models!"
   ]
  },
  {
   "cell_type": "code",
   "execution_count": 38,
   "id": "dbdf6b6d-8cb6-412e-b7bc-4f4f8e302827",
   "metadata": {},
   "outputs": [],
   "source": [
    "# Run cross-validation, and choose the best set of parameters.\n",
    "cvModel = crossval.fit(train)"
   ]
  },
  {
   "cell_type": "markdown",
   "id": "27e22222-1aaa-4dbd-a5fb-ee397aefc048",
   "metadata": {},
   "source": [
    "Check which model is chosen as the best:"
   ]
  },
  {
   "cell_type": "code",
   "execution_count": 39,
   "id": "61d1fb95-3f56-426c-a6b5-0ca97f57b355",
   "metadata": {},
   "outputs": [
    {
     "data": {
      "text/plain": [
       "[(0.5807022230986376,\n",
       "  {Param(parent='LinearRegression_2622fbbbfa30', name='regParam', doc='regularization parameter (>= 0).'): 0.0,\n",
       "   Param(parent='LinearRegression_2622fbbbfa30', name='fitIntercept', doc='whether to fit an intercept term.'): False,\n",
       "   Param(parent='LinearRegression_2622fbbbfa30', name='elasticNetParam', doc='the ElasticNet mixing parameter, in range [0, 1]. For alpha = 0, the penalty is an L2 penalty. For alpha = 1, it is an L1 penalty.'): 0.0}),\n",
       " (0.5116588241064207,\n",
       "  {Param(parent='LinearRegression_2622fbbbfa30', name='regParam', doc='regularization parameter (>= 0).'): 0.0,\n",
       "   Param(parent='LinearRegression_2622fbbbfa30', name='fitIntercept', doc='whether to fit an intercept term.'): True,\n",
       "   Param(parent='LinearRegression_2622fbbbfa30', name='elasticNetParam', doc='the ElasticNet mixing parameter, in range [0, 1]. For alpha = 0, the penalty is an L2 penalty. For alpha = 1, it is an L1 penalty.'): 0.0})]"
      ]
     },
     "execution_count": 39,
     "metadata": {},
     "output_type": "execute_result"
    }
   ],
   "source": [
    "list(zip(cvModel.avgMetrics, paramGrid))"
   ]
  },
  {
   "cell_type": "markdown",
   "id": "52bc633a-c4af-41b8-8a1c-5f603ff9bd0b",
   "metadata": {},
   "source": [
    "Use that best model to get test error on the test set."
   ]
  },
  {
   "cell_type": "code",
   "execution_count": 40,
   "id": "3e5818e2-3522-46a3-af5c-e001962df133",
   "metadata": {},
   "outputs": [
    {
     "name": "stdout",
     "output_type": "stream",
     "text": [
      "+----+------------------+------------------+--------------------+------------------+\n",
      "|year|     log_km_driven|             label|            features|        prediction|\n",
      "+----+------------------+------------------+--------------------+------------------+\n",
      "|2012| 10.46310334047155|10.126591103050316|[2012.0,10.463103...|10.460994905142485|\n",
      "|2013|10.678214720088496|10.596634733096073|[2013.0,10.678214...|10.492616813977548|\n",
      "|2015|10.033199159057785|10.645424897265505|[2015.0,10.033199...|10.806476529414994|\n",
      "|2011|10.043249494911286|10.645424897265505|[2011.0,10.043249...|10.477094246514469|\n",
      "|2015|  9.67130325656977|11.082142548877775|[2015.0,9.6713032...|10.890827007621596|\n",
      "+----+------------------+------------------+--------------------+------------------+\n",
      "only showing top 5 rows\n",
      "\n"
     ]
    }
   ],
   "source": [
    "cvModel.transform(test).show(5)"
   ]
  },
  {
   "cell_type": "code",
   "execution_count": 41,
   "id": "8acc2249-0b6a-48dd-826b-461a380cd802",
   "metadata": {},
   "outputs": [
    {
     "name": "stdout",
     "output_type": "stream",
     "text": [
      "0.5231179508534636\n"
     ]
    }
   ],
   "source": [
    "test_error = RegressionEvaluator().evaluate(cvModel.transform(test))\n",
    "print(test_error)"
   ]
  },
  {
   "cell_type": "markdown",
   "id": "a6a633d5-7132-4736-a960-82d37fd41704",
   "metadata": {},
   "source": [
    "Fantastic!  We can now set up a pipeline and use CV to fit our model.  Then we can take the best model and find test set predictions!  \n",
    "\n",
    "Remember, once we have our final model we fit that model on the entire data set.  Then we use it for future predictions and what-not."
   ]
  }
 ],
 "metadata": {
  "citation-manager": {
   "items": {}
  },
  "kernelspec": {
   "display_name": "Python 3 (ipykernel)",
   "language": "python",
   "name": "python3"
  },
  "language_info": {
   "codemirror_mode": {
    "name": "ipython",
    "version": 3
   },
   "file_extension": ".py",
   "mimetype": "text/x-python",
   "name": "python",
   "nbconvert_exporter": "python",
   "pygments_lexer": "ipython3",
   "version": "3.10.2"
  }
 },
 "nbformat": 4,
 "nbformat_minor": 5
}
