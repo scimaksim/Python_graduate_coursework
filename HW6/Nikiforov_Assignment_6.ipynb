{
 "cells": [
  {
   "cell_type": "markdown",
   "id": "90bf74c6-2db5-4632-901e-f67d5c12239a",
   "metadata": {},
   "source": [
    "# Assignment 6"
   ]
  },
  {
   "cell_type": "markdown",
   "id": "042de99f-5ef2-4c84-9404-f6ce61a8ad7b",
   "metadata": {},
   "source": [
    "Maksim Nikiforov"
   ]
  },
  {
   "cell_type": "markdown",
   "id": "85122ca3-817c-4900-a6fb-dc865c3d68a3",
   "metadata": {},
   "source": [
    "## Split the data (do once)"
   ]
  },
  {
   "cell_type": "markdown",
   "id": "725c138f-da73-4a5b-bd1d-cfc8c1e3667a",
   "metadata": {},
   "source": [
    "Using the NFL box score data set, split the data into separate .csv files based on the season."
   ]
  },
  {
   "cell_type": "code",
   "execution_count": 2,
   "id": "bf738503-8d00-46f8-9a63-720a9edd807b",
   "metadata": {},
   "outputs": [
    {
     "data": {
      "text/html": [
       "<div>\n",
       "<style scoped>\n",
       "    .dataframe tbody tr th:only-of-type {\n",
       "        vertical-align: middle;\n",
       "    }\n",
       "\n",
       "    .dataframe tbody tr th {\n",
       "        vertical-align: top;\n",
       "    }\n",
       "\n",
       "    .dataframe thead th {\n",
       "        text-align: right;\n",
       "    }\n",
       "</style>\n",
       "<table border=\"1\" class=\"dataframe\">\n",
       "  <thead>\n",
       "    <tr style=\"text-align: right;\">\n",
       "      <th></th>\n",
       "      <th>week</th>\n",
       "      <th>date</th>\n",
       "      <th>day</th>\n",
       "      <th>season</th>\n",
       "      <th>awayTeam</th>\n",
       "      <th>AQ1</th>\n",
       "      <th>AQ2</th>\n",
       "      <th>AQ3</th>\n",
       "      <th>AQ4</th>\n",
       "      <th>AOT</th>\n",
       "      <th>...</th>\n",
       "      <th>homeFumLost</th>\n",
       "      <th>homeNumPen</th>\n",
       "      <th>homePenYds</th>\n",
       "      <th>home3rdConv</th>\n",
       "      <th>home3rdAtt</th>\n",
       "      <th>home4thConv</th>\n",
       "      <th>home4thAtt</th>\n",
       "      <th>homeTOP</th>\n",
       "      <th>HminusAScore</th>\n",
       "      <th>homeSpread</th>\n",
       "    </tr>\n",
       "  </thead>\n",
       "  <tbody>\n",
       "    <tr>\n",
       "      <th>0</th>\n",
       "      <td>1</td>\n",
       "      <td>5-Sep</td>\n",
       "      <td>Thu</td>\n",
       "      <td>2002</td>\n",
       "      <td>San Francisco 49ers</td>\n",
       "      <td>3</td>\n",
       "      <td>0</td>\n",
       "      <td>7</td>\n",
       "      <td>6</td>\n",
       "      <td>-1</td>\n",
       "      <td>...</td>\n",
       "      <td>0</td>\n",
       "      <td>10</td>\n",
       "      <td>80</td>\n",
       "      <td>4</td>\n",
       "      <td>8</td>\n",
       "      <td>0</td>\n",
       "      <td>1</td>\n",
       "      <td>32.47</td>\n",
       "      <td>-3</td>\n",
       "      <td>-4.0</td>\n",
       "    </tr>\n",
       "    <tr>\n",
       "      <th>1</th>\n",
       "      <td>1</td>\n",
       "      <td>8-Sep</td>\n",
       "      <td>Sun</td>\n",
       "      <td>2002</td>\n",
       "      <td>Minnesota Vikings</td>\n",
       "      <td>3</td>\n",
       "      <td>17</td>\n",
       "      <td>0</td>\n",
       "      <td>3</td>\n",
       "      <td>-1</td>\n",
       "      <td>...</td>\n",
       "      <td>1</td>\n",
       "      <td>4</td>\n",
       "      <td>33</td>\n",
       "      <td>2</td>\n",
       "      <td>6</td>\n",
       "      <td>0</td>\n",
       "      <td>0</td>\n",
       "      <td>28.48</td>\n",
       "      <td>4</td>\n",
       "      <td>4.5</td>\n",
       "    </tr>\n",
       "    <tr>\n",
       "      <th>2</th>\n",
       "      <td>1</td>\n",
       "      <td>8-Sep</td>\n",
       "      <td>Sun</td>\n",
       "      <td>2002</td>\n",
       "      <td>New Orleans Saints</td>\n",
       "      <td>6</td>\n",
       "      <td>7</td>\n",
       "      <td>7</td>\n",
       "      <td>0</td>\n",
       "      <td>6</td>\n",
       "      <td>...</td>\n",
       "      <td>0</td>\n",
       "      <td>8</td>\n",
       "      <td>85</td>\n",
       "      <td>1</td>\n",
       "      <td>6</td>\n",
       "      <td>0</td>\n",
       "      <td>1</td>\n",
       "      <td>31.48</td>\n",
       "      <td>-6</td>\n",
       "      <td>6.0</td>\n",
       "    </tr>\n",
       "    <tr>\n",
       "      <th>3</th>\n",
       "      <td>1</td>\n",
       "      <td>8-Sep</td>\n",
       "      <td>Sun</td>\n",
       "      <td>2002</td>\n",
       "      <td>New York Jets</td>\n",
       "      <td>0</td>\n",
       "      <td>17</td>\n",
       "      <td>3</td>\n",
       "      <td>11</td>\n",
       "      <td>6</td>\n",
       "      <td>...</td>\n",
       "      <td>1</td>\n",
       "      <td>10</td>\n",
       "      <td>82</td>\n",
       "      <td>4</td>\n",
       "      <td>8</td>\n",
       "      <td>2</td>\n",
       "      <td>2</td>\n",
       "      <td>39.13</td>\n",
       "      <td>-6</td>\n",
       "      <td>-3.0</td>\n",
       "    </tr>\n",
       "    <tr>\n",
       "      <th>4</th>\n",
       "      <td>1</td>\n",
       "      <td>8-Sep</td>\n",
       "      <td>Sun</td>\n",
       "      <td>2002</td>\n",
       "      <td>Arizona Cardinals</td>\n",
       "      <td>10</td>\n",
       "      <td>3</td>\n",
       "      <td>3</td>\n",
       "      <td>7</td>\n",
       "      <td>-1</td>\n",
       "      <td>...</td>\n",
       "      <td>0</td>\n",
       "      <td>7</td>\n",
       "      <td>56</td>\n",
       "      <td>6</td>\n",
       "      <td>10</td>\n",
       "      <td>1</td>\n",
       "      <td>2</td>\n",
       "      <td>34.40</td>\n",
       "      <td>8</td>\n",
       "      <td>6.0</td>\n",
       "    </tr>\n",
       "  </tbody>\n",
       "</table>\n",
       "<p>5 rows × 82 columns</p>\n",
       "</div>"
      ],
      "text/plain": [
       "  week   date  day  season             awayTeam  AQ1  AQ2  AQ3  AQ4  AOT  ...  \\\n",
       "0    1  5-Sep  Thu    2002  San Francisco 49ers    3    0    7    6   -1  ...   \n",
       "1    1  8-Sep  Sun    2002    Minnesota Vikings    3   17    0    3   -1  ...   \n",
       "2    1  8-Sep  Sun    2002   New Orleans Saints    6    7    7    0    6  ...   \n",
       "3    1  8-Sep  Sun    2002        New York Jets    0   17    3   11    6  ...   \n",
       "4    1  8-Sep  Sun    2002    Arizona Cardinals   10    3    3    7   -1  ...   \n",
       "\n",
       "   homeFumLost  homeNumPen homePenYds  home3rdConv  home3rdAtt  home4thConv  \\\n",
       "0            0          10         80            4           8            0   \n",
       "1            1           4         33            2           6            0   \n",
       "2            0           8         85            1           6            0   \n",
       "3            1          10         82            4           8            2   \n",
       "4            0           7         56            6          10            1   \n",
       "\n",
       "   home4thAtt  homeTOP  HminusAScore  homeSpread  \n",
       "0           1    32.47            -3        -4.0  \n",
       "1           0    28.48             4         4.5  \n",
       "2           1    31.48            -6         6.0  \n",
       "3           2    39.13            -6        -3.0  \n",
       "4           2    34.40             8         6.0  \n",
       "\n",
       "[5 rows x 82 columns]"
      ]
     },
     "execution_count": 2,
     "metadata": {},
     "output_type": "execute_result"
    }
   ],
   "source": [
    "import pandas as pd\n",
    "\n",
    "# Read in our .csv file\n",
    "NFL_scores = pd.read_csv(\"scoresFull.csv\")\n",
    "\n",
    "# Show the first set of rows\n",
    "NFL_scores.head()"
   ]
  },
  {
   "cell_type": "code",
   "execution_count": 3,
   "id": "1778b9d0-d735-4aa9-be0d-b090f343015b",
   "metadata": {},
   "outputs": [],
   "source": [
    "# Group data frame by each season with groupby,\n",
    "# then write to .csv using .to_csv() as covered in module 3.\n",
    "# This produces a set of .csv files in the local directory that \n",
    "# begin with \"season_20xx.csv\".\n",
    "for (season), group in NFL_scores.groupby(['season']):\n",
    "     group.to_csv(f'season_{season}.csv', index=False)"
   ]
  },
  {
   "cell_type": "markdown",
   "id": "5a8895a5-c330-4613-87a9-d1dfc8f48215",
   "metadata": {},
   "source": [
    "## MapReduce"
   ]
  },
  {
   "cell_type": "markdown",
   "id": "09139b40-5c24-4b9a-a0c1-8282be40badb",
   "metadata": {},
   "source": [
    "Consider a variable to group on (like _week_) and a numeric target variable (like _AQ1_).  Write a map function to find the\n",
    "\n",
    "- sum of the target variable across the grouping variable\n",
    "- sum of the squared values of the target variable across the grouping variable\n",
    "- count or number of observations of the target variable in each group"
   ]
  },
  {
   "cell_type": "code",
   "execution_count": 47,
   "id": "daff7b75-b92a-4f9b-947f-fac80df372df",
   "metadata": {},
   "outputs": [
    {
     "data": {
      "text/plain": [
       "13"
      ]
     },
     "execution_count": 47,
     "metadata": {},
     "output_type": "execute_result"
    }
   ],
   "source": [
    "# Read in and store each output data set as an element of the list season_data_list, which is iterable.\n",
    "# Start with an empty list.\n",
    "season_data_list = []\n",
    "\n",
    "# Our .csv files end in a year (e.g. 2002), so iterate through all available years.\n",
    "for year in range(2002, 2015):\n",
    "    # Read in each season_20xx.csv file and append it to a list\n",
    "    df = pd.read_csv('season_' + str(year) + '.csv')\n",
    "    season_data_list.append(df)\n",
    "\n",
    "# Verify that the number of elements in our season_data_list matches the\n",
    "# number of .csv files we produced in the previous section.\n",
    "len(season_data_list)"
   ]
  },
  {
   "cell_type": "code",
   "execution_count": 75,
   "id": "1b031c00-5c90-4fe1-8965-360b828f8f05",
   "metadata": {},
   "outputs": [],
   "source": [
    "# Write the map function. \n",
    "# Take in one of the data sets (one season of data), a grouping variable (e.g. week), and a target variable (e.g. AQ1).\n",
    "def map_stats(data, groupvar, targetvar):\n",
    "    # Square the values of the target variable and store the result in a new column\n",
    "    data[str(targetvar) + \"_squared\"] = data[targetvar].pow(2)\n",
    "    # Subset the data frame to only include the grouping column, the target column, \n",
    "    # and the new column with squared values\n",
    "    squared_targetvar = data[[groupvar, targetvar, str(targetvar) + \"_squared\"]]\n",
    "    # Group the data using the grouping variable and display the sum and count for each column.\n",
    "    # reset_index() to ensure that \"week\" ends up as a column\n",
    "    grouped_data = squared_targetvar.groupby(groupvar).agg({targetvar: [\"sum\", \"count\"], str(targetvar) + \"_squared\": [\"sum\"]}).reset_index()\n",
    "    # Convert to a dictionary of key-value pairs and return the result, referencing instructions from\n",
    "    # https://stackoverflow.com/questions/26716616/convert-a-pandas-dataframe-to-a-dictionary\n",
    "    grouped_data_list = grouped_data.set_index(groupvar).T.to_dict(\"list\")\n",
    "    # Lists are ordered as [sum_of_targetvar, count, sum_of_squared_targetvar]\n",
    "    return grouped_data_list"
   ]
  },
  {
   "cell_type": "code",
   "execution_count": 76,
   "id": "0267fb30-cd24-4a90-a4b6-631bad553024",
   "metadata": {},
   "outputs": [
    {
     "data": {
      "text/plain": [
       "{'1': [81, 16, 695],\n",
       " '10': [78, 14, 686],\n",
       " '11': [52, 16, 450],\n",
       " '12': [68, 16, 666],\n",
       " '13': [56, 16, 534],\n",
       " '14': [88, 16, 908],\n",
       " '15': [50, 16, 388],\n",
       " '16': [92, 16, 906],\n",
       " '17': [51, 16, 419],\n",
       " '2': [67, 16, 695],\n",
       " '3': [44, 14, 314],\n",
       " '4': [69, 14, 459],\n",
       " '5': [30, 14, 272],\n",
       " '6': [70, 14, 708],\n",
       " '7': [23, 14, 125],\n",
       " '8': [34, 14, 312],\n",
       " '9': [71, 14, 661],\n",
       " 'ConfChamp': [17, 2, 149],\n",
       " 'Division': [6, 4, 18],\n",
       " 'SuperBowl': [3, 1, 9],\n",
       " 'WildCard': [28, 4, 294]}"
      ]
     },
     "execution_count": 76,
     "metadata": {},
     "output_type": "execute_result"
    }
   ],
   "source": [
    "# Confirm that the mapping function works for one season \n",
    "# using data from season_2002.csv.\n",
    "# Recall that list elements are ordered as [sum_of_targetvar, count, sum_of_squared_targetvar]\n",
    "map_stats(sample_data, \"week\", \"AQ1\")"
   ]
  },
  {
   "cell_type": "code",
   "execution_count": 69,
   "id": "f7d6af79-e7f4-4cb8-aa9b-e485768daec2",
   "metadata": {},
   "outputs": [],
   "source": [
    "# Map our custom function to the entire list of seasons using the map() function, which\n",
    "# accepts a function and applies it to each element of an iterable.\n",
    "# Turn the result into a list, rather than keeping it as a basic map object\n",
    "mapped_scores = list(map(map_stats, season_data_list, [\"week\"]*len(season_data_list), [\"AQ1\"]*len(season_data_list))) "
   ]
  },
  {
   "cell_type": "code",
   "execution_count": 70,
   "id": "af535806-4a25-41b2-aaf9-f2ac66e3a490",
   "metadata": {},
   "outputs": [
    {
     "name": "stdout",
     "output_type": "stream",
     "text": [
      "2003 season results: \n",
      "week: [sum of AQ1, number of observations, sum of squared values of AQ1]\n",
      "1 : [42, 16, 252]\n",
      "10 : [51, 14, 419]\n",
      "11 : [37, 16, 265]\n",
      "12 : [40, 16, 446]\n",
      "13 : [58, 16, 412]\n",
      "14 : [53, 16, 397]\n",
      "15 : [43, 16, 365]\n",
      "16 : [78, 16, 808]\n",
      "17 : [37, 16, 405]\n",
      "2 : [85, 16, 913]\n",
      "3 : [36, 14, 218]\n",
      "4 : [68, 14, 750]\n",
      "5 : [43, 14, 319]\n",
      "6 : [39, 14, 243]\n",
      "7 : [81, 14, 793]\n",
      "8 : [65, 14, 505]\n",
      "9 : [46, 14, 328]\n",
      "ConfChamp : [0, 2, 0]\n",
      "Division : [35, 4, 441]\n",
      "SuperBowl : [0, 1, 0]\n",
      "WildCard : [13, 4, 67]\n"
     ]
    }
   ],
   "source": [
    "# look at just the 2003 season (mapped[1]) to confirm that our\n",
    "# map() function worked as expected.\n",
    "print(\"2003 season results: \\nweek: [sum of AQ1, number of observations, sum of squared values of AQ1]\")\n",
    "for key, value in mapped_scores[1].items(): \n",
    "    print(key, \":\", value)"
   ]
  },
  {
   "cell_type": "markdown",
   "id": "45f795c1-bfff-4bc1-a967-a4bfc1ac3542",
   "metadata": {},
   "source": [
    "Write a reduce function that takes in two dictionaries and combines them. "
   ]
  },
  {
   "cell_type": "code",
   "execution_count": 64,
   "id": "e7023c04-8a05-4765-a600-31ae7467ccaa",
   "metadata": {},
   "outputs": [],
   "source": [
    "# Reduce function that takes in two dictionaries and combines them.\n",
    "# Check for unique keys (dictionary keys must be unique).\n",
    "# If keys overlap, combine their list elements (values) into a new dictionary (\"combined\"). \n",
    "# Otherwise, create a new key.\n",
    "def season_reduce(dict1, dict2):\n",
    "    combined = {}\n",
    "    for key in dict1.keys():\n",
    "        if key in dict2:\n",
    "            # List comprehension to combine values from two lists\n",
    "            # into one list\n",
    "            combined[key] = [x + y for x, y in zip(dict1[key], dict2[key])]\n",
    "        else:\n",
    "            combined[key] = dict1[key]\n",
    "    for key in dict2.keys():\n",
    "        if key not in dict1.keys():\n",
    "            combined[key] = dict2[key]\n",
    "    return combined"
   ]
  },
  {
   "cell_type": "markdown",
   "id": "9daa98ab-c66b-4690-bca7-42cd2e99ae04",
   "metadata": {},
   "source": [
    "Check that the function works."
   ]
  },
  {
   "cell_type": "code",
   "execution_count": 65,
   "id": "c74a275c-2f18-4c6f-b99e-26da3c5b7a88",
   "metadata": {},
   "outputs": [
    {
     "name": "stdout",
     "output_type": "stream",
     "text": [
      "1 : [123, 32, 947]\n",
      "10 : [129, 28, 1105]\n",
      "11 : [89, 32, 715]\n",
      "12 : [108, 32, 1112]\n",
      "13 : [114, 32, 946]\n",
      "14 : [141, 32, 1305]\n",
      "15 : [93, 32, 753]\n",
      "16 : [170, 32, 1714]\n",
      "17 : [88, 32, 824]\n",
      "2 : [152, 32, 1608]\n",
      "3 : [80, 28, 532]\n",
      "4 : [137, 28, 1209]\n",
      "5 : [73, 28, 591]\n",
      "6 : [109, 28, 951]\n",
      "7 : [104, 28, 918]\n",
      "8 : [99, 28, 817]\n",
      "9 : [117, 28, 989]\n",
      "ConfChamp : [17, 4, 149]\n",
      "Division : [41, 8, 459]\n",
      "SuperBowl : [3, 2, 9]\n",
      "WildCard : [41, 8, 361]\n"
     ]
    }
   ],
   "source": [
    "# Combine the 2002 and 2003 seasons using our reduce function.\n",
    "season_02 = pd.read_csv(\"season_2002.csv\")\n",
    "first_season = map_stats(season_02, \"week\", \"AQ1\")\n",
    "\n",
    "season_03 = pd.read_csv(\"season_2003.csv\")\n",
    "second_season = map_stats(season_03, \"week\", \"AQ1\")\n",
    "\n",
    "temp = season_reduce(first_season, second_season)\n",
    "for key, value in temp.items():\n",
    "    print(key, \":\", value)"
   ]
  },
  {
   "cell_type": "markdown",
   "id": "03af91d8-fd67-4fd9-bb4f-d88e491dc812",
   "metadata": {},
   "source": [
    "Use `functools.reduce()`. "
   ]
  },
  {
   "cell_type": "code",
   "execution_count": 17,
   "id": "356fabb2-39cb-4691-be12-6415b49ce20f",
   "metadata": {},
   "outputs": [
    {
     "name": "stdout",
     "output_type": "stream",
     "text": [
      "1 : [713, 208, 5825]\n",
      "10 : [852, 186, 7568]\n",
      "11 : [798, 201, 7242]\n",
      "12 : [749, 205, 6529]\n",
      "13 : [872, 208, 8356]\n",
      "14 : [798, 208, 7258]\n",
      "15 : [814, 208, 7628]\n",
      "16 : [852, 208, 7210]\n",
      "17 : [775, 208, 7171]\n",
      "2 : [731, 207, 6207]\n",
      "3 : [832, 198, 7428]\n",
      "4 : [730, 184, 6254]\n",
      "5 : [649, 182, 5869]\n",
      "6 : [750, 181, 6966]\n",
      "7 : [776, 180, 7356]\n",
      "8 : [595, 178, 4715]\n",
      "9 : [744, 178, 7930]\n",
      "ConfChamp : [83, 26, 757]\n",
      "Division : [243, 52, 2529]\n",
      "SuperBowl : [38, 13, 226]\n",
      "WildCard : [229, 52, 2421]\n"
     ]
    }
   ],
   "source": [
    "import functools\n",
    "\n",
    "# season_reduce() is a function with 2 arguments\n",
    "# season_data_list is a list (an iterable) of dictionaries\n",
    "final = functools.reduce(season_reduce, mapped_scores)\n",
    "for key, val in list(final.items()):\n",
    "    print(key, \":\", val)"
   ]
  },
  {
   "cell_type": "markdown",
   "id": "ff6ab6ea-456f-495c-8300-ab254af9c643",
   "metadata": {},
   "source": [
    "## Last step"
   ]
  },
  {
   "cell_type": "markdown",
   "id": "ed359ae5-b8d5-4870-91ad-8d19b1224657",
   "metadata": {},
   "source": [
    "Write a function that takes the final result and returns the mean and standard deviation of the target variable at each level of the grouping variable. Recall that the list elements returned by our functions are ordered as `[sum_of_targetvar, count, sum_of_squared_targetvar]`."
   ]
  },
  {
   "cell_type": "code",
   "execution_count": 81,
   "id": "cba93b39-4c89-4693-b8be-9d48dedf29e1",
   "metadata": {},
   "outputs": [
    {
     "data": {
      "text/plain": [
       "{'1': [3.43, 4.04],\n",
       " '10': [4.58, 4.45],\n",
       " '11': [3.97, 4.51],\n",
       " '12': [3.65, 4.31],\n",
       " '13': [4.19, 4.77],\n",
       " '14': [3.84, 4.5],\n",
       " '15': [3.91, 4.64],\n",
       " '16': [4.1, 4.24],\n",
       " '17': [3.73, 4.55],\n",
       " '2': [3.53, 4.2],\n",
       " '3': [4.2, 4.47],\n",
       " '4': [3.97, 4.28],\n",
       " '5': [3.57, 4.43],\n",
       " '6': [4.14, 4.63],\n",
       " '7': [4.31, 4.73],\n",
       " '8': [3.34, 3.93],\n",
       " '9': [4.18, 5.22],\n",
       " 'ConfChamp': [3.19, 4.44],\n",
       " 'Division': [4.67, 5.23],\n",
       " 'SuperBowl': [2.92, 3.1],\n",
       " 'WildCard': [4.4, 5.27]}"
      ]
     },
     "execution_count": 81,
     "metadata": {},
     "output_type": "execute_result"
    }
   ],
   "source": [
    "# Accept a dictionary of the format \n",
    "# {week: [sum_of_targetvar, count, sum_of_squared_targetvar], ...},\n",
    "# e.g. {'1': [713, 208, 5825],...}\n",
    "def find_mean_std(weekly_stats_dict):\n",
    "    means_dict = {}\n",
    "    for key, val in list(weekly_stats_dict.items()):\n",
    "        # Find the mean\n",
    "        mean_val = round(val[0]/val[1], 2)\n",
    "        # Check that \"count\" is greater than 1\n",
    "        if val[1] > 1:\n",
    "            # Find the sample standard deviation\n",
    "            standard_dev = round(((val[2]-val[1]*(mean_val**2))/(val[1]-1))**0.5, 2)\n",
    "        # Don’t return a standard deviation if \n",
    "        # the count is not greater than 1\n",
    "        else:\n",
    "            standard_dev = \"NaN\"\n",
    "        # Create and return a dictionary of {week: [mean_val, sample_standard_dev], ...}\n",
    "        means_dict[key] = [mean_val, standard_dev]\n",
    "    return means_dict\n",
    "\n",
    "# Test the function against our complete data set\n",
    "find_mean_std(final)"
   ]
  },
  {
   "cell_type": "markdown",
   "id": "6311346c-7603-4453-9317-4455017d26bc",
   "metadata": {},
   "source": [
    "Write a function that takes in the data (always the same iterable of our data sets), a target variable, and a grouping variable. The function should call our functions above to easily produce the final result with a single function call!"
   ]
  },
  {
   "cell_type": "code",
   "execution_count": 71,
   "id": "5e1a5523-bfee-4601-9a6d-b0d3a77d6892",
   "metadata": {},
   "outputs": [],
   "source": [
    "def find_NFL_stats(data, groupvar, targetvar):\n",
    "    mapped_scores = list(map(map_stats, data, [groupvar]*len(data), [targetvar]*len(data))) \n",
    "    final = functools.reduce(season_reduce, mapped_scores)\n",
    "    return find_mean_std(final)"
   ]
  },
  {
   "cell_type": "code",
   "execution_count": 82,
   "id": "b8c8d674-af7f-45af-8a26-d9276cd85f0e",
   "metadata": {},
   "outputs": [
    {
     "data": {
      "text/plain": [
       "{'Mon': [6.09, 5.55],\n",
       " 'Sat': [6.92, 5.56],\n",
       " 'Sun': [6.2, 5.13],\n",
       " 'Thu': [6.89, 6.29],\n",
       " 'Fri': [12.67, 5.12],\n",
       " 'Tue': [7.0, 'NaN'],\n",
       " 'Wed': [7.0, 'NaN']}"
      ]
     },
     "execution_count": 82,
     "metadata": {},
     "output_type": "execute_result"
    }
   ],
   "source": [
    "find_NFL_stats(season_data_list, \"day\", \"AQ2\")"
   ]
  },
  {
   "cell_type": "code",
   "execution_count": null,
   "id": "ff11e3b9-34cc-482c-9d86-f9d22d41d673",
   "metadata": {},
   "outputs": [],
   "source": []
  }
 ],
 "metadata": {
  "kernelspec": {
   "display_name": "Python 3 (ipykernel)",
   "language": "python",
   "name": "python3"
  },
  "language_info": {
   "codemirror_mode": {
    "name": "ipython",
    "version": 3
   },
   "file_extension": ".py",
   "mimetype": "text/x-python",
   "name": "python",
   "nbconvert_exporter": "python",
   "pygments_lexer": "ipython3",
   "version": "3.10.2"
  }
 },
 "nbformat": 4,
 "nbformat_minor": 5
}
