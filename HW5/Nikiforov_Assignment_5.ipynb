{
 "cells": [
  {
   "cell_type": "markdown",
   "id": "57b909ee-c64a-44a5-8958-b69995bfb34b",
   "metadata": {},
   "source": [
    "# Assignment 5"
   ]
  },
  {
   "cell_type": "markdown",
   "id": "dd26b82b-7189-4cc4-b7dd-286c59a54c9f",
   "metadata": {},
   "source": [
    "Authored by Maksim Nikiforov"
   ]
  },
  {
   "cell_type": "markdown",
   "id": "a22e8284-a366-4792-845b-c87dedf8a91c",
   "metadata": {},
   "source": [
    "## Part I - Concepts"
   ]
  },
  {
   "cell_type": "markdown",
   "id": "28324fd5-5043-4285-b1db-6a8f225d948f",
   "metadata": {},
   "source": [
    "1. "
   ]
  }
 ],
 "metadata": {
  "kernelspec": {
   "display_name": "Python 3 (ipykernel)",
   "language": "python",
   "name": "python3"
  },
  "language_info": {
   "codemirror_mode": {
    "name": "ipython",
    "version": 3
   },
   "file_extension": ".py",
   "mimetype": "text/x-python",
   "name": "python",
   "nbconvert_exporter": "python",
   "pygments_lexer": "ipython3",
   "version": "3.10.2"
  }
 },
 "nbformat": 4,
 "nbformat_minor": 5
}
