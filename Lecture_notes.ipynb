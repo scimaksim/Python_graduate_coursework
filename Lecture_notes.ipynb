{
 "cells": [
  {
   "cell_type": "markdown",
   "id": "303632de-1593-4a86-8526-683fc88cf571",
   "metadata": {},
   "source": [
    "# Topic 1: Programming in Python"
   ]
  },
  {
   "cell_type": "markdown",
   "id": "22cf7db0-1423-42e4-9700-62e69a35f621",
   "metadata": {},
   "source": [
    "## Module 1: Installation & JupyterLab"
   ]
  },
  {
   "cell_type": "markdown",
   "id": "a07832ce-4893-4460-8273-dd82b92d1eec",
   "metadata": {},
   "source": [
    "We can create a basic histogram of random normal values and demonstrate interactive widgets as follows."
   ]
  },
  {
   "cell_type": "code",
   "execution_count": 1,
   "id": "7860a706-ea5d-42f9-9416-e9755ca4dd37",
   "metadata": {},
   "outputs": [
    {
     "name": "stderr",
     "output_type": "stream",
     "text": [
      "Failed to extract font properties from /opt/X11/share/system_fonts/LastResort.otf: tuple indices must be integers or slices, not str\n",
      "Failed to extract font properties from /System/Library/Fonts/Supplemental/NISC18030.ttf: In FT2Font: Could not set the fontsize (error code 0x17)\n",
      "Failed to extract font properties from /System/Library/Fonts/LastResort.otf: tuple indices must be integers or slices, not str\n",
      "Failed to extract font properties from /opt/X11/share/system_fonts/Supplemental/NISC18030.ttf: In FT2Font: Could not set the fontsize (error code 0x17)\n",
      "Failed to extract font properties from /System/Library/Fonts/Apple Color Emoji.ttc: In FT2Font: Could not set the fontsize (error code 0x17)\n",
      "Failed to extract font properties from /opt/X11/share/system_fonts/Apple Color Emoji.ttc: In FT2Font: Could not set the fontsize (error code 0x17)\n",
      "generated new fontManager\n"
     ]
    }
   ],
   "source": [
    "import numpy as np\n",
    "import matplotlib.pyplot as plt"
   ]
  },
  {
   "cell_type": "code",
   "execution_count": 2,
   "id": "5cdf4787-1ab9-4917-b33a-cd0aee821cdd",
   "metadata": {
    "tags": []
   },
   "outputs": [],
   "source": [
    "# Create 100 random normal values\n",
    "x = np.random.normal(size = 100)"
   ]
  },
  {
   "cell_type": "code",
   "execution_count": 3,
   "id": "89ab2a15-f6e5-450e-ae37-cd2c92c9eb12",
   "metadata": {},
   "outputs": [
    {
     "data": {
      "text/plain": [
       "(array([ 1.,  5.,  5.,  8., 15., 16., 22., 17.,  4.,  7.]),\n",
       " array([-2.95527344, -2.42469789, -1.89412233, -1.36354678, -0.83297123,\n",
       "        -0.30239568,  0.22817987,  0.75875543,  1.28933098,  1.81990653,\n",
       "         2.35048208]),\n",
       " <BarContainer object of 10 artists>)"
      ]
     },
     "execution_count": 3,
     "metadata": {},
     "output_type": "execute_result"
    },
    {
     "data": {
      "image/png": "[encoded data removed]",
      "text/plain": [
       "<Figure size 432x288 with 1 Axes>"
      ]
     },
     "metadata": {
      "needs_background": "light"
     },
     "output_type": "display_data"
    }
   ],
   "source": [
    "# Plot these on a histogram\n",
    "plt.hist(x, bins = 10)"
   ]
  },
  {
   "cell_type": "code",
   "execution_count": 4,
   "id": "e32fb252-ef32-4d81-95f2-ccf64f3af5c8",
   "metadata": {},
   "outputs": [],
   "source": [
    "# Call in the ipywidgets module and create an interactive histogram\n",
    "import ipywidgets as widgets\n",
    "def myplot(nbins):\n",
    "    plt.hist(x, bins = nbins)"
   ]
  },
  {
   "cell_type": "code",
   "execution_count": 5,
   "id": "9c29ad15-a7d0-4c9e-bf2c-8022030c24f3",
   "metadata": {},
   "outputs": [
    {
     "data": {
      "application/vnd.jupyter.widget-view+json": {
       "model_id": "b4cf6b3061fa480aa5345f31d7eaba51",
       "version_major": 2,
       "version_minor": 0
      },
      "text/plain": [
       "interactive(children=(IntSlider(value=10, description='nbins', max=20, min=1), Output()), _dom_classes=('widge…"
      ]
     },
     "metadata": {},
     "output_type": "display_data"
    }
   ],
   "source": [
    "# Create a widget with values ranging from 1 to 20\n",
    "widgets.interactive(myplot, nbins = (1, 20))"
   ]
  },
  {
   "cell_type": "markdown",
   "id": "d736931a-a003-4330-8a61-6a9021956645",
   "metadata": {},
   "source": [
    "### Basic Use of Python"
   ]
  },
  {
   "cell_type": "markdown",
   "id": "e0b07666-0864-4384-b273-6204c555975c",
   "metadata": {},
   "source": [
    "We use basic equal signs to assign variables in Python."
   ]
  },
  {
   "cell_type": "code",
   "execution_count": 6,
   "id": "d6dd332d-e5a1-4314-b190-5abf8e7be0aa",
   "metadata": {},
   "outputs": [
    {
     "data": {
      "text/plain": [
       "'Hello! '"
      ]
     },
     "execution_count": 6,
     "metadata": {},
     "output_type": "execute_result"
    }
   ],
   "source": [
    "x = \"Hello! \"\n",
    "y = \"How are you?\"\n",
    "x"
   ]
  },
  {
   "cell_type": "code",
   "execution_count": 7,
   "id": "10babc22-12df-40de-9b4c-1024ff3ebf29",
   "metadata": {},
   "outputs": [
    {
     "name": "stdout",
     "output_type": "stream",
     "text": [
      "Hello! \n"
     ]
    }
   ],
   "source": [
    "print(x)"
   ]
  },
  {
   "cell_type": "code",
   "execution_count": 8,
   "id": "1aca68b5-92f9-4d0a-a202-e0814cd00831",
   "metadata": {},
   "outputs": [
    {
     "data": {
      "text/plain": [
       "'Hello! How are you?'"
      ]
     },
     "execution_count": 8,
     "metadata": {},
     "output_type": "execute_result"
    }
   ],
   "source": [
    "x + y"
   ]
  },
  {
   "cell_type": "code",
   "execution_count": 9,
   "id": "24c178fb-6b10-484c-8f62-5eb1f1cc72e1",
   "metadata": {},
   "outputs": [
    {
     "name": "stdout",
     "output_type": "stream",
     "text": [
      "Hello! How are you?\n"
     ]
    }
   ],
   "source": [
    "print(x + y)"
   ]
  },
  {
   "cell_type": "markdown",
   "id": "d6570e35-7738-41a4-b869-e43b58d841e3",
   "metadata": {},
   "source": [
    "We can include a newline character using `\\n`."
   ]
  },
  {
   "cell_type": "markdown",
   "id": "40568359-41cc-4c63-ac49-283be594b07e",
   "metadata": {},
   "source": [
    "x = \"Hello! \\n\"\n",
    "y = 'Then I asked, \"How are you?\"'\n",
    "x"
   ]
  },
  {
   "cell_type": "code",
   "execution_count": 11,
   "id": "eb47a3dd-3259-485c-8a99-230e4392bd22",
   "metadata": {},
   "outputs": [
    {
     "name": "stdout",
     "output_type": "stream",
     "text": [
      "Hello! \n",
      "\n"
     ]
    }
   ],
   "source": [
    "print(x)"
   ]
  },
  {
   "cell_type": "code",
   "execution_count": 12,
   "id": "62b12e77-dd17-4da3-9ab9-ffe5e5fccb5c",
   "metadata": {},
   "outputs": [
    {
     "data": {
      "text/plain": [
       "'Hello! \\nThen I asked, \"How are you?\"'"
      ]
     },
     "execution_count": 12,
     "metadata": {},
     "output_type": "execute_result"
    }
   ],
   "source": [
    "x+y"
   ]
  },
  {
   "cell_type": "code",
   "execution_count": 13,
   "id": "92761f50-f26c-4cf5-964c-e99148937ca7",
   "metadata": {},
   "outputs": [
    {
     "name": "stdout",
     "output_type": "stream",
     "text": [
      "Hello! \n",
      "Then I asked, \"How are you?\"\n"
     ]
    }
   ],
   "source": [
    "print(x+y)"
   ]
  },
  {
   "cell_type": "markdown",
   "id": "27951e55-0698-4276-95a5-7a9e4b4c1a28",
   "metadata": {},
   "source": [
    "#### Built-in data objects"
   ]
  },
  {
   "cell_type": "markdown",
   "id": "c56dd615-e891-42bd-ae5e-523e2a0fe9b8",
   "metadata": {},
   "source": [
    "We have text type, `str`, and numeric types such as `int` and `float`."
   ]
  },
  {
   "cell_type": "code",
   "execution_count": 14,
   "id": "e3991209-52a0-49ac-9ff5-524ec06b37f1",
   "metadata": {},
   "outputs": [
    {
     "data": {
      "text/plain": [
       "str"
      ]
     },
     "execution_count": 14,
     "metadata": {},
     "output_type": "execute_result"
    }
   ],
   "source": [
    "y = \"text string\"\n",
    "type(y)"
   ]
  },
  {
   "cell_type": "code",
   "execution_count": 15,
   "id": "d1700c5a-69de-47fe-9566-d6f1f06da02b",
   "metadata": {},
   "outputs": [
    {
     "data": {
      "text/plain": [
       "int"
      ]
     },
     "execution_count": 15,
     "metadata": {},
     "output_type": "execute_result"
    }
   ],
   "source": [
    "y = 10\n",
    "type(y)"
   ]
  },
  {
   "cell_type": "code",
   "execution_count": 16,
   "id": "2fa0a8c1-3296-40ab-a3e7-9a298509341f",
   "metadata": {},
   "outputs": [
    {
     "data": {
      "text/plain": [
       "float"
      ]
     },
     "execution_count": 16,
     "metadata": {},
     "output_type": "execute_result"
    }
   ],
   "source": [
    "x = 10.4\n",
    "type(x)"
   ]
  },
  {
   "cell_type": "markdown",
   "id": "4a5506e3-3483-4d49-918a-0a02566a06f1",
   "metadata": {},
   "source": [
    "There is also the `boolean` type to signify True/False values."
   ]
  },
  {
   "cell_type": "code",
   "execution_count": 17,
   "id": "111a3f88-8036-468e-b747-c7e87a039549",
   "metadata": {},
   "outputs": [
    {
     "data": {
      "text/plain": [
       "bool"
      ]
     },
     "execution_count": 17,
     "metadata": {},
     "output_type": "execute_result"
    }
   ],
   "source": [
    "y = True\n",
    "type(y)"
   ]
  },
  {
   "cell_type": "markdown",
   "id": "61830c79-50fa-44b9-bb2d-00fe63eef7e9",
   "metadata": {},
   "source": [
    "#### Compound data types"
   ]
  },
  {
   "cell_type": "markdown",
   "id": "aa7a5125-9254-4d8d-988e-2137bf2593c2",
   "metadata": {},
   "source": [
    "Sequence types include a `list` and a `tuple`. \n",
    "* A **list** is an object that has an _ordering_. Each element can be of a different type.\n",
    "* A tuple is like a list, but it is immutable (cannot be changed)"
   ]
  },
  {
   "cell_type": "code",
   "execution_count": 19,
   "id": "99f7f861-6b80-4637-85ab-58f4d8e19439",
   "metadata": {},
   "outputs": [
    {
     "data": {
      "text/plain": [
       "list"
      ]
     },
     "execution_count": 19,
     "metadata": {},
     "output_type": "execute_result"
    }
   ],
   "source": [
    "# Example of a list, where order matters and object types can differ.\n",
    "# Here, we have an integer, a string, a floating point, and a boolean.\n",
    "z = [10, \"a\", 11.5, True]\n",
    "type(z)"
   ]
  },
  {
   "cell_type": "markdown",
   "id": "1806f513-c142-4a73-b9f5-8efb5670c4c8",
   "metadata": {},
   "source": [
    "Another data type, a mapping type, is called a `dict` (dictionary). A dictionary has key-value pairs which are specified with curly brackets."
   ]
  },
  {
   "cell_type": "code",
   "execution_count": 20,
   "id": "d44dc8e9-85b0-4ce5-ab02-8437b505d6dc",
   "metadata": {},
   "outputs": [
    {
     "data": {
      "text/plain": [
       "dict"
      ]
     },
     "execution_count": 20,
     "metadata": {},
     "output_type": "execute_result"
    }
   ],
   "source": [
    "# Example of a dictionary, which has key-value pairs.\n",
    "w = {\"key1\": \"value1\",\n",
    "    \"key2\": [\"value2\", 10]}\n",
    "type(w)"
   ]
  },
  {
   "cell_type": "markdown",
   "id": "e3e60356-81ee-4de7-88c4-fcc084bac4b6",
   "metadata": {},
   "source": [
    "#### Short-hand assignments"
   ]
  },
  {
   "cell_type": "markdown",
   "id": "2602d5cb-1756-4d4f-ab52-9d6b7acc1e4c",
   "metadata": {},
   "source": [
    "We can store three variables at once using one line of code."
   ]
  },
  {
   "cell_type": "code",
   "execution_count": 22,
   "id": "762e02d4-32d2-429a-8e13-5c6ef82eca18",
   "metadata": {},
   "outputs": [
    {
     "name": "stdout",
     "output_type": "stream",
     "text": [
      "Orange\n",
      "Banana\n",
      "Cherry\n"
     ]
    }
   ],
   "source": [
    "x, y, z = \"Orange\", \"Banana\", \"Cherry\"\n",
    "print(x)\n",
    "print(y)\n",
    "print(z)"
   ]
  },
  {
   "cell_type": "code",
   "execution_count": 24,
   "id": "a1075230-0378-43df-a4be-6b1040a5d8d8",
   "metadata": {},
   "outputs": [
    {
     "name": "stdout",
     "output_type": "stream",
     "text": [
      "Orange\n",
      "Orange\n"
     ]
    }
   ],
   "source": [
    "x = y = z = \"Orange\"\n",
    "print(x)\n",
    "print(y)"
   ]
  },
  {
   "cell_type": "markdown",
   "id": "33095eeb-a7ad-4400-b2fb-8b52664a6bea",
   "metadata": {},
   "source": [
    "We can also store some things in one variables and the remainder in others (a catch-all)."
   ]
  },
  {
   "cell_type": "code",
   "execution_count": 26,
   "id": "bb40b1ac-b827-48ec-bd74-1a77f5d0bda7",
   "metadata": {},
   "outputs": [
    {
     "name": "stdout",
     "output_type": "stream",
     "text": [
      "Orange\n"
     ]
    }
   ],
   "source": [
    "# Store the first value in 'x' and the rest in 'y'\n",
    "x, *y = \"Orange\", \"Banana\", \"Cherry\"\n",
    "print(x)"
   ]
  },
  {
   "cell_type": "code",
   "execution_count": 27,
   "id": "5162d2f1-0de8-4dfc-b918-bcede8805002",
   "metadata": {},
   "outputs": [
    {
     "name": "stdout",
     "output_type": "stream",
     "text": [
      "['Banana', 'Cherry']\n"
     ]
    }
   ],
   "source": [
    "print(y)"
   ]
  },
  {
   "cell_type": "code",
   "execution_count": 28,
   "id": "8b681448-1d88-4f2a-83e6-af6e37a24d41",
   "metadata": {},
   "outputs": [
    {
     "data": {
      "text/plain": [
       "list"
      ]
     },
     "execution_count": 28,
     "metadata": {},
     "output_type": "execute_result"
    }
   ],
   "source": [
    "type(y)"
   ]
  },
  {
   "cell_type": "code",
   "execution_count": 29,
   "id": "2926b24c-4b67-4c5f-a97b-2f4e4d67f83d",
   "metadata": {},
   "outputs": [
    {
     "name": "stdout",
     "output_type": "stream",
     "text": [
      "Cherry\n"
     ]
    }
   ],
   "source": [
    "# Assign the last thing to 'y' and the everything before it to 'x'\n",
    "*x, y = \"Orange\", \"Banana\", \"Cherry\"\n",
    "print(y)"
   ]
  },
  {
   "cell_type": "code",
   "execution_count": 30,
   "id": "af3c1a90-cdd5-4eb1-86c6-e23453cf2cb9",
   "metadata": {},
   "outputs": [
    {
     "name": "stdout",
     "output_type": "stream",
     "text": [
      "['Orange', 'Banana']\n"
     ]
    }
   ],
   "source": [
    "print(x)"
   ]
  },
  {
   "cell_type": "markdown",
   "id": "88cf2063-57bc-454d-8b64-386f30a28a0c",
   "metadata": {},
   "source": [
    "An underscore, `_`, can be used to show the last evaluated expression."
   ]
  },
  {
   "cell_type": "code",
   "execution_count": 31,
   "id": "f12da2fa-52e6-49fb-b88b-e5844cbae898",
   "metadata": {},
   "outputs": [
    {
     "data": {
      "text/plain": [
       "'Orange'"
      ]
     },
     "execution_count": 31,
     "metadata": {},
     "output_type": "execute_result"
    }
   ],
   "source": [
    "x, y, z = \"Orange\", \"Banana\", \"Cherry\"\n",
    "x"
   ]
  },
  {
   "cell_type": "code",
   "execution_count": 32,
   "id": "a65f3d05-046d-4080-ba29-48ba869ec7f7",
   "metadata": {},
   "outputs": [
    {
     "data": {
      "text/plain": [
       "'Orange'"
      ]
     },
     "execution_count": 32,
     "metadata": {},
     "output_type": "execute_result"
    }
   ],
   "source": [
    "_"
   ]
  },
  {
   "cell_type": "code",
   "execution_count": 33,
   "id": "ce380162-c988-42af-999c-ba3341f237ad",
   "metadata": {},
   "outputs": [
    {
     "name": "stdout",
     "output_type": "stream",
     "text": [
      "Banana\n"
     ]
    }
   ],
   "source": [
    "# print doesn't count!\n",
    "print(y)"
   ]
  },
  {
   "cell_type": "code",
   "execution_count": 34,
   "id": "fd0ee90c-7483-4c63-b318-13bbc7aad77f",
   "metadata": {},
   "outputs": [
    {
     "data": {
      "text/plain": [
       "'Orange'"
      ]
     },
     "execution_count": 34,
     "metadata": {},
     "output_type": "execute_result"
    }
   ],
   "source": [
    "_"
   ]
  },
  {
   "cell_type": "markdown",
   "id": "9ad8f26e-9e79-4437-8dc7-3915af1e7c1a",
   "metadata": {},
   "source": [
    "How can we use this?"
   ]
  },
  {
   "cell_type": "code",
   "execution_count": 35,
   "id": "e4455d1a-56a6-45b7-89cd-d954a04e0c78",
   "metadata": {},
   "outputs": [
    {
     "data": {
      "text/plain": [
       "212.0"
      ]
     },
     "execution_count": 35,
     "metadata": {},
     "output_type": "execute_result"
    }
   ],
   "source": [
    "degrees_celsius = 100\n",
    "(9 / 5) * degrees_celsius + 32"
   ]
  },
  {
   "cell_type": "code",
   "execution_count": 36,
   "id": "31cea722-5db0-4369-9819-f59a5d1e5e80",
   "metadata": {},
   "outputs": [
    {
     "data": {
      "text/plain": [
       "202.0"
      ]
     },
     "execution_count": 36,
     "metadata": {},
     "output_type": "execute_result"
    }
   ],
   "source": [
    "_ - 10"
   ]
  },
  {
   "cell_type": "code",
   "execution_count": 37,
   "id": "7747a1c7-ee05-41d3-acc6-a22f00f35304",
   "metadata": {},
   "outputs": [
    {
     "data": {
      "text/plain": [
       "2020.0"
      ]
     },
     "execution_count": 37,
     "metadata": {},
     "output_type": "execute_result"
    }
   ],
   "source": [
    "_ * 10"
   ]
  },
  {
   "cell_type": "markdown",
   "id": "0b9936aa-39c8-4529-9182-3142435b3e42",
   "metadata": {},
   "source": [
    "#### Copying vs. referencing"
   ]
  },
  {
   "cell_type": "markdown",
   "id": "7f1f46ab-65d5-49e1-bfbf-d87dfd4dc673",
   "metadata": {},
   "source": [
    "Be careful when modifying the elements of a compound object. Assignment statements do not copy objects; instead, they create _bindings_ between a target (a spot in computer memory) and an object!"
   ]
  },
  {
   "cell_type": "code",
   "execution_count": 46,
   "id": "c81a5aec-ce4e-4e2b-9bcf-a659601ccf99",
   "metadata": {},
   "outputs": [
    {
     "name": "stdout",
     "output_type": "stream",
     "text": [
      "[1, 2, 3, 'Cats Rule!'] [1, 2, 3, 'Cats Rule!']\n"
     ]
    }
   ],
   "source": [
    "x = [1, 2, 3, \"Cats Rule!\"]\n",
    "# New value 'y' points to the memory of 'x'\n",
    "y = x\n",
    "print(x, y)"
   ]
  },
  {
   "cell_type": "code",
   "execution_count": 47,
   "id": "74308096-80aa-454e-9f0c-a4cdc10cca4f",
   "metadata": {},
   "outputs": [
    {
     "name": "stdout",
     "output_type": "stream",
     "text": [
      "[1, 2, 3, 'Dogs Rule!'] [1, 2, 3, 'Dogs Rule!']\n"
     ]
    }
   ],
   "source": [
    "# Changing the original modifies both variables!\n",
    "x[3] = \"Dogs Rule!\"\n",
    "print(x, y)"
   ]
  },
  {
   "cell_type": "markdown",
   "id": "7c16c90b-a4e7-44a4-91f6-fed206ec7974",
   "metadata": {},
   "source": [
    "If we want to create a copy of an object, we have to use a **method** (in this case, the `copy` method). While functions such as `print(x)` includes the function name and then its arguments, a method is called by referencing the object, appending a period, and adding the method name and any arguments (e.g. `x.copy()`). "
   ]
  },
  {
   "cell_type": "code",
   "execution_count": 50,
   "id": "9a83fc49-f75a-47f6-999a-75ce9c12716e",
   "metadata": {},
   "outputs": [
    {
     "name": "stdout",
     "output_type": "stream",
     "text": [
      "[1, 2, 10, 'No, cats rule!'] [1, 2, 10, 'No, cats rule!']\n"
     ]
    }
   ],
   "source": [
    "# Create a new memory allocation\n",
    "y = x.copy()\n",
    "x[2] = 10\n",
    "x[3] = \"No, cats rule!\"\n",
    "print(x, y)"
   ]
  },
  {
   "cell_type": "markdown",
   "id": "cc02f372-9552-420e-b999-d1a18926c78e",
   "metadata": {},
   "source": [
    "Objects in Python are mutable or immutable (cannot be modified). A list is mutable, a tuple is immutable. \n",
    "\n",
    "We cannot change the elements of a tuple unless the element itself is mutable (e.g. if one of the element of a tuple is a list)."
   ]
  },
  {
   "cell_type": "code",
   "execution_count": 54,
   "id": "7c63215f-51a4-4a98-b0ae-6b0cafeb2151",
   "metadata": {},
   "outputs": [
    {
     "name": "stdout",
     "output_type": "stream",
     "text": [
      "(1, 2, 3, ['Cats Rule!']) (1, 2, 3, ['Cats Rule!'])\n"
     ]
    }
   ],
   "source": [
    "# Create a 'tuple' of four values, the last of which is a mutable list\n",
    "x = (1, 2, 3, [\"Cats Rule!\"])\n",
    "y = x\n",
    "print(x, y)"
   ]
  },
  {
   "cell_type": "code",
   "execution_count": 55,
   "id": "65d771d0-c149-49b1-b005-8bca4c90a9a7",
   "metadata": {},
   "outputs": [
    {
     "name": "stdout",
     "output_type": "stream",
     "text": [
      "(1, 2, 3, ['Dogs!']) (1, 2, 3, ['Dogs!'])\n"
     ]
    }
   ],
   "source": [
    "# Modify the object with index 3 (a list)\n",
    "x[3][0] = \"Dogs!\"\n",
    "print(x, y)"
   ]
  },
  {
   "cell_type": "markdown",
   "id": "e71a6890-2621-4ebb-b30e-5c991beae91b",
   "metadata": {},
   "source": [
    "#### Variable names "
   ]
  },
  {
   "cell_type": "markdown",
   "id": "7e2b2ff3-2095-464a-9b70-289116be7792",
   "metadata": {},
   "source": [
    "Variable names can use any letters, digits, numbers, and underscore symbol, but cannot start with a digit and cannot include punctuation. "
   ]
  },
  {
   "cell_type": "markdown",
   "id": "68a45bb4-bbb4-463f-bd34-0ce00766a308",
   "metadata": {},
   "source": [
    "#### Augmented assignment"
   ]
  },
  {
   "cell_type": "markdown",
   "id": "b36d873d-d9dd-4640-87d6-1ec62a7f9b4a",
   "metadata": {},
   "source": [
    "Often, we want to take a value, add to it, and replace the old value."
   ]
  },
  {
   "cell_type": "code",
   "execution_count": 56,
   "id": "9bf27280-174a-4329-bb39-a934610f0e10",
   "metadata": {},
   "outputs": [
    {
     "data": {
      "text/plain": [
       "100"
      ]
     },
     "execution_count": 56,
     "metadata": {},
     "output_type": "execute_result"
    }
   ],
   "source": [
    "winnings = 100\n",
    "winngs = winnings + 20\n",
    "winnings"
   ]
  },
  {
   "cell_type": "markdown",
   "id": "87a039c5-a31b-4c00-92f3-ce2397754c73",
   "metadata": {},
   "source": [
    "A short-hand way to do this is with augmented assignment."
   ]
  },
  {
   "cell_type": "code",
   "execution_count": 67,
   "id": "f78da44f-a08d-45b6-b66e-f5339422b240",
   "metadata": {},
   "outputs": [
    {
     "data": {
      "text/plain": [
       "120"
      ]
     },
     "execution_count": 67,
     "metadata": {},
     "output_type": "execute_result"
    }
   ],
   "source": [
    "winnings = 100\n",
    "winnings += 20\n",
    "winnings"
   ]
  },
  {
   "cell_type": "code",
   "execution_count": 68,
   "id": "a3df9b11-e3bb-4ed5-adf7-3baf97c8608c",
   "metadata": {},
   "outputs": [
    {
     "data": {
      "text/plain": [
       "90"
      ]
     },
     "execution_count": 68,
     "metadata": {},
     "output_type": "execute_result"
    }
   ],
   "source": [
    "winnings -= 30\n",
    "winnings"
   ]
  },
  {
   "cell_type": "code",
   "execution_count": 69,
   "id": "316a9e05-be60-4b33-b8b1-fd6ea90ebccf",
   "metadata": {},
   "outputs": [
    {
     "data": {
      "text/plain": [
       "3600"
      ]
     },
     "execution_count": 69,
     "metadata": {},
     "output_type": "execute_result"
    }
   ],
   "source": [
    "winnings *= 40\n",
    "winnings"
   ]
  },
  {
   "cell_type": "code",
   "execution_count": 70,
   "id": "846c1f28-7321-4ec5-a506-a83c2fe345aa",
   "metadata": {},
   "outputs": [
    {
     "data": {
      "text/plain": [
       "60.0"
      ]
     },
     "execution_count": 70,
     "metadata": {},
     "output_type": "execute_result"
    }
   ],
   "source": [
    "winnings **= 1/2\n",
    "winnings"
   ]
  },
  {
   "cell_type": "markdown",
   "id": "f455964b-b468-43ae-a229-8255224dd6ef",
   "metadata": {},
   "source": [
    "#### Continuing a line of code"
   ]
  },
  {
   "cell_type": "markdown",
   "id": "16ac63e1-a81e-4247-aafa-5cd72bd11f38",
   "metadata": {},
   "source": [
    "For long lines of code, we can break the code across multiple lines using `\\` or `()`."
   ]
  },
  {
   "cell_type": "code",
   "execution_count": 71,
   "id": "2d6bc788-515e-4790-85f1-1219caf98bde",
   "metadata": {},
   "outputs": [
    {
     "data": {
      "text/plain": [
       "-270.0"
      ]
     },
     "execution_count": 71,
     "metadata": {},
     "output_type": "execute_result"
    }
   ],
   "source": [
    "10 + 20 - 100 * 60 \\\n",
    "/ 20"
   ]
  },
  {
   "cell_type": "code",
   "execution_count": 74,
   "id": "14ecbe66-ef7e-41cc-83f6-d521971966d5",
   "metadata": {},
   "outputs": [
    {
     "data": {
      "text/plain": [
       "-270.0"
      ]
     },
     "execution_count": 74,
     "metadata": {},
     "output_type": "execute_result"
    }
   ],
   "source": [
    "(10 + 20 -100 * 60\n",
    "/ 20)"
   ]
  },
  {
   "cell_type": "markdown",
   "id": "d080b1fe-07bd-46e4-82f9-79b6a1d27b9d",
   "metadata": {},
   "source": [
    "#### Functions and methods"
   ]
  },
  {
   "cell_type": "markdown",
   "id": "ae69bc34-032a-4705-853f-50d006e7bc1b",
   "metadata": {},
   "source": [
    "Two ways to do an operation on a variable/object is via \n",
    "\n",
    "1. Functions\n",
    "    * `function_name(myvar, other_args)`\n",
    "2. Methods\n",
    "    * `myvar.method(other_args)`"
   ]
  },
  {
   "cell_type": "code",
   "execution_count": 80,
   "id": "a43eb743-b8d3-4270-b806-8161a0a4fb66",
   "metadata": {},
   "outputs": [
    {
     "data": {
      "text/plain": [
       "4"
      ]
     },
     "execution_count": 80,
     "metadata": {},
     "output_type": "execute_result"
    }
   ],
   "source": [
    "# Example of functions\n",
    "myList = [1, 10, 100, 1000]\n",
    "len(myList)"
   ]
  },
  {
   "cell_type": "code",
   "execution_count": 76,
   "id": "c10d9ae4-116b-4df6-87f2-43fef7c79f2e",
   "metadata": {},
   "outputs": [
    {
     "data": {
      "text/plain": [
       "1000"
      ]
     },
     "execution_count": 76,
     "metadata": {},
     "output_type": "execute_result"
    }
   ],
   "source": [
    "max(myList)"
   ]
  },
  {
   "cell_type": "code",
   "execution_count": 81,
   "id": "d8aa7584-06b0-4cf1-be06-ff1bad01d3e0",
   "metadata": {},
   "outputs": [
    {
     "data": {
      "text/plain": [
       "1000"
      ]
     },
     "execution_count": 81,
     "metadata": {},
     "output_type": "execute_result"
    }
   ],
   "source": [
    "# Example of methods\n",
    "myList.pop(3)"
   ]
  },
  {
   "cell_type": "code",
   "execution_count": 78,
   "id": "2b9cda2d-579b-45c3-866c-37c0db996d22",
   "metadata": {},
   "outputs": [
    {
     "data": {
      "text/plain": [
       "[1, 10, 100]"
      ]
     },
     "execution_count": 78,
     "metadata": {},
     "output_type": "execute_result"
    }
   ],
   "source": [
    "myList"
   ]
  },
  {
   "cell_type": "code",
   "execution_count": 79,
   "id": "892c5922-6bc3-4a06-8e69-e60824705b84",
   "metadata": {},
   "outputs": [
    {
     "data": {
      "text/plain": [
       "[1, 10, 100, 100000]"
      ]
     },
     "execution_count": 79,
     "metadata": {},
     "output_type": "execute_result"
    }
   ],
   "source": [
    "myList.append(100000)\n",
    "myList"
   ]
  },
  {
   "cell_type": "markdown",
   "id": "038f367d-51b1-4a8a-93fc-d93ce2f40f7d",
   "metadata": {},
   "source": [
    "#### Examples"
   ]
  },
  {
   "cell_type": "code",
   "execution_count": 90,
   "id": "d6fc231e-a12f-47f5-a28e-ab50be42f296",
   "metadata": {},
   "outputs": [
    {
     "data": {
      "text/plain": [
       "[1, 2, 3, 4]"
      ]
     },
     "execution_count": 90,
     "metadata": {},
     "output_type": "execute_result"
    }
   ],
   "source": [
    "myList = [x for x in range(1, 5)]\n",
    "myList"
   ]
  },
  {
   "cell_type": "code",
   "execution_count": 91,
   "id": "ff5a750b-0076-48fd-9b70-6a4fd6d7854d",
   "metadata": {},
   "outputs": [
    {
     "data": {
      "text/plain": [
       "[1, 2, 3, 4, 1]"
      ]
     },
     "execution_count": 91,
     "metadata": {},
     "output_type": "execute_result"
    }
   ],
   "source": [
    "myList = myList + [1]\n",
    "myList"
   ]
  },
  {
   "cell_type": "code",
   "execution_count": 92,
   "id": "607a97ea-d8b1-42a1-8cf2-398f13221272",
   "metadata": {},
   "outputs": [
    {
     "data": {
      "text/plain": [
       "[1, 2, 3, 4, 1, 1, 2, 3, 4, 1, 1, 2, 3, 4, 1, 1, 2, 3, 4, 1]"
      ]
     },
     "execution_count": 92,
     "metadata": {},
     "output_type": "execute_result"
    }
   ],
   "source": [
    "myList = myList*4\n",
    "myList"
   ]
  },
  {
   "cell_type": "code",
   "execution_count": 97,
   "id": "f24eb0bd-727b-4acc-b29d-e33bde5a4af0",
   "metadata": {},
   "outputs": [
    {
     "data": {
      "text/plain": [
       "8"
      ]
     },
     "execution_count": 97,
     "metadata": {},
     "output_type": "execute_result"
    }
   ],
   "source": [
    "# Count the number of '1's in myList using a method\n",
    "myList.count(1)"
   ]
  },
  {
   "cell_type": "code",
   "execution_count": 96,
   "id": "9d0d7d24-3c7f-4cd5-aac1-0979989ceb0e",
   "metadata": {},
   "outputs": [
    {
     "data": {
      "text/plain": [
       "20"
      ]
     },
     "execution_count": 96,
     "metadata": {},
     "output_type": "execute_result"
    }
   ],
   "source": [
    "# Function\n",
    "len(myList)"
   ]
  },
  {
   "cell_type": "markdown",
   "id": "31dd59ab-7bc0-4d51-b3fa-c82b4f6c9b5b",
   "metadata": {},
   "source": [
    "## Module 2: Modules, Basic Data Types, & Control Flow"
   ]
  },
  {
   "cell_type": "markdown",
   "id": "5d5cec91-ab66-4fc8-a42e-a18790b33dd8",
   "metadata": {},
   "source": [
    "### Modules"
   ]
  },
  {
   "cell_type": "markdown",
   "id": "58a5f3ad-6f99-4c9d-9056-fcfcfb45368a",
   "metadata": {},
   "source": [
    "A module is a collection related functions and statements that are grouped together in a single `.py`. file to give additional functionality. To import them into a session we can run one of the two following commands:\n",
    "\n",
    "1. Import fully with `import module_name`\n",
    "2. Import selectively with `from module_name import thing1 thing2`\n",
    "\n",
    "Python modules with common data types include NumPy arrays and Pandas data frames."
   ]
  },
  {
   "cell_type": "markdown",
   "id": "815a31ae-1078-4a07-b1be-b92eae40ae01",
   "metadata": {},
   "source": [
    "Built-in modules (already downloaded) include\n",
    "\n",
    "- `math` - contains math constants such as `pi`, `e`, etc. and commonly used functions such as `exp()`, `sin()`, `sqrt()`, etc.\n",
    "- `random` - random sampling and random number generation\n",
    "- `statistics` - summary statistics (but `scipy` has a lot more)\n",
    "- `datetime` - functionality for working with dates"
   ]
  },
  {
   "cell_type": "code",
   "execution_count": 1,
   "id": "910a2c4c-a302-4110-abf7-923814f576ef",
   "metadata": {},
   "outputs": [
    {
     "data": {
      "text/plain": [
       "module"
      ]
     },
     "execution_count": 1,
     "metadata": {},
     "output_type": "execute_result"
    }
   ],
   "source": [
    "# Import an entire module\n",
    "import math\n",
    "type(math)"
   ]
  },
  {
   "cell_type": "markdown",
   "id": "b8d50509-88f2-43d7-b974-5545c93168b6",
   "metadata": {},
   "source": [
    "We can view the functionality of a module using `help()`. "
   ]
  },
  {
   "cell_type": "code",
   "execution_count": 2,
   "id": "8a878f3b-ab98-4232-a240-33a450d4cf01",
   "metadata": {
    "collapsed": true,
    "jupyter": {
     "outputs_hidden": true
    },
    "tags": []
   },
   "outputs": [
    {
     "name": "stdout",
     "output_type": "stream",
     "text": [
      "Help on module math:\n",
      "\n",
      "NAME\n",
      "    math\n",
      "\n",
      "MODULE REFERENCE\n",
      "    https://docs.python.org/3.8/library/math\n",
      "    \n",
      "    The following documentation is automatically generated from the Python\n",
      "    source files.  It may be incomplete, incorrect or include features that\n",
      "    are considered implementation detail and may vary between Python\n",
      "    implementations.  When in doubt, consult the module reference at the\n",
      "    location listed above.\n",
      "\n",
      "DESCRIPTION\n",
      "    This module provides access to the mathematical functions\n",
      "    defined by the C standard.\n",
      "\n",
      "FUNCTIONS\n",
      "    acos(x, /)\n",
      "        Return the arc cosine (measured in radians) of x.\n",
      "    \n",
      "    acosh(x, /)\n",
      "        Return the inverse hyperbolic cosine of x.\n",
      "    \n",
      "    asin(x, /)\n",
      "        Return the arc sine (measured in radians) of x.\n",
      "    \n",
      "    asinh(x, /)\n",
      "        Return the inverse hyperbolic sine of x.\n",
      "    \n",
      "    atan(x, /)\n",
      "        Return the arc tangent (measured in radians) of x.\n",
      "    \n",
      "    atan2(y, x, /)\n",
      "        Return the arc tangent (measured in radians) of y/x.\n",
      "        \n",
      "        Unlike atan(y/x), the signs of both x and y are considered.\n",
      "    \n",
      "    atanh(x, /)\n",
      "        Return the inverse hyperbolic tangent of x.\n",
      "    \n",
      "    ceil(x, /)\n",
      "        Return the ceiling of x as an Integral.\n",
      "        \n",
      "        This is the smallest integer >= x.\n",
      "    \n",
      "    comb(n, k, /)\n",
      "        Number of ways to choose k items from n items without repetition and without order.\n",
      "        \n",
      "        Evaluates to n! / (k! * (n - k)!) when k <= n and evaluates\n",
      "        to zero when k > n.\n",
      "        \n",
      "        Also called the binomial coefficient because it is equivalent\n",
      "        to the coefficient of k-th term in polynomial expansion of the\n",
      "        expression (1 + x)**n.\n",
      "        \n",
      "        Raises TypeError if either of the arguments are not integers.\n",
      "        Raises ValueError if either of the arguments are negative.\n",
      "    \n",
      "    copysign(x, y, /)\n",
      "        Return a float with the magnitude (absolute value) of x but the sign of y.\n",
      "        \n",
      "        On platforms that support signed zeros, copysign(1.0, -0.0)\n",
      "        returns -1.0.\n",
      "    \n",
      "    cos(x, /)\n",
      "        Return the cosine of x (measured in radians).\n",
      "    \n",
      "    cosh(x, /)\n",
      "        Return the hyperbolic cosine of x.\n",
      "    \n",
      "    degrees(x, /)\n",
      "        Convert angle x from radians to degrees.\n",
      "    \n",
      "    dist(p, q, /)\n",
      "        Return the Euclidean distance between two points p and q.\n",
      "        \n",
      "        The points should be specified as sequences (or iterables) of\n",
      "        coordinates.  Both inputs must have the same dimension.\n",
      "        \n",
      "        Roughly equivalent to:\n",
      "            sqrt(sum((px - qx) ** 2.0 for px, qx in zip(p, q)))\n",
      "    \n",
      "    erf(x, /)\n",
      "        Error function at x.\n",
      "    \n",
      "    erfc(x, /)\n",
      "        Complementary error function at x.\n",
      "    \n",
      "    exp(x, /)\n",
      "        Return e raised to the power of x.\n",
      "    \n",
      "    expm1(x, /)\n",
      "        Return exp(x)-1.\n",
      "        \n",
      "        This function avoids the loss of precision involved in the direct evaluation of exp(x)-1 for small x.\n",
      "    \n",
      "    fabs(x, /)\n",
      "        Return the absolute value of the float x.\n",
      "    \n",
      "    factorial(x, /)\n",
      "        Find x!.\n",
      "        \n",
      "        Raise a ValueError if x is negative or non-integral.\n",
      "    \n",
      "    floor(x, /)\n",
      "        Return the floor of x as an Integral.\n",
      "        \n",
      "        This is the largest integer <= x.\n",
      "    \n",
      "    fmod(x, y, /)\n",
      "        Return fmod(x, y), according to platform C.\n",
      "        \n",
      "        x % y may differ.\n",
      "    \n",
      "    frexp(x, /)\n",
      "        Return the mantissa and exponent of x, as pair (m, e).\n",
      "        \n",
      "        m is a float and e is an int, such that x = m * 2.**e.\n",
      "        If x is 0, m and e are both 0.  Else 0.5 <= abs(m) < 1.0.\n",
      "    \n",
      "    fsum(seq, /)\n",
      "        Return an accurate floating point sum of values in the iterable seq.\n",
      "        \n",
      "        Assumes IEEE-754 floating point arithmetic.\n",
      "    \n",
      "    gamma(x, /)\n",
      "        Gamma function at x.\n",
      "    \n",
      "    gcd(x, y, /)\n",
      "        greatest common divisor of x and y\n",
      "    \n",
      "    hypot(...)\n",
      "        hypot(*coordinates) -> value\n",
      "        \n",
      "        Multidimensional Euclidean distance from the origin to a point.\n",
      "        \n",
      "        Roughly equivalent to:\n",
      "            sqrt(sum(x**2 for x in coordinates))\n",
      "        \n",
      "        For a two dimensional point (x, y), gives the hypotenuse\n",
      "        using the Pythagorean theorem:  sqrt(x*x + y*y).\n",
      "        \n",
      "        For example, the hypotenuse of a 3/4/5 right triangle is:\n",
      "        \n",
      "            >>> hypot(3.0, 4.0)\n",
      "            5.0\n",
      "    \n",
      "    isclose(a, b, *, rel_tol=1e-09, abs_tol=0.0)\n",
      "        Determine whether two floating point numbers are close in value.\n",
      "        \n",
      "          rel_tol\n",
      "            maximum difference for being considered \"close\", relative to the\n",
      "            magnitude of the input values\n",
      "          abs_tol\n",
      "            maximum difference for being considered \"close\", regardless of the\n",
      "            magnitude of the input values\n",
      "        \n",
      "        Return True if a is close in value to b, and False otherwise.\n",
      "        \n",
      "        For the values to be considered close, the difference between them\n",
      "        must be smaller than at least one of the tolerances.\n",
      "        \n",
      "        -inf, inf and NaN behave similarly to the IEEE 754 Standard.  That\n",
      "        is, NaN is not close to anything, even itself.  inf and -inf are\n",
      "        only close to themselves.\n",
      "    \n",
      "    isfinite(x, /)\n",
      "        Return True if x is neither an infinity nor a NaN, and False otherwise.\n",
      "    \n",
      "    isinf(x, /)\n",
      "        Return True if x is a positive or negative infinity, and False otherwise.\n",
      "    \n",
      "    isnan(x, /)\n",
      "        Return True if x is a NaN (not a number), and False otherwise.\n",
      "    \n",
      "    isqrt(n, /)\n",
      "        Return the integer part of the square root of the input.\n",
      "    \n",
      "    ldexp(x, i, /)\n",
      "        Return x * (2**i).\n",
      "        \n",
      "        This is essentially the inverse of frexp().\n",
      "    \n",
      "    lgamma(x, /)\n",
      "        Natural logarithm of absolute value of Gamma function at x.\n",
      "    \n",
      "    log(...)\n",
      "        log(x, [base=math.e])\n",
      "        Return the logarithm of x to the given base.\n",
      "        \n",
      "        If the base not specified, returns the natural logarithm (base e) of x.\n",
      "    \n",
      "    log10(x, /)\n",
      "        Return the base 10 logarithm of x.\n",
      "    \n",
      "    log1p(x, /)\n",
      "        Return the natural logarithm of 1+x (base e).\n",
      "        \n",
      "        The result is computed in a way which is accurate for x near zero.\n",
      "    \n",
      "    log2(x, /)\n",
      "        Return the base 2 logarithm of x.\n",
      "    \n",
      "    modf(x, /)\n",
      "        Return the fractional and integer parts of x.\n",
      "        \n",
      "        Both results carry the sign of x and are floats.\n",
      "    \n",
      "    perm(n, k=None, /)\n",
      "        Number of ways to choose k items from n items without repetition and with order.\n",
      "        \n",
      "        Evaluates to n! / (n - k)! when k <= n and evaluates\n",
      "        to zero when k > n.\n",
      "        \n",
      "        If k is not specified or is None, then k defaults to n\n",
      "        and the function returns n!.\n",
      "        \n",
      "        Raises TypeError if either of the arguments are not integers.\n",
      "        Raises ValueError if either of the arguments are negative.\n",
      "    \n",
      "    pow(x, y, /)\n",
      "        Return x**y (x to the power of y).\n",
      "    \n",
      "    prod(iterable, /, *, start=1)\n",
      "        Calculate the product of all the elements in the input iterable.\n",
      "        \n",
      "        The default start value for the product is 1.\n",
      "        \n",
      "        When the iterable is empty, return the start value.  This function is\n",
      "        intended specifically for use with numeric values and may reject\n",
      "        non-numeric types.\n",
      "    \n",
      "    radians(x, /)\n",
      "        Convert angle x from degrees to radians.\n",
      "    \n",
      "    remainder(x, y, /)\n",
      "        Difference between x and the closest integer multiple of y.\n",
      "        \n",
      "        Return x - n*y where n*y is the closest integer multiple of y.\n",
      "        In the case where x is exactly halfway between two multiples of\n",
      "        y, the nearest even value of n is used. The result is always exact.\n",
      "    \n",
      "    sin(x, /)\n",
      "        Return the sine of x (measured in radians).\n",
      "    \n",
      "    sinh(x, /)\n",
      "        Return the hyperbolic sine of x.\n",
      "    \n",
      "    sqrt(x, /)\n",
      "        Return the square root of x.\n",
      "    \n",
      "    tan(x, /)\n",
      "        Return the tangent of x (measured in radians).\n",
      "    \n",
      "    tanh(x, /)\n",
      "        Return the hyperbolic tangent of x.\n",
      "    \n",
      "    trunc(x, /)\n",
      "        Truncates the Real x to the nearest Integral toward 0.\n",
      "        \n",
      "        Uses the __trunc__ magic method.\n",
      "\n",
      "DATA\n",
      "    e = 2.718281828459045\n",
      "    inf = inf\n",
      "    nan = nan\n",
      "    pi = 3.141592653589793\n",
      "    tau = 6.283185307179586\n",
      "\n",
      "FILE\n",
      "    /Users/mnikifor/opt/anaconda3/lib/python3.8/lib-dynload/math.cpython-38-darwin.so\n",
      "\n",
      "\n"
     ]
    }
   ],
   "source": [
    "help(math)"
   ]
  },
  {
   "cell_type": "markdown",
   "id": "a325ce50-6277-4dc5-8aad-534713d472c2",
   "metadata": {},
   "source": [
    "Calling functions directly will not work."
   ]
  },
  {
   "cell_type": "code",
   "execution_count": 3,
   "id": "10630357-2e50-489d-81c5-a5538456a5e6",
   "metadata": {},
   "outputs": [
    {
     "ename": "NameError",
     "evalue": "name 'sqrt' is not defined",
     "output_type": "error",
     "traceback": [
      "\u001b[0;31m---------------------------------------------------------------------------\u001b[0m",
      "\u001b[0;31mNameError\u001b[0m                                 Traceback (most recent call last)",
      "\u001b[0;32m/var/folders/tt/0c52n6v91jv0np5kcxrr9pzm0000gn/T/ipykernel_8515/3918740153.py\u001b[0m in \u001b[0;36m<module>\u001b[0;34m\u001b[0m\n\u001b[0;32m----> 1\u001b[0;31m \u001b[0msqrt\u001b[0m\u001b[0;34m(\u001b[0m\u001b[0;36m9\u001b[0m\u001b[0;34m)\u001b[0m\u001b[0;34m\u001b[0m\u001b[0;34m\u001b[0m\u001b[0m\n\u001b[0m",
      "\u001b[0;31mNameError\u001b[0m: name 'sqrt' is not defined"
     ]
    }
   ],
   "source": [
    "sqrt(9)"
   ]
  },
  {
   "cell_type": "markdown",
   "id": "9b32d934-81e8-4aa3-a563-aed64781b0cc",
   "metadata": {},
   "source": [
    "Instead, if we're importing `math`, we need to reference the module first."
   ]
  },
  {
   "cell_type": "code",
   "execution_count": 4,
   "id": "82b0e2c7-7eb3-4fc1-be2a-03935662408b",
   "metadata": {},
   "outputs": [
    {
     "data": {
      "text/plain": [
       "3.0"
      ]
     },
     "execution_count": 4,
     "metadata": {},
     "output_type": "execute_result"
    }
   ],
   "source": [
    "import math\n",
    "math.sqrt(9)"
   ]
  },
  {
   "cell_type": "code",
   "execution_count": 6,
   "id": "e33b538a-7f88-48f0-8521-a863c9566d9a",
   "metadata": {},
   "outputs": [
    {
     "data": {
      "text/plain": [
       "120"
      ]
     },
     "execution_count": 6,
     "metadata": {},
     "output_type": "execute_result"
    }
   ],
   "source": [
    "math.factorial(5)"
   ]
  },
  {
   "cell_type": "markdown",
   "id": "a68e7cf9-4f49-44c0-87b8-811f04cb3bdd",
   "metadata": {},
   "source": [
    "The `math` module allows us to perform common statistical computations, such as finding the value of a normal distribution PDF at 1. \n",
    "\n",
    "$$f(1; u=0, \\sigma = 1) = \\frac{1}{2\\pi}exp^{-\\frac{1}{2}(1-0)^2}$$\n",
    "\n",
    "We can evaluate this normal distribution PDF expression using"
   ]
  },
  {
   "cell_type": "code",
   "execution_count": 7,
   "id": "017b22d1-04d7-4487-81bb-b4e01352987a",
   "metadata": {},
   "outputs": [
    {
     "data": {
      "text/plain": [
       "0.24197072451914337"
      ]
     },
     "execution_count": 7,
     "metadata": {},
     "output_type": "execute_result"
    }
   ],
   "source": [
    "(1.0/math.sqrt(2*math.pi))*math.exp(-0.5*(1 - 0.0)**2)"
   ]
  },
  {
   "cell_type": "markdown",
   "id": "4396e61b-73c8-499a-9caa-23d19e087a6c",
   "metadata": {},
   "source": [
    "We won't actually do this because `scipy` has functions to do this for us."
   ]
  },
  {
   "cell_type": "markdown",
   "id": "65d81342-31bb-4974-b688-af27ecd24327",
   "metadata": {},
   "source": [
    "There are also a variety of mathematical constants."
   ]
  },
  {
   "cell_type": "code",
   "execution_count": 8,
   "id": "467449a5-548c-4ac1-8dea-4817ab100ec2",
   "metadata": {},
   "outputs": [
    {
     "data": {
      "text/plain": [
       "2.718281828459045"
      ]
     },
     "execution_count": 8,
     "metadata": {},
     "output_type": "execute_result"
    }
   ],
   "source": [
    "import math\n",
    "math.e"
   ]
  },
  {
   "cell_type": "code",
   "execution_count": 9,
   "id": "f2c2d4a8-0bd4-4bd3-9449-84d0723b3dc2",
   "metadata": {},
   "outputs": [
    {
     "data": {
      "text/plain": [
       "3.141592653589793"
      ]
     },
     "execution_count": 9,
     "metadata": {},
     "output_type": "execute_result"
    }
   ],
   "source": [
    "math.pi"
   ]
  },
  {
   "cell_type": "code",
   "execution_count": 10,
   "id": "8fa9d83a-6631-436f-8be1-c99a60cba7d7",
   "metadata": {},
   "outputs": [],
   "source": [
    "radius = 5"
   ]
  },
  {
   "cell_type": "code",
   "execution_count": 11,
   "id": "9495f03a-eed6-47e8-8c01-5351461c37c7",
   "metadata": {},
   "outputs": [
    {
     "name": "stdout",
     "output_type": "stream",
     "text": [
      "The area is 78.53981633974483\n"
     ]
    }
   ],
   "source": [
    "print('The area is', math.pi*radius**2)"
   ]
  },
  {
   "cell_type": "markdown",
   "id": "7096c756-807a-4f3e-befd-a9b5c702bc11",
   "metadata": {},
   "source": [
    "We'll occasionally deal with random sampling, so the `random` module gives us functionality to do so!"
   ]
  },
  {
   "cell_type": "code",
   "execution_count": 15,
   "id": "4986dbcd-c833-41ed-a32b-8327e0d6a721",
   "metadata": {
    "tags": []
   },
   "outputs": [
    {
     "data": {
      "text/plain": [
       "0.5714025946899135"
      ]
     },
     "execution_count": 15,
     "metadata": {},
     "output_type": "execute_result"
    }
   ],
   "source": [
    "import random\n",
    "\n",
    "# Set seed for reproducibility of our random number generation\n",
    "random.seed(10)\n",
    "random.random()"
   ]
  },
  {
   "cell_type": "code",
   "execution_count": 16,
   "id": "b6084016-7f51-4063-bb9e-6acc84b84247",
   "metadata": {},
   "outputs": [
    {
     "data": {
      "text/plain": [
       "0.4288890546751146"
      ]
     },
     "execution_count": 16,
     "metadata": {},
     "output_type": "execute_result"
    }
   ],
   "source": [
    "random.random()"
   ]
  },
  {
   "cell_type": "markdown",
   "id": "478d74bd-99e8-40c3-9006-f5ee092df193",
   "metadata": {},
   "source": [
    "We can obtain random integers between 10 and 25 using"
   ]
  },
  {
   "cell_type": "code",
   "execution_count": 17,
   "id": "cba0a532-da4c-4203-87f6-dc28776c53e9",
   "metadata": {},
   "outputs": [
    {
     "data": {
      "text/plain": [
       "[19, 10, 13, 17]"
      ]
     },
     "execution_count": 17,
     "metadata": {},
     "output_type": "execute_result"
    }
   ],
   "source": [
    "random.sample(range(10, 25), 4)"
   ]
  },
  {
   "cell_type": "markdown",
   "id": "17a5c0d1-96c3-4571-a29c-f62c2844175c",
   "metadata": {},
   "source": [
    "We can also import with a different name for brevity."
   ]
  },
  {
   "cell_type": "code",
   "execution_count": 18,
   "id": "257565b9-80a7-4711-8b05-61b0d9ae25bd",
   "metadata": {},
   "outputs": [
    {
     "data": {
      "text/plain": [
       "0.5714025946899135"
      ]
     },
     "execution_count": 18,
     "metadata": {},
     "output_type": "execute_result"
    }
   ],
   "source": [
    "import random as ran\n",
    "ran.seed(10)\n",
    "ran.random()"
   ]
  },
  {
   "cell_type": "code",
   "execution_count": 19,
   "id": "cf0e03b2-28fa-4e4e-b75b-c7aec3d28654",
   "metadata": {},
   "outputs": [
    {
     "data": {
      "text/plain": [
       "0.4288890546751146"
      ]
     },
     "execution_count": 19,
     "metadata": {},
     "output_type": "execute_result"
    }
   ],
   "source": [
    "ran.random()"
   ]
  },
  {
   "cell_type": "code",
   "execution_count": 21,
   "id": "d2ba11e2-9a28-485e-a4df-e92117f877df",
   "metadata": {},
   "outputs": [
    {
     "data": {
      "text/plain": [
       "[10, 13, 17, 23]"
      ]
     },
     "execution_count": 21,
     "metadata": {},
     "output_type": "execute_result"
    }
   ],
   "source": [
    "ran.sample(range(10, 26), 4)"
   ]
  },
  {
   "cell_type": "markdown",
   "id": "b92449af-4761-4fb2-a20f-8a2410ae0b57",
   "metadata": {},
   "source": [
    "To selectively import functions and variables from a module, use the `from` statement."
   ]
  },
  {
   "cell_type": "code",
   "execution_count": 22,
   "id": "105433d6-fcb9-4f88-8f2a-8450f97f7b78",
   "metadata": {},
   "outputs": [
    {
     "data": {
      "text/plain": [
       "3.0"
      ]
     },
     "execution_count": 22,
     "metadata": {},
     "output_type": "execute_result"
    }
   ],
   "source": [
    "from math import sqrt, pi\n",
    "sqrt(9)"
   ]
  },
  {
   "cell_type": "code",
   "execution_count": 23,
   "id": "12f6a0f7-58d3-485b-ad78-99ff28baa8fb",
   "metadata": {},
   "outputs": [
    {
     "data": {
      "text/plain": [
       "3.141592653589793"
      ]
     },
     "execution_count": 23,
     "metadata": {},
     "output_type": "execute_result"
    }
   ],
   "source": [
    "pi"
   ]
  },
  {
   "cell_type": "markdown",
   "id": "ebc1120f-1362-4080-90ad-0d570fb80f50",
   "metadata": {},
   "source": [
    "To import everything from a module into the current namespace, use `*`. However, this can make your namespace crowded, or it may overwrite something unintentionally. "
   ]
  },
  {
   "cell_type": "code",
   "execution_count": 24,
   "id": "089705a6-daa9-4c41-8754-46b7e8afb5fb",
   "metadata": {},
   "outputs": [],
   "source": [
    "from math import *"
   ]
  },
  {
   "cell_type": "markdown",
   "id": "356cd150-c7ab-4075-8b6f-3793bf35c6f3",
   "metadata": {},
   "source": [
    "If you intend to use a function often, you can assign it to a local machine."
   ]
  },
  {
   "cell_type": "code",
   "execution_count": 25,
   "id": "8495c493-6f08-400c-8c07-2fc31824e851",
   "metadata": {},
   "outputs": [
    {
     "data": {
      "text/plain": [
       "0.8235888725334455"
      ]
     },
     "execution_count": 25,
     "metadata": {},
     "output_type": "execute_result"
    }
   ],
   "source": [
    "sample = random.random\n",
    "sample()"
   ]
  },
  {
   "cell_type": "markdown",
   "id": "15dafe19-afeb-4066-afc8-05b66b84e982",
   "metadata": {},
   "source": [
    "To see which modules we have installed, we can run"
   ]
  },
  {
   "cell_type": "code",
   "execution_count": 26,
   "id": "98dfe60b-7dbe-4753-82cf-8e3ff6a2abcb",
   "metadata": {
    "collapsed": true,
    "jupyter": {
     "outputs_hidden": true
    },
    "tags": []
   },
   "outputs": [
    {
     "name": "stdout",
     "output_type": "stream",
     "text": [
      "Package                            Version\n",
      "---------------------------------- ---------\n",
      "alabaster                          0.7.12\n",
      "anaconda-client                    1.7.2\n",
      "anaconda-navigator                 2.0.4\n",
      "anaconda-project                   0.10.1\n",
      "anyio                              3.3.0\n",
      "appdirs                            1.4.4\n",
      "applaunchservices                  0.2.1\n",
      "appnope                            0.1.2\n",
      "appscript                          1.1.2\n",
      "argh                               0.26.2\n",
      "argon2-cffi                        20.1.0\n",
      "arrow                              1.1.1\n",
      "asn1crypto                         1.4.0\n",
      "astroid                            2.8.0\n",
      "astropy                            4.3.1\n",
      "async-generator                    1.10\n",
      "atomicwrites                       1.4.0\n",
      "attrs                              21.2.0\n",
      "autopep8                           1.5.5\n",
      "Babel                              2.9.1\n",
      "backcall                           0.2.0\n",
      "backports.functools-lru-cache      1.6.4\n",
      "backports.shutil-get-terminal-size 1.0.0\n",
      "beakerx                            2.3.8\n",
      "beakerx-base                       2.0.1\n",
      "beautifulsoup4                     4.10.0\n",
      "bibtexparser                       1.2.0\n",
      "binaryornot                        0.4.4\n",
      "bitarray                           2.3.4\n",
      "bkcharts                           0.2\n",
      "black                              21.9b0\n",
      "bleach                             4.1.0\n",
      "bokeh                              2.3.3\n",
      "boto                               2.49.0\n",
      "bottle                             0.12.19\n",
      "Bottleneck                         1.3.2\n",
      "brotlipy                           0.7.0\n",
      "certifi                            2021.5.30\n",
      "cffi                               1.14.6\n",
      "chardet                            4.0.0\n",
      "charset-normalizer                 2.0.0\n",
      "click                              8.0.1\n",
      "cloudpickle                        2.0.0\n",
      "clyent                             1.2.2\n",
      "colorama                           0.4.4\n",
      "conda                              4.10.3\n",
      "conda-build                        3.21.4\n",
      "conda-content-trust                0.1.3\n",
      "conda-pack                         0.6.0\n",
      "conda-package-handling             1.7.3\n",
      "conda-repo-cli                     1.0.4\n",
      "conda-token                        0.3.0\n",
      "conda-verify                       3.1.1\n",
      "contextlib2                        21.6.0\n",
      "cookiecutter                       1.6.0\n",
      "cryptography                       3.4.7\n",
      "cycler                             0.10.0\n",
      "Cython                             0.29.24\n",
      "cytoolz                            0.11.0\n",
      "dask                               2021.9.0\n",
      "databricks-cli                     0.16.2\n",
      "dataclasses                        0.8\n",
      "debugpy                            1.4.1\n",
      "decorator                          4.4.2\n",
      "defusedxml                         0.7.1\n",
      "diff-match-patch                   20200713\n",
      "distributed                        2021.9.0\n",
      "docutils                           0.17.1\n",
      "doi2bib                            0.4.0\n",
      "entrypoints                        0.3\n",
      "et-xmlfile                         1.0.1\n",
      "fastcache                          1.1.0\n",
      "filelock                           3.0.12\n",
      "flake8                             3.8.4\n",
      "Flask                              2.0.1\n",
      "fsspec                             2021.8.1\n",
      "future                             0.18.2\n",
      "gevent                             21.8.0\n",
      "gitdb                              4.0.9\n",
      "GitPython                          3.1.24\n",
      "glob2                              0.7\n",
      "gmpy2                              2.1.0b5\n",
      "greenlet                           1.1.1\n",
      "h5py                               2.10.0\n",
      "HeapDict                           1.0.1\n",
      "html5lib                           1.1\n",
      "idna                               3.1\n",
      "imagecodecs                        2021.7.30\n",
      "imageio                            2.9.0\n",
      "imagesize                          1.2.0\n",
      "importlib-metadata                 4.8.1\n",
      "inflection                         0.5.1\n",
      "iniconfig                          1.1.1\n",
      "intervaltree                       3.0.2\n",
      "ipykernel                          6.4.1\n",
      "ipython                            7.27.0\n",
      "ipython-genutils                   0.2.0\n",
      "ipywidgets                         7.6.5\n",
      "isort                              5.9.3\n",
      "itsdangerous                       2.0.1\n",
      "jdcal                              1.4.1\n",
      "jedi                               0.17.2\n",
      "Jinja2                             3.0.1\n",
      "jinja2-time                        0.2.0\n",
      "joblib                             1.0.1\n",
      "json5                              0.9.5\n",
      "jsonschema                         3.2.0\n",
      "jupyter                            1.0.0\n",
      "jupyter-client                     7.0.3\n",
      "jupyter-console                    6.4.0\n",
      "jupyter-core                       4.8.1\n",
      "jupyter-server                     1.11.0\n",
      "jupyter-server-mathjax             0.2.3\n",
      "jupyterlab                         3.1.12\n",
      "jupyterlab-pygments                0.1.2\n",
      "jupyterlab-server                  2.8.1\n",
      "jupyterlab-spellchecker            0.7.2\n",
      "jupyterlab-widgets                 1.0.2\n",
      "keyring                            23.2.1\n",
      "kiwisolver                         1.3.2\n",
      "lazy-object-proxy                  1.6.0\n",
      "libarchive-c                       3.1\n",
      "llvmlite                           0.37.0\n",
      "locket                             0.2.0\n",
      "lxml                               4.6.3\n",
      "MarkupSafe                         2.0.1\n",
      "matplotlib                         3.4.3\n",
      "matplotlib-inline                  0.1.3\n",
      "mccabe                             0.6.1\n",
      "mistune                            0.8.4\n",
      "mkl-fft                            1.3.0\n",
      "mkl-random                         1.2.2\n",
      "mkl-service                        2.4.0\n",
      "mock                               4.0.3\n",
      "more-itertools                     8.10.0\n",
      "mpmath                             1.2.1\n",
      "msgpack                            1.0.2\n",
      "multipledispatch                   0.6.0\n",
      "mypy-extensions                    0.4.3\n",
      "navigator-updater                  0.2.1\n",
      "nbclassic                          0.3.2\n",
      "nbclient                           0.5.4\n",
      "nbconvert                          6.1.0\n",
      "nbdime                             3.1.1\n",
      "nbformat                           5.1.3\n",
      "nest-asyncio                       1.5.1\n",
      "networkx                           2.6.3\n",
      "nltk                               3.6.3\n",
      "nose                               1.3.7\n",
      "notebook                           6.4.4\n",
      "numba                              0.54.0\n",
      "numexpr                            2.7.3\n",
      "numpy                              1.20.3\n",
      "numpydoc                           1.1.0\n",
      "olefile                            0.46\n",
      "openpyxl                           3.0.8\n",
      "packaging                          21.0\n",
      "pandas                             1.3.3\n",
      "pandocfilters                      1.5.0\n",
      "parso                              0.7.0\n",
      "partd                              1.2.0\n",
      "path                               16.2.0\n",
      "pathlib2                           2.3.6\n",
      "pathspec                           0.9.0\n",
      "pathtools                          0.1.2\n",
      "patsy                              0.5.1\n",
      "pep8                               1.7.1\n",
      "pexpect                            4.8.0\n",
      "pickleshare                        0.7.5\n",
      "Pillow                             8.3.2\n",
      "pip                                21.3.1\n",
      "pkginfo                            1.7.1\n",
      "platformdirs                       2.3.0\n",
      "pluggy                             1.0.0\n",
      "ply                                3.11\n",
      "pooch                              1.5.1\n",
      "poyo                               0.5.0\n",
      "prometheus-client                  0.11.0\n",
      "prompt-toolkit                     3.0.20\n",
      "psutil                             5.8.0\n",
      "ptyprocess                         0.7.0\n",
      "py                                 1.10.0\n",
      "py4j                               0.10.9.2\n",
      "pycodestyle                        2.6.0\n",
      "pycosat                            0.6.3\n",
      "pycparser                          2.20\n",
      "pycurl                             7.44.1\n",
      "pydocstyle                         6.1.1\n",
      "pyerfa                             2.0.0\n",
      "pyflakes                           2.2.0\n",
      "Pygments                           2.10.0\n",
      "pylint                             2.11.1\n",
      "pyls-black                         0.4.6\n",
      "pyls-spyder                        0.3.2\n",
      "pyodbc                             4.0.32\n",
      "pyOpenSSL                          20.0.1\n",
      "pyparsing                          2.4.7\n",
      "PyQt5                              5.12.3\n",
      "PyQt5_sip                          4.19.18\n",
      "PyQtChart                          5.12\n",
      "PyQtWebEngine                      5.12.1\n",
      "pyrsistent                         0.17.3\n",
      "PySocks                            1.7.1\n",
      "pyspark                            3.2.0\n",
      "pytest                             6.2.5\n",
      "python-dateutil                    2.8.2\n",
      "python-jsonrpc-server              0.4.0\n",
      "python-language-server             0.36.2\n",
      "pytz                               2021.1\n",
      "PyWavelets                         1.1.1\n",
      "PyYAML                             5.4.1\n",
      "pyzmq                              22.3.0\n",
      "QDarkStyle                         3.0.2\n",
      "qstylizer                          0.2.1\n",
      "QtAwesome                          1.0.3\n",
      "qtconsole                          5.1.1\n",
      "QtPy                               1.11.1\n",
      "regex                              2021.8.28\n",
      "requests                           2.26.0\n",
      "requests-unixsocket                0.2.0\n",
      "rope                               0.20.1\n",
      "Rtree                              0.9.7\n",
      "ruamel-yaml-conda                  0.15.80\n",
      "scikit-image                       0.18.3\n",
      "scikit-learn                       0.24.2\n",
      "scipy                              1.7.1\n",
      "seaborn                            0.11.2\n",
      "Send2Trash                         1.8.0\n",
      "setuptools                         58.0.4\n",
      "simplegeneric                      0.8.1\n",
      "singledispatch                     0.0.0\n",
      "sip                                4.19.25\n",
      "six                                1.16.0\n",
      "smmap                              5.0.0\n",
      "sniffio                            1.2.0\n",
      "snowballstemmer                    2.1.0\n",
      "sortedcollections                  2.1.0\n",
      "sortedcontainers                   2.4.0\n",
      "soupsieve                          2.0.1\n",
      "Sphinx                             4.2.0\n",
      "sphinxcontrib-applehelp            1.0.2\n",
      "sphinxcontrib-devhelp              1.0.2\n",
      "sphinxcontrib-htmlhelp             2.0.0\n",
      "sphinxcontrib-jsmath               1.0.1\n",
      "sphinxcontrib-qthelp               1.0.3\n",
      "sphinxcontrib-serializinghtml      1.1.5\n",
      "sphinxcontrib-websupport           1.2.4\n",
      "spyder                             5.0.5\n",
      "spyder-kernels                     2.0.5\n",
      "SQLAlchemy                         1.4.23\n",
      "statsmodels                        0.12.2\n",
      "sympy                              1.8\n",
      "tables                             3.6.1\n",
      "tabulate                           0.8.9\n",
      "tblib                              1.7.0\n",
      "terminado                          0.12.1\n",
      "testpath                           0.5.0\n",
      "textdistance                       4.2.1\n",
      "threadpoolctl                      2.2.0\n",
      "three-merge                        0.1.1\n",
      "tifffile                           2021.8.30\n",
      "tinycss2                           1.1.0\n",
      "toml                               0.10.2\n",
      "tomli                              1.2.1\n",
      "toolz                              0.11.1\n",
      "tornado                            6.1\n",
      "tqdm                               4.62.3\n",
      "traitlets                          5.1.0\n",
      "typed-ast                          1.4.3\n",
      "typing-extensions                  3.10.0.0\n",
      "ujson                              4.1.0\n",
      "unicodecsv                         0.14.1\n",
      "urllib3                            1.26.6\n",
      "watchdog                           2.1.5\n",
      "wcwidth                            0.2.5\n",
      "webencodings                       0.5.1\n",
      "websocket-client                   0.57.0\n",
      "Werkzeug                           2.0.1\n",
      "wheel                              0.37.0\n",
      "whichcraft                         0.6.1\n",
      "widgetsnbextension                 3.5.1\n",
      "wrapt                              1.12.1\n",
      "wurlitzer                          3.0.2\n",
      "xlrd                               2.0.1\n",
      "XlsxWriter                         3.0.1\n",
      "xlwings                            0.24.9\n",
      "xlwt                               1.3.0\n",
      "xmltodict                          0.12.0\n",
      "yapf                               0.31.0\n",
      "zict                               2.0.0\n",
      "zipp                               3.5.0\n",
      "zope.event                         4.5.0\n",
      "zope.interface                     5.4.0\n",
      "Note: you may need to restart the kernel to use updated packages.\n"
     ]
    }
   ],
   "source": [
    "pip list"
   ]
  },
  {
   "cell_type": "markdown",
   "id": "5b61cd48-d551-4dc6-a219-6d323729a709",
   "metadata": {},
   "source": [
    "To install new modules, we can run `pip install module_name`."
   ]
  },
  {
   "cell_type": "code",
   "execution_count": 27,
   "id": "c9a74cc4-6263-4aef-a279-b5c17f4bdab1",
   "metadata": {},
   "outputs": [
    {
     "name": "stdout",
     "output_type": "stream",
     "text": [
      "Requirement already satisfied: scipy in /Users/mnikifor/opt/anaconda3/lib/python3.8/site-packages (1.7.1)\n",
      "Requirement already satisfied: numpy<1.23.0,>=1.16.5 in /Users/mnikifor/opt/anaconda3/lib/python3.8/site-packages (from scipy) (1.20.3)\n",
      "Note: you may need to restart the kernel to use updated packages.\n"
     ]
    }
   ],
   "source": [
    "pip install scipy"
   ]
  },
  {
   "cell_type": "markdown",
   "id": "790e7164-b00f-4304-a0b3-33084a3ef35b",
   "metadata": {},
   "source": [
    "### scipy "
   ]
  },
  {
   "cell_type": "code",
   "execution_count": 28,
   "id": "b80b3f71-c1f3-4367-9f8f-6eab643e8308",
   "metadata": {},
   "outputs": [],
   "source": [
    "# https://scipy.github.io/devdocs/reference/stats.html#module-scipy.stats \n",
    "import scipy.stats"
   ]
  },
  {
   "cell_type": "code",
   "execution_count": 29,
   "id": "f1dffb65-08d2-4f79-b74d-d2f7d89ec679",
   "metadata": {},
   "outputs": [
    {
     "data": {
      "text/plain": [
       "0.24197072451914337"
      ]
     },
     "execution_count": 29,
     "metadata": {},
     "output_type": "execute_result"
    }
   ],
   "source": [
    "# Value of the standard normal PDF at the value of 1\n",
    "# (i.e. height of the bell curve at 1)\n",
    "scipy.stats.norm.pdf(1)"
   ]
  },
  {
   "cell_type": "code",
   "execution_count": 32,
   "id": "7468f872-c2d9-47eb-967a-6ff66bd2e51a",
   "metadata": {},
   "outputs": [],
   "source": [
    "# Shorthand\n",
    "import scipy.stats as stats"
   ]
  },
  {
   "cell_type": "code",
   "execution_count": 31,
   "id": "485d3d20-d5c2-4429-8667-f60a9ff4a6b9",
   "metadata": {},
   "outputs": [
    {
     "data": {
      "text/plain": [
       "0.24197072451914337"
      ]
     },
     "execution_count": 31,
     "metadata": {},
     "output_type": "execute_result"
    }
   ],
   "source": [
    "stats.norm.pdf(1)"
   ]
  },
  {
   "cell_type": "code",
   "execution_count": 35,
   "id": "19f2009e-07d0-4590-a6d1-c9666be19fb3",
   "metadata": {},
   "outputs": [],
   "source": [
    "# We can also import everything, but we may interfere with other functions\n",
    "from scipy.stats import *"
   ]
  },
  {
   "cell_type": "code",
   "execution_count": 34,
   "id": "e71d5ebb-818c-46bc-8b5e-b0600be015ca",
   "metadata": {},
   "outputs": [
    {
     "data": {
      "text/plain": [
       "0.24197072451914337"
      ]
     },
     "execution_count": 34,
     "metadata": {},
     "output_type": "execute_result"
    }
   ],
   "source": [
    "norm.pdf(1)"
   ]
  },
  {
   "cell_type": "code",
   "execution_count": 36,
   "id": "100c1f04-8601-479a-a58b-530eb198f870",
   "metadata": {},
   "outputs": [],
   "source": [
    "from scipy.stats import chi2"
   ]
  },
  {
   "cell_type": "code",
   "execution_count": 39,
   "id": "50fcf615-42b7-4e53-9cb2-a5d07c2229bb",
   "metadata": {},
   "outputs": [
    {
     "data": {
      "text/plain": [
       "0.0007897534631674914"
      ]
     },
     "execution_count": 39,
     "metadata": {},
     "output_type": "execute_result"
    }
   ],
   "source": [
    "# chi-squared with ten degrees of freedom\n",
    "chi2.pdf(1, df = 10)"
   ]
  },
  {
   "cell_type": "markdown",
   "id": "fea07511-94da-48c8-8459-c926a2398a14",
   "metadata": {},
   "source": [
    "### Data types"
   ]
  },
  {
   "cell_type": "markdown",
   "id": "51ac0ad7-af37-4505-b370-cc09bd482d3e",
   "metadata": {},
   "source": [
    "Built-in data types in Python include strings, numeric types, and booleans. There are also **compound** data types including lists, tuples, dictionaries, and sets."
   ]
  },
  {
   "cell_type": "markdown",
   "id": "72eb9c19-e727-46a1-8055-900104484bf0",
   "metadata": {},
   "source": [
    "#### Strings"
   ]
  },
  {
   "cell_type": "markdown",
   "id": "376b0800-32ea-4c2f-ab10-1a6f28f9c7ba",
   "metadata": {},
   "source": [
    "We can cast objects as type _string_ using the `str()` function."
   ]
  },
  {
   "cell_type": "code",
   "execution_count": 41,
   "id": "a42f7cdc-1652-483e-9d39-711e191d4e91",
   "metadata": {},
   "outputs": [
    {
     "data": {
      "text/plain": [
       "'10'"
      ]
     },
     "execution_count": 41,
     "metadata": {},
     "output_type": "execute_result"
    }
   ],
   "source": [
    "x = str(10)\n",
    "x"
   ]
  },
  {
   "cell_type": "markdown",
   "id": "820dbe84-7092-45db-8406-4a62cf3c1c4b",
   "metadata": {},
   "source": [
    "Strings are one of the sequence types in Python, meaning that there is an ordering to the elements. We can use square brackets, `[]`, to access the elements of a sequence object. The first element is indexed by `0`."
   ]
  },
  {
   "cell_type": "code",
   "execution_count": 42,
   "id": "a1ec43df-e3af-4ead-becc-b24ceea842b2",
   "metadata": {},
   "outputs": [
    {
     "data": {
      "text/plain": [
       "'w'"
      ]
     },
     "execution_count": 42,
     "metadata": {},
     "output_type": "execute_result"
    }
   ],
   "source": [
    "my_string = \"wolf pack\"\n",
    "my_string[0]"
   ]
  },
  {
   "cell_type": "code",
   "execution_count": 43,
   "id": "98278140-310f-4d55-90d0-882d65aa66d4",
   "metadata": {},
   "outputs": [
    {
     "data": {
      "text/plain": [
       "'o'"
      ]
     },
     "execution_count": 43,
     "metadata": {},
     "output_type": "execute_result"
    }
   ],
   "source": [
    "my_string[1]"
   ]
  },
  {
   "cell_type": "markdown",
   "id": "692945fb-0986-4eaa-821a-c03d377462ba",
   "metadata": {},
   "source": [
    "We can also count from the back."
   ]
  },
  {
   "cell_type": "code",
   "execution_count": 44,
   "id": "4573bbcf-c608-4315-9ece-787a04321ebe",
   "metadata": {},
   "outputs": [
    {
     "data": {
      "text/plain": [
       "'k'"
      ]
     },
     "execution_count": 44,
     "metadata": {},
     "output_type": "execute_result"
    }
   ],
   "source": [
    "my_string[-1]"
   ]
  },
  {
   "cell_type": "code",
   "execution_count": 45,
   "id": "b0ad0f5a-e54c-4622-b2d4-d5e0a8195668",
   "metadata": {},
   "outputs": [
    {
     "data": {
      "text/plain": [
       "'c'"
      ]
     },
     "execution_count": 45,
     "metadata": {},
     "output_type": "execute_result"
    }
   ],
   "source": [
    "my_string[-2]"
   ]
  },
  {
   "cell_type": "markdown",
   "id": "62f6053e-d955-460e-90a1-7b2f3ad38e0c",
   "metadata": {},
   "source": [
    "For sequence type objects, including strings, we can also return a subset of the sequence."
   ]
  },
  {
   "cell_type": "code",
   "execution_count": 46,
   "id": "f00b9502-88c5-4c76-b307-cc67f5fee551",
   "metadata": {},
   "outputs": [
    {
     "data": {
      "text/plain": [
       "' pack'"
      ]
     },
     "execution_count": 46,
     "metadata": {},
     "output_type": "execute_result"
    }
   ],
   "source": [
    "my_string[4:]"
   ]
  },
  {
   "cell_type": "code",
   "execution_count": 47,
   "id": "394d0fa1-6b3f-44c2-8b7f-695eeded72fd",
   "metadata": {},
   "outputs": [
    {
     "data": {
      "text/plain": [
       "'wol'"
      ]
     },
     "execution_count": 47,
     "metadata": {},
     "output_type": "execute_result"
    }
   ],
   "source": [
    "my_string[:3]"
   ]
  },
  {
   "cell_type": "code",
   "execution_count": 48,
   "id": "54fd42a7-88ef-4d9f-8f4e-b3d92fc0a1c4",
   "metadata": {},
   "outputs": [
    {
     "data": {
      "text/plain": [
       "'f'"
      ]
     },
     "execution_count": 48,
     "metadata": {},
     "output_type": "execute_result"
    }
   ],
   "source": [
    "my_string[3:4]"
   ]
  },
  {
   "cell_type": "code",
   "execution_count": 49,
   "id": "8ea11eaa-2657-4f36-a035-9a57869db452",
   "metadata": {},
   "outputs": [
    {
     "data": {
      "text/plain": [
       "'wolf pack'"
      ]
     },
     "execution_count": 49,
     "metadata": {},
     "output_type": "execute_result"
    }
   ],
   "source": [
    "my_string[:3] + my_string[3:]"
   ]
  },
  {
   "cell_type": "markdown",
   "id": "7f88363f-9e9b-4967-974c-fdd63ca0ac29",
   "metadata": {},
   "source": [
    "**Strings are immutable**, so we _cannot_ use notation such as `my_string[1] = a` to overwrite the value of index 1."
   ]
  },
  {
   "cell_type": "markdown",
   "id": "c1aa3406-6d1e-4af8-b43f-8aa46fad7afa",
   "metadata": {},
   "source": [
    "The `+` operator will concatenate strings."
   ]
  },
  {
   "cell_type": "code",
   "execution_count": 50,
   "id": "e501ca53-ae76-4940-975b-238eb46019fb",
   "metadata": {},
   "outputs": [
    {
     "data": {
      "text/plain": [
       "'wolf pack'"
      ]
     },
     "execution_count": 50,
     "metadata": {},
     "output_type": "execute_result"
    }
   ],
   "source": [
    "'wolf' + ' pack'"
   ]
  },
  {
   "cell_type": "code",
   "execution_count": 54,
   "id": "ad4e101b-7d32-4ef2-98b6-58d26686a0e9",
   "metadata": {},
   "outputs": [
    {
     "data": {
      "text/plain": [
       "'wolf pack is cool'"
      ]
     },
     "execution_count": 54,
     "metadata": {},
     "output_type": "execute_result"
    }
   ],
   "source": [
    "'wolf' + ' pack' + ' is' + ' cool'"
   ]
  },
  {
   "cell_type": "code",
   "execution_count": 55,
   "id": "7c2baa7b-118e-4472-ab7b-97f0a0a86c5f",
   "metadata": {},
   "outputs": [
    {
     "data": {
      "text/plain": [
       "'wolf pack'"
      ]
     },
     "execution_count": 55,
     "metadata": {},
     "output_type": "execute_result"
    }
   ],
   "source": [
    "x = 'wolf'\n",
    "x + ' pack'"
   ]
  },
  {
   "cell_type": "markdown",
   "id": "2b18defa-9ca3-4acb-897a-c8c8bda76c49",
   "metadata": {},
   "source": [
    "String literals next to each other are automatically concatenated."
   ]
  },
  {
   "cell_type": "code",
   "execution_count": 52,
   "id": "e3030da5-0e4b-48e8-bf3a-d3746000f278",
   "metadata": {},
   "outputs": [
    {
     "data": {
      "text/plain": [
       "'wolf pack'"
      ]
     },
     "execution_count": 52,
     "metadata": {},
     "output_type": "execute_result"
    }
   ],
   "source": [
    "'wolf' ' pack'"
   ]
  },
  {
   "cell_type": "code",
   "execution_count": 53,
   "id": "b37e1f91-63d0-48cb-b1b5-b539c260f3e3",
   "metadata": {},
   "outputs": [
    {
     "data": {
      "text/plain": [
       "'wolf pack is cool'"
      ]
     },
     "execution_count": 53,
     "metadata": {},
     "output_type": "execute_result"
    }
   ],
   "source": [
    "'wolf' ' pack' ' is' ' cool'"
   ]
  },
  {
   "cell_type": "markdown",
   "id": "b6d481e8-8c31-4f5a-97b4-502da88be4ab",
   "metadata": {},
   "source": [
    "Python _will not_ implicitly coerce for you. That is, if we try to combine a string and an integer, it will not work."
   ]
  },
  {
   "cell_type": "code",
   "execution_count": 56,
   "id": "4dcf069a-5e49-4940-b0ed-e6a79e13d4b7",
   "metadata": {},
   "outputs": [
    {
     "ename": "TypeError",
     "evalue": "can only concatenate str (not \"int\") to str",
     "output_type": "error",
     "traceback": [
      "\u001b[0;31m---------------------------------------------------------------------------\u001b[0m",
      "\u001b[0;31mTypeError\u001b[0m                                 Traceback (most recent call last)",
      "\u001b[0;32m/var/folders/tt/0c52n6v91jv0np5kcxrr9pzm0000gn/T/ipykernel_8515/2635342975.py\u001b[0m in \u001b[0;36m<module>\u001b[0;34m\u001b[0m\n\u001b[0;32m----> 1\u001b[0;31m \u001b[0;34m'wolfpack'\u001b[0m \u001b[0;34m+\u001b[0m \u001b[0;36m2\u001b[0m\u001b[0;34m\u001b[0m\u001b[0;34m\u001b[0m\u001b[0m\n\u001b[0m",
      "\u001b[0;31mTypeError\u001b[0m: can only concatenate str (not \"int\") to str"
     ]
    }
   ],
   "source": [
    "'wolfpack' + 2"
   ]
  },
  {
   "cell_type": "markdown",
   "id": "95d717e5-dfae-4b53-b260-802cafda6bad",
   "metadata": {},
   "source": [
    "We can, however, cast."
   ]
  },
  {
   "cell_type": "code",
   "execution_count": 57,
   "id": "84ca6bb1-e299-4932-a863-635eed9bd458",
   "metadata": {},
   "outputs": [
    {
     "data": {
      "text/plain": [
       "'Four score and 7 years ago'"
      ]
     },
     "execution_count": 57,
     "metadata": {},
     "output_type": "execute_result"
    }
   ],
   "source": [
    "'Four score and ' + str(7) + ' years ago'"
   ]
  },
  {
   "cell_type": "markdown",
   "id": "766180e4-2a6b-49a4-a333-ab6213b80e59",
   "metadata": {},
   "source": [
    "We can also repeat strings with the `*` operator and an integer."
   ]
  },
  {
   "cell_type": "code",
   "execution_count": 59,
   "id": "5fb546a8-069f-459c-ab2f-2aed2ad9ce5e",
   "metadata": {},
   "outputs": [
    {
     "data": {
      "text/plain": [
       "'go pack go pack go pack '"
      ]
     },
     "execution_count": 59,
     "metadata": {},
     "output_type": "execute_result"
    }
   ],
   "source": [
    "'go pack ' * 3"
   ]
  },
  {
   "cell_type": "code",
   "execution_count": 60,
   "id": "a840afea-8bbe-4f43-a081-f3da57621ac7",
   "metadata": {},
   "outputs": [
    {
     "data": {
      "text/plain": [
       "''"
      ]
     },
     "execution_count": 60,
     "metadata": {},
     "output_type": "execute_result"
    }
   ],
   "source": [
    "'go pack ' * 0"
   ]
  },
  {
   "cell_type": "code",
   "execution_count": 61,
   "id": "3af844d0-5f06-402a-8ed6-69af138d3d4a",
   "metadata": {},
   "outputs": [
    {
     "data": {
      "text/plain": [
       "''"
      ]
     },
     "execution_count": 61,
     "metadata": {},
     "output_type": "execute_result"
    }
   ],
   "source": [
    "'go pack ' * -5"
   ]
  },
  {
   "cell_type": "markdown",
   "id": "1c3c7e5a-e2da-4184-98b6-10ba99a337cf",
   "metadata": {},
   "source": [
    "##### String functions"
   ]
  },
  {
   "cell_type": "markdown",
   "id": "2e0096e7-24eb-40ba-9e0f-31cc87ae314d",
   "metadata": {},
   "source": [
    "We have `len()` to return the number of characters and `sorted()` to return sorted values as a **list**."
   ]
  },
  {
   "cell_type": "code",
   "execution_count": 62,
   "id": "2033274e-2e5e-4e80-b3bc-4a1e03065357",
   "metadata": {},
   "outputs": [
    {
     "data": {
      "text/plain": [
       "9"
      ]
     },
     "execution_count": 62,
     "metadata": {},
     "output_type": "execute_result"
    }
   ],
   "source": [
    "len('wolf pack')"
   ]
  },
  {
   "cell_type": "code",
   "execution_count": 63,
   "id": "628446e5-90cf-45e7-b6d3-20767fb16628",
   "metadata": {},
   "outputs": [
    {
     "data": {
      "text/plain": [
       "4"
      ]
     },
     "execution_count": 63,
     "metadata": {},
     "output_type": "execute_result"
    }
   ],
   "source": [
    "len('241!')"
   ]
  },
  {
   "cell_type": "code",
   "execution_count": 64,
   "id": "27a66a57-71d6-422d-8a12-3d12b75f1dfa",
   "metadata": {},
   "outputs": [
    {
     "data": {
      "text/plain": [
       "1"
      ]
     },
     "execution_count": 64,
     "metadata": {},
     "output_type": "execute_result"
    }
   ],
   "source": [
    "len(' ')"
   ]
  },
  {
   "cell_type": "code",
   "execution_count": 65,
   "id": "d681b773-aa8f-4994-b38d-436076a2e575",
   "metadata": {},
   "outputs": [
    {
     "data": {
      "text/plain": [
       "0"
      ]
     },
     "execution_count": 65,
     "metadata": {},
     "output_type": "execute_result"
    }
   ],
   "source": [
    "len(\"\")"
   ]
  },
  {
   "cell_type": "code",
   "execution_count": 67,
   "id": "d889445c-7163-4adc-807a-c5165ca4f9c6",
   "metadata": {},
   "outputs": [
    {
     "data": {
      "text/plain": [
       "[' ', 'a', 'c', 'f', 'k', 'l', 'o', 'p', 'w']"
      ]
     },
     "execution_count": 67,
     "metadata": {},
     "output_type": "execute_result"
    }
   ],
   "source": [
    "# Returns a list\n",
    "sorted(\"wolf pack\")"
   ]
  },
  {
   "cell_type": "markdown",
   "id": "7d2062e5-9b5a-4a76-a0c3-096318e26da3",
   "metadata": {},
   "source": [
    "There are many methods for handling strings."
   ]
  },
  {
   "cell_type": "code",
   "execution_count": 72,
   "id": "1ecae3e7-5bf6-45c7-acfb-24e0c2965252",
   "metadata": {},
   "outputs": [
    {
     "data": {
      "text/plain": [
       "'   WOLF PACK   '"
      ]
     },
     "execution_count": 72,
     "metadata": {},
     "output_type": "execute_result"
    }
   ],
   "source": [
    "my_string = '   wolf pack   '\n",
    "\n",
    "# This does not overwrite in place\n",
    "my_string.upper()"
   ]
  },
  {
   "cell_type": "code",
   "execution_count": 69,
   "id": "004db998-89cd-48ea-9df3-416db4f612f4",
   "metadata": {},
   "outputs": [
    {
     "data": {
      "text/plain": [
       "'   wolf pack   '"
      ]
     },
     "execution_count": 69,
     "metadata": {},
     "output_type": "execute_result"
    }
   ],
   "source": [
    "my_string"
   ]
  },
  {
   "cell_type": "code",
   "execution_count": 70,
   "id": "fbd6b2ca-4755-4f93-a515-3c65cd323d6f",
   "metadata": {},
   "outputs": [
    {
     "data": {
      "text/plain": [
       "'wolf pack'"
      ]
     },
     "execution_count": 70,
     "metadata": {},
     "output_type": "execute_result"
    }
   ],
   "source": [
    "my_string.strip()"
   ]
  },
  {
   "cell_type": "code",
   "execution_count": 73,
   "id": "b03205fb-867a-41f3-8c48-aac5b251033d",
   "metadata": {},
   "outputs": [
    {
     "data": {
      "text/plain": [
       "'   wolf peck   '"
      ]
     },
     "execution_count": 73,
     "metadata": {},
     "output_type": "execute_result"
    }
   ],
   "source": [
    "my_string.replace(\"a\", \"e\")"
   ]
  },
  {
   "cell_type": "code",
   "execution_count": 74,
   "id": "a0a3050c-1100-4e50-bab6-ebac6ccfd6ac",
   "metadata": {},
   "outputs": [
    {
     "data": {
      "text/plain": [
       "['', '', '', 'wolf', 'pack', '', '', '']"
      ]
     },
     "execution_count": 74,
     "metadata": {},
     "output_type": "execute_result"
    }
   ],
   "source": [
    "my_string.split(\" \")"
   ]
  },
  {
   "cell_type": "code",
   "execution_count": 75,
   "id": "0a83ef3d-8c5b-4516-8b37-ce5d6eef96b3",
   "metadata": {},
   "outputs": [
    {
     "data": {
      "text/plain": [
       "['wolf', 'pack']"
      ]
     },
     "execution_count": 75,
     "metadata": {},
     "output_type": "execute_result"
    }
   ],
   "source": [
    "my_string.strip().split(\" \")"
   ]
  },
  {
   "cell_type": "markdown",
   "id": "8eacda83-2d18-43e7-a20c-8c508193e734",
   "metadata": {},
   "source": [
    "We can use the `format()` method to insert numbers into strings."
   ]
  },
  {
   "cell_type": "code",
   "execution_count": 77,
   "id": "276a800d-f313-483c-9a33-af0d63961d75",
   "metadata": {},
   "outputs": [
    {
     "name": "stdout",
     "output_type": "stream",
     "text": [
      "I have 3 years of experience and would like a salary of 100000\n"
     ]
    }
   ],
   "source": [
    "years = 3\n",
    "salary = 100000\n",
    "myorder = \"I have {1} years of experience and would like a salary of {0}\"\n",
    "print(myorder.format(salary, years))"
   ]
  },
  {
   "cell_type": "markdown",
   "id": "5455fafa-85b1-42f5-b93c-66face5a27e3",
   "metadata": {},
   "source": [
    "We don't need the numbers, but then the order in which we position matters."
   ]
  },
  {
   "cell_type": "code",
   "execution_count": 78,
   "id": "14ef221e-84c7-4b56-a21f-4a4df48aa1f4",
   "metadata": {},
   "outputs": [
    {
     "name": "stdout",
     "output_type": "stream",
     "text": [
      "I have 3 years of experience and would like a salary of 100000\n"
     ]
    }
   ],
   "source": [
    "myorder = \"I have {} years of experience and would like a salary of {}\"\n",
    "print(myorder.format(years, salary))"
   ]
  },
  {
   "cell_type": "code",
   "execution_count": 79,
   "id": "88bc3e58-a376-4a1d-99b4-4e1db37cc0b2",
   "metadata": {},
   "outputs": [
    {
     "data": {
      "text/plain": [
       "'The probability of being less than or equal to 2 for a normal distribution with a mean 4 and a standard devation 1 is ...'"
      ]
     },
     "execution_count": 79,
     "metadata": {},
     "output_type": "execute_result"
    }
   ],
   "source": [
    "\"The probability of being less than or equal to 2 for a normal distribution with a mean 4 and a standard devation 1 is ...\""
   ]
  },
  {
   "cell_type": "code",
   "execution_count": 80,
   "id": "771a4474-2761-4a0e-82a4-1e1bce072919",
   "metadata": {},
   "outputs": [],
   "source": [
    "sentence = \"The probability of being less than or equal to {0} for a normal distribution with a mean {1} and a standard devation {2} is {3}\""
   ]
  },
  {
   "cell_type": "code",
   "execution_count": 81,
   "id": "c1fdb7c7-70fe-4285-ae5d-0035ca1516b3",
   "metadata": {},
   "outputs": [
    {
     "name": "stdout",
     "output_type": "stream",
     "text": [
      "The probability of being less than or equal to {0} for a normal distribution with a mean {1} and a standard devation {2} is {3}\n"
     ]
    }
   ],
   "source": [
    "print(sentence)"
   ]
  },
  {
   "cell_type": "code",
   "execution_count": 82,
   "id": "b2518fcf-1e7e-4ba1-b5a4-e8202b54fb19",
   "metadata": {},
   "outputs": [
    {
     "name": "stdout",
     "output_type": "stream",
     "text": [
      "The probability of being less than or equal to 1 for a normal distribution with a mean 2 and a standard devation 3 is 4\n"
     ]
    }
   ],
   "source": [
    "print(sentence.format(1, 2, 3, 4))"
   ]
  },
  {
   "cell_type": "code",
   "execution_count": 84,
   "id": "0131fab3-e212-4cca-9ff8-43e22454f082",
   "metadata": {},
   "outputs": [
    {
     "data": {
      "text/plain": [
       "0.6305586598182363"
      ]
     },
     "execution_count": 84,
     "metadata": {},
     "output_type": "execute_result"
    }
   ],
   "source": [
    "# Cumulative probability of being 2 or less for a normal distribution of mean = 1 and standard deviation = 3\n",
    "norm.cdf(2, loc = 1, scale = 3)"
   ]
  },
  {
   "cell_type": "code",
   "execution_count": 85,
   "id": "ca510354-f683-420c-a158-70165db94b81",
   "metadata": {},
   "outputs": [
    {
     "name": "stdout",
     "output_type": "stream",
     "text": [
      "The probability of being less than or equal to 2 for a normal distribution with a mean 1 and a standard devation 3 is 0.6305586598182363\n"
     ]
    }
   ],
   "source": [
    "x = 2\n",
    "mean = 1\n",
    "sd = 3\n",
    "print(sentence.format(x, mean, sd, norm.cdf(x, loc = mean, scale = sd)))"
   ]
  },
  {
   "cell_type": "markdown",
   "id": "91169c8b-a24e-4fd0-8e9b-e513c439d7c5",
   "metadata": {},
   "source": [
    "#### Numeric types (integers and floats) and booleans"
   ]
  },
  {
   "cell_type": "markdown",
   "id": "3c33096b-33d5-448c-810d-910d474d2531",
   "metadata": {},
   "source": [
    "With Python, we generally do not need to specify whether a number is an integer or a float. The programs figures it out for us."
   ]
  },
  {
   "cell_type": "code",
   "execution_count": 86,
   "id": "afa61db9-9309-428a-8ec0-636d7f67a9b6",
   "metadata": {},
   "outputs": [
    {
     "data": {
      "text/plain": [
       "int"
      ]
     },
     "execution_count": 86,
     "metadata": {},
     "output_type": "execute_result"
    }
   ],
   "source": [
    "x = 10\n",
    "type(x)"
   ]
  },
  {
   "cell_type": "code",
   "execution_count": 87,
   "id": "d7194e67-c807-4ec6-8aaa-f3a30ad88b44",
   "metadata": {},
   "outputs": [
    {
     "data": {
      "text/plain": [
       "float"
      ]
     },
     "execution_count": 87,
     "metadata": {},
     "output_type": "execute_result"
    }
   ],
   "source": [
    "y = 10.4\n",
    "type(y)"
   ]
  },
  {
   "cell_type": "code",
   "execution_count": 88,
   "id": "3fa210ab-39c1-4cda-b4a9-8c6e7c07be59",
   "metadata": {},
   "outputs": [
    {
     "data": {
      "text/plain": [
       "10.0"
      ]
     },
     "execution_count": 88,
     "metadata": {},
     "output_type": "execute_result"
    }
   ],
   "source": [
    "z = y - 0.4\n",
    "z"
   ]
  },
  {
   "cell_type": "code",
   "execution_count": 94,
   "id": "84d26218-b36d-4243-ac0c-aa7cf26929a2",
   "metadata": {},
   "outputs": [
    {
     "data": {
      "text/plain": [
       "float"
      ]
     },
     "execution_count": 94,
     "metadata": {},
     "output_type": "execute_result"
    }
   ],
   "source": [
    "type(z)"
   ]
  },
  {
   "cell_type": "markdown",
   "id": "f145c8ec-7dd4-4ebc-bda4-31b4ecfb0910",
   "metadata": {},
   "source": [
    "We can coerce things using `int()` and `float()`. "
   ]
  },
  {
   "cell_type": "code",
   "execution_count": 90,
   "id": "3f1045ca-8629-4e1f-a7a3-8427a619b7d6",
   "metadata": {},
   "outputs": [
    {
     "data": {
      "text/plain": [
       "float"
      ]
     },
     "execution_count": 90,
     "metadata": {},
     "output_type": "execute_result"
    }
   ],
   "source": [
    "x = 10\n",
    "x = float(x)\n",
    "type(x)"
   ]
  },
  {
   "cell_type": "code",
   "execution_count": 92,
   "id": "c74e25c7-07ad-4ffb-8446-e954f2be35f5",
   "metadata": {},
   "outputs": [
    {
     "data": {
      "text/plain": [
       "10"
      ]
     },
     "execution_count": 92,
     "metadata": {},
     "output_type": "execute_result"
    }
   ],
   "source": [
    "# Rounds down when we cast to integer\n",
    "int(10.5)"
   ]
  },
  {
   "cell_type": "code",
   "execution_count": 93,
   "id": "0f6a838f-a93d-4172-a03f-09c34a2e76ff",
   "metadata": {},
   "outputs": [
    {
     "data": {
      "text/plain": [
       "10"
      ]
     },
     "execution_count": 93,
     "metadata": {},
     "output_type": "execute_result"
    }
   ],
   "source": [
    "int(10.7)"
   ]
  },
  {
   "cell_type": "code",
   "execution_count": 95,
   "id": "69f57c67-17aa-482c-b8c7-7c9ae6fdbba6",
   "metadata": {},
   "outputs": [
    {
     "data": {
      "text/plain": [
       "33"
      ]
     },
     "execution_count": 95,
     "metadata": {},
     "output_type": "execute_result"
    }
   ],
   "source": [
    "# floor\n",
    "100 // 3"
   ]
  },
  {
   "cell_type": "code",
   "execution_count": 96,
   "id": "8d9c1be0-85e6-4750-a21a-5553c76ef39f",
   "metadata": {},
   "outputs": [
    {
     "data": {
      "text/plain": [
       "1"
      ]
     },
     "execution_count": 96,
     "metadata": {},
     "output_type": "execute_result"
    }
   ],
   "source": [
    "# modulus\n",
    "100 % 3"
   ]
  },
  {
   "cell_type": "code",
   "execution_count": 97,
   "id": "528b3124-86d9-404e-b0b4-5467045128a3",
   "metadata": {},
   "outputs": [
    {
     "data": {
      "text/plain": [
       "(33, 1)"
      ]
     },
     "execution_count": 97,
     "metadata": {},
     "output_type": "execute_result"
    }
   ],
   "source": [
    "# floor and modulus\n",
    "divmod(100, 3)"
   ]
  },
  {
   "cell_type": "code",
   "execution_count": 98,
   "id": "0ced5108-c05b-434d-a70d-e888f05cc8ff",
   "metadata": {},
   "outputs": [
    {
     "data": {
      "text/plain": [
       "64.0"
      ]
     },
     "execution_count": 98,
     "metadata": {},
     "output_type": "execute_result"
    }
   ],
   "source": [
    "pow(4, 3)"
   ]
  },
  {
   "cell_type": "code",
   "execution_count": 99,
   "id": "265cd0ef-3181-4bd4-8066-bc1cee902423",
   "metadata": {},
   "outputs": [
    {
     "data": {
      "text/plain": [
       "64"
      ]
     },
     "execution_count": 99,
     "metadata": {},
     "output_type": "execute_result"
    }
   ],
   "source": [
    "4**3"
   ]
  },
  {
   "cell_type": "code",
   "execution_count": 100,
   "id": "e0a577cd-edb3-4465-b3d0-4c597b49c180",
   "metadata": {},
   "outputs": [
    {
     "data": {
      "text/plain": [
       "100"
      ]
     },
     "execution_count": 100,
     "metadata": {},
     "output_type": "execute_result"
    }
   ],
   "source": [
    "abs(-100)"
   ]
  },
  {
   "cell_type": "code",
   "execution_count": 103,
   "id": "a81e3b96-dcf5-431f-801a-efddc519386b",
   "metadata": {},
   "outputs": [
    {
     "data": {
      "text/plain": [
       "10"
      ]
     },
     "execution_count": 103,
     "metadata": {},
     "output_type": "execute_result"
    }
   ],
   "source": [
    "round(10.4242)"
   ]
  },
  {
   "cell_type": "markdown",
   "id": "e77a6706-eedb-4a41-af6d-dc8b05048cc4",
   "metadata": {},
   "source": [
    "The `math` module gives us extended functionality."
   ]
  },
  {
   "cell_type": "code",
   "execution_count": 109,
   "id": "85d0b312-db8b-4d59-88a7-179aca3595f2",
   "metadata": {},
   "outputs": [
    {
     "data": {
      "text/plain": [
       "False"
      ]
     },
     "execution_count": 109,
     "metadata": {},
     "output_type": "execute_result"
    }
   ],
   "source": [
    "x = 10.55\n",
    "\n",
    "# Method to return a boolean\n",
    "x.is_integer()"
   ]
  },
  {
   "cell_type": "code",
   "execution_count": 105,
   "id": "e092b9c2-970d-4f15-8507-f942cc46dc5a",
   "metadata": {},
   "outputs": [
    {
     "data": {
      "text/plain": [
       "10"
      ]
     },
     "execution_count": 105,
     "metadata": {},
     "output_type": "execute_result"
    }
   ],
   "source": [
    "import math\n",
    "math.floor(x)"
   ]
  },
  {
   "cell_type": "code",
   "execution_count": 106,
   "id": "b0ec993d-6810-4318-ba82-775bcd8558df",
   "metadata": {},
   "outputs": [
    {
     "data": {
      "text/plain": [
       "11"
      ]
     },
     "execution_count": 106,
     "metadata": {},
     "output_type": "execute_result"
    }
   ],
   "source": [
    "math.ceil(x)"
   ]
  },
  {
   "cell_type": "code",
   "execution_count": 107,
   "id": "efb31e33-6270-46d9-b19c-4ee9aa940e61",
   "metadata": {},
   "outputs": [
    {
     "data": {
      "text/plain": [
       "3628800"
      ]
     },
     "execution_count": 107,
     "metadata": {},
     "output_type": "execute_result"
    }
   ],
   "source": [
    "math.factorial(10)"
   ]
  },
  {
   "cell_type": "markdown",
   "id": "52b6bcc7-fdc4-437e-9e40-e2b7a1bc0a2e",
   "metadata": {},
   "source": [
    "Be aware that floating point variables (floats) are not stored precisely! "
   ]
  },
  {
   "cell_type": "code",
   "execution_count": 110,
   "id": "1fa55bd1-af63-497b-a572-452da3088d06",
   "metadata": {},
   "outputs": [
    {
     "data": {
      "text/plain": [
       "0.19999999999999996"
      ]
     },
     "execution_count": 110,
     "metadata": {},
     "output_type": "execute_result"
    }
   ],
   "source": [
    "1.2-1.0"
   ]
  },
  {
   "cell_type": "markdown",
   "id": "1145feb9-9bd2-4a8e-aab2-7f50145a211e",
   "metadata": {},
   "source": [
    "We also have augmented assignment operators to give us shortcuts for \"quick math\"."
   ]
  },
  {
   "cell_type": "code",
   "execution_count": 111,
   "id": "204874e4-a7a2-4d1c-8ff4-533041ab868f",
   "metadata": {},
   "outputs": [
    {
     "data": {
      "text/plain": [
       "300"
      ]
     },
     "execution_count": 111,
     "metadata": {},
     "output_type": "execute_result"
    }
   ],
   "source": [
    "x = 100\n",
    "x += 200\n",
    "x"
   ]
  },
  {
   "cell_type": "code",
   "execution_count": 112,
   "id": "cc3dff87-ce3e-45e0-8a56-7d7af86fac1b",
   "metadata": {},
   "outputs": [
    {
     "data": {
      "text/plain": [
       "40"
      ]
     },
     "execution_count": 112,
     "metadata": {},
     "output_type": "execute_result"
    }
   ],
   "source": [
    "x = y = z = 40\n",
    "x"
   ]
  },
  {
   "cell_type": "code",
   "execution_count": 113,
   "id": "1506932a-6927-4738-960e-acc519cede39",
   "metadata": {},
   "outputs": [
    {
     "data": {
      "text/plain": [
       "40"
      ]
     },
     "execution_count": 113,
     "metadata": {},
     "output_type": "execute_result"
    }
   ],
   "source": [
    "y"
   ]
  },
  {
   "cell_type": "code",
   "execution_count": 114,
   "id": "c8ce5028-950b-4403-a808-e50e1ca52c9f",
   "metadata": {},
   "outputs": [],
   "source": [
    "x, y, z = 40, 50, 60"
   ]
  },
  {
   "cell_type": "code",
   "execution_count": 115,
   "id": "3afc1a3d-a1ee-45bf-b377-0a770553015c",
   "metadata": {},
   "outputs": [
    {
     "data": {
      "text/plain": [
       "40"
      ]
     },
     "execution_count": 115,
     "metadata": {},
     "output_type": "execute_result"
    }
   ],
   "source": [
    "x"
   ]
  },
  {
   "cell_type": "code",
   "execution_count": 116,
   "id": "9be1876c-8347-4576-9eef-1921885fb631",
   "metadata": {},
   "outputs": [
    {
     "data": {
      "text/plain": [
       "50"
      ]
     },
     "execution_count": 116,
     "metadata": {},
     "output_type": "execute_result"
    }
   ],
   "source": [
    "y"
   ]
  },
  {
   "cell_type": "code",
   "execution_count": 118,
   "id": "6431859e-7e50-4208-9888-530fbd4a118d",
   "metadata": {},
   "outputs": [
    {
     "data": {
      "text/plain": [
       "60"
      ]
     },
     "execution_count": 118,
     "metadata": {},
     "output_type": "execute_result"
    }
   ],
   "source": [
    "z"
   ]
  },
  {
   "cell_type": "markdown",
   "id": "7a523536-ca24-4eab-b70c-d7c2cd63f795",
   "metadata": {},
   "source": [
    "#### Booleans"
   ]
  },
  {
   "cell_type": "markdown",
   "id": "b32ba57b-09fd-40f0-8625-862201de1504",
   "metadata": {},
   "source": [
    "A `bool` is a `True` or `False` value. "
   ]
  },
  {
   "cell_type": "code",
   "execution_count": 119,
   "id": "e387a94f-de09-4654-a16d-97795e2b3ae8",
   "metadata": {},
   "outputs": [
    {
     "data": {
      "text/plain": [
       "bool"
      ]
     },
     "execution_count": 119,
     "metadata": {},
     "output_type": "execute_result"
    }
   ],
   "source": [
    "x = True\n",
    "type(x)"
   ]
  },
  {
   "cell_type": "code",
   "execution_count": 120,
   "id": "310a8ced-01b6-4689-8587-4a9a7ce665c6",
   "metadata": {},
   "outputs": [
    {
     "data": {
      "text/plain": [
       "False"
      ]
     },
     "execution_count": 120,
     "metadata": {},
     "output_type": "execute_result"
    }
   ],
   "source": [
    "y = 10.1\n",
    "y.is_integer()"
   ]
  },
  {
   "cell_type": "code",
   "execution_count": 121,
   "id": "b876aad8-cac0-4ba3-8cb6-f8465b7e1d76",
   "metadata": {},
   "outputs": [
    {
     "data": {
      "text/plain": [
       "True"
      ]
     },
     "execution_count": 121,
     "metadata": {},
     "output_type": "execute_result"
    }
   ],
   "source": [
    "\"an\" in \"banana\""
   ]
  },
  {
   "cell_type": "code",
   "execution_count": 123,
   "id": "3560af4d-6cd3-42ff-a012-19a86ce6b698",
   "metadata": {},
   "outputs": [
    {
     "data": {
      "text/plain": [
       "False"
      ]
     },
     "execution_count": 123,
     "metadata": {},
     "output_type": "execute_result"
    }
   ],
   "source": [
    "\"pa\" not in \"panama\""
   ]
  },
  {
   "cell_type": "markdown",
   "id": "7333af34-8f2b-49cf-865b-16215d34a75a",
   "metadata": {},
   "source": [
    "The `bool()` function will return True/False. **Any list, tuple, set, and dictionary are `True` except empty ones**."
   ]
  },
  {
   "cell_type": "code",
   "execution_count": 124,
   "id": "e4a2fda3-500a-405f-9d67-e200f86cf303",
   "metadata": {},
   "outputs": [
    {
     "data": {
      "text/plain": [
       "True"
      ]
     },
     "execution_count": 124,
     "metadata": {},
     "output_type": "execute_result"
    }
   ],
   "source": [
    "bool(\"string\")"
   ]
  },
  {
   "cell_type": "code",
   "execution_count": 125,
   "id": "f548d371-a436-4f85-8859-12a860f40fb7",
   "metadata": {},
   "outputs": [
    {
     "data": {
      "text/plain": [
       "False"
      ]
     },
     "execution_count": 125,
     "metadata": {},
     "output_type": "execute_result"
    }
   ],
   "source": [
    "bool(\"\")"
   ]
  },
  {
   "cell_type": "code",
   "execution_count": 126,
   "id": "c87f10f9-8eee-491a-8520-88221bfc48bc",
   "metadata": {},
   "outputs": [
    {
     "data": {
      "text/plain": [
       "True"
      ]
     },
     "execution_count": 126,
     "metadata": {},
     "output_type": "execute_result"
    }
   ],
   "source": [
    "bool(10)"
   ]
  },
  {
   "cell_type": "code",
   "execution_count": 131,
   "id": "7394a076-bbfd-4820-b884-26f985d4399e",
   "metadata": {},
   "outputs": [
    {
     "data": {
      "text/plain": [
       "False"
      ]
     },
     "execution_count": 131,
     "metadata": {},
     "output_type": "execute_result"
    }
   ],
   "source": [
    "# With numbers, everything except 0 will return true\n",
    "bool(0)"
   ]
  },
  {
   "cell_type": "code",
   "execution_count": 128,
   "id": "020aeabd-edc1-4893-8097-5de98e7c56c3",
   "metadata": {},
   "outputs": [
    {
     "data": {
      "text/plain": [
       "False"
      ]
     },
     "execution_count": 128,
     "metadata": {},
     "output_type": "execute_result"
    }
   ],
   "source": [
    "bool(None)"
   ]
  },
  {
   "cell_type": "code",
   "execution_count": 129,
   "id": "64da685a-824b-4182-abb8-660388d58c6f",
   "metadata": {},
   "outputs": [
    {
     "data": {
      "text/plain": [
       "True"
      ]
     },
     "execution_count": 129,
     "metadata": {},
     "output_type": "execute_result"
    }
   ],
   "source": [
    "bool(not None)"
   ]
  },
  {
   "cell_type": "code",
   "execution_count": 130,
   "id": "904e1fd8-bb1f-4840-8165-53aeadba8ebb",
   "metadata": {},
   "outputs": [
    {
     "data": {
      "text/plain": [
       "True"
      ]
     },
     "execution_count": 130,
     "metadata": {},
     "output_type": "execute_result"
    }
   ],
   "source": [
    "bool(isinstance(10.4, float))"
   ]
  },
  {
   "cell_type": "markdown",
   "id": "7f6d7885-50a3-4cf6-b76b-f91799c84f94",
   "metadata": {},
   "source": [
    "Booleans are a subtype of integers, so they can behave as integers.\n",
    "\n",
    "- `True` is treated as 1\n",
    "- `False` is treated as 0"
   ]
  },
  {
   "cell_type": "code",
   "execution_count": 132,
   "id": "0bc38deb-d36e-42e1-ae71-70c2f984c8e2",
   "metadata": {},
   "outputs": [
    {
     "data": {
      "text/plain": [
       "4"
      ]
     },
     "execution_count": 132,
     "metadata": {},
     "output_type": "execute_result"
    }
   ],
   "source": [
    "3 + True"
   ]
  },
  {
   "cell_type": "code",
   "execution_count": 133,
   "id": "9b4ce715-3827-4595-be23-58b5ddfd3c02",
   "metadata": {},
   "outputs": [
    {
     "data": {
      "text/plain": [
       "0"
      ]
     },
     "execution_count": 133,
     "metadata": {},
     "output_type": "execute_result"
    }
   ],
   "source": [
    "3 * False"
   ]
  },
  {
   "cell_type": "code",
   "execution_count": 134,
   "id": "7317d626-dfe5-43f5-8047-4fac910e3fbb",
   "metadata": {},
   "outputs": [
    {
     "data": {
      "text/plain": [
       "'True'"
      ]
     },
     "execution_count": 134,
     "metadata": {},
     "output_type": "execute_result"
    }
   ],
   "source": [
    "str(True)"
   ]
  },
  {
   "cell_type": "code",
   "execution_count": 135,
   "id": "70ce86e4-d16b-4bf8-aa22-3ce32aa6e61a",
   "metadata": {},
   "outputs": [
    {
     "data": {
      "text/plain": [
       "'False'"
      ]
     },
     "execution_count": 135,
     "metadata": {},
     "output_type": "execute_result"
    }
   ],
   "source": [
    "str(False)"
   ]
  },
  {
   "cell_type": "code",
   "execution_count": 136,
   "id": "90b3fda7-6bd3-434f-ae2e-ab5075ae1ce9",
   "metadata": {},
   "outputs": [
    {
     "data": {
      "text/plain": [
       "'1'"
      ]
     },
     "execution_count": 136,
     "metadata": {},
     "output_type": "execute_result"
    }
   ],
   "source": [
    "str(True + 0)"
   ]
  },
  {
   "cell_type": "markdown",
   "id": "fc29bd37-d0c1-4164-b513-8fbfea1288e5",
   "metadata": {},
   "source": [
    "We can also format strings with numbers inserted as well."
   ]
  },
  {
   "cell_type": "code",
   "execution_count": 137,
   "id": "86f8d09e-ffa4-40a7-9d6b-81750b41344a",
   "metadata": {},
   "outputs": [
    {
     "data": {
      "text/plain": [
       "'I am a Professor'"
      ]
     },
     "execution_count": 137,
     "metadata": {},
     "output_type": "execute_result"
    }
   ],
   "source": [
    "Job = \"Professor\"\n",
    "\"I am a {job}\".format(job = Job)"
   ]
  },
  {
   "cell_type": "code",
   "execution_count": 141,
   "id": "b034a788-b800-4efa-aa34-89212531b408",
   "metadata": {},
   "outputs": [
    {
     "data": {
      "text/plain": [
       "\"I am a Professor and I've been teaching for 10 years\""
      ]
     },
     "execution_count": 141,
     "metadata": {},
     "output_type": "execute_result"
    }
   ],
   "source": [
    "Years = 10.23\n",
    "\n",
    "# d specifies that the number must be an integer.\n",
    "# Other options include f for floating point numbers, or \n",
    "# .f for floating point numbers with a fixed amount of digits to the right of the dot\n",
    "\"I am a {job} and I've been teaching for {years:d} years\".format(job = Job, years = int(Years))"
   ]
  },
  {
   "cell_type": "markdown",
   "id": "53aef66e-89d0-4d50-8254-379c29ab323d",
   "metadata": {},
   "source": [
    "We have additional useful functions in the `numpy` module:\n",
    "\n",
    "- `numpy.isclose()` - are numbers close to each other, within some tolerance?\n",
    "- `math.isfinite()` vs. `math.isinf()` vs. `math.isnan()`\n",
    "\n",
    "There is also the `numpy.stats` module."
   ]
  },
  {
   "cell_type": "markdown",
   "id": "5d3dfc7a-4a77-445f-a2c1-ee40d2ff8e6c",
   "metadata": {},
   "source": [
    "#### Examples - integers, floats, and booleans"
   ]
  },
  {
   "cell_type": "code",
   "execution_count": 142,
   "id": "028aeac8-1a63-4387-b430-54708fae8c8c",
   "metadata": {},
   "outputs": [],
   "source": [
    "import math"
   ]
  },
  {
   "cell_type": "code",
   "execution_count": 144,
   "id": "7cf64350-94f5-4528-8747-7f168eb1febf",
   "metadata": {},
   "outputs": [
    {
     "data": {
      "text/plain": [
       "2.9999999999999996"
      ]
     },
     "execution_count": 144,
     "metadata": {},
     "output_type": "execute_result"
    }
   ],
   "source": [
    "# Numbers are not stored precisely\n",
    "math.sqrt(3)**2"
   ]
  },
  {
   "cell_type": "code",
   "execution_count": 146,
   "id": "e1003e40-1961-4171-a411-109523f18999",
   "metadata": {},
   "outputs": [],
   "source": [
    "from numpy import isclose as close"
   ]
  },
  {
   "cell_type": "code",
   "execution_count": 148,
   "id": "15bd2252-0305-4201-9f0c-f80ac9ceb777",
   "metadata": {},
   "outputs": [
    {
     "data": {
      "text/plain": [
       "True"
      ]
     },
     "execution_count": 148,
     "metadata": {},
     "output_type": "execute_result"
    }
   ],
   "source": [
    "# Is there square of sqrt(3) close to 3?\n",
    "close(math.sqrt(3)**2, 3)"
   ]
  },
  {
   "cell_type": "code",
   "execution_count": 149,
   "id": "a84485e5-0561-4ada-a0ed-bd5fca0bedad",
   "metadata": {},
   "outputs": [
    {
     "data": {
      "text/plain": [
       "-0.2533471031357997"
      ]
     },
     "execution_count": 149,
     "metadata": {},
     "output_type": "execute_result"
    }
   ],
   "source": [
    "# We've already read in norm from scipy\n",
    "# ppf = percentile point function, which is basically a quantile.\n",
    "# We give it a particular percentile and it tells us what value from that distribution has that probabiulity to the left.\n",
    "# We'd normally put in a value between 0 and 1\n",
    "norm.ppf(0.4)"
   ]
  },
  {
   "cell_type": "code",
   "execution_count": 152,
   "id": "87759bbf-9cc1-4ad2-96b4-7b704d1037d1",
   "metadata": {},
   "outputs": [
    {
     "data": {
      "text/plain": [
       "nan"
      ]
     },
     "execution_count": 152,
     "metadata": {},
     "output_type": "execute_result"
    }
   ],
   "source": [
    "# Not a number (nan)\n",
    "x = norm.ppf(-1)\n",
    "x"
   ]
  },
  {
   "cell_type": "code",
   "execution_count": 153,
   "id": "40f7f779-47e0-40e0-84a3-c13aea509f14",
   "metadata": {},
   "outputs": [
    {
     "data": {
      "text/plain": [
       "True"
      ]
     },
     "execution_count": 153,
     "metadata": {},
     "output_type": "execute_result"
    }
   ],
   "source": [
    "math.isnan(x)"
   ]
  },
  {
   "cell_type": "code",
   "execution_count": 156,
   "id": "284db3fc-c5a5-4eda-a78b-abd12c5458af",
   "metadata": {},
   "outputs": [
    {
     "data": {
      "text/plain": [
       "inf"
      ]
     },
     "execution_count": 156,
     "metadata": {},
     "output_type": "execute_result"
    }
   ],
   "source": [
    "x = float(\"Infinity\")\n",
    "x"
   ]
  },
  {
   "cell_type": "code",
   "execution_count": 157,
   "id": "5512010a-9f31-4efe-9fb6-96b626e375a0",
   "metadata": {},
   "outputs": [
    {
     "data": {
      "text/plain": [
       "-inf"
      ]
     },
     "execution_count": 157,
     "metadata": {},
     "output_type": "execute_result"
    }
   ],
   "source": [
    "y = float(\"-Infinity\")\n",
    "y"
   ]
  },
  {
   "cell_type": "code",
   "execution_count": 158,
   "id": "da34c9c8-eef8-4e62-9fac-5222a4200e6b",
   "metadata": {},
   "outputs": [
    {
     "data": {
      "text/plain": [
       "True"
      ]
     },
     "execution_count": 158,
     "metadata": {},
     "output_type": "execute_result"
    }
   ],
   "source": [
    "math.isinf(x)"
   ]
  },
  {
   "cell_type": "code",
   "execution_count": 159,
   "id": "5fc5656f-c48e-422d-9ceb-9c547517ea56",
   "metadata": {},
   "outputs": [
    {
     "data": {
      "text/plain": [
       "True"
      ]
     },
     "execution_count": 159,
     "metadata": {},
     "output_type": "execute_result"
    }
   ],
   "source": [
    "math.isinf(y)"
   ]
  },
  {
   "cell_type": "markdown",
   "id": "069298c0-0817-4166-913a-392c8a955ec2",
   "metadata": {},
   "source": [
    "### If/then/else"
   ]
  },
  {
   "cell_type": "markdown",
   "id": "bcc4f878-0e8f-427f-899d-e05089c07452",
   "metadata": {},
   "source": [
    "**Control flow** refers to the other in which a language executes code. In Python, we have\n",
    "\n",
    "- conditional logic (`if`, `elif`, and `else`)\n",
    "- looping (`for`, `while`)"
   ]
  },
  {
   "cell_type": "markdown",
   "id": "59c70b54-9813-4c54-8c32-8b9672f42444",
   "metadata": {},
   "source": [
    "Syntax for `if` looks like\n",
    "\n",
    "```\n",
    "if boolean:\n",
    "    # If boolean is true, execute the chunk of code that is idented\n",
    "    # Four spaces are recommended but, technically, any indentation can be used\n",
    "    statement1\n",
    "    statement2\n",
    "\n",
    "# Code that is not indented would then execute as normal\n",
    "```"
   ]
  },
  {
   "cell_type": "code",
   "execution_count": 162,
   "id": "15af38b6-5724-490d-901c-558b382e4eeb",
   "metadata": {},
   "outputs": [
    {
     "name": "stdout",
     "output_type": "stream",
     "text": [
      "30 degrees is cold.\n",
      "Wear a jacket outside!\n"
     ]
    }
   ],
   "source": [
    "temp = 30\n",
    "if temp < 50:\n",
    "    print(temp, \"degrees is cold.\")\n",
    "    print(\"Wear a jacket outside!\")"
   ]
  },
  {
   "cell_type": "code",
   "execution_count": 164,
   "id": "513a05a5-690b-4ff0-bfc1-903ddfe24a25",
   "metadata": {},
   "outputs": [
    {
     "name": "stdout",
     "output_type": "stream",
     "text": [
      "100 degrees is not cold.\n"
     ]
    }
   ],
   "source": [
    "temp = 100\n",
    "if temp < 50:\n",
    "    print(temp, \"degrees is cold.\")\n",
    "    print(\"Wear a jacket outside!\")\n",
    "if temp >= 50:\n",
    "    print(temp, \"degrees is not cold.\")"
   ]
  },
  {
   "cell_type": "markdown",
   "id": "f97c61c6-c1d3-4883-80dd-2693218b81f9",
   "metadata": {},
   "source": [
    "We also have an `else` block.\n",
    "\n",
    "```\n",
    "if boolean:\n",
    "    execute this code\n",
    "else: \n",
    "    execute this code\n",
    "```"
   ]
  },
  {
   "cell_type": "code",
   "execution_count": 165,
   "id": "4c2477d8-a5c8-4995-90d2-c1660ea84c73",
   "metadata": {},
   "outputs": [
    {
     "name": "stdout",
     "output_type": "stream",
     "text": [
      "100 degrees is not cold.\n"
     ]
    }
   ],
   "source": [
    "temp = 100\n",
    "if temp < 50:\n",
    "    print(temp, \"degrees is cold.\")\n",
    "    print(\"Wear a jacket outside!\")\n",
    "else:\n",
    "    print(temp, \"degrees is not cold.\")"
   ]
  },
  {
   "cell_type": "markdown",
   "id": "b8893ab5-fac7-4647-8dcf-5e1b940427f4",
   "metadata": {},
   "source": [
    "We may have multiple blocks to check.\n",
    "\n",
    "```\n",
    "if boolean1:\n",
    "    # if boolean1 is True\n",
    "    execute this code\n",
    "elif boolean2:\n",
    "    # if boolean1 is False, check if boolean2 is True\n",
    "    # if True\n",
    "    execute this code\n",
    "elif boolean3:\n",
    "    # if boolean1 and boolean2 2 are False, check if boolean3 is True\n",
    "    # if True\n",
    "    execute this code\n",
    "else:\n",
    "    # if no condition is met\n",
    "    execute this code\n",
    "```"
   ]
  },
  {
   "cell_type": "code",
   "execution_count": 169,
   "id": "18231ba9-5561-40e4-93ad-0b184c4b8fbe",
   "metadata": {},
   "outputs": [
    {
     "name": "stdout",
     "output_type": "stream",
     "text": [
      "60 degrees is kind of cold...\n",
      "You may want to bring an umbrella in case it rains!\n"
     ]
    }
   ],
   "source": [
    "temp = 60\n",
    "if temp < 50:\n",
    "    print(temp, \"degrees is cold.\")\n",
    "    print(\"Wear a jacket outside!\")\n",
    "elif temp <70:\n",
    "    print(temp, \"degrees is kind of cold...\")\n",
    "    print(\"You may want to bring an umbrella in case it rains!\")\n",
    "else:\n",
    "    print(temp, \"degrees is not cold.\")"
   ]
  },
  {
   "cell_type": "markdown",
   "id": "c0fe8259-4b33-40cf-aae1-7f962aef91bb",
   "metadata": {},
   "source": [
    "##### FizzBuzz challenge"
   ]
  },
  {
   "cell_type": "markdown",
   "id": "3f943324-89a6-4370-be26-fa6ec892be19",
   "metadata": {},
   "source": [
    "Code up a \"FizzBuzz\" challenge where, for numbers 1:100, if:\n",
    "\n",
    "- Divisible by both 3 and 5, print \"fizz buzz\"\n",
    "- Divisible by 3, print \"fizz\"\n",
    "- Divisible by 5, print \"buzz\"\n",
    "- Otherwise, print the number"
   ]
  },
  {
   "cell_type": "code",
   "execution_count": 176,
   "id": "890c5f89-9fef-408e-960f-ed193f9034c7",
   "metadata": {
    "collapsed": true,
    "jupyter": {
     "outputs_hidden": true
    },
    "tags": []
   },
   "outputs": [
    {
     "name": "stdout",
     "output_type": "stream",
     "text": [
      "1\n",
      "2\n",
      "fizz\n",
      "4\n",
      "buzz\n",
      "fizz\n",
      "7\n",
      "8\n",
      "fizz\n",
      "buzz\n",
      "11\n",
      "fizz\n",
      "13\n",
      "14\n",
      "fizz buzz\n",
      "16\n",
      "17\n",
      "fizz\n",
      "19\n",
      "buzz\n",
      "fizz\n",
      "22\n",
      "23\n",
      "fizz\n",
      "buzz\n",
      "26\n",
      "fizz\n",
      "28\n",
      "29\n",
      "fizz buzz\n",
      "31\n",
      "32\n",
      "fizz\n",
      "34\n",
      "buzz\n",
      "fizz\n",
      "37\n",
      "38\n",
      "fizz\n",
      "buzz\n",
      "41\n",
      "fizz\n",
      "43\n",
      "44\n",
      "fizz buzz\n",
      "46\n",
      "47\n",
      "fizz\n",
      "49\n",
      "buzz\n",
      "fizz\n",
      "52\n",
      "53\n",
      "fizz\n",
      "buzz\n",
      "56\n",
      "fizz\n",
      "58\n",
      "59\n",
      "fizz buzz\n",
      "61\n",
      "62\n",
      "fizz\n",
      "64\n",
      "buzz\n",
      "fizz\n",
      "67\n",
      "68\n",
      "fizz\n",
      "buzz\n",
      "71\n",
      "fizz\n",
      "73\n",
      "74\n",
      "fizz buzz\n",
      "76\n",
      "77\n",
      "fizz\n",
      "79\n",
      "buzz\n",
      "fizz\n",
      "82\n",
      "83\n",
      "fizz\n",
      "buzz\n",
      "86\n",
      "fizz\n",
      "88\n",
      "89\n",
      "fizz buzz\n",
      "91\n",
      "92\n",
      "fizz\n",
      "94\n",
      "buzz\n",
      "fizz\n",
      "97\n",
      "98\n",
      "fizz\n",
      "buzz\n"
     ]
    }
   ],
   "source": [
    "for i in range(1, 101):\n",
    "    if ((i % 3) == 0) & ((i % 5) == 0):\n",
    "        print(\"fizz buzz\")\n",
    "    elif (i % 3) == 0:\n",
    "        print(\"fizz\")\n",
    "    elif (i % 5) == 0:\n",
    "        print(\"buzz\")\n",
    "    elif isinstance(i, int):\n",
    "        print(i)\n",
    "    else:\n",
    "        print(\"Something unexpected\")"
   ]
  },
  {
   "cell_type": "markdown",
   "id": "9e39c404-ce73-4f92-936a-976a39ba5b3c",
   "metadata": {
    "tags": []
   },
   "source": [
    "### Loops"
   ]
  },
  {
   "cell_type": "markdown",
   "id": "f9796106-1e33-4aee-909a-f0dc3836ba07",
   "metadata": {},
   "source": [
    "Loops are formatted as\n",
    "\n",
    "```\n",
    "for index in values:\n",
    "    code to be run\n",
    "```"
   ]
  },
  {
   "cell_type": "code",
   "execution_count": 182,
   "id": "39073e31-29e6-4d5c-8d6f-c5b6a3c07215",
   "metadata": {},
   "outputs": [
    {
     "name": "stdout",
     "output_type": "stream",
     "text": [
      "cat\n",
      "hat\n",
      "worm\n"
     ]
    }
   ],
   "source": [
    "for index in [\"cat\", \"hat\", \"worm\"]:\n",
    "    print(index)"
   ]
  },
  {
   "cell_type": "code",
   "execution_count": 184,
   "id": "2aec936c-1921-4d56-be26-97145321a1f0",
   "metadata": {},
   "outputs": [
    {
     "data": {
      "text/plain": [
       "[0, 1, 2, 3, 4, 5, 6, 7, 8, 9]"
      ]
     },
     "execution_count": 184,
     "metadata": {},
     "output_type": "execute_result"
    }
   ],
   "source": [
    "values = list(range(10))\n",
    "values"
   ]
  },
  {
   "cell_type": "code",
   "execution_count": 185,
   "id": "fc42f72e-1035-4cee-baed-80b6e9463626",
   "metadata": {},
   "outputs": [
    {
     "name": "stdout",
     "output_type": "stream",
     "text": [
      "0\n",
      "1\n",
      "2\n",
      "3\n",
      "4\n",
      "5\n",
      "6\n",
      "7\n",
      "8\n",
      "9\n"
     ]
    }
   ],
   "source": [
    "for i in values:\n",
    "    print(i)"
   ]
  },
  {
   "cell_type": "markdown",
   "id": "ecb80658-60ed-4577-b889-11b6f210ec7d",
   "metadata": {},
   "source": [
    "Suppose we have observed the eye colors of 15 people. We want to encode eye color as either 1 (blue), 2 (brown), 3 (green), or 4 (other). We want to create a new variable that has the descriptive values."
   ]
  },
  {
   "cell_type": "code",
   "execution_count": 190,
   "id": "f4aa21b7-28f9-4bbe-8da0-e7cdfd731f25",
   "metadata": {},
   "outputs": [
    {
     "data": {
      "text/plain": [
       "3"
      ]
     },
     "execution_count": 190,
     "metadata": {},
     "output_type": "execute_result"
    }
   ],
   "source": [
    "# Store data in a list\n",
    "eye_color = [3, 2, 2, 1, 2, 1, 2, 4, 3, 2, 2, 1, 2, 2]\n",
    "eye_color[0]"
   ]
  },
  {
   "cell_type": "code",
   "execution_count": 188,
   "id": "5ae2e63e-8f76-4a61-a3f5-7499ca093c02",
   "metadata": {},
   "outputs": [
    {
     "data": {
      "text/plain": [
       "2"
      ]
     },
     "execution_count": 188,
     "metadata": {},
     "output_type": "execute_result"
    }
   ],
   "source": [
    "eye_color[1]"
   ]
  },
  {
   "cell_type": "code",
   "execution_count": 191,
   "id": "4b25e343-dc21-4e76-bd5f-cd0ff331779f",
   "metadata": {},
   "outputs": [
    {
     "data": {
      "text/plain": [
       "[0, 1, 2, 3, 4, 5, 6, 7, 8, 9, 10, 11, 12, 13]"
      ]
     },
     "execution_count": 191,
     "metadata": {},
     "output_type": "execute_result"
    }
   ],
   "source": [
    "list(range(len(eye_color)))"
   ]
  },
  {
   "cell_type": "code",
   "execution_count": 193,
   "id": "38148759-817a-4442-8c45-ab21973ab0ed",
   "metadata": {},
   "outputs": [
    {
     "data": {
      "text/plain": [
       "range(0, 14)"
      ]
     },
     "execution_count": 193,
     "metadata": {},
     "output_type": "execute_result"
    }
   ],
   "source": [
    "range(len(eye_color))"
   ]
  },
  {
   "cell_type": "code",
   "execution_count": 194,
   "id": "5fd8dafe-d598-46e8-80c6-b08ea1bb94e8",
   "metadata": {},
   "outputs": [
    {
     "name": "stdout",
     "output_type": "stream",
     "text": [
      "0\n"
     ]
    }
   ],
   "source": [
    "values = iter(range(len(eye_color)))\n",
    "print(next(values))"
   ]
  },
  {
   "cell_type": "code",
   "execution_count": 195,
   "id": "b24d3a33-8a01-4d59-a189-3f10507e987b",
   "metadata": {},
   "outputs": [
    {
     "name": "stdout",
     "output_type": "stream",
     "text": [
      "1\n"
     ]
    }
   ],
   "source": [
    "print(next(values))"
   ]
  },
  {
   "cell_type": "code",
   "execution_count": 196,
   "id": "54ca2f92-7a29-4ab2-b8fe-bcb024d0eca8",
   "metadata": {},
   "outputs": [
    {
     "name": "stdout",
     "output_type": "stream",
     "text": [
      "2\n"
     ]
    }
   ],
   "source": [
    "print(next(values))"
   ]
  },
  {
   "cell_type": "code",
   "execution_count": 198,
   "id": "3cb0b1a3-79cf-450e-b22d-11f4df05f53a",
   "metadata": {},
   "outputs": [
    {
     "name": "stdout",
     "output_type": "stream",
     "text": [
      "green\n",
      "brown\n",
      "brown\n",
      "blue\n",
      "brown\n",
      "blue\n",
      "brown\n",
      "other\n",
      "green\n",
      "brown\n",
      "brown\n",
      "blue\n",
      "brown\n",
      "brown\n"
     ]
    }
   ],
   "source": [
    "for i in range(len(eye_color)):\n",
    "    if eye_color[i] == 1:\n",
    "        print(\"blue\")\n",
    "    elif eye_color[i] == 2:\n",
    "        print(\"brown\")\n",
    "    elif eye_color[i] == 3:\n",
    "        print(\"green\")\n",
    "    else: \n",
    "        print(\"other\")"
   ]
  },
  {
   "cell_type": "code",
   "execution_count": 200,
   "id": "7b076dc8-522d-4b1e-bae5-6e8f1119cd95",
   "metadata": {},
   "outputs": [
    {
     "name": "stdout",
     "output_type": "stream",
     "text": [
      "green\n",
      "brown\n",
      "brown\n",
      "blue\n",
      "brown\n",
      "blue\n",
      "brown\n",
      "other\n",
      "green\n",
      "brown\n",
      "brown\n",
      "blue\n",
      "brown\n",
      "brown\n"
     ]
    }
   ],
   "source": [
    "# We can also iterate over the list itself\n",
    "for i in eye_color:\n",
    "    if i == 1:\n",
    "        print(\"blue\")\n",
    "    elif i == 2:\n",
    "        print(\"brown\")\n",
    "    elif i == 3:\n",
    "        print(\"green\")\n",
    "    else: \n",
    "        print(\"other\")"
   ]
  },
  {
   "cell_type": "markdown",
   "id": "9d622a99-606c-4384-b483-8cf32d0baed9",
   "metadata": {},
   "source": [
    "We can break out of loops with `break`."
   ]
  },
  {
   "cell_type": "code",
   "execution_count": 202,
   "id": "56233b72-ef39-4606-8df0-0da6fc4c4044",
   "metadata": {},
   "outputs": [
    {
     "name": "stdout",
     "output_type": "stream",
     "text": [
      "0\n",
      "1\n",
      "2\n"
     ]
    }
   ],
   "source": [
    "for i in range(5):\n",
    "    if i == 3:\n",
    "        break\n",
    "    print(i)"
   ]
  },
  {
   "cell_type": "markdown",
   "id": "52d05dfd-f157-4889-a37c-2c69619dbcad",
   "metadata": {},
   "source": [
    "We also have the `continue` command to jump to the next iteration of a loop without finishing the current iteration."
   ]
  },
  {
   "cell_type": "code",
   "execution_count": 203,
   "id": "c3e8240b-869e-4d68-a6ed-f19798dcca01",
   "metadata": {},
   "outputs": [
    {
     "name": "stdout",
     "output_type": "stream",
     "text": [
      "0\n",
      "1\n",
      "2\n",
      "4\n"
     ]
    }
   ],
   "source": [
    "for i in range(5):\n",
    "    if i == 3:\n",
    "        continue\n",
    "    print(i)"
   ]
  },
  {
   "cell_type": "markdown",
   "id": "7efb2734-c0e7-4531-b9ab-76801d3af2cd",
   "metadata": {},
   "source": [
    "`while` loops are similar to `for` loops, but they continue until a condition is reached.\n",
    "\n",
    "```\n",
    "while expression:\n",
    "    # code block to execute\n",
    "    block\n",
    "    update expression\n",
    "```"
   ]
  },
  {
   "cell_type": "code",
   "execution_count": 204,
   "id": "53422241-3297-49a0-8db6-9ecac21fdca8",
   "metadata": {},
   "outputs": [
    {
     "name": "stdout",
     "output_type": "stream",
     "text": [
      "3\n",
      "2\n",
      "1\n"
     ]
    }
   ],
   "source": [
    "rabbits = 3\n",
    "while rabbits > 0:\n",
    "    print(rabbits)\n",
    "    rabbits -= 1"
   ]
  },
  {
   "cell_type": "markdown",
   "id": "60ce0b53-fe12-4b66-808d-2661ff3f95e2",
   "metadata": {},
   "source": [
    "##### Exercise - number-guessing game"
   ]
  },
  {
   "cell_type": "code",
   "execution_count": 211,
   "id": "98208b15-0fcd-44b8-8789-8db38d287778",
   "metadata": {},
   "outputs": [
    {
     "name": "stdin",
     "output_type": "stream",
     "text": [
      "Give me a number between 1 and 10:  10\n"
     ]
    },
    {
     "name": "stdout",
     "output_type": "stream",
     "text": [
      "Our number is smaller\n"
     ]
    },
    {
     "name": "stdin",
     "output_type": "stream",
     "text": [
      "Give me a number between 1 and 10:  9\n"
     ]
    },
    {
     "name": "stdout",
     "output_type": "stream",
     "text": [
      "Our number is smaller\n"
     ]
    },
    {
     "name": "stdin",
     "output_type": "stream",
     "text": [
      "Give me a number between 1 and 10:  8\n"
     ]
    },
    {
     "name": "stdout",
     "output_type": "stream",
     "text": [
      "Our number is smaller\n"
     ]
    },
    {
     "name": "stdin",
     "output_type": "stream",
     "text": [
      "Give me a number between 1 and 10:  7\n"
     ]
    },
    {
     "name": "stdout",
     "output_type": "stream",
     "text": [
      "Our number is smaller\n"
     ]
    },
    {
     "name": "stdin",
     "output_type": "stream",
     "text": [
      "Give me a number between 1 and 10:  6\n"
     ]
    },
    {
     "name": "stdout",
     "output_type": "stream",
     "text": [
      "Our number is smaller\n"
     ]
    },
    {
     "name": "stdin",
     "output_type": "stream",
     "text": [
      "Give me a number between 1 and 10:  5\n"
     ]
    },
    {
     "name": "stdout",
     "output_type": "stream",
     "text": [
      "Our number is smaller\n"
     ]
    },
    {
     "name": "stdin",
     "output_type": "stream",
     "text": [
      "Give me a number between 1 and 10:  4\n"
     ]
    },
    {
     "name": "stdout",
     "output_type": "stream",
     "text": [
      "Our number is smaller\n"
     ]
    },
    {
     "name": "stdin",
     "output_type": "stream",
     "text": [
      "Give me a number between 1 and 10:  3\n"
     ]
    },
    {
     "name": "stdout",
     "output_type": "stream",
     "text": [
      "You did it!\n"
     ]
    }
   ],
   "source": [
    "num = 3\n",
    "while True:\n",
    "    x = int(input(\"Give me a number between 1 and 10: \"))\n",
    "    if x == num:\n",
    "        print(\"You did it!\")\n",
    "        break\n",
    "    elif x < 3:\n",
    "        print(\"Our number is larger\")\n",
    "    elif x > 3:\n",
    "        print(\"Our number is smaller\")"
   ]
  },
  {
   "cell_type": "markdown",
   "id": "f7389b3e-ed80-4a10-bc7d-efb1574ccab8",
   "metadata": {},
   "source": [
    "## Module 3: Compound Data Types"
   ]
  },
  {
   "cell_type": "markdown",
   "id": "e80db09c-1aff-4dc8-8673-d3d388435e9a",
   "metadata": {},
   "source": [
    "### Lists and tuples"
   ]
  },
  {
   "cell_type": "markdown",
   "id": "f91d11b9-2ced-4f85-bb0d-97948a7cc9ed",
   "metadata": {},
   "source": [
    "Lists and tuples are similar. Like strings, lists and tuples are **sequences**, which means they have a logical order to them (first, second, third object, etc.)\n",
    "\n",
    "- **Lists** are mutable, so they can be changed. They also take up more memory than tuples.\n",
    "- **Tuples** are immutable."
   ]
  },
  {
   "cell_type": "markdown",
   "id": "3d7095fa-e019-4b8b-bc26-188287a0de59",
   "metadata": {},
   "source": [
    "#### Properties of lists and tuples"
   ]
  },
  {
   "cell_type": "markdown",
   "id": "72230382-803c-45e4-9b9e-aad05efac76c",
   "metadata": {},
   "source": [
    "- One-dimensional\n",
    "- Heterogeneous - they do not need to have elements that are all of the same type\n",
    "- Can have duplicate values (unlike dictionaries, which cannot have identical keys)"
   ]
  },
  {
   "cell_type": "markdown",
   "id": "37ae5c3a-0a26-490b-b135-5f5e70a68c28",
   "metadata": {},
   "source": [
    "#### Constructing a list"
   ]
  },
  {
   "cell_type": "markdown",
   "id": "72c5a384-b4aa-49d3-9d82-231ff140a65e",
   "metadata": {},
   "source": [
    "To construct a list, use square brackets, such as `[element1, element2]`, or the `list()` function, such as `list((element1, element2, ...))`. Note the extra parentheses; the list function takes only one argument, so we would not be able to separate objects with commas without including the extra parentheses. We can also create an empty list and `.append()` to it."
   ]
  },
  {
   "cell_type": "code",
   "execution_count": 6,
   "id": "0eebccad-75cd-4d43-9062-7e0b154a2b48",
   "metadata": {},
   "outputs": [
    {
     "data": {
      "text/plain": [
       "list"
      ]
     },
     "execution_count": 6,
     "metadata": {},
     "output_type": "execute_result"
    }
   ],
   "source": [
    "# Create a basic, heterogeneous list\n",
    "x = [10, 15, 10, 100, \"Help!\"]\n",
    "type(x)"
   ]
  },
  {
   "cell_type": "code",
   "execution_count": 4,
   "id": "cf9dd22c-0312-4fcb-bdbe-847cc6b3644a",
   "metadata": {},
   "outputs": [
    {
     "data": {
      "text/plain": [
       "[10, 15, 10, 100, 'Help!']"
      ]
     },
     "execution_count": 4,
     "metadata": {},
     "output_type": "execute_result"
    }
   ],
   "source": [
    "x"
   ]
  },
  {
   "cell_type": "code",
   "execution_count": 7,
   "id": "d23ce403-990e-48be-af29-49fdf9c5fa8d",
   "metadata": {},
   "outputs": [
    {
     "data": {
      "text/plain": [
       "['Python', 'List', 5]"
      ]
     },
     "execution_count": 7,
     "metadata": {},
     "output_type": "execute_result"
    }
   ],
   "source": [
    "# If we use the list() function, we need to include extra parentheses to be able\n",
    "# to separate multiple objects with commas\n",
    "y = list((\"Python\", \"List\", 5))\n",
    "y"
   ]
  },
  {
   "cell_type": "code",
   "execution_count": 15,
   "id": "fb688cfd-6970-4f7a-8324-e7f6d1583f14",
   "metadata": {},
   "outputs": [
    {
     "data": {
      "text/plain": [
       "['P', 'y', 't', 'h', 'o', 'n']"
      ]
     },
     "execution_count": 15,
     "metadata": {},
     "output_type": "execute_result"
    }
   ],
   "source": [
    "# Here, we did not wrap \"Python\" in parentheses, so the list() function sees it as a sequence\n",
    "# with a first element, second element, etc. and separates each letter into a list element \n",
    "z = list(\"Python\")\n",
    "z"
   ]
  },
  {
   "cell_type": "code",
   "execution_count": 10,
   "id": "e735ac6b-5899-4094-b469-f929d0a9fe43",
   "metadata": {},
   "outputs": [
    {
     "data": {
      "text/plain": [
       "[1, 2, 3, 4, 5, 6, 7, 8, 9]"
      ]
     },
     "execution_count": 10,
     "metadata": {},
     "output_type": "execute_result"
    }
   ],
   "source": [
    "z = list(range(1, 10))\n",
    "z"
   ]
  },
  {
   "cell_type": "code",
   "execution_count": 11,
   "id": "2e2ad7d5-b69a-4c5d-a3e4-b6425b6d8d20",
   "metadata": {},
   "outputs": [
    {
     "data": {
      "text/plain": [
       "[1, 2, 3, 4, 5, 6, 7, 8, 9, 1, 2, 3, 4, 5, 6, 7, 8, 9]"
      ]
     },
     "execution_count": 11,
     "metadata": {},
     "output_type": "execute_result"
    }
   ],
   "source": [
    "z * 2"
   ]
  },
  {
   "cell_type": "code",
   "execution_count": 13,
   "id": "7de98080-c5cc-462a-a3aa-75a342ba521b",
   "metadata": {},
   "outputs": [
    {
     "data": {
      "text/plain": [
       "[[1, 2], [1, 2, 3, 4, 5, 6, 7, 8, 9], 3]"
      ]
     },
     "execution_count": 13,
     "metadata": {},
     "output_type": "execute_result"
    }
   ],
   "source": [
    "w = [list(range(1, 3)), z, 3]\n",
    "w"
   ]
  },
  {
   "cell_type": "code",
   "execution_count": 14,
   "id": "24d7d455-5827-4321-acd3-45ed75d00a1e",
   "metadata": {},
   "outputs": [
    {
     "data": {
      "text/plain": [
       "[1, 2, 1, 2, 3, 4, 5, 6, 7, 8, 9, 3]"
      ]
     },
     "execution_count": 14,
     "metadata": {},
     "output_type": "execute_result"
    }
   ],
   "source": [
    "list(range(1, 3)) + z + [3]"
   ]
  },
  {
   "cell_type": "code",
   "execution_count": 21,
   "id": "1fa4989b-09aa-4ed9-80e2-647c55a54c1e",
   "metadata": {},
   "outputs": [],
   "source": [
    "# Create an empty list and use the .append() method to add elements\n",
    "mylist = []\n",
    "\n",
    "# or\n",
    "mylist = list()"
   ]
  },
  {
   "cell_type": "code",
   "execution_count": 22,
   "id": "65259b7d-5d95-4a29-a058-34dd19288aa2",
   "metadata": {},
   "outputs": [
    {
     "data": {
      "text/plain": [
       "['Dog', 'Cat']"
      ]
     },
     "execution_count": 22,
     "metadata": {},
     "output_type": "execute_result"
    }
   ],
   "source": [
    "# Add elements with .append()\n",
    "mylist.append(\"Dog\")\n",
    "mylist.append(\"Cat\")\n",
    "mylist"
   ]
  },
  {
   "cell_type": "markdown",
   "id": "4d85d93b-6e00-417f-9d84-d89c0f43d329",
   "metadata": {},
   "source": [
    "#### List comprehensions"
   ]
  },
  {
   "cell_type": "code",
   "execution_count": 23,
   "id": "5a2b5046-f101-4aa6-b672-eb3b632f1cd4",
   "metadata": {},
   "outputs": [
    {
     "data": {
      "text/plain": [
       "['Dog', 'Horse', 'Frog', 'Cow', 'Buffalo', 'Fox', 'Racoon']"
      ]
     },
     "execution_count": 23,
     "metadata": {},
     "output_type": "execute_result"
    }
   ],
   "source": [
    "animals = [\"Dog\", \"Cat\", \"Horse\", \"Frog\", \"Cow\", \"Buffalo\", \"Deer\", \"Fish\", \"Bird\", \"Fox\", \"Racoon\"]\n",
    "mylist = []\n",
    "\n",
    "for x in animals:\n",
    "    if \"o\" in x:\n",
    "        mylist.append(x)\n",
    "\n",
    "mylist"
   ]
  },
  {
   "cell_type": "markdown",
   "id": "1f4d7825-5313-4563-8cd6-530d874b9220",
   "metadata": {},
   "source": [
    "Rather than write out the loop, we can use **list comprehensions** (a shorthand!). The format is `[expression for member in iterable]`."
   ]
  },
  {
   "cell_type": "code",
   "execution_count": 25,
   "id": "3e1cd0fc-c89c-4e80-a011-a3056cdc37ab",
   "metadata": {},
   "outputs": [],
   "source": [
    "animals = [\"Dog\", \"Cat\", \"Horse\", \"Frog\", \"Cow\", \"Buffalo\", \"Deer\", \"Fish\", \"Bird\", \"Fox\", \"Racoon\"]\n",
    "mylist = []\n",
    "\n",
    "for x in animals:\n",
    "    mylist.append(x)"
   ]
  },
  {
   "cell_type": "code",
   "execution_count": 27,
   "id": "1c107226-7d29-4d1f-90a4-23aefabf2c16",
   "metadata": {},
   "outputs": [
    {
     "data": {
      "text/plain": [
       "['Dog',\n",
       " 'Cat',\n",
       " 'Horse',\n",
       " 'Frog',\n",
       " 'Cow',\n",
       " 'Buffalo',\n",
       " 'Deer',\n",
       " 'Fish',\n",
       " 'Bird',\n",
       " 'Fox',\n",
       " 'Racoon']"
      ]
     },
     "execution_count": 27,
     "metadata": {},
     "output_type": "execute_result"
    }
   ],
   "source": [
    "# The 'for' loop above can be re-written as\n",
    "mylist = [x for x in animals]\n",
    "mylist"
   ]
  },
  {
   "cell_type": "code",
   "execution_count": 29,
   "id": "560b432d-59fd-44c4-8334-751ed9a4a181",
   "metadata": {},
   "outputs": [
    {
     "data": {
      "text/plain": [
       "['Dog', 'Horse', 'Frog', 'Cow', 'Buffalo', 'Fox', 'Racoon']"
      ]
     },
     "execution_count": 29,
     "metadata": {},
     "output_type": "execute_result"
    }
   ],
   "source": [
    "animals = [\"Dog\", \"Cat\", \"Horse\", \"Frog\", \"Cow\", \"Buffalo\", \"Deer\", \"Fish\", \"Bird\", \"Fox\", \"Racoon\"]\n",
    "mylist = [x for x in animals if \"o\" in x]\n",
    "mylist"
   ]
  },
  {
   "cell_type": "markdown",
   "id": "1a267b25-c066-467f-b100-9573e3490c88",
   "metadata": {},
   "source": [
    "Suppose we want to capitalize the elements."
   ]
  },
  {
   "cell_type": "code",
   "execution_count": 31,
   "id": "7ce1768e-0c93-49a8-9ff0-72856dfc6531",
   "metadata": {},
   "outputs": [
    {
     "data": {
      "text/plain": [
       "['DOG', 'HORSE', 'FROG', 'COW', 'BUFFALO', 'FOX', 'RACOON']"
      ]
     },
     "execution_count": 31,
     "metadata": {},
     "output_type": "execute_result"
    }
   ],
   "source": [
    "animals = [\"Dog\", \"Cat\", \"Horse\", \"Frog\", \"Cow\", \"Buffalo\", \"Deer\", \"Fish\", \"Bird\", \"Fox\", \"Racoon\"]\n",
    "mylist = []\n",
    "\n",
    "for x in animals:\n",
    "    if \"o\" in x:\n",
    "        mylist.append(x.upper())\n",
    "\n",
    "mylist"
   ]
  },
  {
   "cell_type": "markdown",
   "id": "28ef4f0b-6f2b-44d2-b6c7-afed7ccc85de",
   "metadata": {},
   "source": [
    "To repeat the above using list comprehension, we can write the following:"
   ]
  },
  {
   "cell_type": "code",
   "execution_count": 34,
   "id": "da96ee29-5073-4b79-9bd5-12dba4550b34",
   "metadata": {},
   "outputs": [
    {
     "data": {
      "text/plain": [
       "['DOG', 'HORSE', 'FROG', 'COW', 'BUFFALO', 'FOX', 'RACOON']"
      ]
     },
     "execution_count": 34,
     "metadata": {},
     "output_type": "execute_result"
    }
   ],
   "source": [
    "mylist = [x.upper() for x in animals if \"o\" in x]\n",
    "mylist"
   ]
  },
  {
   "cell_type": "markdown",
   "id": "711489bc-0772-41dd-b696-f7b4bd5519c9",
   "metadata": {},
   "source": [
    "Recall that strings are a sequence type object, so we can iterate over them."
   ]
  },
  {
   "cell_type": "code",
   "execution_count": 36,
   "id": "795bc71a-bb52-4ad0-91e4-1e629ac52d03",
   "metadata": {},
   "outputs": [
    {
     "data": {
      "text/plain": [
       "['a', 'o', 'o', 'e', 'e', 'a', 'i', 'a', 'i', 'o']"
      ]
     },
     "execution_count": 36,
     "metadata": {},
     "output_type": "execute_result"
    }
   ],
   "source": [
    "mylist = []\n",
    "\n",
    "# The loop below will iterate through the elements of my string\n",
    "for x in \"Man do I love learning all this python!\":\n",
    "    if x in \"aeiou\":\n",
    "        mylist.append(x)\n",
    "\n",
    "mylist"
   ]
  },
  {
   "cell_type": "markdown",
   "id": "d81b6ed6-be5e-472f-a717-0f486266dc20",
   "metadata": {},
   "source": [
    "This can be repeated with list comprehension."
   ]
  },
  {
   "cell_type": "code",
   "execution_count": 37,
   "id": "19c5870d-b36c-490b-9e73-008a5b6ab8b4",
   "metadata": {},
   "outputs": [
    {
     "data": {
      "text/plain": [
       "['a', 'o', 'o', 'e', 'e', 'a', 'i', 'a', 'i', 'o']"
      ]
     },
     "execution_count": 37,
     "metadata": {},
     "output_type": "execute_result"
    }
   ],
   "source": [
    "mylist = [x for x in \"Man do I love learning all this python!\" if x in \"aeiou\"]\n",
    "mylist"
   ]
  },
  {
   "cell_type": "markdown",
   "id": "8003af53-d4fb-43db-812f-d63fde839dc4",
   "metadata": {},
   "source": [
    "We can index with `[]`."
   ]
  },
  {
   "cell_type": "code",
   "execution_count": 38,
   "id": "23ed5301-c071-495c-ab41-11b0ba44bf09",
   "metadata": {},
   "outputs": [],
   "source": [
    "x = [10, 15, 10, 100, \"Help!\"]"
   ]
  },
  {
   "cell_type": "code",
   "execution_count": 39,
   "id": "60ebab1f-d5b5-43d5-a93a-9dc349912e5d",
   "metadata": {},
   "outputs": [
    {
     "data": {
      "text/plain": [
       "10"
      ]
     },
     "execution_count": 39,
     "metadata": {},
     "output_type": "execute_result"
    }
   ],
   "source": [
    "x[0]"
   ]
  },
  {
   "cell_type": "code",
   "execution_count": 40,
   "id": "aed153c8-9b50-4532-ad5b-7dfadee032bd",
   "metadata": {},
   "outputs": [
    {
     "data": {
      "text/plain": [
       "15"
      ]
     },
     "execution_count": 40,
     "metadata": {},
     "output_type": "execute_result"
    }
   ],
   "source": [
    "x[1]"
   ]
  },
  {
   "cell_type": "code",
   "execution_count": 41,
   "id": "58315322-e78f-4eba-bbd4-f1753c8a1e6d",
   "metadata": {},
   "outputs": [
    {
     "data": {
      "text/plain": [
       "'Help!'"
      ]
     },
     "execution_count": 41,
     "metadata": {},
     "output_type": "execute_result"
    }
   ],
   "source": [
    "x[-1]"
   ]
  },
  {
   "cell_type": "code",
   "execution_count": 42,
   "id": "21bd91d4-7fd3-43e3-96b8-d463eab978bd",
   "metadata": {},
   "outputs": [
    {
     "data": {
      "text/plain": [
       "[1, 2, 3, 4]"
      ]
     },
     "execution_count": 42,
     "metadata": {},
     "output_type": "execute_result"
    }
   ],
   "source": [
    "w = [list(range(1, 5)), x, 3]\n",
    "w[0]"
   ]
  },
  {
   "cell_type": "code",
   "execution_count": 43,
   "id": "39d13e5a-5c33-4da2-8da8-2525b8e4ce79",
   "metadata": {},
   "outputs": [
    {
     "data": {
      "text/plain": [
       "[10, 15, 10, 100, 'Help!']"
      ]
     },
     "execution_count": 43,
     "metadata": {},
     "output_type": "execute_result"
    }
   ],
   "source": [
    "w[1]"
   ]
  },
  {
   "cell_type": "code",
   "execution_count": 44,
   "id": "3ac54914-9188-4d02-82a9-14b5843960e0",
   "metadata": {},
   "outputs": [
    {
     "data": {
      "text/plain": [
       "10"
      ]
     },
     "execution_count": 44,
     "metadata": {},
     "output_type": "execute_result"
    }
   ],
   "source": [
    "w[1][0]"
   ]
  },
  {
   "cell_type": "code",
   "execution_count": 45,
   "id": "1df7d5e3-3614-45b7-abd9-f8f56c480e1b",
   "metadata": {},
   "outputs": [
    {
     "data": {
      "text/plain": [
       "3"
      ]
     },
     "execution_count": 45,
     "metadata": {},
     "output_type": "execute_result"
    }
   ],
   "source": [
    "w[-1]"
   ]
  },
  {
   "cell_type": "markdown",
   "id": "6d1f7263-ce98-4aa9-8fbc-384edb2d0b26",
   "metadata": {},
   "source": [
    "We can also **slice**, whereby we return multiple elements at once with `:`."
   ]
  },
  {
   "cell_type": "code",
   "execution_count": 46,
   "id": "22ae336e-5fd9-4284-96be-f2b08105db04",
   "metadata": {},
   "outputs": [
    {
     "data": {
      "text/plain": [
       "[10, 15]"
      ]
     },
     "execution_count": 46,
     "metadata": {},
     "output_type": "execute_result"
    }
   ],
   "source": [
    "x = [10, 15, 10, 100, \"Help!\"]\n",
    "x[:2]"
   ]
  },
  {
   "cell_type": "code",
   "execution_count": 47,
   "id": "4a3146b5-0cd8-4a12-8138-533bc610959c",
   "metadata": {},
   "outputs": [
    {
     "data": {
      "text/plain": [
       "[10, 15, 10]"
      ]
     },
     "execution_count": 47,
     "metadata": {},
     "output_type": "execute_result"
    }
   ],
   "source": [
    "x[:3]"
   ]
  },
  {
   "cell_type": "code",
   "execution_count": 48,
   "id": "50272a30-1860-4ac1-96a5-1cebe11e465e",
   "metadata": {},
   "outputs": [
    {
     "data": {
      "text/plain": [
       "[15, 10, 100, 'Help!']"
      ]
     },
     "execution_count": 48,
     "metadata": {},
     "output_type": "execute_result"
    }
   ],
   "source": [
    "x[1:]"
   ]
  },
  {
   "cell_type": "code",
   "execution_count": 49,
   "id": "ec52cf5a-2525-4f44-99ee-aef9ab6d08b4",
   "metadata": {},
   "outputs": [
    {
     "data": {
      "text/plain": [
       "[15, 10]"
      ]
     },
     "execution_count": 49,
     "metadata": {},
     "output_type": "execute_result"
    }
   ],
   "source": [
    "x[1:3]"
   ]
  },
  {
   "cell_type": "code",
   "execution_count": 50,
   "id": "df5de4aa-2bfe-44f2-b452-3df91e771f44",
   "metadata": {},
   "outputs": [
    {
     "data": {
      "text/plain": [
       "[15, 100]"
      ]
     },
     "execution_count": 50,
     "metadata": {},
     "output_type": "execute_result"
    }
   ],
   "source": [
    "x[1:4:2]"
   ]
  },
  {
   "cell_type": "code",
   "execution_count": 51,
   "id": "c589b287-324a-40dc-9f1f-0bd0080e8ddd",
   "metadata": {},
   "outputs": [
    {
     "data": {
      "text/plain": [
       "['Help!', 100, 10, 15, 10]"
      ]
     },
     "execution_count": 51,
     "metadata": {},
     "output_type": "execute_result"
    }
   ],
   "source": [
    "x[::-1]"
   ]
  },
  {
   "cell_type": "code",
   "execution_count": 53,
   "id": "26c56da2-8c73-4b37-96ef-004a478dd732",
   "metadata": {},
   "outputs": [
    {
     "data": {
      "text/plain": [
       "[[1, 2, 3, 4], [10, 15, 10, 100, 'Help!']]"
      ]
     },
     "execution_count": 53,
     "metadata": {},
     "output_type": "execute_result"
    }
   ],
   "source": [
    "w = [list(range(1, 5)), x, 3]\n",
    "w[:2]"
   ]
  },
  {
   "cell_type": "code",
   "execution_count": 54,
   "id": "0eb6b3fb-4199-4fc6-90ee-070e8ceb620c",
   "metadata": {},
   "outputs": [
    {
     "data": {
      "text/plain": [
       "[10, 15, 10, 100, 'Help!']"
      ]
     },
     "execution_count": 54,
     "metadata": {},
     "output_type": "execute_result"
    }
   ],
   "source": [
    "w[1]"
   ]
  },
  {
   "cell_type": "code",
   "execution_count": 55,
   "id": "3df7f889-1534-4a77-8cf7-1300ee783ad9",
   "metadata": {},
   "outputs": [
    {
     "data": {
      "text/plain": [
       "[10, 15, 10, 100, 'Help!']"
      ]
     },
     "execution_count": 55,
     "metadata": {},
     "output_type": "execute_result"
    }
   ],
   "source": [
    "w[1]"
   ]
  },
  {
   "cell_type": "code",
   "execution_count": 56,
   "id": "c98dd2d9-a6e0-470a-9985-cfcf0e043966",
   "metadata": {},
   "outputs": [
    {
     "data": {
      "text/plain": [
       "[15, 10]"
      ]
     },
     "execution_count": 56,
     "metadata": {},
     "output_type": "execute_result"
    }
   ],
   "source": [
    "w[1][1:3]"
   ]
  },
  {
   "cell_type": "markdown",
   "id": "7f1427db-16a9-40a6-a8a2-d184cd8d8a21",
   "metadata": {},
   "source": [
    "Since lists are mutable, we can replace or change their elements."
   ]
  },
  {
   "cell_type": "code",
   "execution_count": 57,
   "id": "bb0c4bea-fd69-421b-b5f7-b1dcafd6cc41",
   "metadata": {},
   "outputs": [
    {
     "data": {
      "text/plain": [
       "[11, 15, 10, 100, 'Help!']"
      ]
     },
     "execution_count": 57,
     "metadata": {},
     "output_type": "execute_result"
    }
   ],
   "source": [
    "x = [10, 15, 10, 100, \"Help!\"]\n",
    "x[0] = 11\n",
    "x"
   ]
  },
  {
   "cell_type": "code",
   "execution_count": 58,
   "id": "3c291e8d-e67a-4632-a502-fb4946225ff7",
   "metadata": {},
   "outputs": [
    {
     "data": {
      "text/plain": [
       "[11, ['hi', 'ho'], 10, 100, 'Help!']"
      ]
     },
     "execution_count": 58,
     "metadata": {},
     "output_type": "execute_result"
    }
   ],
   "source": [
    "x[1] = [\"hi\", \"ho\"]\n",
    "x"
   ]
  },
  {
   "cell_type": "code",
   "execution_count": 60,
   "id": "6f25404c-1ae1-4bcc-8462-56e662db0b1b",
   "metadata": {},
   "outputs": [
    {
     "data": {
      "text/plain": [
       "[11, 1, 2, 100, 'Help!']"
      ]
     },
     "execution_count": 60,
     "metadata": {},
     "output_type": "execute_result"
    }
   ],
   "source": [
    "x[1:3] = [1, 2]\n",
    "x"
   ]
  },
  {
   "cell_type": "markdown",
   "id": "87d13591-6876-4ccb-8bb0-e34c40dc7649",
   "metadata": {},
   "source": [
    "#### List methods"
   ]
  },
  {
   "cell_type": "markdown",
   "id": "eada8827-758a-4bbe-bed6-ce70d4e036b4",
   "metadata": {},
   "source": [
    "There are many useful methods to modify lists, such as\n",
    "\n",
    "- `mylist.append(object_to_add)`\n",
    "- `mylist.extend(object_to_add)`\n",
    "- `mylist.insert(index, object_to_add)`\n",
    "- `mylist.remove(element_to_remove)`\n",
    "- `mylist.count(value)`\n",
    "- `mylist.index(value)`"
   ]
  },
  {
   "cell_type": "code",
   "execution_count": 61,
   "id": "e14e86ca-323d-4641-a28b-23f58d2637a9",
   "metadata": {},
   "outputs": [
    {
     "data": {
      "text/plain": [
       "[1, 2, 3, 4, 5, 6, 7, 8, 9, ['a', 'b', 'c', 'd', 'e']]"
      ]
     },
     "execution_count": 61,
     "metadata": {},
     "output_type": "execute_result"
    }
   ],
   "source": [
    "# Append\n",
    "x = [x for x in range(1, 10)]\n",
    "y = [y for y in \"abcde\"]\n",
    "x.append(y)\n",
    "x"
   ]
  },
  {
   "cell_type": "code",
   "execution_count": 62,
   "id": "89c7847f-1c34-4e6d-b59b-285574a7e859",
   "metadata": {},
   "outputs": [
    {
     "data": {
      "text/plain": [
       "[1, 2, 3, 4, 5, 6, 7, 8, 9, 'a', 'b', 'c', 'd', 'e']"
      ]
     },
     "execution_count": 62,
     "metadata": {},
     "output_type": "execute_result"
    }
   ],
   "source": [
    "# Extend\n",
    "x = [x for x in range(1, 10)]\n",
    "y = [y for y in \"abcde\"]\n",
    "x.extend(y) # modifies x and iterates over list elements\n",
    "x"
   ]
  },
  {
   "cell_type": "markdown",
   "id": "864e4dc0-5016-4e5b-8fde-56e66a77f547",
   "metadata": {},
   "source": [
    "Both of the above modify in place. `x + y` is similar but does not overwrite x."
   ]
  },
  {
   "cell_type": "code",
   "execution_count": 63,
   "id": "c77dc4be-b077-4d71-948d-aa5c05e2731c",
   "metadata": {},
   "outputs": [
    {
     "data": {
      "text/plain": [
       "['a', 'b', 30, 'c', 'd', 'e']"
      ]
     },
     "execution_count": 63,
     "metadata": {},
     "output_type": "execute_result"
    }
   ],
   "source": [
    "y = [y for y in \"abcde\"]\n",
    "y.insert(2, 30) # modifies y\n",
    "y"
   ]
  },
  {
   "cell_type": "code",
   "execution_count": 64,
   "id": "adeae939-07ab-4c91-9dc2-39d32766ba75",
   "metadata": {},
   "outputs": [
    {
     "data": {
      "text/plain": [
       "['a', 'b', 30, 'c', 'e']"
      ]
     },
     "execution_count": 64,
     "metadata": {},
     "output_type": "execute_result"
    }
   ],
   "source": [
    "y.remove(\"d\") # modifies y\n",
    "y"
   ]
  },
  {
   "cell_type": "code",
   "execution_count": 66,
   "id": "1900d072-40ff-4523-9e13-1e21bcf5b4e5",
   "metadata": {},
   "outputs": [
    {
     "data": {
      "text/plain": [
       "[0, 1, 2, 3, 0, 1, 2, 3, 0, 1, 2, 3, 0, 1, 2, 3]"
      ]
     },
     "execution_count": 66,
     "metadata": {},
     "output_type": "execute_result"
    }
   ],
   "source": [
    "x = [x for x in range(0, 4)] * 4\n",
    "x"
   ]
  },
  {
   "cell_type": "code",
   "execution_count": 67,
   "id": "5b62dbf4-3881-46b6-b037-2529a2164898",
   "metadata": {},
   "outputs": [
    {
     "data": {
      "text/plain": [
       "4"
      ]
     },
     "execution_count": 67,
     "metadata": {},
     "output_type": "execute_result"
    }
   ],
   "source": [
    "x.count(1)"
   ]
  },
  {
   "cell_type": "code",
   "execution_count": 68,
   "id": "06905f92-3200-4875-8f1e-a0fa58055b42",
   "metadata": {},
   "outputs": [
    {
     "data": {
      "text/plain": [
       "['a', 'b', 'c', 'd', 'e', 'z', 'y', 'z', 'y', 'z', 'y']"
      ]
     },
     "execution_count": 68,
     "metadata": {},
     "output_type": "execute_result"
    }
   ],
   "source": [
    "y = [y for y in \"abcde\"]\n",
    "y.extend([\"z\", \"y\"] * 3)\n",
    "y"
   ]
  },
  {
   "cell_type": "code",
   "execution_count": 71,
   "id": "19b6ad4b-d5a4-418e-9cc4-f1428fe6ddff",
   "metadata": {},
   "outputs": [
    {
     "data": {
      "text/plain": [
       "6"
      ]
     },
     "execution_count": 71,
     "metadata": {},
     "output_type": "execute_result"
    }
   ],
   "source": [
    "# Find where the first instance of \"y\" occurs\n",
    "y.index(\"y\")"
   ]
  },
  {
   "cell_type": "code",
   "execution_count": 72,
   "id": "56ea9a5c-346b-425f-8a20-f722bdcd2ced",
   "metadata": {},
   "outputs": [
    {
     "data": {
      "text/plain": [
       "8"
      ]
     },
     "execution_count": 72,
     "metadata": {},
     "output_type": "execute_result"
    }
   ],
   "source": [
    "# Start at the 7th spot\n",
    "y.index(\"y\", y.index(\"y\") + 1)"
   ]
  },
  {
   "cell_type": "markdown",
   "id": "2b797e9e-dd83-457b-b768-dd917204bcf3",
   "metadata": {},
   "source": [
    "We can also pack a list."
   ]
  },
  {
   "cell_type": "code",
   "execution_count": 73,
   "id": "2f2a49f2-c884-4993-a82b-01c8f927bb68",
   "metadata": {},
   "outputs": [
    {
     "name": "stdout",
     "output_type": "stream",
     "text": [
      "Dog Cat Horse\n"
     ]
    }
   ],
   "source": [
    "animals = [\"Dog\", \"Cat\", \"Horse\", \"Frog\", \"Cow\", \"Buffalo\", \"Deer\", \"Fish\", \"Bird\", \"Fox\", \"Racoon\"]\n",
    "short_animals = animals[:3]\n",
    "\n",
    "first, second, third = short_animals\n",
    "print(first + \" \" + second + \" \" + third)"
   ]
  },
  {
   "cell_type": "markdown",
   "id": "6f36c45a-5690-4f4d-b606-ad31590e03af",
   "metadata": {},
   "source": [
    "We can also pack leftover elements into a list using `*name`."
   ]
  },
  {
   "cell_type": "code",
   "execution_count": 74,
   "id": "de02ab8c-9c42-49ab-a841-fe848196939f",
   "metadata": {},
   "outputs": [
    {
     "name": "stdout",
     "output_type": "stream",
     "text": [
      "Dog Cat Horse\n"
     ]
    }
   ],
   "source": [
    "first, second, third, *other = animals\n",
    "print(first + \" \" + second + \" \" + third)"
   ]
  },
  {
   "cell_type": "code",
   "execution_count": 75,
   "id": "809d5355-57fd-43ff-85c1-06a13d994bcf",
   "metadata": {},
   "outputs": [
    {
     "name": "stdout",
     "output_type": "stream",
     "text": [
      "['Frog', 'Cow', 'Buffalo', 'Deer', 'Fish', 'Bird', 'Fox', 'Racoon']\n"
     ]
    }
   ],
   "source": [
    "print(other)"
   ]
  },
  {
   "cell_type": "markdown",
   "id": "523cfe6c-bc9f-4b09-b4b9-3de706690487",
   "metadata": {},
   "source": [
    "We can put `*other` in different places."
   ]
  },
  {
   "cell_type": "code",
   "execution_count": 76,
   "id": "4b6f8314-7699-41fc-afdf-d0793557e8a2",
   "metadata": {},
   "outputs": [],
   "source": [
    "*other, second_last, last = animals"
   ]
  },
  {
   "cell_type": "code",
   "execution_count": 77,
   "id": "e56a185d-196c-4f08-a8f1-90dfc9940dda",
   "metadata": {},
   "outputs": [
    {
     "name": "stdout",
     "output_type": "stream",
     "text": [
      "['Dog', 'Cat', 'Horse', 'Frog', 'Cow', 'Buffalo', 'Deer', 'Fish', 'Bird']\n"
     ]
    }
   ],
   "source": [
    "print(other)"
   ]
  },
  {
   "cell_type": "code",
   "execution_count": 78,
   "id": "d8d08f28-7982-40e0-87bc-5e13ae28c2fc",
   "metadata": {},
   "outputs": [
    {
     "name": "stdout",
     "output_type": "stream",
     "text": [
      "Fox Racoon\n"
     ]
    }
   ],
   "source": [
    "print(second_last + \" \" + last)"
   ]
  },
  {
   "cell_type": "markdown",
   "id": "8eb850ec-6a72-4732-a23a-7e479a8a4405",
   "metadata": {},
   "source": [
    "We can also use the underscore as a \"temporary\" placeholder for things we do not care about. These will disappear after we run our code."
   ]
  },
  {
   "cell_type": "code",
   "execution_count": 81,
   "id": "9df65863-5c8d-4a30-93aa-f9159923a146",
   "metadata": {},
   "outputs": [],
   "source": [
    "# *_ is our temporary variable\n",
    "first, *_, last = animals"
   ]
  },
  {
   "cell_type": "code",
   "execution_count": 80,
   "id": "f683b677-8728-4267-a099-c28121f37709",
   "metadata": {},
   "outputs": [
    {
     "name": "stdout",
     "output_type": "stream",
     "text": [
      "Dog Racoon\n"
     ]
    }
   ],
   "source": [
    "print(first + \" \" + last)"
   ]
  },
  {
   "cell_type": "markdown",
   "id": "93dd45bc-3153-44ed-8bf6-3c37b2863341",
   "metadata": {},
   "source": [
    "Later, we'll look at _unpacking_ a list when calling a function."
   ]
  },
  {
   "cell_type": "code",
   "execution_count": 82,
   "id": "fb8a1708-ccd3-449e-b388-8b200589d5df",
   "metadata": {},
   "outputs": [
    {
     "name": "stdout",
     "output_type": "stream",
     "text": [
      "cat dog cow\n"
     ]
    }
   ],
   "source": [
    "def my_fun(a, b, c):\n",
    "    print(a, b, c)\n",
    "\n",
    "fav_animals = [\"cat\", \"dog\", \"cow\"]\n",
    "my_fun(*fav_animals)"
   ]
  },
  {
   "cell_type": "markdown",
   "id": "891dbc2b-a44c-47f1-9781-5c9f5d725ad7",
   "metadata": {},
   "source": [
    "#### Constructing tuples"
   ]
  },
  {
   "cell_type": "markdown",
   "id": "7c5580e7-9acf-41fc-838b-c892a17081cf",
   "metadata": {},
   "source": [
    "Tuples are very similar to lists, but they are **not** mutable. We create them by separating elements with a `,`, `( )`, or `tuple(())`."
   ]
  },
  {
   "cell_type": "code",
   "execution_count": 88,
   "id": "8f394967-3453-4e98-bfd5-fc77e0601970",
   "metadata": {},
   "outputs": [
    {
     "data": {
      "text/plain": [
       "(3, 10, 'word', True)"
      ]
     },
     "execution_count": 88,
     "metadata": {},
     "output_type": "execute_result"
    }
   ],
   "source": [
    "# If we don't include parentheses, we automatically create a tuple\n",
    "tup1 = 3, 10, \"word\", True\n",
    "tup1"
   ]
  },
  {
   "cell_type": "code",
   "execution_count": 89,
   "id": "9b2acc7c-0d12-4523-bf89-fc3eea3fe6c1",
   "metadata": {},
   "outputs": [
    {
     "data": {
      "text/plain": [
       "(1, 2, 'word', False)"
      ]
     },
     "execution_count": 89,
     "metadata": {},
     "output_type": "execute_result"
    }
   ],
   "source": [
    "# Optionally, we can include parentheses\n",
    "tup2 = (1, 2, \"word\", False)\n",
    "tup2"
   ]
  },
  {
   "cell_type": "code",
   "execution_count": 87,
   "id": "880a2282-4eea-4344-a390-217103480628",
   "metadata": {},
   "outputs": [
    {
     "data": {
      "text/plain": [
       "((3, 10, 'word', True), (1, 2, 'word', False))"
      ]
     },
     "execution_count": 87,
     "metadata": {},
     "output_type": "execute_result"
    }
   ],
   "source": [
    "tup3 = tuple((tup1, tup2))\n",
    "tup3"
   ]
  },
  {
   "cell_type": "code",
   "execution_count": 90,
   "id": "b8a4cabb-4f47-44c8-a8d8-1f4ec4703bdd",
   "metadata": {},
   "outputs": [
    {
     "data": {
      "text/plain": [
       "(3, 10, 'word', True, 1, 2, 'word', False)"
      ]
     },
     "execution_count": 90,
     "metadata": {},
     "output_type": "execute_result"
    }
   ],
   "source": [
    "tup4 = tup1 + tup2\n",
    "tup4"
   ]
  },
  {
   "cell_type": "code",
   "execution_count": 92,
   "id": "af73ca91-8040-475a-8f1a-243920dfd7d9",
   "metadata": {},
   "outputs": [
    {
     "data": {
      "text/plain": [
       "(1, [1, 3])"
      ]
     },
     "execution_count": 92,
     "metadata": {},
     "output_type": "execute_result"
    }
   ],
   "source": [
    "tup5 = (1, [1, 3])\n",
    "tup5"
   ]
  },
  {
   "cell_type": "code",
   "execution_count": 93,
   "id": "626fbfa3-8052-40a4-a407-805773230c96",
   "metadata": {},
   "outputs": [
    {
     "data": {
      "text/plain": [
       "(1, [1, 3], 1, [1, 3], 1, [1, 3])"
      ]
     },
     "execution_count": 93,
     "metadata": {},
     "output_type": "execute_result"
    }
   ],
   "source": [
    "tup5 * 3"
   ]
  },
  {
   "cell_type": "code",
   "execution_count": 94,
   "id": "f909c177-0f09-4108-aa45-9343aa4f0f02",
   "metadata": {},
   "outputs": [
    {
     "data": {
      "text/plain": [
       "3"
      ]
     },
     "execution_count": 94,
     "metadata": {},
     "output_type": "execute_result"
    }
   ],
   "source": [
    "tup5[1][1]"
   ]
  },
  {
   "cell_type": "code",
   "execution_count": 95,
   "id": "f3dfd354-8d68-4535-bde5-bd7593cf1597",
   "metadata": {},
   "outputs": [
    {
     "data": {
      "text/plain": [
       "(1, [1, 5])"
      ]
     },
     "execution_count": 95,
     "metadata": {},
     "output_type": "execute_result"
    }
   ],
   "source": [
    "# We can still modify mutable elements inside of a tuple\n",
    "tup5[1][1] = 5\n",
    "tup5"
   ]
  },
  {
   "cell_type": "markdown",
   "id": "3a7b82f1-e570-4a2f-b6f4-1e96bc9881f2",
   "metadata": {},
   "source": [
    "We can create a list with a list comprehension and then change it to a tuple."
   ]
  },
  {
   "cell_type": "code",
   "execution_count": 96,
   "id": "d9c73286-db98-435b-bcd8-f5164b47d1f4",
   "metadata": {},
   "outputs": [
    {
     "data": {
      "text/plain": [
       "(1, 2, 3, 4, 5, 6, 7, 8, 9)"
      ]
     },
     "execution_count": 96,
     "metadata": {},
     "output_type": "execute_result"
    }
   ],
   "source": [
    "y = [x for x in range(1, 10)]\n",
    "y = tuple(y)\n",
    "y"
   ]
  },
  {
   "cell_type": "code",
   "execution_count": 97,
   "id": "462e924f-0156-4633-a9c9-160c976db1e5",
   "metadata": {},
   "outputs": [
    {
     "data": {
      "text/plain": [
       "(1, 2, 3, 4, 5, 6, 7, 8, 9, 'new element')"
      ]
     },
     "execution_count": 97,
     "metadata": {},
     "output_type": "execute_result"
    }
   ],
   "source": [
    "y = list(y)\n",
    "y.append(\"new element\")\n",
    "y = tuple(y)\n",
    "y"
   ]
  },
  {
   "cell_type": "markdown",
   "id": "b59f1673-fb5a-4b04-9495-6b84fa13f083",
   "metadata": {},
   "source": [
    "#### Examples"
   ]
  },
  {
   "cell_type": "code",
   "execution_count": 100,
   "id": "e460de2d-178a-468f-842c-2bebf217a25f",
   "metadata": {},
   "outputs": [
    {
     "data": {
      "text/plain": [
       "[[0, 1, 2],\n",
       " [1, 2, 3],\n",
       " [2, 3, 4],\n",
       " [3, 4, 5],\n",
       " [4, 5, 6],\n",
       " [5, 6, 7],\n",
       " [6, 7, 8],\n",
       " [7, 8, 9],\n",
       " [8, 9, 10],\n",
       " [9, 10, 11]]"
      ]
     },
     "execution_count": 100,
     "metadata": {},
     "output_type": "execute_result"
    }
   ],
   "source": [
    "# Create a list of lists\n",
    "y = [[x, x+1, x+2] for x in range(0, 10)]\n",
    "y"
   ]
  },
  {
   "cell_type": "markdown",
   "id": "c4ec1b74-4a13-4c97-bc7e-ca818c12881b",
   "metadata": {},
   "source": [
    "`map()` is a function that allows us to map elements to an object, such as a list."
   ]
  },
  {
   "cell_type": "code",
   "execution_count": 101,
   "id": "36925a5b-16e9-4510-8235-7e53d183191a",
   "metadata": {},
   "outputs": [
    {
     "data": {
      "text/plain": [
       "3"
      ]
     },
     "execution_count": 101,
     "metadata": {},
     "output_type": "execute_result"
    }
   ],
   "source": [
    "# Returns sum of [0, 1, 2]\n",
    "sum(y[0])"
   ]
  },
  {
   "cell_type": "code",
   "execution_count": 103,
   "id": "8ca7a6de-7676-4589-9cf4-675283ddc11c",
   "metadata": {},
   "outputs": [
    {
     "data": {
      "text/plain": [
       "6"
      ]
     },
     "execution_count": 103,
     "metadata": {},
     "output_type": "execute_result"
    }
   ],
   "source": [
    "# Sum of [1, 2, 3]\n",
    "sum(y[1])"
   ]
  },
  {
   "cell_type": "markdown",
   "id": "dcef1b30-386d-4114-b179-15f3ca5b7b98",
   "metadata": {},
   "source": [
    "To find sums for all rows, we could keep running individual `sum()` functions. However, this takes a lot of work. Instead, we can use the `map()` function!"
   ]
  },
  {
   "cell_type": "code",
   "execution_count": 104,
   "id": "dd6ef24b-e857-4271-88fc-2de275515479",
   "metadata": {},
   "outputs": [
    {
     "data": {
      "text/plain": [
       "<map at 0x7fa0d1ddd760>"
      ]
     },
     "execution_count": 104,
     "metadata": {},
     "output_type": "execute_result"
    }
   ],
   "source": [
    "map(sum, y)"
   ]
  },
  {
   "cell_type": "code",
   "execution_count": 106,
   "id": "317df217-9d5d-41ae-8d29-a99d2b492267",
   "metadata": {},
   "outputs": [
    {
     "data": {
      "text/plain": [
       "[3, 6, 9, 12, 15, 18, 21, 24, 27, 30]"
      ]
     },
     "execution_count": 106,
     "metadata": {},
     "output_type": "execute_result"
    }
   ],
   "source": [
    "list(map(sum, y))"
   ]
  },
  {
   "cell_type": "markdown",
   "id": "2d98c971-6893-409e-8a8d-66e53c6133f6",
   "metadata": {},
   "source": [
    "We can also use the `zip()` function to iterate over multiple lists at the same time."
   ]
  },
  {
   "cell_type": "code",
   "execution_count": 107,
   "id": "d74980fe-02d1-4f7e-be92-a9b8982cc09a",
   "metadata": {},
   "outputs": [
    {
     "data": {
      "text/plain": [
       "[3, 6, 9, 12, 15, 18, 21, 24, 27, 30]"
      ]
     },
     "execution_count": 107,
     "metadata": {},
     "output_type": "execute_result"
    }
   ],
   "source": [
    "z = list(map(sum, y))\n",
    "z"
   ]
  },
  {
   "cell_type": "code",
   "execution_count": 109,
   "id": "8fa3c1a8-07f4-4963-8be3-1ddd4200f357",
   "metadata": {},
   "outputs": [
    {
     "name": "stdout",
     "output_type": "stream",
     "text": [
      "10 10\n"
     ]
    }
   ],
   "source": [
    "# Ensure same length\n",
    "print(len(y), len(z))"
   ]
  },
  {
   "cell_type": "code",
   "execution_count": 112,
   "id": "17b1efae-4492-4c94-b3ee-82da553b5431",
   "metadata": {},
   "outputs": [
    {
     "data": {
      "text/plain": [
       "[([0, 1, 2], 3),\n",
       " ([1, 2, 3], 6),\n",
       " ([2, 3, 4], 9),\n",
       " ([3, 4, 5], 12),\n",
       " ([4, 5, 6], 15),\n",
       " ([5, 6, 7], 18),\n",
       " ([6, 7, 8], 21),\n",
       " ([7, 8, 9], 24),\n",
       " ([8, 9, 10], 27),\n",
       " ([9, 10, 11], 30)]"
      ]
     },
     "execution_count": 112,
     "metadata": {},
     "output_type": "execute_result"
    }
   ],
   "source": [
    "list(zip(y, z))"
   ]
  },
  {
   "cell_type": "code",
   "execution_count": 110,
   "id": "a2a9c25e-2459-4179-9b7b-c82af6331b9b",
   "metadata": {},
   "outputs": [
    {
     "data": {
      "text/plain": [
       "[[0, 1, 2], [2, 3, 4], [4, 5, 6], [6, 7, 8], [8, 9, 10]]"
      ]
     },
     "execution_count": 110,
     "metadata": {},
     "output_type": "execute_result"
    }
   ],
   "source": [
    "mylist = []\n",
    "\n",
    "for i, j in zip(y, z):\n",
    "    # If j us odd\n",
    "    if j % 2:\n",
    "        mylist.append(i)\n",
    "\n",
    "mylist"
   ]
  },
  {
   "cell_type": "markdown",
   "id": "bdad1b8b-d112-48fd-902f-ceaaec36d99d",
   "metadata": {},
   "source": [
    "To do this using list comprehension:"
   ]
  },
  {
   "cell_type": "code",
   "execution_count": 113,
   "id": "09ed210b-843f-435e-a939-bb0d48d45ffe",
   "metadata": {},
   "outputs": [
    {
     "data": {
      "text/plain": [
       "[[0, 1, 2], [2, 3, 4], [4, 5, 6], [6, 7, 8], [8, 9, 10]]"
      ]
     },
     "execution_count": 113,
     "metadata": {},
     "output_type": "execute_result"
    }
   ],
   "source": [
    "[i for i, j in zip(y, z) if j % 2]"
   ]
  },
  {
   "cell_type": "markdown",
   "id": "c85fac88-9e16-4f72-9d44-7c3b39a19269",
   "metadata": {},
   "source": [
    "### Dictionaries"
   ]
  },
  {
   "cell_type": "markdown",
   "id": "c50efc60-4f3b-4c5e-89eb-3099cad212d0",
   "metadata": {},
   "source": [
    "Dictionaries have keys and values, or **key-value pairs**. There is no ordering to their elements; instead, we just reference keys.\n",
    "\n",
    "- **Keys** represent indices and must be unique\n",
    "- Keys can be any immutable object, such as a tuple or a string (recall that we cannot access an element of a string and change it)\n",
    "\n",
    "Values can be anything - lists, strings, etc. \n",
    "\n",
    "Dictionaries are mutable, and their keys can be changed or dropped. "
   ]
  },
  {
   "cell_type": "markdown",
   "id": "8f22fff1-cf97-410c-b83c-b410362c5fb8",
   "metadata": {},
   "source": [
    "#### Creating a dictionary"
   ]
  },
  {
   "cell_type": "markdown",
   "id": "9efd7f02-e388-4fa9-a9bc-73c2f48a795c",
   "metadata": {},
   "source": [
    "To create a dictionary, we use `dict(supply_key_value_pairs)` or `{supply_key_value_pairs}`"
   ]
  },
  {
   "cell_type": "code",
   "execution_count": 114,
   "id": "015772b5-2636-43b2-a8d3-3b230a34dcec",
   "metadata": {},
   "outputs": [
    {
     "data": {
      "text/plain": [
       "{}"
      ]
     },
     "execution_count": 114,
     "metadata": {},
     "output_type": "execute_result"
    }
   ],
   "source": [
    "# Empty dictionary\n",
    "{}"
   ]
  },
  {
   "cell_type": "code",
   "execution_count": 115,
   "id": "0d6a1fe5-bcf2-4f77-8fec-41f4181e58e0",
   "metadata": {},
   "outputs": [
    {
     "data": {
      "text/plain": [
       "{'key1': [12, -10, 'value1'], 'key2': [11, 'value2'], 'key3': 'value3'}"
      ]
     },
     "execution_count": 115,
     "metadata": {},
     "output_type": "execute_result"
    }
   ],
   "source": [
    "mydict = {\n",
    "    \"key1\": [12, -10, \"value1\"],\n",
    "    \"key2\": [11, \"value2\"],\n",
    "    \"key3\": \"value3\"\n",
    "}\n",
    "\n",
    "mydict"
   ]
  },
  {
   "cell_type": "code",
   "execution_count": 117,
   "id": "6025e87c-b290-4601-9de4-f129a755d649",
   "metadata": {},
   "outputs": [
    {
     "data": {
      "text/plain": [
       "{1: ['hee', 'haw'], 2: 'fa'}"
      ]
     },
     "execution_count": 117,
     "metadata": {},
     "output_type": "execute_result"
    }
   ],
   "source": [
    "# List of 2 tuples\n",
    "# Lists are created with square brackets, tuples are created using ()\n",
    "mydict2 = dict([\n",
    "    (1, ['hee', 'haw']),\n",
    "    (2, 'fa')\n",
    "])\n",
    "\n",
    "mydict2"
   ]
  },
  {
   "cell_type": "markdown",
   "id": "0dbc3172-0cdd-409f-8a18-835053e0f293",
   "metadata": {},
   "source": [
    "We can also create dictionaries using the `zip()` function."
   ]
  },
  {
   "cell_type": "code",
   "execution_count": 119,
   "id": "2db9b5d9-bb25-4a7a-80fc-bc559d8dddee",
   "metadata": {},
   "outputs": [
    {
     "data": {
      "text/plain": [
       "{'a': 0, 'b': 1, 'c': 2, 'd': 3, 'e': 4, 'f': 5, 'g': 6, 'h': 7}"
      ]
     },
     "execution_count": 119,
     "metadata": {},
     "output_type": "execute_result"
    }
   ],
   "source": [
    "keys = [x for x in \"abcdefgh\"]\n",
    "values = [y for y in range(0, 8)]\n",
    "\n",
    "dict(zip(keys, values))"
   ]
  },
  {
   "cell_type": "markdown",
   "id": "eba2b8c9-f873-40fe-8c33-b70c05628396",
   "metadata": {},
   "source": [
    "We can also create dictionaries using dictionary comprehensions."
   ]
  },
  {
   "cell_type": "code",
   "execution_count": 124,
   "id": "20445ef5-954c-43d6-afcf-04c25c4ec1f7",
   "metadata": {},
   "outputs": [
    {
     "data": {
      "text/plain": [
       "{0: 0, 1: 1, 2: 2, 3: 3, 4: 4, 5: 5}"
      ]
     },
     "execution_count": 124,
     "metadata": {},
     "output_type": "execute_result"
    }
   ],
   "source": [
    "# Notice the colon\n",
    "mydict = {i: i for i in range(0, 6)}\n",
    "mydict"
   ]
  },
  {
   "cell_type": "code",
   "execution_count": 123,
   "id": "7a46b6bd-9258-486f-b669-1391132d1ea9",
   "metadata": {},
   "outputs": [
    {
     "data": {
      "text/plain": [
       "{'a': 0, 'b': 1, 'c': 4, 'd': 9, 'e': 16, 'f': 25}"
      ]
     },
     "execution_count": 123,
     "metadata": {},
     "output_type": "execute_result"
    }
   ],
   "source": [
    "mydict = {\"abcdef\"[i]: i**2 for i in range(0, 6)}\n",
    "mydict"
   ]
  },
  {
   "cell_type": "markdown",
   "id": "4b53cd7b-1020-4209-a340-6a4d4f0e60af",
   "metadata": {},
   "source": [
    "Remember that dictionaries are unordered objects, so there is no 2nd, 3rd, etc. element. To retrieve an element, we can index with `[key]`."
   ]
  },
  {
   "cell_type": "code",
   "execution_count": 127,
   "id": "880b4fee-d6dd-4441-af52-6c7a7e82403c",
   "metadata": {},
   "outputs": [
    {
     "data": {
      "text/plain": [
       "['Steelers', 'Browns', 'Ravens', 'Bengals']"
      ]
     },
     "execution_count": 127,
     "metadata": {},
     "output_type": "execute_result"
    }
   ],
   "source": [
    "AFCDivisions = {\n",
    "    \"North\": [\"Steelers\", \"Browns\", \"Ravens\", \"Bengals\"],\n",
    "    \"East\": [\"Patriots\", \"Jets\", \"Dolphins\", \"Bills\"],\n",
    "    \"West\": [\"Raiders\", \"Chiefs\", \"Chargers\", \"Broncos\"]\n",
    "}\n",
    "\n",
    "# Returns a list\n",
    "AFCDivisions[\"North\"]"
   ]
  },
  {
   "cell_type": "code",
   "execution_count": 126,
   "id": "4677c851-f75c-4d1b-a14f-fa1e371a4930",
   "metadata": {},
   "outputs": [
    {
     "data": {
      "text/plain": [
       "'Steelers'"
      ]
     },
     "execution_count": 126,
     "metadata": {},
     "output_type": "execute_result"
    }
   ],
   "source": [
    "AFCDivisions[\"North\"][0]"
   ]
  },
  {
   "cell_type": "markdown",
   "id": "8e0f01ef-94cb-48aa-8809-8cec8f2277b7",
   "metadata": {},
   "source": [
    "Dictionaries are also _mutable_!"
   ]
  },
  {
   "cell_type": "code",
   "execution_count": 129,
   "id": "1a6c9353-fef8-4305-9603-a53d70e361cd",
   "metadata": {},
   "outputs": [
    {
     "name": "stdout",
     "output_type": "stream",
     "text": [
      "North  :  ['Steelers', 'Browns', 'Ravens', 'Bengals']\n",
      "East  :  ['Patriots', 'Jets', 'Dolphins', 'Bills']\n",
      "West  :  ['Raiders', 'Chiefs', 'Chargers', 'Broncos']\n",
      "South  :  [1, 2]\n"
     ]
    }
   ],
   "source": [
    "AFCDivisions = {\n",
    "    \"North\": [\"Steelers\", \"Browns\", \"Ravens\", \"Bengals\"],\n",
    "    \"East\": [\"Patriots\", \"Jets\", \"Dolphins\", \"Bills\"],\n",
    "    \"West\": [\"Raiders\", \"Chiefs\", \"Chargers\", \"Broncos\"]\n",
    "}\n",
    "\n",
    "# Create a new key\n",
    "AFCDivisions[\"South\"] = [1, 2]\n",
    "\n",
    "for key in AFCDivisions:\n",
    "    print(key, ' : ', AFCDivisions[key])"
   ]
  },
  {
   "cell_type": "code",
   "execution_count": 131,
   "id": "daad965b-79ad-4bb0-ae5f-d9f60492ad84",
   "metadata": {},
   "outputs": [
    {
     "name": "stdout",
     "output_type": "stream",
     "text": [
      "North  :  ['Steelers', 'Browns', 'Ravens', 'Bengals']\n",
      "East  :  ['Patriots', 'Jets', 'Dolphins', 'Bills']\n",
      "West  :  ['Raiders', 'Chiefs', 'Chargers', 'Broncos']\n",
      "South  :  ['Texans', 'Colts', 'Jaguars', 'Titans']\n"
     ]
    }
   ],
   "source": [
    "AFCDivisions = {\n",
    "    \"North\": [\"Steelers\", \"Browns\", \"Ravens\", \"Bengals\"],\n",
    "    \"East\": [\"Patriots\", \"Jets\", \"Dolphins\", \"Bills\"],\n",
    "    \"West\": [\"Raiders\", \"Chiefs\", \"Chargers\", \"Broncos\"]\n",
    "}\n",
    "\n",
    "# Create a new key with incorrect teams\n",
    "AFCDivisions[\"South\"] = [1, 2]\n",
    "\n",
    "# Overwrite the key with the correct teams after we've already created it\n",
    "AFCDivisions[\"South\"] = [\"Texans\", \"Colts\", \"Jaguars\", \"Titans\"]\n",
    "\n",
    "for key in AFCDivisions:\n",
    "    print(key, ' : ', AFCDivisions[key])"
   ]
  },
  {
   "cell_type": "markdown",
   "id": "e72f1fdc-93b0-4a23-9d9b-064f87ca7373",
   "metadata": {},
   "source": [
    "#### Packing and unpacking dictionaries"
   ]
  },
  {
   "cell_type": "markdown",
   "id": "ef547457-2db7-4e46-937b-33c2bc5023a4",
   "metadata": {},
   "source": [
    "We can **pack dictionaries** using `**`."
   ]
  },
  {
   "cell_type": "code",
   "execution_count": 132,
   "id": "8c1a384e-e47f-4b74-9038-d4d5a2fc089a",
   "metadata": {},
   "outputs": [
    {
     "name": "stdout",
     "output_type": "stream",
     "text": [
      "AFCNorth  :  ['Steelers', 'Browns', 'Ravens', 'Bengals']\n",
      "AFCEast  :  ['Patriots', 'Jets', 'Dolphins', 'Bills']\n",
      "AFCWest  :  ['Raiders', 'Chiefs', 'Chargers', 'Broncos']\n",
      "AFCSouth  :  ['Texans', 'Colts', 'Jaguars', 'Titans']\n",
      "NFCNorth  :  ['Lions', 'Bears', 'Packers', 'Vikings']\n",
      "NFCEast  :  ['Giants', 'Cowboys', 'Eagles', 'Admirals']\n"
     ]
    }
   ],
   "source": [
    "AFCDivisions = {\n",
    "    \"AFCNorth\": [\"Steelers\", \"Browns\", \"Ravens\", \"Bengals\"],\n",
    "    \"AFCEast\": [\"Patriots\", \"Jets\", \"Dolphins\", \"Bills\"],\n",
    "    \"AFCWest\": [\"Raiders\", \"Chiefs\", \"Chargers\", \"Broncos\"],\n",
    "    \"AFCSouth\": [\"Texans\", \"Colts\", \"Jaguars\", \"Titans\"] \n",
    "}\n",
    "\n",
    "NFCDivisions = {\n",
    "    \"NFCNorth\" : [\"Lions\", \"Bears\", \"Packers\", \"Vikings\"],\n",
    "    \"NFCEast\" : [\"Giants\", \"Cowboys\", \"Eagles\", \"Admirals\"]\n",
    "}\n",
    "\n",
    "Divisions = {**AFCDivisions, **NFCDivisions}\n",
    "\n",
    "for key in Divisions:\n",
    "    print(key, ' : ', Divisions[key])"
   ]
  },
  {
   "cell_type": "markdown",
   "id": "1fdf27fe-8bb0-472f-8b6a-bc795f7ecb7e",
   "metadata": {},
   "source": [
    "#### Dictionary methods"
   ]
  },
  {
   "cell_type": "markdown",
   "id": "3e1a8401-f564-475e-bc69-f857344c6a54",
   "metadata": {},
   "source": [
    "- `.get()`\n",
    "- `.keys()`\n",
    "- `.values()`\n",
    "- `.pop()`\n",
    "- `.update()`"
   ]
  },
  {
   "cell_type": "markdown",
   "id": "9a868a6f-325c-4e3b-8634-94c7972639ba",
   "metadata": {},
   "source": [
    "We can retrieve indices from dictionaries using either `[]` or the `.get()` method. The difference between the two is that, with `[]`, if the index does not exist, we get an error. On the other hand, `.get()` does not throw an error. "
   ]
  },
  {
   "cell_type": "code",
   "execution_count": 134,
   "id": "84bf1b6e-12f7-479a-bf20-5d0188ff3e39",
   "metadata": {},
   "outputs": [
    {
     "data": {
      "text/plain": [
       "['Texans', 'Colts', 'Jaguars', 'Titans']"
      ]
     },
     "execution_count": 134,
     "metadata": {},
     "output_type": "execute_result"
    }
   ],
   "source": [
    "AFCDivisions = {\n",
    "    \"North\": [\"Steelers\", \"Browns\", \"Ravens\", \"Bengals\"],\n",
    "    \"East\": [\"Patriots\", \"Jets\", \"Dolphins\", \"Bills\"],\n",
    "    \"West\": [\"Raiders\", \"Chiefs\", \"Chargers\", \"Broncos\"],\n",
    "    \"South\": [\"Texans\", \"Colts\", \"Jaguars\", \"Titans\"]\n",
    "}\n",
    "\n",
    "AFCDivisions.get(\"South\")"
   ]
  },
  {
   "cell_type": "code",
   "execution_count": 135,
   "id": "a4666595-409c-4a5c-bb82-75074f6fad77",
   "metadata": {},
   "outputs": [],
   "source": [
    "# No error\n",
    "AFCDivisions.get(\"Northeast\")"
   ]
  },
  {
   "cell_type": "code",
   "execution_count": 137,
   "id": "b35802db-de38-4c32-8c3b-d96e8b6d9652",
   "metadata": {},
   "outputs": [
    {
     "ename": "KeyError",
     "evalue": "'Northeast'",
     "output_type": "error",
     "traceback": [
      "\u001b[0;31m---------------------------------------------------------------------------\u001b[0m",
      "\u001b[0;31mKeyError\u001b[0m                                  Traceback (most recent call last)",
      "\u001b[0;32m/var/folders/7s/5dc_cr591d1fss_sp_k6c7n00000gn/T/ipykernel_14942/2171069538.py\u001b[0m in \u001b[0;36m<module>\u001b[0;34m\u001b[0m\n\u001b[1;32m      1\u001b[0m \u001b[0;31m# Returns error\u001b[0m\u001b[0;34m\u001b[0m\u001b[0;34m\u001b[0m\u001b[0;34m\u001b[0m\u001b[0m\n\u001b[0;32m----> 2\u001b[0;31m \u001b[0mAFCDivisions\u001b[0m\u001b[0;34m[\u001b[0m\u001b[0;34m\"Northeast\"\u001b[0m\u001b[0;34m]\u001b[0m\u001b[0;34m\u001b[0m\u001b[0;34m\u001b[0m\u001b[0m\n\u001b[0m",
      "\u001b[0;31mKeyError\u001b[0m: 'Northeast'"
     ]
    }
   ],
   "source": [
    "# Returns error\n",
    "AFCDivisions[\"Northeast\"]"
   ]
  },
  {
   "cell_type": "markdown",
   "id": "8787036a-830e-4170-ba68-d76cc9dc1319",
   "metadata": {},
   "source": [
    "We can return keys with `.keys()` and values with `.values()`."
   ]
  },
  {
   "cell_type": "code",
   "execution_count": 138,
   "id": "95d88472-1c7c-4580-80e1-4146bc4f229a",
   "metadata": {},
   "outputs": [
    {
     "data": {
      "text/plain": [
       "dict_keys(['North', 'East', 'West', 'South'])"
      ]
     },
     "execution_count": 138,
     "metadata": {},
     "output_type": "execute_result"
    }
   ],
   "source": [
    "AFCDivisions = {\n",
    "    \"North\": [\"Steelers\", \"Browns\", \"Ravens\", \"Bengals\"],\n",
    "    \"East\": [\"Patriots\", \"Jets\", \"Dolphins\", \"Bills\"],\n",
    "    \"West\": [\"Raiders\", \"Chiefs\", \"Chargers\", \"Broncos\"],\n",
    "    \"South\": [\"Texans\", \"Colts\", \"Jaguars\", \"Titans\"]\n",
    "}\n",
    "\n",
    "AFCDivisions.keys()"
   ]
  },
  {
   "cell_type": "code",
   "execution_count": 139,
   "id": "edc3f6be-7ec2-440f-b0ce-0643466f6461",
   "metadata": {},
   "outputs": [
    {
     "data": {
      "text/plain": [
       "dict_values([['Steelers', 'Browns', 'Ravens', 'Bengals'], ['Patriots', 'Jets', 'Dolphins', 'Bills'], ['Raiders', 'Chiefs', 'Chargers', 'Broncos'], ['Texans', 'Colts', 'Jaguars', 'Titans']])"
      ]
     },
     "execution_count": 139,
     "metadata": {},
     "output_type": "execute_result"
    }
   ],
   "source": [
    "AFCDivisions.values()"
   ]
  },
  {
   "cell_type": "markdown",
   "id": "90a22ad2-6db3-4069-bb10-e10cdeb4ed62",
   "metadata": {},
   "source": [
    "We can return and remove a specified key with `.pop()`."
   ]
  },
  {
   "cell_type": "code",
   "execution_count": 140,
   "id": "fd0191c5-f843-4e71-a01e-ba89ead03983",
   "metadata": {},
   "outputs": [
    {
     "data": {
      "text/plain": [
       "['Steelers', 'Browns', 'Ravens', 'Bengals']"
      ]
     },
     "execution_count": 140,
     "metadata": {},
     "output_type": "execute_result"
    }
   ],
   "source": [
    "AFCDivisions.pop(\"North\")"
   ]
  },
  {
   "cell_type": "code",
   "execution_count": 141,
   "id": "aa6f0665-cf8f-445c-890d-dd074bdd4271",
   "metadata": {},
   "outputs": [
    {
     "name": "stdout",
     "output_type": "stream",
     "text": [
      "East  :  ['Patriots', 'Jets', 'Dolphins', 'Bills']\n",
      "West  :  ['Raiders', 'Chiefs', 'Chargers', 'Broncos']\n",
      "South  :  ['Texans', 'Colts', 'Jaguars', 'Titans']\n"
     ]
    }
   ],
   "source": [
    "for key in AFCDivisions:\n",
    "    print(key, ' : ', AFCDivisions[key])"
   ]
  },
  {
   "cell_type": "markdown",
   "id": "897b463e-45e2-49c4-87d5-67d2fd43bdc5",
   "metadata": {},
   "source": [
    "We can merge in another dictionary with `.update()`."
   ]
  },
  {
   "cell_type": "code",
   "execution_count": 143,
   "id": "9eedeba3-9684-4517-b0d2-c9017348b160",
   "metadata": {},
   "outputs": [
    {
     "name": "stdout",
     "output_type": "stream",
     "text": [
      "AFCNorth  :  ['Steelers', 'Browns', 'Ravens', 'Bengals']\n",
      "AFCEast  :  ['Patriots', 'Jets', 'Dolphins', 'Bills']\n",
      "AFCWest  :  ['Raiders', 'Chiefs', 'Chargers', 'Broncos']\n",
      "AFCSouth  :  ['Texans', 'Colts', 'Jaguars', 'Titans']\n",
      "NorthNFC  :  ['Lions', 'Packers', 'Bears', 'Vikings']\n"
     ]
    }
   ],
   "source": [
    "Divisions = {\n",
    "    \"AFCNorth\": [\"Steelers\", \"Browns\", \"Ravens\", \"Bengals\"],\n",
    "    \"AFCEast\": [\"Patriots\", \"Jets\", \"Dolphins\", \"Bills\"],\n",
    "    \"AFCWest\": [\"Raiders\", \"Chiefs\", \"Chargers\", \"Broncos\"],\n",
    "    \"AFCSouth\": [\"Texans\", \"Colts\", \"Jaguars\", \"Titans\"] \n",
    "}\n",
    "\n",
    "NFCNorth = {\n",
    "    \"NorthNFC\": [\"Lions\", \"Packers\", \"Bears\", \"Vikings\"]\n",
    "}\n",
    "\n",
    "Divisions.update(NFCNorth)\n",
    "\n",
    "for key in Divisions.keys():\n",
    "    print(key, ' : ', Divisions[key])"
   ]
  },
  {
   "cell_type": "markdown",
   "id": "ef16f257-331f-435c-9a7d-40d16ac99039",
   "metadata": {},
   "source": [
    "#### Examples"
   ]
  },
  {
   "cell_type": "code",
   "execution_count": 145,
   "id": "f3971bf8-c414-4180-93d1-184281a26a79",
   "metadata": {},
   "outputs": [],
   "source": [
    "import math"
   ]
  },
  {
   "cell_type": "code",
   "execution_count": 144,
   "id": "7409fc15-6c95-4e16-b6c9-42d6379fb4f9",
   "metadata": {},
   "outputs": [
    {
     "data": {
      "text/plain": [
       "['a', 'b', 'c', 'd', 'e', 'f', 'g']"
      ]
     },
     "execution_count": 144,
     "metadata": {},
     "output_type": "execute_result"
    }
   ],
   "source": [
    "key = [\"abcdefg\"[i] for i in range(0, 7)]\n",
    "key"
   ]
  },
  {
   "cell_type": "code",
   "execution_count": 148,
   "id": "a169e089-d28b-4919-bf4d-bb785d737d5f",
   "metadata": {},
   "outputs": [
    {
     "data": {
      "text/plain": [
       "[[0, 0, 0.0, 0],\n",
       " [1, 1, 1.0, 1],\n",
       " [2, 4, 1.4142135623730951, 8],\n",
       " [3, 9, 1.7320508075688772, 27],\n",
       " [4, 16, 2.0, 64],\n",
       " [5, 25, 2.23606797749979, 125],\n",
       " [6, 36, 2.449489742783178, 216]]"
      ]
     },
     "execution_count": 148,
     "metadata": {},
     "output_type": "execute_result"
    }
   ],
   "source": [
    "values = [[x, x**2, math.sqrt(x), pow(x, 3)] for x in range(0, 7)]\n",
    "values"
   ]
  },
  {
   "cell_type": "code",
   "execution_count": 150,
   "id": "d6ad1284-cda5-47c8-a411-56d5593f8bbe",
   "metadata": {},
   "outputs": [
    {
     "data": {
      "text/plain": [
       "{'a': [0, 0, 0.0, 0],\n",
       " 'b': [1, 1, 1.0, 1],\n",
       " 'c': [2, 4, 1.4142135623730951, 8],\n",
       " 'd': [3, 9, 1.7320508075688772, 27],\n",
       " 'e': [4, 16, 2.0, 64],\n",
       " 'f': [5, 25, 2.23606797749979, 125],\n",
       " 'g': [6, 36, 2.449489742783178, 216]}"
      ]
     },
     "execution_count": 150,
     "metadata": {},
     "output_type": "execute_result"
    }
   ],
   "source": [
    "# Convert to a dictionary\n",
    "my_dict = dict(zip(key, values))\n",
    "my_dict"
   ]
  },
  {
   "cell_type": "code",
   "execution_count": 152,
   "id": "f0397022-fe2e-4906-af34-df96c3881e70",
   "metadata": {},
   "outputs": [
    {
     "data": {
      "text/plain": [
       "[[0, 0, 0.0, 0],\n",
       " [1, 1, 1.0, 1],\n",
       " [2, 4, 1.4142135623730951, 8],\n",
       " [3, 9, 1.7320508075688772, 27],\n",
       " [4, 16, 2.0, 64],\n",
       " [5, 25, 2.23606797749979, 125],\n",
       " [6, 36, 2.449489742783178, 216]]"
      ]
     },
     "execution_count": 152,
     "metadata": {},
     "output_type": "execute_result"
    }
   ],
   "source": [
    "list(my_dict.values())"
   ]
  },
  {
   "cell_type": "code",
   "execution_count": 154,
   "id": "b1cefd21-0252-402d-b606-07ccf2e6277f",
   "metadata": {},
   "outputs": [
    {
     "data": {
      "text/plain": [
       "{(10, 'ab'): 100, 'hi': 0}"
      ]
     },
     "execution_count": 154,
     "metadata": {},
     "output_type": "execute_result"
    }
   ],
   "source": [
    "# Create a dictionary with tuples as keys\n",
    "my_dict = dict([\n",
    "    [(10, \"ab\"), 100],\n",
    "    [\"hi\", 0]\n",
    "])\n",
    "\n",
    "my_dict"
   ]
  },
  {
   "cell_type": "code",
   "execution_count": 155,
   "id": "0c3660c8-da90-4d3e-a139-de7c0aeea6ee",
   "metadata": {},
   "outputs": [
    {
     "data": {
      "text/plain": [
       "100"
      ]
     },
     "execution_count": 155,
     "metadata": {},
     "output_type": "execute_result"
    }
   ],
   "source": [
    "my_dict[(10, 'ab')]"
   ]
  },
  {
   "cell_type": "code",
   "execution_count": 157,
   "id": "33c6cbd1-ae71-400a-83d0-104a931504b6",
   "metadata": {},
   "outputs": [
    {
     "data": {
      "text/plain": [
       "True"
      ]
     },
     "execution_count": 157,
     "metadata": {},
     "output_type": "execute_result"
    }
   ],
   "source": [
    "# Check if some values occur in the dictionary using \"in\" and/or \"not in\"\n",
    "\"hi\" in my_dict"
   ]
  },
  {
   "cell_type": "code",
   "execution_count": 158,
   "id": "92f08383-e702-4b42-9084-bbbdbda12b50",
   "metadata": {},
   "outputs": [
    {
     "data": {
      "text/plain": [
       "False"
      ]
     },
     "execution_count": 158,
     "metadata": {},
     "output_type": "execute_result"
    }
   ],
   "source": [
    "\"ho\" in my_dict"
   ]
  },
  {
   "cell_type": "markdown",
   "id": "7cdf5595-53ff-4142-b7e2-5a4be78f68d5",
   "metadata": {},
   "source": [
    "### NumPy arrays"
   ]
  },
  {
   "cell_type": "markdown",
   "id": "3b67ec80-0144-4591-879d-9166832913cd",
   "metadata": {},
   "source": [
    "NumPy is a library for scientific computing. It provides a multidimensional array object (such as a vector and a matrix) and methods for manipulating them."
   ]
  },
  {
   "cell_type": "code",
   "execution_count": 159,
   "id": "bdba8517-32b9-4f49-89b6-7a5cee35960d",
   "metadata": {},
   "outputs": [],
   "source": [
    "import numpy as np"
   ]
  },
  {
   "cell_type": "markdown",
   "id": "877180c5-73b0-4469-9eca-1de5ec470a3e",
   "metadata": {},
   "source": [
    "NumPy is built around the notion of _arrays_. Arrays are similar to lists, but they process much faster. To build a basic `ndarray` object, we can pass a list, a tuple, or any array-like object to `np.array()`."
   ]
  },
  {
   "cell_type": "code",
   "execution_count": 160,
   "id": "79a9838f-e3d8-467c-85c6-69f01d161943",
   "metadata": {},
   "outputs": [
    {
     "data": {
      "text/plain": [
       "array(1)"
      ]
     },
     "execution_count": 160,
     "metadata": {},
     "output_type": "execute_result"
    }
   ],
   "source": [
    "a = np.array(1)\n",
    "a"
   ]
  },
  {
   "cell_type": "code",
   "execution_count": 161,
   "id": "4085e052-3be3-4e90-bfb6-66dfe57dc3af",
   "metadata": {},
   "outputs": [
    {
     "data": {
      "text/plain": [
       "numpy.ndarray"
      ]
     },
     "execution_count": 161,
     "metadata": {},
     "output_type": "execute_result"
    }
   ],
   "source": [
    "type(a)"
   ]
  },
  {
   "cell_type": "code",
   "execution_count": 163,
   "id": "d4fbc5d0-6ec9-4e63-a888-01c05f6cccad",
   "metadata": {},
   "outputs": [
    {
     "data": {
      "text/plain": [
       "array([1, 2, 3])"
      ]
     },
     "execution_count": 163,
     "metadata": {},
     "output_type": "execute_result"
    }
   ],
   "source": [
    "b = np.array([1, 2, 3])\n",
    "b"
   ]
  },
  {
   "cell_type": "code",
   "execution_count": 164,
   "id": "2438aeb7-3221-4f95-94f4-060c992d9d9f",
   "metadata": {},
   "outputs": [
    {
     "data": {
      "text/plain": [
       "numpy.ndarray"
      ]
     },
     "execution_count": 164,
     "metadata": {},
     "output_type": "execute_result"
    }
   ],
   "source": [
    "type(b)"
   ]
  },
  {
   "cell_type": "code",
   "execution_count": 165,
   "id": "32f47d71-5b56-488a-af6a-ff79480a126f",
   "metadata": {},
   "outputs": [
    {
     "data": {
      "text/plain": [
       "array(['1', 'a', 'True'], dtype='<U21')"
      ]
     },
     "execution_count": 165,
     "metadata": {},
     "output_type": "execute_result"
    }
   ],
   "source": [
    "c = np.array([1, \"a\", True])\n",
    "c"
   ]
  },
  {
   "cell_type": "code",
   "execution_count": 166,
   "id": "758590d9-9654-41fa-bc91-1beb74af13ae",
   "metadata": {},
   "outputs": [
    {
     "data": {
      "text/plain": [
       "numpy.ndarray"
      ]
     },
     "execution_count": 166,
     "metadata": {},
     "output_type": "execute_result"
    }
   ],
   "source": [
    "type(c)"
   ]
  },
  {
   "cell_type": "code",
   "execution_count": 167,
   "id": "11942cdf-0736-4a2e-a54a-d5d0cf8fbfc6",
   "metadata": {},
   "outputs": [
    {
     "data": {
      "text/plain": [
       "numpy.ndarray"
      ]
     },
     "execution_count": 167,
     "metadata": {},
     "output_type": "execute_result"
    }
   ],
   "source": [
    "# Create a 2-dimensional array by passing 2 lists\n",
    "d = np.array([\n",
    "    [1, 2, 3],\n",
    "    [4, 5, 6]\n",
    "])\n",
    "\n",
    "type(d)"
   ]
  },
  {
   "cell_type": "markdown",
   "id": "a6dc94cc-3223-4bbc-b089-0329b6feb86f",
   "metadata": {},
   "source": [
    "#### Array dimensions"
   ]
  },
  {
   "cell_type": "markdown",
   "id": "224f9d26-3132-47fe-a89d-b8d1d7305f74",
   "metadata": {},
   "source": [
    "- 0D arrays are a scalar (sort of)\n",
    "- 1D arrays are vectors\n",
    "- 2D arrays are matrices\n",
    "- 3D arrays and up are just called arrays"
   ]
  },
  {
   "cell_type": "markdown",
   "id": "230b39b9-ac77-497f-a3d9-540cf4564efe",
   "metadata": {},
   "source": [
    "The `.shape` attribute gives the dimensions of an array at a tuple."
   ]
  },
  {
   "cell_type": "code",
   "execution_count": 168,
   "id": "c2940796-9aa2-4ebe-b901-f6d4bbf1e7d7",
   "metadata": {},
   "outputs": [
    {
     "data": {
      "text/plain": [
       "()"
      ]
     },
     "execution_count": 168,
     "metadata": {},
     "output_type": "execute_result"
    }
   ],
   "source": [
    "import numpy as np\n",
    "a = np.array(1)\n",
    "\n",
    "# Returns an empty tuple, or a \"False\"\n",
    "a.shape"
   ]
  },
  {
   "cell_type": "code",
   "execution_count": 171,
   "id": "534ec3d0-0399-4c1b-b863-a88ba406e4ce",
   "metadata": {},
   "outputs": [
    {
     "data": {
      "text/plain": [
       "(3,)"
      ]
     },
     "execution_count": 171,
     "metadata": {},
     "output_type": "execute_result"
    }
   ],
   "source": [
    "b = np.array([1, 2, 3])\n",
    "\n",
    "# Shows 1D with 3 elements in it\n",
    "b.shape"
   ]
  },
  {
   "cell_type": "code",
   "execution_count": 170,
   "id": "2c4ef7df-c6e0-44fa-8e18-448c819c3ee3",
   "metadata": {},
   "outputs": [
    {
     "data": {
      "text/plain": [
       "(2, 3)"
      ]
     },
     "execution_count": 170,
     "metadata": {},
     "output_type": "execute_result"
    }
   ],
   "source": [
    "c = np.array([\n",
    "    [1, 2, 3],\n",
    "    [4, 5, 6]\n",
    "])\n",
    "\n",
    "c.shape"
   ]
  },
  {
   "cell_type": "markdown",
   "id": "ef55108b-30b6-4734-aa03-f83dd5961b92",
   "metadata": {},
   "source": [
    "#### Functions for creating arrays"
   ]
  },
  {
   "cell_type": "markdown",
   "id": "2e038b48-1fca-4923-9727-ac4b9f037e09",
   "metadata": {},
   "source": [
    "We can create a vector or a matrix of all zeros."
   ]
  },
  {
   "cell_type": "code",
   "execution_count": 175,
   "id": "8bfe43d4-c8bd-41fc-aa06-34828666b07f",
   "metadata": {},
   "outputs": [
    {
     "data": {
      "text/plain": [
       "array([0., 0., 0., 0.])"
      ]
     },
     "execution_count": 175,
     "metadata": {},
     "output_type": "execute_result"
    }
   ],
   "source": [
    "# Row vector\n",
    "# 1D with 4 elements\n",
    "A0 = np.zeros(4)\n",
    "A0"
   ]
  },
  {
   "cell_type": "code",
   "execution_count": 174,
   "id": "3973c2cc-2e2a-42cb-b86b-f4fa30a02b3a",
   "metadata": {},
   "outputs": [
    {
     "data": {
      "text/plain": [
       "array([[0.],\n",
       "       [0.],\n",
       "       [0.],\n",
       "       [0.]])"
      ]
     },
     "execution_count": 174,
     "metadata": {},
     "output_type": "execute_result"
    }
   ],
   "source": [
    "# Column vector\n",
    "A0 = np.zeros((4, 1))\n",
    "A0"
   ]
  },
  {
   "cell_type": "code",
   "execution_count": 177,
   "id": "2a01dc78-3103-41ca-b63f-00f59c797aa0",
   "metadata": {},
   "outputs": [
    {
     "data": {
      "text/plain": [
       "array([[0., 0.],\n",
       "       [0., 0.],\n",
       "       [0., 0.],\n",
       "       [0., 0.]])"
      ]
     },
     "execution_count": 177,
     "metadata": {},
     "output_type": "execute_result"
    }
   ],
   "source": [
    "A = np.zeros((4, 2))\n",
    "A"
   ]
  },
  {
   "cell_type": "code",
   "execution_count": 178,
   "id": "f7d90443-9de9-46c0-b13e-1583d8480ebe",
   "metadata": {},
   "outputs": [
    {
     "data": {
      "text/plain": [
       "(4, 2)"
      ]
     },
     "execution_count": 178,
     "metadata": {},
     "output_type": "execute_result"
    }
   ],
   "source": [
    "A.shape"
   ]
  },
  {
   "cell_type": "code",
   "execution_count": 179,
   "id": "61268baf-488c-49c6-9777-87a928805635",
   "metadata": {},
   "outputs": [
    {
     "data": {
      "text/plain": [
       "array([1., 1., 1., 1.])"
      ]
     },
     "execution_count": 179,
     "metadata": {},
     "output_type": "execute_result"
    }
   ],
   "source": [
    "# Row of all ones\n",
    "b = np.ones(4)\n",
    "b"
   ]
  },
  {
   "cell_type": "code",
   "execution_count": 180,
   "id": "02fc3bcf-9fe7-46ae-bcac-d20b062aa5d0",
   "metadata": {},
   "outputs": [
    {
     "data": {
      "text/plain": [
       "array([[1., 1., 1.],\n",
       "       [1., 1., 1.]])"
      ]
     },
     "execution_count": 180,
     "metadata": {},
     "output_type": "execute_result"
    }
   ],
   "source": [
    "# Matrix of all ones\n",
    "B = np.ones((2, 3))\n",
    "B"
   ]
  },
  {
   "cell_type": "code",
   "execution_count": 183,
   "id": "d387f037-2b52-460c-93d9-d4321f0fc029",
   "metadata": {},
   "outputs": [
    {
     "data": {
      "text/plain": [
       "array([[10., 10., 10.],\n",
       "       [10., 10., 10.]])"
      ]
     },
     "execution_count": 183,
     "metadata": {},
     "output_type": "execute_result"
    }
   ],
   "source": [
    "# Matrix of 10s\n",
    "# The below performs element-wise multiplication\n",
    "C = np.ones((2, 3)) * 10\n",
    "C"
   ]
  },
  {
   "cell_type": "markdown",
   "id": "98032ff3-7d42-4ad4-8dc5-e2e22915bcc1",
   "metadata": {},
   "source": [
    "`np.full()` performs the above automatically. Note that it creates integers (an integer valued array), not floats."
   ]
  },
  {
   "cell_type": "code",
   "execution_count": 182,
   "id": "c7692a0d-6566-4e6e-8fd4-6c56bada6ac9",
   "metadata": {},
   "outputs": [
    {
     "data": {
      "text/plain": [
       "array([[10, 10, 10],\n",
       "       [10, 10, 10]])"
      ]
     },
     "execution_count": 182,
     "metadata": {},
     "output_type": "execute_result"
    }
   ],
   "source": [
    "C = np.full((2, 3), 10)\n",
    "C"
   ]
  },
  {
   "cell_type": "code",
   "execution_count": 184,
   "id": "776bc148-44d8-4d80-97c6-3227911dda4d",
   "metadata": {},
   "outputs": [
    {
     "data": {
      "text/plain": [
       "array([[ 6, 10, 10],\n",
       "       [10, 10, 10]])"
      ]
     },
     "execution_count": 184,
     "metadata": {},
     "output_type": "execute_result"
    }
   ],
   "source": [
    "C = np.full((2, 3), 10)\n",
    "\n",
    "# Creates an integer, not a float\n",
    "C[0, 0] = 6.5\n",
    "C"
   ]
  },
  {
   "cell_type": "code",
   "execution_count": 185,
   "id": "d76be1dd-f809-463f-9534-3fd1c49143d7",
   "metadata": {},
   "outputs": [
    {
     "data": {
      "text/plain": [
       "array([[ 6.5, 10. , 10. ],\n",
       "       [10. , 10. , 10. ]])"
      ]
     },
     "execution_count": 185,
     "metadata": {},
     "output_type": "execute_result"
    }
   ],
   "source": [
    "# Maintain float by specifying it explicitly\n",
    "C = np.full((2, 3), 10.0)\n",
    "C[0, 0] = 6.5\n",
    "C"
   ]
  },
  {
   "cell_type": "markdown",
   "id": "5ae4f445-69eb-497f-98c4-baf05bd1ed13",
   "metadata": {},
   "source": [
    "We can also create **identity matrices**, which are always square. We create them with `np.eye()`."
   ]
  },
  {
   "cell_type": "code",
   "execution_count": 188,
   "id": "cc537a06-ed36-4665-998e-b3fc9c2b2234",
   "metadata": {},
   "outputs": [
    {
     "data": {
      "text/plain": [
       "array([[1., 0., 0.],\n",
       "       [0., 1., 0.],\n",
       "       [0., 0., 1.]])"
      ]
     },
     "execution_count": 188,
     "metadata": {},
     "output_type": "execute_result"
    }
   ],
   "source": [
    "D = np.eye(3)\n",
    "D"
   ]
  },
  {
   "cell_type": "markdown",
   "id": "7cc4f6b5-c6de-4adb-8e78-12bec2d51368",
   "metadata": {},
   "source": [
    "We can create a random matrix (values between 0 and 1) with `np.random.random()`."
   ]
  },
  {
   "cell_type": "code",
   "execution_count": 189,
   "id": "367da146-7596-42d0-85ad-746a24ff8994",
   "metadata": {},
   "outputs": [
    {
     "data": {
      "text/plain": [
       "array([[0.13512569, 0.72460283, 0.54928051, 0.42513452, 0.81598279],\n",
       "       [0.2224701 , 0.71485145, 0.42596293, 0.75203517, 0.73223737],\n",
       "       [0.26069075, 0.96507578, 0.47737193, 0.3621523 , 0.35360499]])"
      ]
     },
     "execution_count": 189,
     "metadata": {},
     "output_type": "execute_result"
    }
   ],
   "source": [
    "E = np.random.random((3, 5))\n",
    "E"
   ]
  },
  {
   "cell_type": "markdown",
   "id": "5ad72713-4d23-447f-a3ab-80071cc543df",
   "metadata": {},
   "source": [
    "#### Reshaping arrays"
   ]
  },
  {
   "cell_type": "markdown",
   "id": "620d4c6f-87eb-465d-964f-ce06611a7ec2",
   "metadata": {},
   "source": [
    "We can reshape an array with the `.reshape()` method."
   ]
  },
  {
   "cell_type": "code",
   "execution_count": 191,
   "id": "05e6b6c0-9b53-47e5-adea-843719d178f6",
   "metadata": {},
   "outputs": [
    {
     "data": {
      "text/plain": [
       "array([[0.53070843],\n",
       "       [0.70534062],\n",
       "       [0.87885122],\n",
       "       [0.04065025],\n",
       "       [0.29365578],\n",
       "       [0.15730054],\n",
       "       [0.81930061],\n",
       "       [0.39208251],\n",
       "       [0.36196382],\n",
       "       [0.39830138]])"
      ]
     },
     "execution_count": 191,
     "metadata": {},
     "output_type": "execute_result"
    }
   ],
   "source": [
    "F = np.random.random((10, 1))\n",
    "F"
   ]
  },
  {
   "cell_type": "code",
   "execution_count": 192,
   "id": "a6a0a378-2d4b-4afa-8d53-50cde2fcc7c2",
   "metadata": {},
   "outputs": [
    {
     "data": {
      "text/plain": [
       "array([[0.53070843, 0.70534062, 0.87885122, 0.04065025, 0.29365578],\n",
       "       [0.15730054, 0.81930061, 0.39208251, 0.36196382, 0.39830138]])"
      ]
     },
     "execution_count": 192,
     "metadata": {},
     "output_type": "execute_result"
    }
   ],
   "source": [
    "G = F.reshape(2, 5)\n",
    "G"
   ]
  },
  {
   "cell_type": "markdown",
   "id": "a58bdb1e-6150-4e82-a90c-b6800b357545",
   "metadata": {},
   "source": [
    "To flatten to a 1D array, we can run `.reshape(-1)`."
   ]
  },
  {
   "cell_type": "markdown",
   "id": "7f40cef3-ffcb-4f4b-9e15-90ef9f6120d9",
   "metadata": {},
   "source": [
    "Be careful with `.reshape`, because it creates a **view** (not a copy) of the original array. Any modifications we perform on G will be reflected on F. To check if we have a view (i.e. if G owns the values), we can run "
   ]
  },
  {
   "cell_type": "code",
   "execution_count": 195,
   "id": "69666148-6e44-407b-b757-e065561938f4",
   "metadata": {},
   "outputs": [
    {
     "data": {
      "text/plain": [
       "False"
      ]
     },
     "execution_count": 195,
     "metadata": {},
     "output_type": "execute_result"
    }
   ],
   "source": [
    "# Does G have something it's based off of?\n",
    "G.base is None"
   ]
  },
  {
   "cell_type": "markdown",
   "id": "f4079a23-8a50-4e0e-815f-fb5485d10361",
   "metadata": {},
   "source": [
    "How do we get around the view? We can instead copy with `.copy()`."
   ]
  },
  {
   "cell_type": "code",
   "execution_count": 196,
   "id": "377b0ebb-93bf-4044-abb0-d973b324e96d",
   "metadata": {},
   "outputs": [
    {
     "data": {
      "text/plain": [
       "True"
      ]
     },
     "execution_count": 196,
     "metadata": {},
     "output_type": "execute_result"
    }
   ],
   "source": [
    "H = F.reshape(2, 5).copy()\n",
    "H.base is None"
   ]
  },
  {
   "cell_type": "markdown",
   "id": "30e315d2-cd45-4011-bde4-550e0e5e456a",
   "metadata": {},
   "source": [
    "#### Indexing arrays"
   ]
  },
  {
   "cell_type": "markdown",
   "id": "257f5d98-e74b-4457-b595-31240719cf82",
   "metadata": {},
   "source": [
    "We can index an array the same way we index a list - with `[]`."
   ]
  },
  {
   "cell_type": "code",
   "execution_count": 197,
   "id": "9a9c1640-9125-487b-8452-b1dd1b7a71c2",
   "metadata": {},
   "outputs": [
    {
     "name": "stdout",
     "output_type": "stream",
     "text": [
      "1 2 3\n"
     ]
    }
   ],
   "source": [
    "b = np.array([1, 2, 3])\n",
    "print(b[0], b[1], b[2])"
   ]
  },
  {
   "cell_type": "code",
   "execution_count": 198,
   "id": "d7a6ff2b-d71e-44ba-bb45-7af0e61127d4",
   "metadata": {},
   "outputs": [
    {
     "data": {
      "text/plain": [
       "array([5, 2, 3])"
      ]
     },
     "execution_count": 198,
     "metadata": {},
     "output_type": "execute_result"
    }
   ],
   "source": [
    "b[0] = 5\n",
    "b"
   ]
  },
  {
   "cell_type": "markdown",
   "id": "7fb8d335-4170-485c-b38f-3d982c699e02",
   "metadata": {},
   "source": [
    "When we have multiple dimensions, we'll need to add the appropriate number of commas."
   ]
  },
  {
   "cell_type": "code",
   "execution_count": 199,
   "id": "afd2ac8e-591e-4179-8af8-da0e3b674ee2",
   "metadata": {},
   "outputs": [
    {
     "data": {
      "text/plain": [
       "array([[[0.22311116, 0.52769844],\n",
       "        [0.94933834, 0.42809905]],\n",
       "\n",
       "       [[0.15275765, 0.89876871],\n",
       "        [0.09069766, 0.60086688]],\n",
       "\n",
       "       [[0.26894096, 0.82645544],\n",
       "        [0.91304062, 0.49758188]]])"
      ]
     },
     "execution_count": 199,
     "metadata": {},
     "output_type": "execute_result"
    }
   ],
   "source": [
    "import numpy as np\n",
    "E = np.random.random((3, 2, 2))\n",
    "E"
   ]
  },
  {
   "cell_type": "code",
   "execution_count": 200,
   "id": "34485c56-8737-4fe9-8ac8-b9e5049932df",
   "metadata": {},
   "outputs": [
    {
     "name": "stdout",
     "output_type": "stream",
     "text": [
      "0.22311115544104942 0.9493383373261086 0.8987687076461497\n"
     ]
    }
   ],
   "source": [
    "print(E[0, 0, 0], E[0, 1, 0], E[1, 0, 1])"
   ]
  },
  {
   "cell_type": "markdown",
   "id": "4b21dd48-09ef-4917-9ed5-a1ed858e6903",
   "metadata": {},
   "source": [
    "We can slice using `[start:end]`."
   ]
  },
  {
   "cell_type": "code",
   "execution_count": 201,
   "id": "4f24a02e-9a2d-42c8-adca-97167b2a77bb",
   "metadata": {},
   "outputs": [
    {
     "data": {
      "text/plain": [
       "array([[ 1,  2,  3,  4],\n",
       "       [ 5,  6,  7,  8],\n",
       "       [ 9, 10, 11, 12]])"
      ]
     },
     "execution_count": 201,
     "metadata": {},
     "output_type": "execute_result"
    }
   ],
   "source": [
    "A = np.array([\n",
    "    [1,2,3,4],\n",
    "    [5,6,7,8],\n",
    "    [9,10,11,12]\n",
    "])\n",
    "\n",
    "A"
   ]
  },
  {
   "cell_type": "code",
   "execution_count": 202,
   "id": "fb0f0481-a465-4e47-bb03-fe1825114e94",
   "metadata": {},
   "outputs": [
    {
     "data": {
      "text/plain": [
       "array([[2, 3],\n",
       "       [6, 7]])"
      ]
     },
     "execution_count": 202,
     "metadata": {},
     "output_type": "execute_result"
    }
   ],
   "source": [
    "B = A[:2, 1:3]\n",
    "B"
   ]
  },
  {
   "cell_type": "markdown",
   "id": "9608947b-1eb3-4ed6-b17b-ccd59c678e96",
   "metadata": {},
   "source": [
    "Remember that this is a _view_ and B does not own its values! Changing B also changes A. "
   ]
  },
  {
   "cell_type": "code",
   "execution_count": 203,
   "id": "36df2a80-1a0c-4376-8988-c16274920b67",
   "metadata": {},
   "outputs": [
    {
     "data": {
      "text/plain": [
       "array([[  1, 919,   3,   4],\n",
       "       [  5,   6,   7,   8],\n",
       "       [  9,  10,  11,  12]])"
      ]
     },
     "execution_count": 203,
     "metadata": {},
     "output_type": "execute_result"
    }
   ],
   "source": [
    "B[0, 0] = 919\n",
    "\n",
    "A"
   ]
  },
  {
   "cell_type": "code",
   "execution_count": 204,
   "id": "4d258b9e-9fd6-430b-af64-62d2595b40c2",
   "metadata": {},
   "outputs": [
    {
     "data": {
      "text/plain": [
       "array([5, 6, 7, 8])"
      ]
     },
     "execution_count": 204,
     "metadata": {},
     "output_type": "execute_result"
    }
   ],
   "source": [
    "A = np.array([\n",
    "    [1,2,3,4],\n",
    "    [5,6,7,8],\n",
    "    [9,10,11,12]\n",
    "])\n",
    "\n",
    "A1 = A[1, :]\n",
    "A1"
   ]
  },
  {
   "cell_type": "code",
   "execution_count": 205,
   "id": "192e2613-8579-46b5-9396-570a059b467b",
   "metadata": {},
   "outputs": [
    {
     "data": {
      "text/plain": [
       "(4,)"
      ]
     },
     "execution_count": 205,
     "metadata": {},
     "output_type": "execute_result"
    }
   ],
   "source": [
    "A1.shape"
   ]
  },
  {
   "cell_type": "code",
   "execution_count": 209,
   "id": "e49dc309-c6cf-495c-bdc8-7ad0447824eb",
   "metadata": {},
   "outputs": [
    {
     "data": {
      "text/plain": [
       "array([[ 5,  6,  7,  8],\n",
       "       [ 9, 10, 11, 12]])"
      ]
     },
     "execution_count": 209,
     "metadata": {},
     "output_type": "execute_result"
    }
   ],
   "source": [
    "A2 = A[1:, :]\n",
    "A2"
   ]
  },
  {
   "cell_type": "code",
   "execution_count": 208,
   "id": "b1733e3f-f97c-4afe-849d-f8ae7f5aff29",
   "metadata": {},
   "outputs": [
    {
     "data": {
      "text/plain": [
       "(2, 4)"
      ]
     },
     "execution_count": 208,
     "metadata": {},
     "output_type": "execute_result"
    }
   ],
   "source": [
    "A2.shape"
   ]
  },
  {
   "cell_type": "markdown",
   "id": "f12ff8f7-b0db-4998-a12a-e12948d12e6b",
   "metadata": {},
   "source": [
    "#### Operations on arrays"
   ]
  },
  {
   "cell_type": "markdown",
   "id": "e9f49685-7736-41c5-8f57-fc28791a8dbd",
   "metadata": {},
   "source": [
    "Multiplying by a constant and all basic functions are performed elementwise."
   ]
  },
  {
   "cell_type": "code",
   "execution_count": 211,
   "id": "e20c7fdc-efbd-4e1b-af73-a3bb4189d19b",
   "metadata": {},
   "outputs": [
    {
     "data": {
      "text/plain": [
       "array([[ 6,  8],\n",
       "       [10, 12]])"
      ]
     },
     "execution_count": 211,
     "metadata": {},
     "output_type": "execute_result"
    }
   ],
   "source": [
    "x = np.array([\n",
    "    [1, 2],\n",
    "    [3, 4]\n",
    "])\n",
    "\n",
    "y = np.array([\n",
    "    [5, 6],\n",
    "    [7, 8]\n",
    "])\n",
    "\n",
    "np.add(x, y)"
   ]
  },
  {
   "cell_type": "code",
   "execution_count": 212,
   "id": "884f0bfb-2198-4770-b570-8a5225336309",
   "metadata": {},
   "outputs": [
    {
     "data": {
      "text/plain": [
       "array([[11, 12],\n",
       "       [13, 14]])"
      ]
     },
     "execution_count": 212,
     "metadata": {},
     "output_type": "execute_result"
    }
   ],
   "source": [
    "x + 10"
   ]
  },
  {
   "cell_type": "code",
   "execution_count": 217,
   "id": "eb9687e4-80fc-400b-a66a-e2337aa04ee7",
   "metadata": {},
   "outputs": [
    {
     "data": {
      "text/plain": [
       "array([[   1,    2],\n",
       "       [1029, 2048]])"
      ]
     },
     "execution_count": 217,
     "metadata": {},
     "output_type": "execute_result"
    }
   ],
   "source": [
    "# Conditional multiplication\n",
    "# Multiply only where x is greater than or equal to 3\n",
    "# \"out = x\" tells what to do if the condition is not met\n",
    "np.multiply(x, y, where = (x >= 3), out = x) # x*y would give basic element-wise multiplication"
   ]
  },
  {
   "cell_type": "code",
   "execution_count": 215,
   "id": "2400f9fd-9dee-4c0a-a5f2-b0e483bab0a1",
   "metadata": {},
   "outputs": [
    {
     "data": {
      "text/plain": [
       "array([[0.2       , 0.33333333],\n",
       "       [3.        , 4.        ]])"
      ]
     },
     "execution_count": 215,
     "metadata": {},
     "output_type": "execute_result"
    }
   ],
   "source": [
    "x / y"
   ]
  },
  {
   "cell_type": "markdown",
   "id": "66ae7290-4c5f-4325-97e3-514de3d6ba97",
   "metadata": {},
   "source": [
    "If we have a square matrix, we can execute a square root against it. `np.sqrt()` is different from `math.sqrt`!"
   ]
  },
  {
   "cell_type": "code",
   "execution_count": 218,
   "id": "bd3d276c-56e9-48b2-bee5-27748807b62d",
   "metadata": {},
   "outputs": [
    {
     "data": {
      "text/plain": [
       "array([[1.        , 1.41421356],\n",
       "       [1.73205081, 2.        ]])"
      ]
     },
     "execution_count": 218,
     "metadata": {},
     "output_type": "execute_result"
    }
   ],
   "source": [
    "x = np.array([\n",
    "    [1, 2],\n",
    "    [3, 4]\n",
    "])\n",
    "\n",
    "y = np.array([\n",
    "    [5, 6],\n",
    "    [7, 8]\n",
    "])\n",
    "\n",
    "np.sqrt(x)"
   ]
  },
  {
   "cell_type": "markdown",
   "id": "ba0b12fe-94c4-402b-9d22-a4cb9c06a15e",
   "metadata": {},
   "source": [
    "If we want to do matrix multiplication, we can use `matmul()`."
   ]
  },
  {
   "cell_type": "code",
   "execution_count": 219,
   "id": "253d146c-d8e7-443b-b68b-10ce396ebb8c",
   "metadata": {},
   "outputs": [
    {
     "data": {
      "text/plain": [
       "array([[19, 22],\n",
       "       [43, 50]])"
      ]
     },
     "execution_count": 219,
     "metadata": {},
     "output_type": "execute_result"
    }
   ],
   "source": [
    "x = np.array([\n",
    "    [1, 2],\n",
    "    [3, 4]\n",
    "])\n",
    "\n",
    "y = np.array([\n",
    "    [5, 6],\n",
    "    [7, 8]\n",
    "])\n",
    "\n",
    "np.matmul(x, y)"
   ]
  },
  {
   "cell_type": "markdown",
   "id": "515613f9-955e-4a34-a4d1-74a49bee2b5d",
   "metadata": {},
   "source": [
    "NumPy has some useful functions for performing basic computations on arrays."
   ]
  },
  {
   "cell_type": "code",
   "execution_count": 220,
   "id": "750b09ff-d60f-43d4-93d8-75a26ef901eb",
   "metadata": {},
   "outputs": [
    {
     "data": {
      "text/plain": [
       "10"
      ]
     },
     "execution_count": 220,
     "metadata": {},
     "output_type": "execute_result"
    }
   ],
   "source": [
    "x = np.array([\n",
    "    [1, 2],\n",
    "    [3, 4]\n",
    "])\n",
    "\n",
    "np.sum(x)"
   ]
  },
  {
   "cell_type": "code",
   "execution_count": 221,
   "id": "17c76c3a-a73e-4823-acc5-7c93847634c2",
   "metadata": {},
   "outputs": [
    {
     "data": {
      "text/plain": [
       "array([4, 6])"
      ]
     },
     "execution_count": 221,
     "metadata": {},
     "output_type": "execute_result"
    }
   ],
   "source": [
    "# Column-wise sums\n",
    "np.sum(x, axis = 0)"
   ]
  },
  {
   "cell_type": "code",
   "execution_count": 223,
   "id": "eceba588-6608-4daf-a0bf-07cdc83d2be5",
   "metadata": {},
   "outputs": [
    {
     "data": {
      "text/plain": [
       "array([3, 7])"
      ]
     },
     "execution_count": 223,
     "metadata": {},
     "output_type": "execute_result"
    }
   ],
   "source": [
    "# Row-wise sums\n",
    "np.sum(x, axis = 1)"
   ]
  },
  {
   "cell_type": "code",
   "execution_count": 224,
   "id": "8956f1a9-cc0d-441a-b1c4-1cd01c299fa7",
   "metadata": {},
   "outputs": [
    {
     "data": {
      "text/plain": [
       "array([[1, 2, 5, 6],\n",
       "       [3, 4, 7, 8]])"
      ]
     },
     "execution_count": 224,
     "metadata": {},
     "output_type": "execute_result"
    }
   ],
   "source": [
    "# Combine arrays\n",
    "x = np.array([\n",
    "    [1, 2],\n",
    "    [3, 4]\n",
    "])\n",
    "\n",
    "y = np.array([\n",
    "    [5, 6],\n",
    "    [7, 8]\n",
    "])\n",
    "\n",
    "np.hstack((x, y))"
   ]
  },
  {
   "cell_type": "code",
   "execution_count": 225,
   "id": "20ce9327-cd2e-4b12-b82e-abde712f633e",
   "metadata": {},
   "outputs": [
    {
     "data": {
      "text/plain": [
       "array([[1, 2],\n",
       "       [3, 4],\n",
       "       [5, 6],\n",
       "       [7, 8]])"
      ]
     },
     "execution_count": 225,
     "metadata": {},
     "output_type": "execute_result"
    }
   ],
   "source": [
    "np.vstack((x, y))"
   ]
  },
  {
   "cell_type": "markdown",
   "id": "4453fe17-4829-4b47-9472-8680aa137755",
   "metadata": {},
   "source": [
    "#### Examples"
   ]
  },
  {
   "cell_type": "markdown",
   "id": "7f73e0ed-ee4b-4915-a956-b4bd98ca4d04",
   "metadata": {},
   "source": [
    "Follow the [Quickstart example](https://numpy.org/doc/stable/reference/random/index.html). "
   ]
  },
  {
   "cell_type": "code",
   "execution_count": 228,
   "id": "78b1d8bb-53be-4a48-8cdc-cb35aec67ad6",
   "metadata": {},
   "outputs": [
    {
     "data": {
      "text/plain": [
       "array([[ 1.01213309, -0.03603097],\n",
       "       [ 2.53099484, -2.49706642],\n",
       "       [ 0.69502183, -0.23151318],\n",
       "       [-0.61161775, -0.04621169],\n",
       "       [ 0.53061804,  0.23785251],\n",
       "       [ 1.09046201, -0.07289119],\n",
       "       [-0.93546034,  0.30902851],\n",
       "       [-0.80189723,  0.46261388],\n",
       "       [ 0.72898007, -0.1633165 ],\n",
       "       [-0.22879041, -1.53945506]])"
      ]
     },
     "execution_count": 228,
     "metadata": {},
     "output_type": "execute_result"
    }
   ],
   "source": [
    "# Create som arrays using the example in the link\n",
    "import numpy as np\n",
    "y = np.random.default_rng().standard_normal((10, 2))\n",
    "y"
   ]
  },
  {
   "cell_type": "code",
   "execution_count": 229,
   "id": "ed2badfa-20f4-48a1-b5fc-7f961e67e225",
   "metadata": {},
   "outputs": [
    {
     "name": "stdout",
     "output_type": "stream",
     "text": [
      "1.012133093474731\n",
      "-0.036030970787443606\n",
      "2.530994839082143\n",
      "-2.4970664222322587\n",
      "0.6950218256092742\n",
      "-0.23151318383830002\n",
      "-0.6116177489740955\n",
      "-0.046211690135595535\n",
      "0.5306180445255028\n",
      "0.23785250633169713\n",
      "1.0904620109702827\n",
      "-0.072891194417829\n",
      "-0.9354603350603287\n",
      "0.30902851067001275\n",
      "-0.8018972270681876\n",
      "0.4626138834549251\n",
      "0.7289800682872853\n",
      "-0.16331650022985061\n",
      "-0.2287904139409592\n",
      "-1.5394550579790298\n"
     ]
    }
   ],
   "source": [
    "# Loop through the values and check out np.nditer()\n",
    "for i in np.nditer(y):\n",
    "    print(i)"
   ]
  },
  {
   "cell_type": "code",
   "execution_count": 230,
   "id": "ac856c98-3c3a-4788-ae9e-2fff8fd0bdf3",
   "metadata": {},
   "outputs": [
    {
     "data": {
      "text/plain": [
       "array([[ 2.75146389,  0.96461042],\n",
       "       [12.56600107,  0.08232615],\n",
       "       [ 2.00375281,  0.79333224],\n",
       "       [ 0.54247257,  0.95483981],\n",
       "       [ 1.69998265,  1.26852208],\n",
       "       [ 2.97564854,  0.92970198],\n",
       "       [ 0.39240519,  1.3621012 ],\n",
       "       [ 0.44847729,  1.58821999],\n",
       "       [ 2.07296525,  0.84932234],\n",
       "       [ 0.79549524,  0.21449796]])"
      ]
     },
     "execution_count": 230,
     "metadata": {},
     "output_type": "execute_result"
    }
   ],
   "source": [
    "# Apply some ufuncs\n",
    "# https://numpy.org/doc/stable/reference/ufuncs.html\n",
    "\n",
    "# Exponentiate (e^something)\n",
    "np.exp(y)"
   ]
  },
  {
   "cell_type": "code",
   "execution_count": null,
   "id": "bae5181b-c73d-4bfc-8715-5c143f55d046",
   "metadata": {},
   "outputs": [],
   "source": []
  }
 ],
 "metadata": {
  "kernelspec": {
   "display_name": "Python 3 (ipykernel)",
   "language": "python",
   "name": "python3"
  },
  "language_info": {
   "codemirror_mode": {
    "name": "ipython",
    "version": 3
   },
   "file_extension": ".py",
   "mimetype": "text/x-python",
   "name": "python",
   "nbconvert_exporter": "python",
   "pygments_lexer": "ipython3",
   "version": "3.8.12"
  }
 },
 "nbformat": 4,
 "nbformat_minor": 5
}
