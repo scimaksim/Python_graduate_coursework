{
 "cells": [
  {
   "cell_type": "markdown",
   "id": "303632de-1593-4a86-8526-683fc88cf571",
   "metadata": {},
   "source": [
    "# Topic 1: Programming in Python"
   ]
  },
  {
   "cell_type": "markdown",
   "id": "22cf7db0-1423-42e4-9700-62e69a35f621",
   "metadata": {},
   "source": [
    "## Module 1: Installation & JupyterLab"
   ]
  },
  {
   "cell_type": "markdown",
   "id": "a07832ce-4893-4460-8273-dd82b92d1eec",
   "metadata": {},
   "source": [
    "We can create a basic histogram of random normal values and demonstrate interactive widgets as follows."
   ]
  },
  {
   "cell_type": "code",
   "execution_count": 1,
   "id": "7860a706-ea5d-42f9-9416-e9755ca4dd37",
   "metadata": {},
   "outputs": [
    {
     "name": "stderr",
     "output_type": "stream",
     "text": [
      "Failed to extract font properties from /opt/X11/share/system_fonts/LastResort.otf: tuple indices must be integers or slices, not str\n",
      "Failed to extract font properties from /System/Library/Fonts/Supplemental/NISC18030.ttf: In FT2Font: Could not set the fontsize (error code 0x17)\n",
      "Failed to extract font properties from /System/Library/Fonts/LastResort.otf: tuple indices must be integers or slices, not str\n",
      "Failed to extract font properties from /opt/X11/share/system_fonts/Supplemental/NISC18030.ttf: In FT2Font: Could not set the fontsize (error code 0x17)\n",
      "Failed to extract font properties from /System/Library/Fonts/Apple Color Emoji.ttc: In FT2Font: Could not set the fontsize (error code 0x17)\n",
      "Failed to extract font properties from /opt/X11/share/system_fonts/Apple Color Emoji.ttc: In FT2Font: Could not set the fontsize (error code 0x17)\n",
      "generated new fontManager\n"
     ]
    }
   ],
   "source": [
    "import numpy as np\n",
    "import matplotlib.pyplot as plt"
   ]
  },
  {
   "cell_type": "code",
   "execution_count": 2,
   "id": "5cdf4787-1ab9-4917-b33a-cd0aee821cdd",
   "metadata": {
    "tags": []
   },
   "outputs": [],
   "source": [
    "# Create 100 random normal values\n",
    "x = np.random.normal(size = 100)"
   ]
  },
  {
   "cell_type": "code",
   "execution_count": 3,
   "id": "89ab2a15-f6e5-450e-ae37-cd2c92c9eb12",
   "metadata": {},
   "outputs": [
    {
     "data": {
      "text/plain": [
       "(array([ 1.,  5.,  5.,  8., 15., 16., 22., 17.,  4.,  7.]),\n",
       " array([-2.95527344, -2.42469789, -1.89412233, -1.36354678, -0.83297123,\n",
       "        -0.30239568,  0.22817987,  0.75875543,  1.28933098,  1.81990653,\n",
       "         2.35048208]),\n",
       " <BarContainer object of 10 artists>)"
      ]
     },
     "execution_count": 3,
     "metadata": {},
     "output_type": "execute_result"
    },
    {
     "data": {
      "image/png": "[encoded data removed]",
      "text/plain": [
       "<Figure size 432x288 with 1 Axes>"
      ]
     },
     "metadata": {
      "needs_background": "light"
     },
     "output_type": "display_data"
    }
   ],
   "source": [
    "# Plot these on a histogram\n",
    "plt.hist(x, bins = 10)"
   ]
  },
  {
   "cell_type": "code",
   "execution_count": 4,
   "id": "e32fb252-ef32-4d81-95f2-ccf64f3af5c8",
   "metadata": {},
   "outputs": [],
   "source": [
    "# Call in the ipywidgets module and create an interactive histogram\n",
    "import ipywidgets as widgets\n",
    "def myplot(nbins):\n",
    "    plt.hist(x, bins = nbins)"
   ]
  },
  {
   "cell_type": "code",
   "execution_count": 5,
   "id": "9c29ad15-a7d0-4c9e-bf2c-8022030c24f3",
   "metadata": {},
   "outputs": [
    {
     "data": {
      "application/vnd.jupyter.widget-view+json": {
       "model_id": "b4cf6b3061fa480aa5345f31d7eaba51",
       "version_major": 2,
       "version_minor": 0
      },
      "text/plain": [
       "interactive(children=(IntSlider(value=10, description='nbins', max=20, min=1), Output()), _dom_classes=('widge…"
      ]
     },
     "metadata": {},
     "output_type": "display_data"
    }
   ],
   "source": [
    "# Create a widget with values ranging from 1 to 20\n",
    "widgets.interactive(myplot, nbins = (1, 20))"
   ]
  },
  {
   "cell_type": "markdown",
   "id": "d736931a-a003-4330-8a61-6a9021956645",
   "metadata": {},
   "source": [
    "### Basic Use of Python"
   ]
  },
  {
   "cell_type": "markdown",
   "id": "e0b07666-0864-4384-b273-6204c555975c",
   "metadata": {},
   "source": [
    "We use basic equal signs to assign variables in Python."
   ]
  },
  {
   "cell_type": "code",
   "execution_count": 6,
   "id": "d6dd332d-e5a1-4314-b190-5abf8e7be0aa",
   "metadata": {},
   "outputs": [
    {
     "data": {
      "text/plain": [
       "'Hello! '"
      ]
     },
     "execution_count": 6,
     "metadata": {},
     "output_type": "execute_result"
    }
   ],
   "source": [
    "x = \"Hello! \"\n",
    "y = \"How are you?\"\n",
    "x"
   ]
  },
  {
   "cell_type": "code",
   "execution_count": 7,
   "id": "10babc22-12df-40de-9b4c-1024ff3ebf29",
   "metadata": {},
   "outputs": [
    {
     "name": "stdout",
     "output_type": "stream",
     "text": [
      "Hello! \n"
     ]
    }
   ],
   "source": [
    "print(x)"
   ]
  },
  {
   "cell_type": "code",
   "execution_count": 8,
   "id": "1aca68b5-92f9-4d0a-a202-e0814cd00831",
   "metadata": {},
   "outputs": [
    {
     "data": {
      "text/plain": [
       "'Hello! How are you?'"
      ]
     },
     "execution_count": 8,
     "metadata": {},
     "output_type": "execute_result"
    }
   ],
   "source": [
    "x + y"
   ]
  },
  {
   "cell_type": "code",
   "execution_count": 9,
   "id": "24c178fb-6b10-484c-8f62-5eb1f1cc72e1",
   "metadata": {},
   "outputs": [
    {
     "name": "stdout",
     "output_type": "stream",
     "text": [
      "Hello! How are you?\n"
     ]
    }
   ],
   "source": [
    "print(x + y)"
   ]
  },
  {
   "cell_type": "markdown",
   "id": "d6570e35-7738-41a4-b869-e43b58d841e3",
   "metadata": {},
   "source": [
    "We can include a newline character using `\\n`."
   ]
  },
  {
   "cell_type": "markdown",
   "id": "40568359-41cc-4c63-ac49-283be594b07e",
   "metadata": {},
   "source": [
    "x = \"Hello! \\n\"\n",
    "y = 'Then I asked, \"How are you?\"'\n",
    "x"
   ]
  },
  {
   "cell_type": "code",
   "execution_count": 11,
   "id": "eb47a3dd-3259-485c-8a99-230e4392bd22",
   "metadata": {},
   "outputs": [
    {
     "name": "stdout",
     "output_type": "stream",
     "text": [
      "Hello! \n",
      "\n"
     ]
    }
   ],
   "source": [
    "print(x)"
   ]
  },
  {
   "cell_type": "code",
   "execution_count": 12,
   "id": "62b12e77-dd17-4da3-9ab9-ffe5e5fccb5c",
   "metadata": {},
   "outputs": [
    {
     "data": {
      "text/plain": [
       "'Hello! \\nThen I asked, \"How are you?\"'"
      ]
     },
     "execution_count": 12,
     "metadata": {},
     "output_type": "execute_result"
    }
   ],
   "source": [
    "x+y"
   ]
  },
  {
   "cell_type": "code",
   "execution_count": 13,
   "id": "92761f50-f26c-4cf5-964c-e99148937ca7",
   "metadata": {},
   "outputs": [
    {
     "name": "stdout",
     "output_type": "stream",
     "text": [
      "Hello! \n",
      "Then I asked, \"How are you?\"\n"
     ]
    }
   ],
   "source": [
    "print(x+y)"
   ]
  },
  {
   "cell_type": "markdown",
   "id": "27951e55-0698-4276-95a5-7a9e4b4c1a28",
   "metadata": {},
   "source": [
    "#### Built-in data objects"
   ]
  },
  {
   "cell_type": "markdown",
   "id": "c56dd615-e891-42bd-ae5e-523e2a0fe9b8",
   "metadata": {},
   "source": [
    "We have text type, `str`, and numeric types such as `int` and `float`."
   ]
  },
  {
   "cell_type": "code",
   "execution_count": 14,
   "id": "e3991209-52a0-49ac-9ff5-524ec06b37f1",
   "metadata": {},
   "outputs": [
    {
     "data": {
      "text/plain": [
       "str"
      ]
     },
     "execution_count": 14,
     "metadata": {},
     "output_type": "execute_result"
    }
   ],
   "source": [
    "y = \"text string\"\n",
    "type(y)"
   ]
  },
  {
   "cell_type": "code",
   "execution_count": 15,
   "id": "d1700c5a-69de-47fe-9566-d6f1f06da02b",
   "metadata": {},
   "outputs": [
    {
     "data": {
      "text/plain": [
       "int"
      ]
     },
     "execution_count": 15,
     "metadata": {},
     "output_type": "execute_result"
    }
   ],
   "source": [
    "y = 10\n",
    "type(y)"
   ]
  },
  {
   "cell_type": "code",
   "execution_count": 16,
   "id": "2fa0a8c1-3296-40ab-a3e7-9a298509341f",
   "metadata": {},
   "outputs": [
    {
     "data": {
      "text/plain": [
       "float"
      ]
     },
     "execution_count": 16,
     "metadata": {},
     "output_type": "execute_result"
    }
   ],
   "source": [
    "x = 10.4\n",
    "type(x)"
   ]
  },
  {
   "cell_type": "markdown",
   "id": "4a5506e3-3483-4d49-918a-0a02566a06f1",
   "metadata": {},
   "source": [
    "There is also the `boolean` type to signify True/False values."
   ]
  },
  {
   "cell_type": "code",
   "execution_count": 17,
   "id": "111a3f88-8036-468e-b747-c7e87a039549",
   "metadata": {},
   "outputs": [
    {
     "data": {
      "text/plain": [
       "bool"
      ]
     },
     "execution_count": 17,
     "metadata": {},
     "output_type": "execute_result"
    }
   ],
   "source": [
    "y = True\n",
    "type(y)"
   ]
  },
  {
   "cell_type": "markdown",
   "id": "61830c79-50fa-44b9-bb2d-00fe63eef7e9",
   "metadata": {},
   "source": [
    "#### Compound data types"
   ]
  },
  {
   "cell_type": "markdown",
   "id": "aa7a5125-9254-4d8d-988e-2137bf2593c2",
   "metadata": {},
   "source": [
    "Sequence types include a `list` and a `tuple`. \n",
    "* A **list** is an object that has an _ordering_. Each element can be of a different type.\n",
    "* A tuple is like a list, but it is immutable (cannot be changed)"
   ]
  },
  {
   "cell_type": "code",
   "execution_count": 19,
   "id": "99f7f861-6b80-4637-85ab-58f4d8e19439",
   "metadata": {},
   "outputs": [
    {
     "data": {
      "text/plain": [
       "list"
      ]
     },
     "execution_count": 19,
     "metadata": {},
     "output_type": "execute_result"
    }
   ],
   "source": [
    "# Example of a list, where order matters and object types can differ.\n",
    "# Here, we have an integer, a string, a floating point, and a boolean.\n",
    "z = [10, \"a\", 11.5, True]\n",
    "type(z)"
   ]
  },
  {
   "cell_type": "markdown",
   "id": "1806f513-c142-4a73-b9f5-8efb5670c4c8",
   "metadata": {},
   "source": [
    "Another data type, a mapping type, is called a `dict` (dictionary). A dictionary has key-value pairs which are specified with curly brackets."
   ]
  },
  {
   "cell_type": "code",
   "execution_count": 20,
   "id": "d44dc8e9-85b0-4ce5-ab02-8437b505d6dc",
   "metadata": {},
   "outputs": [
    {
     "data": {
      "text/plain": [
       "dict"
      ]
     },
     "execution_count": 20,
     "metadata": {},
     "output_type": "execute_result"
    }
   ],
   "source": [
    "# Example of a dictionary, which has key-value pairs.\n",
    "w = {\"key1\": \"value1\",\n",
    "    \"key2\": [\"value2\", 10]}\n",
    "type(w)"
   ]
  },
  {
   "cell_type": "markdown",
   "id": "e3e60356-81ee-4de7-88c4-fcc084bac4b6",
   "metadata": {},
   "source": [
    "#### Short-hand assignments"
   ]
  },
  {
   "cell_type": "markdown",
   "id": "2602d5cb-1756-4d4f-ab52-9d6b7acc1e4c",
   "metadata": {},
   "source": [
    "We can store three variables at once using one line of code."
   ]
  },
  {
   "cell_type": "code",
   "execution_count": 22,
   "id": "762e02d4-32d2-429a-8e13-5c6ef82eca18",
   "metadata": {},
   "outputs": [
    {
     "name": "stdout",
     "output_type": "stream",
     "text": [
      "Orange\n",
      "Banana\n",
      "Cherry\n"
     ]
    }
   ],
   "source": [
    "x, y, z = \"Orange\", \"Banana\", \"Cherry\"\n",
    "print(x)\n",
    "print(y)\n",
    "print(z)"
   ]
  },
  {
   "cell_type": "code",
   "execution_count": 24,
   "id": "a1075230-0378-43df-a4be-6b1040a5d8d8",
   "metadata": {},
   "outputs": [
    {
     "name": "stdout",
     "output_type": "stream",
     "text": [
      "Orange\n",
      "Orange\n"
     ]
    }
   ],
   "source": [
    "x = y = z = \"Orange\"\n",
    "print(x)\n",
    "print(y)"
   ]
  },
  {
   "cell_type": "markdown",
   "id": "33095eeb-a7ad-4400-b2fb-8b52664a6bea",
   "metadata": {},
   "source": [
    "We can also store some things in one variables and the remainder in others (a catch-all)."
   ]
  },
  {
   "cell_type": "code",
   "execution_count": 26,
   "id": "bb40b1ac-b827-48ec-bd74-1a77f5d0bda7",
   "metadata": {},
   "outputs": [
    {
     "name": "stdout",
     "output_type": "stream",
     "text": [
      "Orange\n"
     ]
    }
   ],
   "source": [
    "# Store the first value in 'x' and the rest in 'y'\n",
    "x, *y = \"Orange\", \"Banana\", \"Cherry\"\n",
    "print(x)"
   ]
  },
  {
   "cell_type": "code",
   "execution_count": 27,
   "id": "5162d2f1-0de8-4dfc-b918-bcede8805002",
   "metadata": {},
   "outputs": [
    {
     "name": "stdout",
     "output_type": "stream",
     "text": [
      "['Banana', 'Cherry']\n"
     ]
    }
   ],
   "source": [
    "print(y)"
   ]
  },
  {
   "cell_type": "code",
   "execution_count": 28,
   "id": "8b681448-1d88-4f2a-83e6-af6e37a24d41",
   "metadata": {},
   "outputs": [
    {
     "data": {
      "text/plain": [
       "list"
      ]
     },
     "execution_count": 28,
     "metadata": {},
     "output_type": "execute_result"
    }
   ],
   "source": [
    "type(y)"
   ]
  },
  {
   "cell_type": "code",
   "execution_count": 29,
   "id": "2926b24c-4b67-4c5f-a97b-2f4e4d67f83d",
   "metadata": {},
   "outputs": [
    {
     "name": "stdout",
     "output_type": "stream",
     "text": [
      "Cherry\n"
     ]
    }
   ],
   "source": [
    "# Assign the last thing to 'y' and the everything before it to 'x'\n",
    "*x, y = \"Orange\", \"Banana\", \"Cherry\"\n",
    "print(y)"
   ]
  },
  {
   "cell_type": "code",
   "execution_count": 30,
   "id": "af3c1a90-cdd5-4eb1-86c6-e23453cf2cb9",
   "metadata": {},
   "outputs": [
    {
     "name": "stdout",
     "output_type": "stream",
     "text": [
      "['Orange', 'Banana']\n"
     ]
    }
   ],
   "source": [
    "print(x)"
   ]
  },
  {
   "cell_type": "markdown",
   "id": "88cf2063-57bc-454d-8b64-386f30a28a0c",
   "metadata": {},
   "source": [
    "An underscore, `_`, can be used to show the last evaluated expression."
   ]
  },
  {
   "cell_type": "code",
   "execution_count": 31,
   "id": "f12da2fa-52e6-49fb-b88b-e5844cbae898",
   "metadata": {},
   "outputs": [
    {
     "data": {
      "text/plain": [
       "'Orange'"
      ]
     },
     "execution_count": 31,
     "metadata": {},
     "output_type": "execute_result"
    }
   ],
   "source": [
    "x, y, z = \"Orange\", \"Banana\", \"Cherry\"\n",
    "x"
   ]
  },
  {
   "cell_type": "code",
   "execution_count": 32,
   "id": "a65f3d05-046d-4080-ba29-48ba869ec7f7",
   "metadata": {},
   "outputs": [
    {
     "data": {
      "text/plain": [
       "'Orange'"
      ]
     },
     "execution_count": 32,
     "metadata": {},
     "output_type": "execute_result"
    }
   ],
   "source": [
    "_"
   ]
  },
  {
   "cell_type": "code",
   "execution_count": 33,
   "id": "ce380162-c988-42af-999c-ba3341f237ad",
   "metadata": {},
   "outputs": [
    {
     "name": "stdout",
     "output_type": "stream",
     "text": [
      "Banana\n"
     ]
    }
   ],
   "source": [
    "# print doesn't count!\n",
    "print(y)"
   ]
  },
  {
   "cell_type": "code",
   "execution_count": 34,
   "id": "fd0ee90c-7483-4c63-b318-13bbc7aad77f",
   "metadata": {},
   "outputs": [
    {
     "data": {
      "text/plain": [
       "'Orange'"
      ]
     },
     "execution_count": 34,
     "metadata": {},
     "output_type": "execute_result"
    }
   ],
   "source": [
    "_"
   ]
  },
  {
   "cell_type": "markdown",
   "id": "9ad8f26e-9e79-4437-8dc7-3915af1e7c1a",
   "metadata": {},
   "source": [
    "How can we use this?"
   ]
  },
  {
   "cell_type": "code",
   "execution_count": 35,
   "id": "e4455d1a-56a6-45b7-89cd-d954a04e0c78",
   "metadata": {},
   "outputs": [
    {
     "data": {
      "text/plain": [
       "212.0"
      ]
     },
     "execution_count": 35,
     "metadata": {},
     "output_type": "execute_result"
    }
   ],
   "source": [
    "degrees_celsius = 100\n",
    "(9 / 5) * degrees_celsius + 32"
   ]
  },
  {
   "cell_type": "code",
   "execution_count": 36,
   "id": "31cea722-5db0-4369-9819-f59a5d1e5e80",
   "metadata": {},
   "outputs": [
    {
     "data": {
      "text/plain": [
       "202.0"
      ]
     },
     "execution_count": 36,
     "metadata": {},
     "output_type": "execute_result"
    }
   ],
   "source": [
    "_ - 10"
   ]
  },
  {
   "cell_type": "code",
   "execution_count": 37,
   "id": "7747a1c7-ee05-41d3-acc6-a22f00f35304",
   "metadata": {},
   "outputs": [
    {
     "data": {
      "text/plain": [
       "2020.0"
      ]
     },
     "execution_count": 37,
     "metadata": {},
     "output_type": "execute_result"
    }
   ],
   "source": [
    "_ * 10"
   ]
  },
  {
   "cell_type": "markdown",
   "id": "0b9936aa-39c8-4529-9182-3142435b3e42",
   "metadata": {},
   "source": [
    "#### Copying vs. referencing"
   ]
  },
  {
   "cell_type": "markdown",
   "id": "7f1f46ab-65d5-49e1-bfbf-d87dfd4dc673",
   "metadata": {},
   "source": [
    "Be careful when modifying the elements of a compound object. Assignment statements do not copy objects; instead, they create _bindings_ between a target (a spot in computer memory) and an object!"
   ]
  },
  {
   "cell_type": "code",
   "execution_count": 46,
   "id": "c81a5aec-ce4e-4e2b-9bcf-a659601ccf99",
   "metadata": {},
   "outputs": [
    {
     "name": "stdout",
     "output_type": "stream",
     "text": [
      "[1, 2, 3, 'Cats Rule!'] [1, 2, 3, 'Cats Rule!']\n"
     ]
    }
   ],
   "source": [
    "x = [1, 2, 3, \"Cats Rule!\"]\n",
    "# New value 'y' points to the memory of 'x'\n",
    "y = x\n",
    "print(x, y)"
   ]
  },
  {
   "cell_type": "code",
   "execution_count": 47,
   "id": "74308096-80aa-454e-9f0c-a4cdc10cca4f",
   "metadata": {},
   "outputs": [
    {
     "name": "stdout",
     "output_type": "stream",
     "text": [
      "[1, 2, 3, 'Dogs Rule!'] [1, 2, 3, 'Dogs Rule!']\n"
     ]
    }
   ],
   "source": [
    "# Changing the original modifies both variables!\n",
    "x[3] = \"Dogs Rule!\"\n",
    "print(x, y)"
   ]
  },
  {
   "cell_type": "markdown",
   "id": "7c16c90b-a4e7-44a4-91f6-fed206ec7974",
   "metadata": {},
   "source": [
    "If we want to create a copy of an object, we have to use a **method** (in this case, the `copy` method). While functions such as `print(x)` includes the function name and then its arguments, a method is called by referencing the object, appending a period, and adding the method name and any arguments (e.g. `x.copy()`). "
   ]
  },
  {
   "cell_type": "code",
   "execution_count": 50,
   "id": "9a83fc49-f75a-47f6-999a-75ce9c12716e",
   "metadata": {},
   "outputs": [
    {
     "name": "stdout",
     "output_type": "stream",
     "text": [
      "[1, 2, 10, 'No, cats rule!'] [1, 2, 10, 'No, cats rule!']\n"
     ]
    }
   ],
   "source": [
    "# Create a new memory allocation\n",
    "y = x.copy()\n",
    "x[2] = 10\n",
    "x[3] = \"No, cats rule!\"\n",
    "print(x, y)"
   ]
  },
  {
   "cell_type": "markdown",
   "id": "cc02f372-9552-420e-b999-d1a18926c78e",
   "metadata": {},
   "source": [
    "Objects in Python are mutable or immutable (cannot be modified). A list is mutable, a tuple is immutable. \n",
    "\n",
    "We cannot change the elements of a tuple unless the element itself is mutable (e.g. if one of the element of a tuple is a list)."
   ]
  },
  {
   "cell_type": "code",
   "execution_count": 54,
   "id": "7c63215f-51a4-4a98-b0ae-6b0cafeb2151",
   "metadata": {},
   "outputs": [
    {
     "name": "stdout",
     "output_type": "stream",
     "text": [
      "(1, 2, 3, ['Cats Rule!']) (1, 2, 3, ['Cats Rule!'])\n"
     ]
    }
   ],
   "source": [
    "# Create a 'tuple' of four values, the last of which is a mutable list\n",
    "x = (1, 2, 3, [\"Cats Rule!\"])\n",
    "y = x\n",
    "print(x, y)"
   ]
  },
  {
   "cell_type": "code",
   "execution_count": 55,
   "id": "65d771d0-c149-49b1-b005-8bca4c90a9a7",
   "metadata": {},
   "outputs": [
    {
     "name": "stdout",
     "output_type": "stream",
     "text": [
      "(1, 2, 3, ['Dogs!']) (1, 2, 3, ['Dogs!'])\n"
     ]
    }
   ],
   "source": [
    "# Modify the object with index 3 (a list)\n",
    "x[3][0] = \"Dogs!\"\n",
    "print(x, y)"
   ]
  },
  {
   "cell_type": "markdown",
   "id": "e71a6890-2621-4ebb-b30e-5c991beae91b",
   "metadata": {},
   "source": [
    "#### Variable names "
   ]
  },
  {
   "cell_type": "markdown",
   "id": "7e2b2ff3-2095-464a-9b70-289116be7792",
   "metadata": {},
   "source": [
    "Variable names can use any letters, digits, numbers, and underscore symbol, but cannot start with a digit and cannot include punctuation. "
   ]
  },
  {
   "cell_type": "markdown",
   "id": "68a45bb4-bbb4-463f-bd34-0ce00766a308",
   "metadata": {},
   "source": [
    "#### Augmented assignment"
   ]
  },
  {
   "cell_type": "markdown",
   "id": "b36d873d-d9dd-4640-87d6-1ec62a7f9b4a",
   "metadata": {},
   "source": [
    "Often, we want to take a value, add to it, and replace the old value."
   ]
  },
  {
   "cell_type": "code",
   "execution_count": 56,
   "id": "9bf27280-174a-4329-bb39-a934610f0e10",
   "metadata": {},
   "outputs": [
    {
     "data": {
      "text/plain": [
       "100"
      ]
     },
     "execution_count": 56,
     "metadata": {},
     "output_type": "execute_result"
    }
   ],
   "source": [
    "winnings = 100\n",
    "winngs = winnings + 20\n",
    "winnings"
   ]
  },
  {
   "cell_type": "markdown",
   "id": "87a039c5-a31b-4c00-92f3-ce2397754c73",
   "metadata": {},
   "source": [
    "A short-hand way to do this is with augmented assignment."
   ]
  },
  {
   "cell_type": "code",
   "execution_count": 67,
   "id": "f78da44f-a08d-45b6-b66e-f5339422b240",
   "metadata": {},
   "outputs": [
    {
     "data": {
      "text/plain": [
       "120"
      ]
     },
     "execution_count": 67,
     "metadata": {},
     "output_type": "execute_result"
    }
   ],
   "source": [
    "winnings = 100\n",
    "winnings += 20\n",
    "winnings"
   ]
  },
  {
   "cell_type": "code",
   "execution_count": 68,
   "id": "a3df9b11-e3bb-4ed5-adf7-3baf97c8608c",
   "metadata": {},
   "outputs": [
    {
     "data": {
      "text/plain": [
       "90"
      ]
     },
     "execution_count": 68,
     "metadata": {},
     "output_type": "execute_result"
    }
   ],
   "source": [
    "winnings -= 30\n",
    "winnings"
   ]
  },
  {
   "cell_type": "code",
   "execution_count": 69,
   "id": "316a9e05-be60-4b33-b8b1-fd6ea90ebccf",
   "metadata": {},
   "outputs": [
    {
     "data": {
      "text/plain": [
       "3600"
      ]
     },
     "execution_count": 69,
     "metadata": {},
     "output_type": "execute_result"
    }
   ],
   "source": [
    "winnings *= 40\n",
    "winnings"
   ]
  },
  {
   "cell_type": "code",
   "execution_count": 70,
   "id": "846c1f28-7321-4ec5-a506-a83c2fe345aa",
   "metadata": {},
   "outputs": [
    {
     "data": {
      "text/plain": [
       "60.0"
      ]
     },
     "execution_count": 70,
     "metadata": {},
     "output_type": "execute_result"
    }
   ],
   "source": [
    "winnings **= 1/2\n",
    "winnings"
   ]
  },
  {
   "cell_type": "markdown",
   "id": "f455964b-b468-43ae-a229-8255224dd6ef",
   "metadata": {},
   "source": [
    "#### Continuing a line of code"
   ]
  },
  {
   "cell_type": "markdown",
   "id": "16ac63e1-a81e-4247-aafa-5cd72bd11f38",
   "metadata": {},
   "source": [
    "For long lines of code, we can break the code across multiple lines using `\\` or `()`."
   ]
  },
  {
   "cell_type": "code",
   "execution_count": 71,
   "id": "2d6bc788-515e-4790-85f1-1219caf98bde",
   "metadata": {},
   "outputs": [
    {
     "data": {
      "text/plain": [
       "-270.0"
      ]
     },
     "execution_count": 71,
     "metadata": {},
     "output_type": "execute_result"
    }
   ],
   "source": [
    "10 + 20 - 100 * 60 \\\n",
    "/ 20"
   ]
  },
  {
   "cell_type": "code",
   "execution_count": 74,
   "id": "14ecbe66-ef7e-41cc-83f6-d521971966d5",
   "metadata": {},
   "outputs": [
    {
     "data": {
      "text/plain": [
       "-270.0"
      ]
     },
     "execution_count": 74,
     "metadata": {},
     "output_type": "execute_result"
    }
   ],
   "source": [
    "(10 + 20 -100 * 60\n",
    "/ 20)"
   ]
  },
  {
   "cell_type": "markdown",
   "id": "d080b1fe-07bd-46e4-82f9-79b6a1d27b9d",
   "metadata": {},
   "source": [
    "#### Functions and methods"
   ]
  },
  {
   "cell_type": "markdown",
   "id": "ae69bc34-032a-4705-853f-50d006e7bc1b",
   "metadata": {},
   "source": [
    "Two ways to do an operation on a variable/object is via \n",
    "\n",
    "1. Functions\n",
    "    * `function_name(myvar, other_args)`\n",
    "2. Methods\n",
    "    * `myvar.method(other_args)`"
   ]
  },
  {
   "cell_type": "code",
   "execution_count": 80,
   "id": "a43eb743-b8d3-4270-b806-8161a0a4fb66",
   "metadata": {},
   "outputs": [
    {
     "data": {
      "text/plain": [
       "4"
      ]
     },
     "execution_count": 80,
     "metadata": {},
     "output_type": "execute_result"
    }
   ],
   "source": [
    "# Example of functions\n",
    "myList = [1, 10, 100, 1000]\n",
    "len(myList)"
   ]
  },
  {
   "cell_type": "code",
   "execution_count": 76,
   "id": "c10d9ae4-116b-4df6-87f2-43fef7c79f2e",
   "metadata": {},
   "outputs": [
    {
     "data": {
      "text/plain": [
       "1000"
      ]
     },
     "execution_count": 76,
     "metadata": {},
     "output_type": "execute_result"
    }
   ],
   "source": [
    "max(myList)"
   ]
  },
  {
   "cell_type": "code",
   "execution_count": 81,
   "id": "d8aa7584-06b0-4cf1-be06-ff1bad01d3e0",
   "metadata": {},
   "outputs": [
    {
     "data": {
      "text/plain": [
       "1000"
      ]
     },
     "execution_count": 81,
     "metadata": {},
     "output_type": "execute_result"
    }
   ],
   "source": [
    "# Example of methods\n",
    "myList.pop(3)"
   ]
  },
  {
   "cell_type": "code",
   "execution_count": 78,
   "id": "2b9cda2d-579b-45c3-866c-37c0db996d22",
   "metadata": {},
   "outputs": [
    {
     "data": {
      "text/plain": [
       "[1, 10, 100]"
      ]
     },
     "execution_count": 78,
     "metadata": {},
     "output_type": "execute_result"
    }
   ],
   "source": [
    "myList"
   ]
  },
  {
   "cell_type": "code",
   "execution_count": 79,
   "id": "892c5922-6bc3-4a06-8e69-e60824705b84",
   "metadata": {},
   "outputs": [
    {
     "data": {
      "text/plain": [
       "[1, 10, 100, 100000]"
      ]
     },
     "execution_count": 79,
     "metadata": {},
     "output_type": "execute_result"
    }
   ],
   "source": [
    "myList.append(100000)\n",
    "myList"
   ]
  },
  {
   "cell_type": "markdown",
   "id": "038f367d-51b1-4a8a-93fc-d93ce2f40f7d",
   "metadata": {},
   "source": [
    "#### Examples"
   ]
  },
  {
   "cell_type": "code",
   "execution_count": 90,
   "id": "d6fc231e-a12f-47f5-a28e-ab50be42f296",
   "metadata": {},
   "outputs": [
    {
     "data": {
      "text/plain": [
       "[1, 2, 3, 4]"
      ]
     },
     "execution_count": 90,
     "metadata": {},
     "output_type": "execute_result"
    }
   ],
   "source": [
    "myList = [x for x in range(1, 5)]\n",
    "myList"
   ]
  },
  {
   "cell_type": "code",
   "execution_count": 91,
   "id": "ff5a750b-0076-48fd-9b70-6a4fd6d7854d",
   "metadata": {},
   "outputs": [
    {
     "data": {
      "text/plain": [
       "[1, 2, 3, 4, 1]"
      ]
     },
     "execution_count": 91,
     "metadata": {},
     "output_type": "execute_result"
    }
   ],
   "source": [
    "myList = myList + [1]\n",
    "myList"
   ]
  },
  {
   "cell_type": "code",
   "execution_count": 92,
   "id": "607a97ea-d8b1-42a1-8cf2-398f13221272",
   "metadata": {},
   "outputs": [
    {
     "data": {
      "text/plain": [
       "[1, 2, 3, 4, 1, 1, 2, 3, 4, 1, 1, 2, 3, 4, 1, 1, 2, 3, 4, 1]"
      ]
     },
     "execution_count": 92,
     "metadata": {},
     "output_type": "execute_result"
    }
   ],
   "source": [
    "myList = myList*4\n",
    "myList"
   ]
  },
  {
   "cell_type": "code",
   "execution_count": 97,
   "id": "f24eb0bd-727b-4acc-b29d-e33bde5a4af0",
   "metadata": {},
   "outputs": [
    {
     "data": {
      "text/plain": [
       "8"
      ]
     },
     "execution_count": 97,
     "metadata": {},
     "output_type": "execute_result"
    }
   ],
   "source": [
    "# Count the number of '1's in myList using a method\n",
    "myList.count(1)"
   ]
  },
  {
   "cell_type": "code",
   "execution_count": 96,
   "id": "9d0d7d24-3c7f-4cd5-aac1-0979989ceb0e",
   "metadata": {},
   "outputs": [
    {
     "data": {
      "text/plain": [
       "20"
      ]
     },
     "execution_count": 96,
     "metadata": {},
     "output_type": "execute_result"
    }
   ],
   "source": [
    "# Function\n",
    "len(myList)"
   ]
  },
  {
   "cell_type": "code",
   "execution_count": null,
   "id": "f5487ba2-0178-484e-90ed-3800be889585",
   "metadata": {},
   "outputs": [],
   "source": []
  }
 ],
 "metadata": {
  "kernelspec": {
   "display_name": "Python 3 (ipykernel)",
   "language": "python",
   "name": "python3"
  },
  "language_info": {
   "codemirror_mode": {
    "name": "ipython",
    "version": 3
   },
   "file_extension": ".py",
   "mimetype": "text/x-python",
   "name": "python",
   "nbconvert_exporter": "python",
   "pygments_lexer": "ipython3",
   "version": "3.8.12"
  }
 },
 "nbformat": 4,
 "nbformat_minor": 5
}
