{
 "cells": [
  {
   "cell_type": "markdown",
   "id": "303632de-1593-4a86-8526-683fc88cf571",
   "metadata": {},
   "source": [
    "# Topic 1: Programming in Python"
   ]
  },
  {
   "cell_type": "markdown",
   "id": "22cf7db0-1423-42e4-9700-62e69a35f621",
   "metadata": {},
   "source": [
    "## Module 1: Installation & JupyterLab"
   ]
  },
  {
   "cell_type": "markdown",
   "id": "a07832ce-4893-4460-8273-dd82b92d1eec",
   "metadata": {},
   "source": [
    "We can create a basic histogram of random normal values and demonstrate interactive widgets as follows."
   ]
  },
  {
   "cell_type": "code",
   "execution_count": 2,
   "id": "7860a706-ea5d-42f9-9416-e9755ca4dd37",
   "metadata": {},
   "outputs": [],
   "source": [
    "import numpy as np\n",
    "import matplotlib.pyplot as plt"
   ]
  },
  {
   "cell_type": "code",
   "execution_count": 4,
   "id": "5cdf4787-1ab9-4917-b33a-cd0aee821cdd",
   "metadata": {
    "tags": []
   },
   "outputs": [],
   "source": [
    "# Create 100 random normal values\n",
    "x = np.random.normal(size = 100)"
   ]
  },
  {
   "cell_type": "code",
   "execution_count": 6,
   "id": "89ab2a15-f6e5-450e-ae37-cd2c92c9eb12",
   "metadata": {},
   "outputs": [
    {
     "data": {
      "text/plain": [
       "(array([ 5.,  1., 13., 11., 21., 24., 18.,  5.,  0.,  2.]),\n",
       " array([-2.39133565, -1.86279086, -1.33424607, -0.80570128, -0.27715648,\n",
       "         0.25138831,  0.7799331 ,  1.30847789,  1.83702268,  2.36556747,\n",
       "         2.89411226]),\n",
       " <BarContainer object of 10 artists>)"
      ]
     },
     "execution_count": 6,
     "metadata": {},
     "output_type": "execute_result"
    },
    {
     "data": {
      "image/png": "[encoded data removed]",
      "text/plain": [
       "<Figure size 432x288 with 1 Axes>"
      ]
     },
     "metadata": {
      "needs_background": "light"
     },
     "output_type": "display_data"
    }
   ],
   "source": [
    "# Plot these on a histogram\n",
    "plt.hist(x, bins = 10)"
   ]
  },
  {
   "cell_type": "code",
   "execution_count": 7,
   "id": "e32fb252-ef32-4d81-95f2-ccf64f3af5c8",
   "metadata": {},
   "outputs": [],
   "source": [
    "# Call in the ipywidgets module and create an interactive histogram\n",
    "import ipywidgets as widgets\n",
    "def myplot(nbins):\n",
    "    plt.hist(x, bins = nbins)"
   ]
  },
  {
   "cell_type": "code",
   "execution_count": 9,
   "id": "9c29ad15-a7d0-4c9e-bf2c-8022030c24f3",
   "metadata": {},
   "outputs": [
    {
     "data": {
      "application/vnd.jupyter.widget-view+json": {
       "model_id": "fb1d79fd14ed40478865201e316e2f64",
       "version_major": 2,
       "version_minor": 0
      },
      "text/plain": [
       "interactive(children=(IntSlider(value=10, description='nbins', max=20, min=1), Output()), _dom_classes=('widge…"
      ]
     },
     "metadata": {},
     "output_type": "display_data"
    }
   ],
   "source": [
    "# Create a widget with values ranging from 1 to 20\n",
    "widgets.interactive(myplot, nbins = (1, 20))"
   ]
  },
  {
   "cell_type": "code",
   "execution_count": null,
   "id": "509f6168-f1b7-47ac-a021-f8f841dfd9d9",
   "metadata": {},
   "outputs": [],
   "source": []
  }
 ],
 "metadata": {
  "kernelspec": {
   "display_name": "Python 3 (ipykernel)",
   "language": "python",
   "name": "python3"
  },
  "language_info": {
   "codemirror_mode": {
    "name": "ipython",
    "version": 3
   },
   "file_extension": ".py",
   "mimetype": "text/x-python",
   "name": "python",
   "nbconvert_exporter": "python",
   "pygments_lexer": "ipython3",
   "version": "3.8.12"
  }
 },
 "nbformat": 4,
 "nbformat_minor": 5
}
