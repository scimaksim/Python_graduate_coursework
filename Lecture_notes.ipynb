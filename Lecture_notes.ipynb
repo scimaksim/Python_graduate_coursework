{
 "cells": [
  {
   "cell_type": "markdown",
   "id": "303632de-1593-4a86-8526-683fc88cf571",
   "metadata": {},
   "source": [
    "# Topic 1: Programming in Python"
   ]
  },
  {
   "cell_type": "markdown",
   "id": "22cf7db0-1423-42e4-9700-62e69a35f621",
   "metadata": {},
   "source": [
    "## Module 1: Installation & JupyterLab"
   ]
  },
  {
   "cell_type": "markdown",
   "id": "a07832ce-4893-4460-8273-dd82b92d1eec",
   "metadata": {},
   "source": [
    "We can create a basic histogram of random normal values and demonstrate interactive widgets as follows."
   ]
  },
  {
   "cell_type": "code",
   "execution_count": 1,
   "id": "7860a706-ea5d-42f9-9416-e9755ca4dd37",
   "metadata": {},
   "outputs": [
    {
     "name": "stderr",
     "output_type": "stream",
     "text": [
      "Failed to extract font properties from /opt/X11/share/system_fonts/LastResort.otf: tuple indices must be integers or slices, not str\n",
      "Failed to extract font properties from /System/Library/Fonts/Supplemental/NISC18030.ttf: In FT2Font: Could not set the fontsize (error code 0x17)\n",
      "Failed to extract font properties from /System/Library/Fonts/LastResort.otf: tuple indices must be integers or slices, not str\n",
      "Failed to extract font properties from /opt/X11/share/system_fonts/Supplemental/NISC18030.ttf: In FT2Font: Could not set the fontsize (error code 0x17)\n",
      "Failed to extract font properties from /System/Library/Fonts/Apple Color Emoji.ttc: In FT2Font: Could not set the fontsize (error code 0x17)\n",
      "Failed to extract font properties from /opt/X11/share/system_fonts/Apple Color Emoji.ttc: In FT2Font: Could not set the fontsize (error code 0x17)\n",
      "generated new fontManager\n"
     ]
    }
   ],
   "source": [
    "import numpy as np\n",
    "import matplotlib.pyplot as plt"
   ]
  },
  {
   "cell_type": "code",
   "execution_count": 2,
   "id": "5cdf4787-1ab9-4917-b33a-cd0aee821cdd",
   "metadata": {
    "tags": []
   },
   "outputs": [],
   "source": [
    "# Create 100 random normal values\n",
    "x = np.random.normal(size = 100)"
   ]
  },
  {
   "cell_type": "code",
   "execution_count": 3,
   "id": "89ab2a15-f6e5-450e-ae37-cd2c92c9eb12",
   "metadata": {},
   "outputs": [
    {
     "data": {
      "text/plain": [
       "(array([ 1.,  5.,  5.,  8., 15., 16., 22., 17.,  4.,  7.]),\n",
       " array([-2.95527344, -2.42469789, -1.89412233, -1.36354678, -0.83297123,\n",
       "        -0.30239568,  0.22817987,  0.75875543,  1.28933098,  1.81990653,\n",
       "         2.35048208]),\n",
       " <BarContainer object of 10 artists>)"
      ]
     },
     "execution_count": 3,
     "metadata": {},
     "output_type": "execute_result"
    },
    {
     "data": {
      "image/png": "[encoded data removed]",
      "text/plain": [
       "<Figure size 432x288 with 1 Axes>"
      ]
     },
     "metadata": {
      "needs_background": "light"
     },
     "output_type": "display_data"
    }
   ],
   "source": [
    "# Plot these on a histogram\n",
    "plt.hist(x, bins = 10)"
   ]
  },
  {
   "cell_type": "code",
   "execution_count": 4,
   "id": "e32fb252-ef32-4d81-95f2-ccf64f3af5c8",
   "metadata": {},
   "outputs": [],
   "source": [
    "# Call in the ipywidgets module and create an interactive histogram\n",
    "import ipywidgets as widgets\n",
    "def myplot(nbins):\n",
    "    plt.hist(x, bins = nbins)"
   ]
  },
  {
   "cell_type": "code",
   "execution_count": 5,
   "id": "9c29ad15-a7d0-4c9e-bf2c-8022030c24f3",
   "metadata": {},
   "outputs": [
    {
     "data": {
      "application/vnd.jupyter.widget-view+json": {
       "model_id": "b4cf6b3061fa480aa5345f31d7eaba51",
       "version_major": 2,
       "version_minor": 0
      },
      "text/plain": [
       "interactive(children=(IntSlider(value=10, description='nbins', max=20, min=1), Output()), _dom_classes=('widge…"
      ]
     },
     "metadata": {},
     "output_type": "display_data"
    }
   ],
   "source": [
    "# Create a widget with values ranging from 1 to 20\n",
    "widgets.interactive(myplot, nbins = (1, 20))"
   ]
  },
  {
   "cell_type": "markdown",
   "id": "d736931a-a003-4330-8a61-6a9021956645",
   "metadata": {},
   "source": [
    "### Basic Use of Python"
   ]
  },
  {
   "cell_type": "markdown",
   "id": "e0b07666-0864-4384-b273-6204c555975c",
   "metadata": {},
   "source": [
    "We use basic equal signs to assign variables in Python."
   ]
  },
  {
   "cell_type": "code",
   "execution_count": 6,
   "id": "d6dd332d-e5a1-4314-b190-5abf8e7be0aa",
   "metadata": {},
   "outputs": [
    {
     "data": {
      "text/plain": [
       "'Hello! '"
      ]
     },
     "execution_count": 6,
     "metadata": {},
     "output_type": "execute_result"
    }
   ],
   "source": [
    "x = \"Hello! \"\n",
    "y = \"How are you?\"\n",
    "x"
   ]
  },
  {
   "cell_type": "code",
   "execution_count": 7,
   "id": "10babc22-12df-40de-9b4c-1024ff3ebf29",
   "metadata": {},
   "outputs": [
    {
     "name": "stdout",
     "output_type": "stream",
     "text": [
      "Hello! \n"
     ]
    }
   ],
   "source": [
    "print(x)"
   ]
  },
  {
   "cell_type": "code",
   "execution_count": 8,
   "id": "1aca68b5-92f9-4d0a-a202-e0814cd00831",
   "metadata": {},
   "outputs": [
    {
     "data": {
      "text/plain": [
       "'Hello! How are you?'"
      ]
     },
     "execution_count": 8,
     "metadata": {},
     "output_type": "execute_result"
    }
   ],
   "source": [
    "x + y"
   ]
  },
  {
   "cell_type": "code",
   "execution_count": 9,
   "id": "24c178fb-6b10-484c-8f62-5eb1f1cc72e1",
   "metadata": {},
   "outputs": [
    {
     "name": "stdout",
     "output_type": "stream",
     "text": [
      "Hello! How are you?\n"
     ]
    }
   ],
   "source": [
    "print(x + y)"
   ]
  },
  {
   "cell_type": "markdown",
   "id": "d6570e35-7738-41a4-b869-e43b58d841e3",
   "metadata": {},
   "source": [
    "We can include a newline character using `\\n`."
   ]
  },
  {
   "cell_type": "markdown",
   "id": "40568359-41cc-4c63-ac49-283be594b07e",
   "metadata": {},
   "source": [
    "x = \"Hello! \\n\"\n",
    "y = 'Then I asked, \"How are you?\"'\n",
    "x"
   ]
  },
  {
   "cell_type": "code",
   "execution_count": 11,
   "id": "eb47a3dd-3259-485c-8a99-230e4392bd22",
   "metadata": {},
   "outputs": [
    {
     "name": "stdout",
     "output_type": "stream",
     "text": [
      "Hello! \n",
      "\n"
     ]
    }
   ],
   "source": [
    "print(x)"
   ]
  },
  {
   "cell_type": "code",
   "execution_count": 12,
   "id": "62b12e77-dd17-4da3-9ab9-ffe5e5fccb5c",
   "metadata": {},
   "outputs": [
    {
     "data": {
      "text/plain": [
       "'Hello! \\nThen I asked, \"How are you?\"'"
      ]
     },
     "execution_count": 12,
     "metadata": {},
     "output_type": "execute_result"
    }
   ],
   "source": [
    "x+y"
   ]
  },
  {
   "cell_type": "code",
   "execution_count": 13,
   "id": "92761f50-f26c-4cf5-964c-e99148937ca7",
   "metadata": {},
   "outputs": [
    {
     "name": "stdout",
     "output_type": "stream",
     "text": [
      "Hello! \n",
      "Then I asked, \"How are you?\"\n"
     ]
    }
   ],
   "source": [
    "print(x+y)"
   ]
  },
  {
   "cell_type": "markdown",
   "id": "27951e55-0698-4276-95a5-7a9e4b4c1a28",
   "metadata": {},
   "source": [
    "#### Built-in data objects"
   ]
  },
  {
   "cell_type": "markdown",
   "id": "c56dd615-e891-42bd-ae5e-523e2a0fe9b8",
   "metadata": {},
   "source": [
    "We have text type, `str`, and numeric types such as `int` and `float`."
   ]
  },
  {
   "cell_type": "code",
   "execution_count": 14,
   "id": "e3991209-52a0-49ac-9ff5-524ec06b37f1",
   "metadata": {},
   "outputs": [
    {
     "data": {
      "text/plain": [
       "str"
      ]
     },
     "execution_count": 14,
     "metadata": {},
     "output_type": "execute_result"
    }
   ],
   "source": [
    "y = \"text string\"\n",
    "type(y)"
   ]
  },
  {
   "cell_type": "code",
   "execution_count": 15,
   "id": "d1700c5a-69de-47fe-9566-d6f1f06da02b",
   "metadata": {},
   "outputs": [
    {
     "data": {
      "text/plain": [
       "int"
      ]
     },
     "execution_count": 15,
     "metadata": {},
     "output_type": "execute_result"
    }
   ],
   "source": [
    "y = 10\n",
    "type(y)"
   ]
  },
  {
   "cell_type": "code",
   "execution_count": 16,
   "id": "2fa0a8c1-3296-40ab-a3e7-9a298509341f",
   "metadata": {},
   "outputs": [
    {
     "data": {
      "text/plain": [
       "float"
      ]
     },
     "execution_count": 16,
     "metadata": {},
     "output_type": "execute_result"
    }
   ],
   "source": [
    "x = 10.4\n",
    "type(x)"
   ]
  },
  {
   "cell_type": "markdown",
   "id": "4a5506e3-3483-4d49-918a-0a02566a06f1",
   "metadata": {},
   "source": [
    "There is also the `boolean` type to signify True/False values."
   ]
  },
  {
   "cell_type": "code",
   "execution_count": 17,
   "id": "111a3f88-8036-468e-b747-c7e87a039549",
   "metadata": {},
   "outputs": [
    {
     "data": {
      "text/plain": [
       "bool"
      ]
     },
     "execution_count": 17,
     "metadata": {},
     "output_type": "execute_result"
    }
   ],
   "source": [
    "y = True\n",
    "type(y)"
   ]
  },
  {
   "cell_type": "markdown",
   "id": "61830c79-50fa-44b9-bb2d-00fe63eef7e9",
   "metadata": {},
   "source": [
    "#### Compound data types"
   ]
  },
  {
   "cell_type": "markdown",
   "id": "aa7a5125-9254-4d8d-988e-2137bf2593c2",
   "metadata": {},
   "source": [
    "Sequence types include a `list` and a `tuple`. \n",
    "* A **list** is an object that has an _ordering_. Each element can be of a different type.\n",
    "* A tuple is like a list, but it is immutable (cannot be changed)"
   ]
  },
  {
   "cell_type": "code",
   "execution_count": 19,
   "id": "99f7f861-6b80-4637-85ab-58f4d8e19439",
   "metadata": {},
   "outputs": [
    {
     "data": {
      "text/plain": [
       "list"
      ]
     },
     "execution_count": 19,
     "metadata": {},
     "output_type": "execute_result"
    }
   ],
   "source": [
    "# Example of a list, where order matters and object types can differ.\n",
    "# Here, we have an integer, a string, a floating point, and a boolean.\n",
    "z = [10, \"a\", 11.5, True]\n",
    "type(z)"
   ]
  },
  {
   "cell_type": "markdown",
   "id": "1806f513-c142-4a73-b9f5-8efb5670c4c8",
   "metadata": {},
   "source": [
    "Another data type, a mapping type, is called a `dict` (dictionary). A dictionary has key-value pairs which are specified with curly brackets."
   ]
  },
  {
   "cell_type": "code",
   "execution_count": 20,
   "id": "d44dc8e9-85b0-4ce5-ab02-8437b505d6dc",
   "metadata": {},
   "outputs": [
    {
     "data": {
      "text/plain": [
       "dict"
      ]
     },
     "execution_count": 20,
     "metadata": {},
     "output_type": "execute_result"
    }
   ],
   "source": [
    "# Example of a dictionary, which has key-value pairs.\n",
    "w = {\"key1\": \"value1\",\n",
    "    \"key2\": [\"value2\", 10]}\n",
    "type(w)"
   ]
  },
  {
   "cell_type": "markdown",
   "id": "e3e60356-81ee-4de7-88c4-fcc084bac4b6",
   "metadata": {},
   "source": [
    "#### Short-hand assignments"
   ]
  },
  {
   "cell_type": "markdown",
   "id": "2602d5cb-1756-4d4f-ab52-9d6b7acc1e4c",
   "metadata": {},
   "source": [
    "We can store three variables at once using one line of code."
   ]
  },
  {
   "cell_type": "code",
   "execution_count": 22,
   "id": "762e02d4-32d2-429a-8e13-5c6ef82eca18",
   "metadata": {},
   "outputs": [
    {
     "name": "stdout",
     "output_type": "stream",
     "text": [
      "Orange\n",
      "Banana\n",
      "Cherry\n"
     ]
    }
   ],
   "source": [
    "x, y, z = \"Orange\", \"Banana\", \"Cherry\"\n",
    "print(x)\n",
    "print(y)\n",
    "print(z)"
   ]
  },
  {
   "cell_type": "code",
   "execution_count": 24,
   "id": "a1075230-0378-43df-a4be-6b1040a5d8d8",
   "metadata": {},
   "outputs": [
    {
     "name": "stdout",
     "output_type": "stream",
     "text": [
      "Orange\n",
      "Orange\n"
     ]
    }
   ],
   "source": [
    "x = y = z = \"Orange\"\n",
    "print(x)\n",
    "print(y)"
   ]
  },
  {
   "cell_type": "markdown",
   "id": "33095eeb-a7ad-4400-b2fb-8b52664a6bea",
   "metadata": {},
   "source": [
    "We can also store some things in one variables and the remainder in others (a catch-all)."
   ]
  },
  {
   "cell_type": "code",
   "execution_count": 26,
   "id": "bb40b1ac-b827-48ec-bd74-1a77f5d0bda7",
   "metadata": {},
   "outputs": [
    {
     "name": "stdout",
     "output_type": "stream",
     "text": [
      "Orange\n"
     ]
    }
   ],
   "source": [
    "# Store the first value in 'x' and the rest in 'y'\n",
    "x, *y = \"Orange\", \"Banana\", \"Cherry\"\n",
    "print(x)"
   ]
  },
  {
   "cell_type": "code",
   "execution_count": 27,
   "id": "5162d2f1-0de8-4dfc-b918-bcede8805002",
   "metadata": {},
   "outputs": [
    {
     "name": "stdout",
     "output_type": "stream",
     "text": [
      "['Banana', 'Cherry']\n"
     ]
    }
   ],
   "source": [
    "print(y)"
   ]
  },
  {
   "cell_type": "code",
   "execution_count": 28,
   "id": "8b681448-1d88-4f2a-83e6-af6e37a24d41",
   "metadata": {},
   "outputs": [
    {
     "data": {
      "text/plain": [
       "list"
      ]
     },
     "execution_count": 28,
     "metadata": {},
     "output_type": "execute_result"
    }
   ],
   "source": [
    "type(y)"
   ]
  },
  {
   "cell_type": "code",
   "execution_count": 29,
   "id": "2926b24c-4b67-4c5f-a97b-2f4e4d67f83d",
   "metadata": {},
   "outputs": [
    {
     "name": "stdout",
     "output_type": "stream",
     "text": [
      "Cherry\n"
     ]
    }
   ],
   "source": [
    "# Assign the last thing to 'y' and the everything before it to 'x'\n",
    "*x, y = \"Orange\", \"Banana\", \"Cherry\"\n",
    "print(y)"
   ]
  },
  {
   "cell_type": "code",
   "execution_count": 30,
   "id": "af3c1a90-cdd5-4eb1-86c6-e23453cf2cb9",
   "metadata": {},
   "outputs": [
    {
     "name": "stdout",
     "output_type": "stream",
     "text": [
      "['Orange', 'Banana']\n"
     ]
    }
   ],
   "source": [
    "print(x)"
   ]
  },
  {
   "cell_type": "markdown",
   "id": "88cf2063-57bc-454d-8b64-386f30a28a0c",
   "metadata": {},
   "source": [
    "An underscore, `_`, can be used to show the last evaluated expression."
   ]
  },
  {
   "cell_type": "code",
   "execution_count": 31,
   "id": "f12da2fa-52e6-49fb-b88b-e5844cbae898",
   "metadata": {},
   "outputs": [
    {
     "data": {
      "text/plain": [
       "'Orange'"
      ]
     },
     "execution_count": 31,
     "metadata": {},
     "output_type": "execute_result"
    }
   ],
   "source": [
    "x, y, z = \"Orange\", \"Banana\", \"Cherry\"\n",
    "x"
   ]
  },
  {
   "cell_type": "code",
   "execution_count": 32,
   "id": "a65f3d05-046d-4080-ba29-48ba869ec7f7",
   "metadata": {},
   "outputs": [
    {
     "data": {
      "text/plain": [
       "'Orange'"
      ]
     },
     "execution_count": 32,
     "metadata": {},
     "output_type": "execute_result"
    }
   ],
   "source": [
    "_"
   ]
  },
  {
   "cell_type": "code",
   "execution_count": 33,
   "id": "ce380162-c988-42af-999c-ba3341f237ad",
   "metadata": {},
   "outputs": [
    {
     "name": "stdout",
     "output_type": "stream",
     "text": [
      "Banana\n"
     ]
    }
   ],
   "source": [
    "# print doesn't count!\n",
    "print(y)"
   ]
  },
  {
   "cell_type": "code",
   "execution_count": 34,
   "id": "fd0ee90c-7483-4c63-b318-13bbc7aad77f",
   "metadata": {},
   "outputs": [
    {
     "data": {
      "text/plain": [
       "'Orange'"
      ]
     },
     "execution_count": 34,
     "metadata": {},
     "output_type": "execute_result"
    }
   ],
   "source": [
    "_"
   ]
  },
  {
   "cell_type": "markdown",
   "id": "9ad8f26e-9e79-4437-8dc7-3915af1e7c1a",
   "metadata": {},
   "source": [
    "How can we use this?"
   ]
  },
  {
   "cell_type": "code",
   "execution_count": 35,
   "id": "e4455d1a-56a6-45b7-89cd-d954a04e0c78",
   "metadata": {},
   "outputs": [
    {
     "data": {
      "text/plain": [
       "212.0"
      ]
     },
     "execution_count": 35,
     "metadata": {},
     "output_type": "execute_result"
    }
   ],
   "source": [
    "degrees_celsius = 100\n",
    "(9 / 5) * degrees_celsius + 32"
   ]
  },
  {
   "cell_type": "code",
   "execution_count": 36,
   "id": "31cea722-5db0-4369-9819-f59a5d1e5e80",
   "metadata": {},
   "outputs": [
    {
     "data": {
      "text/plain": [
       "202.0"
      ]
     },
     "execution_count": 36,
     "metadata": {},
     "output_type": "execute_result"
    }
   ],
   "source": [
    "_ - 10"
   ]
  },
  {
   "cell_type": "code",
   "execution_count": 37,
   "id": "7747a1c7-ee05-41d3-acc6-a22f00f35304",
   "metadata": {},
   "outputs": [
    {
     "data": {
      "text/plain": [
       "2020.0"
      ]
     },
     "execution_count": 37,
     "metadata": {},
     "output_type": "execute_result"
    }
   ],
   "source": [
    "_ * 10"
   ]
  },
  {
   "cell_type": "markdown",
   "id": "0b9936aa-39c8-4529-9182-3142435b3e42",
   "metadata": {},
   "source": [
    "#### Copying vs. referencing"
   ]
  },
  {
   "cell_type": "markdown",
   "id": "7f1f46ab-65d5-49e1-bfbf-d87dfd4dc673",
   "metadata": {},
   "source": [
    "Be careful when modifying the elements of a compound object. Assignment statements do not copy objects; instead, they create _bindings_ between a target (a spot in computer memory) and an object!"
   ]
  },
  {
   "cell_type": "code",
   "execution_count": 46,
   "id": "c81a5aec-ce4e-4e2b-9bcf-a659601ccf99",
   "metadata": {},
   "outputs": [
    {
     "name": "stdout",
     "output_type": "stream",
     "text": [
      "[1, 2, 3, 'Cats Rule!'] [1, 2, 3, 'Cats Rule!']\n"
     ]
    }
   ],
   "source": [
    "x = [1, 2, 3, \"Cats Rule!\"]\n",
    "# New value 'y' points to the memory of 'x'\n",
    "y = x\n",
    "print(x, y)"
   ]
  },
  {
   "cell_type": "code",
   "execution_count": 47,
   "id": "74308096-80aa-454e-9f0c-a4cdc10cca4f",
   "metadata": {},
   "outputs": [
    {
     "name": "stdout",
     "output_type": "stream",
     "text": [
      "[1, 2, 3, 'Dogs Rule!'] [1, 2, 3, 'Dogs Rule!']\n"
     ]
    }
   ],
   "source": [
    "# Changing the original modifies both variables!\n",
    "x[3] = \"Dogs Rule!\"\n",
    "print(x, y)"
   ]
  },
  {
   "cell_type": "markdown",
   "id": "7c16c90b-a4e7-44a4-91f6-fed206ec7974",
   "metadata": {},
   "source": [
    "If we want to create a copy of an object, we have to use a **method** (in this case, the `copy` method). While functions such as `print(x)` includes the function name and then its arguments, a method is called by referencing the object, appending a period, and adding the method name and any arguments (e.g. `x.copy()`). "
   ]
  },
  {
   "cell_type": "code",
   "execution_count": 50,
   "id": "9a83fc49-f75a-47f6-999a-75ce9c12716e",
   "metadata": {},
   "outputs": [
    {
     "name": "stdout",
     "output_type": "stream",
     "text": [
      "[1, 2, 10, 'No, cats rule!'] [1, 2, 10, 'No, cats rule!']\n"
     ]
    }
   ],
   "source": [
    "# Create a new memory allocation\n",
    "y = x.copy()\n",
    "x[2] = 10\n",
    "x[3] = \"No, cats rule!\"\n",
    "print(x, y)"
   ]
  },
  {
   "cell_type": "markdown",
   "id": "cc02f372-9552-420e-b999-d1a18926c78e",
   "metadata": {},
   "source": [
    "Objects in Python are mutable or immutable (cannot be modified). A list is mutable, a tuple is immutable. \n",
    "\n",
    "We cannot change the elements of a tuple unless the element itself is mutable (e.g. if one of the element of a tuple is a list)."
   ]
  },
  {
   "cell_type": "code",
   "execution_count": 54,
   "id": "7c63215f-51a4-4a98-b0ae-6b0cafeb2151",
   "metadata": {},
   "outputs": [
    {
     "name": "stdout",
     "output_type": "stream",
     "text": [
      "(1, 2, 3, ['Cats Rule!']) (1, 2, 3, ['Cats Rule!'])\n"
     ]
    }
   ],
   "source": [
    "# Create a 'tuple' of four values, the last of which is a mutable list\n",
    "x = (1, 2, 3, [\"Cats Rule!\"])\n",
    "y = x\n",
    "print(x, y)"
   ]
  },
  {
   "cell_type": "code",
   "execution_count": 55,
   "id": "65d771d0-c149-49b1-b005-8bca4c90a9a7",
   "metadata": {},
   "outputs": [
    {
     "name": "stdout",
     "output_type": "stream",
     "text": [
      "(1, 2, 3, ['Dogs!']) (1, 2, 3, ['Dogs!'])\n"
     ]
    }
   ],
   "source": [
    "# Modify the object with index 3 (a list)\n",
    "x[3][0] = \"Dogs!\"\n",
    "print(x, y)"
   ]
  },
  {
   "cell_type": "markdown",
   "id": "e71a6890-2621-4ebb-b30e-5c991beae91b",
   "metadata": {},
   "source": [
    "#### Variable names "
   ]
  },
  {
   "cell_type": "markdown",
   "id": "7e2b2ff3-2095-464a-9b70-289116be7792",
   "metadata": {},
   "source": [
    "Variable names can use any letters, digits, numbers, and underscore symbol, but cannot start with a digit and cannot include punctuation. "
   ]
  },
  {
   "cell_type": "markdown",
   "id": "68a45bb4-bbb4-463f-bd34-0ce00766a308",
   "metadata": {},
   "source": [
    "#### Augmented assignment"
   ]
  },
  {
   "cell_type": "markdown",
   "id": "b36d873d-d9dd-4640-87d6-1ec62a7f9b4a",
   "metadata": {},
   "source": [
    "Often, we want to take a value, add to it, and replace the old value."
   ]
  },
  {
   "cell_type": "code",
   "execution_count": 56,
   "id": "9bf27280-174a-4329-bb39-a934610f0e10",
   "metadata": {},
   "outputs": [
    {
     "data": {
      "text/plain": [
       "100"
      ]
     },
     "execution_count": 56,
     "metadata": {},
     "output_type": "execute_result"
    }
   ],
   "source": [
    "winnings = 100\n",
    "winngs = winnings + 20\n",
    "winnings"
   ]
  },
  {
   "cell_type": "markdown",
   "id": "87a039c5-a31b-4c00-92f3-ce2397754c73",
   "metadata": {},
   "source": [
    "A short-hand way to do this is with augmented assignment."
   ]
  },
  {
   "cell_type": "code",
   "execution_count": 67,
   "id": "f78da44f-a08d-45b6-b66e-f5339422b240",
   "metadata": {},
   "outputs": [
    {
     "data": {
      "text/plain": [
       "120"
      ]
     },
     "execution_count": 67,
     "metadata": {},
     "output_type": "execute_result"
    }
   ],
   "source": [
    "winnings = 100\n",
    "winnings += 20\n",
    "winnings"
   ]
  },
  {
   "cell_type": "code",
   "execution_count": 68,
   "id": "a3df9b11-e3bb-4ed5-adf7-3baf97c8608c",
   "metadata": {},
   "outputs": [
    {
     "data": {
      "text/plain": [
       "90"
      ]
     },
     "execution_count": 68,
     "metadata": {},
     "output_type": "execute_result"
    }
   ],
   "source": [
    "winnings -= 30\n",
    "winnings"
   ]
  },
  {
   "cell_type": "code",
   "execution_count": 69,
   "id": "316a9e05-be60-4b33-b8b1-fd6ea90ebccf",
   "metadata": {},
   "outputs": [
    {
     "data": {
      "text/plain": [
       "3600"
      ]
     },
     "execution_count": 69,
     "metadata": {},
     "output_type": "execute_result"
    }
   ],
   "source": [
    "winnings *= 40\n",
    "winnings"
   ]
  },
  {
   "cell_type": "code",
   "execution_count": 70,
   "id": "846c1f28-7321-4ec5-a506-a83c2fe345aa",
   "metadata": {},
   "outputs": [
    {
     "data": {
      "text/plain": [
       "60.0"
      ]
     },
     "execution_count": 70,
     "metadata": {},
     "output_type": "execute_result"
    }
   ],
   "source": [
    "winnings **= 1/2\n",
    "winnings"
   ]
  },
  {
   "cell_type": "markdown",
   "id": "f455964b-b468-43ae-a229-8255224dd6ef",
   "metadata": {},
   "source": [
    "#### Continuing a line of code"
   ]
  },
  {
   "cell_type": "markdown",
   "id": "16ac63e1-a81e-4247-aafa-5cd72bd11f38",
   "metadata": {},
   "source": [
    "For long lines of code, we can break the code across multiple lines using `\\` or `()`."
   ]
  },
  {
   "cell_type": "code",
   "execution_count": 71,
   "id": "2d6bc788-515e-4790-85f1-1219caf98bde",
   "metadata": {},
   "outputs": [
    {
     "data": {
      "text/plain": [
       "-270.0"
      ]
     },
     "execution_count": 71,
     "metadata": {},
     "output_type": "execute_result"
    }
   ],
   "source": [
    "10 + 20 - 100 * 60 \\\n",
    "/ 20"
   ]
  },
  {
   "cell_type": "code",
   "execution_count": 74,
   "id": "14ecbe66-ef7e-41cc-83f6-d521971966d5",
   "metadata": {},
   "outputs": [
    {
     "data": {
      "text/plain": [
       "-270.0"
      ]
     },
     "execution_count": 74,
     "metadata": {},
     "output_type": "execute_result"
    }
   ],
   "source": [
    "(10 + 20 -100 * 60\n",
    "/ 20)"
   ]
  },
  {
   "cell_type": "markdown",
   "id": "d080b1fe-07bd-46e4-82f9-79b6a1d27b9d",
   "metadata": {},
   "source": [
    "#### Functions and methods"
   ]
  },
  {
   "cell_type": "markdown",
   "id": "ae69bc34-032a-4705-853f-50d006e7bc1b",
   "metadata": {},
   "source": [
    "Two ways to do an operation on a variable/object is via \n",
    "\n",
    "1. Functions\n",
    "    * `function_name(myvar, other_args)`\n",
    "2. Methods\n",
    "    * `myvar.method(other_args)`"
   ]
  },
  {
   "cell_type": "code",
   "execution_count": 80,
   "id": "a43eb743-b8d3-4270-b806-8161a0a4fb66",
   "metadata": {},
   "outputs": [
    {
     "data": {
      "text/plain": [
       "4"
      ]
     },
     "execution_count": 80,
     "metadata": {},
     "output_type": "execute_result"
    }
   ],
   "source": [
    "# Example of functions\n",
    "myList = [1, 10, 100, 1000]\n",
    "len(myList)"
   ]
  },
  {
   "cell_type": "code",
   "execution_count": 76,
   "id": "c10d9ae4-116b-4df6-87f2-43fef7c79f2e",
   "metadata": {},
   "outputs": [
    {
     "data": {
      "text/plain": [
       "1000"
      ]
     },
     "execution_count": 76,
     "metadata": {},
     "output_type": "execute_result"
    }
   ],
   "source": [
    "max(myList)"
   ]
  },
  {
   "cell_type": "code",
   "execution_count": 81,
   "id": "d8aa7584-06b0-4cf1-be06-ff1bad01d3e0",
   "metadata": {},
   "outputs": [
    {
     "data": {
      "text/plain": [
       "1000"
      ]
     },
     "execution_count": 81,
     "metadata": {},
     "output_type": "execute_result"
    }
   ],
   "source": [
    "# Example of methods\n",
    "myList.pop(3)"
   ]
  },
  {
   "cell_type": "code",
   "execution_count": 78,
   "id": "2b9cda2d-579b-45c3-866c-37c0db996d22",
   "metadata": {},
   "outputs": [
    {
     "data": {
      "text/plain": [
       "[1, 10, 100]"
      ]
     },
     "execution_count": 78,
     "metadata": {},
     "output_type": "execute_result"
    }
   ],
   "source": [
    "myList"
   ]
  },
  {
   "cell_type": "code",
   "execution_count": 79,
   "id": "892c5922-6bc3-4a06-8e69-e60824705b84",
   "metadata": {},
   "outputs": [
    {
     "data": {
      "text/plain": [
       "[1, 10, 100, 100000]"
      ]
     },
     "execution_count": 79,
     "metadata": {},
     "output_type": "execute_result"
    }
   ],
   "source": [
    "myList.append(100000)\n",
    "myList"
   ]
  },
  {
   "cell_type": "markdown",
   "id": "038f367d-51b1-4a8a-93fc-d93ce2f40f7d",
   "metadata": {},
   "source": [
    "#### Examples"
   ]
  },
  {
   "cell_type": "code",
   "execution_count": 90,
   "id": "d6fc231e-a12f-47f5-a28e-ab50be42f296",
   "metadata": {},
   "outputs": [
    {
     "data": {
      "text/plain": [
       "[1, 2, 3, 4]"
      ]
     },
     "execution_count": 90,
     "metadata": {},
     "output_type": "execute_result"
    }
   ],
   "source": [
    "myList = [x for x in range(1, 5)]\n",
    "myList"
   ]
  },
  {
   "cell_type": "code",
   "execution_count": 91,
   "id": "ff5a750b-0076-48fd-9b70-6a4fd6d7854d",
   "metadata": {},
   "outputs": [
    {
     "data": {
      "text/plain": [
       "[1, 2, 3, 4, 1]"
      ]
     },
     "execution_count": 91,
     "metadata": {},
     "output_type": "execute_result"
    }
   ],
   "source": [
    "myList = myList + [1]\n",
    "myList"
   ]
  },
  {
   "cell_type": "code",
   "execution_count": 92,
   "id": "607a97ea-d8b1-42a1-8cf2-398f13221272",
   "metadata": {},
   "outputs": [
    {
     "data": {
      "text/plain": [
       "[1, 2, 3, 4, 1, 1, 2, 3, 4, 1, 1, 2, 3, 4, 1, 1, 2, 3, 4, 1]"
      ]
     },
     "execution_count": 92,
     "metadata": {},
     "output_type": "execute_result"
    }
   ],
   "source": [
    "myList = myList*4\n",
    "myList"
   ]
  },
  {
   "cell_type": "code",
   "execution_count": 97,
   "id": "f24eb0bd-727b-4acc-b29d-e33bde5a4af0",
   "metadata": {},
   "outputs": [
    {
     "data": {
      "text/plain": [
       "8"
      ]
     },
     "execution_count": 97,
     "metadata": {},
     "output_type": "execute_result"
    }
   ],
   "source": [
    "# Count the number of '1's in myList using a method\n",
    "myList.count(1)"
   ]
  },
  {
   "cell_type": "code",
   "execution_count": 96,
   "id": "9d0d7d24-3c7f-4cd5-aac1-0979989ceb0e",
   "metadata": {},
   "outputs": [
    {
     "data": {
      "text/plain": [
       "20"
      ]
     },
     "execution_count": 96,
     "metadata": {},
     "output_type": "execute_result"
    }
   ],
   "source": [
    "# Function\n",
    "len(myList)"
   ]
  },
  {
   "cell_type": "markdown",
   "id": "31dd59ab-7bc0-4d51-b3fa-c82b4f6c9b5b",
   "metadata": {},
   "source": [
    "## Module 2: Modules, Basic Data Types, & Control Flow"
   ]
  },
  {
   "cell_type": "markdown",
   "id": "5d5cec91-ab66-4fc8-a42e-a18790b33dd8",
   "metadata": {},
   "source": [
    "## Modules"
   ]
  },
  {
   "cell_type": "markdown",
   "id": "58a5f3ad-6f99-4c9d-9056-fcfcfb45368a",
   "metadata": {},
   "source": [
    "A module is a collection related functions and statements that are grouped together in a single `.py`. file to give additional functionality. To import them into a session we can run one of the two following commands:\n",
    "\n",
    "1. Import fully with `import module_name`\n",
    "2. Import selectively with `from module_name import thing1 thing2`"
   ]
  },
  {
   "cell_type": "markdown",
   "id": "815a31ae-1078-4a07-b1be-b92eae40ae01",
   "metadata": {},
   "source": [
    "Built-in modules (already downloaded) include\n",
    "\n",
    "- `math` - contains math constants such as `pi`, `e`, etc. and commonly used functions such as `exp()`, `sin()`, `sqrt()`, etc.\n",
    "- `random` - random sampling and random number generation\n",
    "- `statistics` - summary statistics (but `scipy` has a lot more)\n",
    "- `datetime` - functionality for working with dates"
   ]
  },
  {
   "cell_type": "code",
   "execution_count": 1,
   "id": "910a2c4c-a302-4110-abf7-923814f576ef",
   "metadata": {},
   "outputs": [
    {
     "data": {
      "text/plain": [
       "module"
      ]
     },
     "execution_count": 1,
     "metadata": {},
     "output_type": "execute_result"
    }
   ],
   "source": [
    "# Import an entire module\n",
    "import math\n",
    "type(math)"
   ]
  },
  {
   "cell_type": "markdown",
   "id": "b8d50509-88f2-43d7-b974-5545c93168b6",
   "metadata": {},
   "source": [
    "We can view the functionality of a module using `help()`. "
   ]
  },
  {
   "cell_type": "code",
   "execution_count": 2,
   "id": "8a878f3b-ab98-4232-a240-33a450d4cf01",
   "metadata": {
    "collapsed": true,
    "jupyter": {
     "outputs_hidden": true
    },
    "tags": []
   },
   "outputs": [
    {
     "name": "stdout",
     "output_type": "stream",
     "text": [
      "Help on module math:\n",
      "\n",
      "NAME\n",
      "    math\n",
      "\n",
      "MODULE REFERENCE\n",
      "    https://docs.python.org/3.8/library/math\n",
      "    \n",
      "    The following documentation is automatically generated from the Python\n",
      "    source files.  It may be incomplete, incorrect or include features that\n",
      "    are considered implementation detail and may vary between Python\n",
      "    implementations.  When in doubt, consult the module reference at the\n",
      "    location listed above.\n",
      "\n",
      "DESCRIPTION\n",
      "    This module provides access to the mathematical functions\n",
      "    defined by the C standard.\n",
      "\n",
      "FUNCTIONS\n",
      "    acos(x, /)\n",
      "        Return the arc cosine (measured in radians) of x.\n",
      "    \n",
      "    acosh(x, /)\n",
      "        Return the inverse hyperbolic cosine of x.\n",
      "    \n",
      "    asin(x, /)\n",
      "        Return the arc sine (measured in radians) of x.\n",
      "    \n",
      "    asinh(x, /)\n",
      "        Return the inverse hyperbolic sine of x.\n",
      "    \n",
      "    atan(x, /)\n",
      "        Return the arc tangent (measured in radians) of x.\n",
      "    \n",
      "    atan2(y, x, /)\n",
      "        Return the arc tangent (measured in radians) of y/x.\n",
      "        \n",
      "        Unlike atan(y/x), the signs of both x and y are considered.\n",
      "    \n",
      "    atanh(x, /)\n",
      "        Return the inverse hyperbolic tangent of x.\n",
      "    \n",
      "    ceil(x, /)\n",
      "        Return the ceiling of x as an Integral.\n",
      "        \n",
      "        This is the smallest integer >= x.\n",
      "    \n",
      "    comb(n, k, /)\n",
      "        Number of ways to choose k items from n items without repetition and without order.\n",
      "        \n",
      "        Evaluates to n! / (k! * (n - k)!) when k <= n and evaluates\n",
      "        to zero when k > n.\n",
      "        \n",
      "        Also called the binomial coefficient because it is equivalent\n",
      "        to the coefficient of k-th term in polynomial expansion of the\n",
      "        expression (1 + x)**n.\n",
      "        \n",
      "        Raises TypeError if either of the arguments are not integers.\n",
      "        Raises ValueError if either of the arguments are negative.\n",
      "    \n",
      "    copysign(x, y, /)\n",
      "        Return a float with the magnitude (absolute value) of x but the sign of y.\n",
      "        \n",
      "        On platforms that support signed zeros, copysign(1.0, -0.0)\n",
      "        returns -1.0.\n",
      "    \n",
      "    cos(x, /)\n",
      "        Return the cosine of x (measured in radians).\n",
      "    \n",
      "    cosh(x, /)\n",
      "        Return the hyperbolic cosine of x.\n",
      "    \n",
      "    degrees(x, /)\n",
      "        Convert angle x from radians to degrees.\n",
      "    \n",
      "    dist(p, q, /)\n",
      "        Return the Euclidean distance between two points p and q.\n",
      "        \n",
      "        The points should be specified as sequences (or iterables) of\n",
      "        coordinates.  Both inputs must have the same dimension.\n",
      "        \n",
      "        Roughly equivalent to:\n",
      "            sqrt(sum((px - qx) ** 2.0 for px, qx in zip(p, q)))\n",
      "    \n",
      "    erf(x, /)\n",
      "        Error function at x.\n",
      "    \n",
      "    erfc(x, /)\n",
      "        Complementary error function at x.\n",
      "    \n",
      "    exp(x, /)\n",
      "        Return e raised to the power of x.\n",
      "    \n",
      "    expm1(x, /)\n",
      "        Return exp(x)-1.\n",
      "        \n",
      "        This function avoids the loss of precision involved in the direct evaluation of exp(x)-1 for small x.\n",
      "    \n",
      "    fabs(x, /)\n",
      "        Return the absolute value of the float x.\n",
      "    \n",
      "    factorial(x, /)\n",
      "        Find x!.\n",
      "        \n",
      "        Raise a ValueError if x is negative or non-integral.\n",
      "    \n",
      "    floor(x, /)\n",
      "        Return the floor of x as an Integral.\n",
      "        \n",
      "        This is the largest integer <= x.\n",
      "    \n",
      "    fmod(x, y, /)\n",
      "        Return fmod(x, y), according to platform C.\n",
      "        \n",
      "        x % y may differ.\n",
      "    \n",
      "    frexp(x, /)\n",
      "        Return the mantissa and exponent of x, as pair (m, e).\n",
      "        \n",
      "        m is a float and e is an int, such that x = m * 2.**e.\n",
      "        If x is 0, m and e are both 0.  Else 0.5 <= abs(m) < 1.0.\n",
      "    \n",
      "    fsum(seq, /)\n",
      "        Return an accurate floating point sum of values in the iterable seq.\n",
      "        \n",
      "        Assumes IEEE-754 floating point arithmetic.\n",
      "    \n",
      "    gamma(x, /)\n",
      "        Gamma function at x.\n",
      "    \n",
      "    gcd(x, y, /)\n",
      "        greatest common divisor of x and y\n",
      "    \n",
      "    hypot(...)\n",
      "        hypot(*coordinates) -> value\n",
      "        \n",
      "        Multidimensional Euclidean distance from the origin to a point.\n",
      "        \n",
      "        Roughly equivalent to:\n",
      "            sqrt(sum(x**2 for x in coordinates))\n",
      "        \n",
      "        For a two dimensional point (x, y), gives the hypotenuse\n",
      "        using the Pythagorean theorem:  sqrt(x*x + y*y).\n",
      "        \n",
      "        For example, the hypotenuse of a 3/4/5 right triangle is:\n",
      "        \n",
      "            >>> hypot(3.0, 4.0)\n",
      "            5.0\n",
      "    \n",
      "    isclose(a, b, *, rel_tol=1e-09, abs_tol=0.0)\n",
      "        Determine whether two floating point numbers are close in value.\n",
      "        \n",
      "          rel_tol\n",
      "            maximum difference for being considered \"close\", relative to the\n",
      "            magnitude of the input values\n",
      "          abs_tol\n",
      "            maximum difference for being considered \"close\", regardless of the\n",
      "            magnitude of the input values\n",
      "        \n",
      "        Return True if a is close in value to b, and False otherwise.\n",
      "        \n",
      "        For the values to be considered close, the difference between them\n",
      "        must be smaller than at least one of the tolerances.\n",
      "        \n",
      "        -inf, inf and NaN behave similarly to the IEEE 754 Standard.  That\n",
      "        is, NaN is not close to anything, even itself.  inf and -inf are\n",
      "        only close to themselves.\n",
      "    \n",
      "    isfinite(x, /)\n",
      "        Return True if x is neither an infinity nor a NaN, and False otherwise.\n",
      "    \n",
      "    isinf(x, /)\n",
      "        Return True if x is a positive or negative infinity, and False otherwise.\n",
      "    \n",
      "    isnan(x, /)\n",
      "        Return True if x is a NaN (not a number), and False otherwise.\n",
      "    \n",
      "    isqrt(n, /)\n",
      "        Return the integer part of the square root of the input.\n",
      "    \n",
      "    ldexp(x, i, /)\n",
      "        Return x * (2**i).\n",
      "        \n",
      "        This is essentially the inverse of frexp().\n",
      "    \n",
      "    lgamma(x, /)\n",
      "        Natural logarithm of absolute value of Gamma function at x.\n",
      "    \n",
      "    log(...)\n",
      "        log(x, [base=math.e])\n",
      "        Return the logarithm of x to the given base.\n",
      "        \n",
      "        If the base not specified, returns the natural logarithm (base e) of x.\n",
      "    \n",
      "    log10(x, /)\n",
      "        Return the base 10 logarithm of x.\n",
      "    \n",
      "    log1p(x, /)\n",
      "        Return the natural logarithm of 1+x (base e).\n",
      "        \n",
      "        The result is computed in a way which is accurate for x near zero.\n",
      "    \n",
      "    log2(x, /)\n",
      "        Return the base 2 logarithm of x.\n",
      "    \n",
      "    modf(x, /)\n",
      "        Return the fractional and integer parts of x.\n",
      "        \n",
      "        Both results carry the sign of x and are floats.\n",
      "    \n",
      "    perm(n, k=None, /)\n",
      "        Number of ways to choose k items from n items without repetition and with order.\n",
      "        \n",
      "        Evaluates to n! / (n - k)! when k <= n and evaluates\n",
      "        to zero when k > n.\n",
      "        \n",
      "        If k is not specified or is None, then k defaults to n\n",
      "        and the function returns n!.\n",
      "        \n",
      "        Raises TypeError if either of the arguments are not integers.\n",
      "        Raises ValueError if either of the arguments are negative.\n",
      "    \n",
      "    pow(x, y, /)\n",
      "        Return x**y (x to the power of y).\n",
      "    \n",
      "    prod(iterable, /, *, start=1)\n",
      "        Calculate the product of all the elements in the input iterable.\n",
      "        \n",
      "        The default start value for the product is 1.\n",
      "        \n",
      "        When the iterable is empty, return the start value.  This function is\n",
      "        intended specifically for use with numeric values and may reject\n",
      "        non-numeric types.\n",
      "    \n",
      "    radians(x, /)\n",
      "        Convert angle x from degrees to radians.\n",
      "    \n",
      "    remainder(x, y, /)\n",
      "        Difference between x and the closest integer multiple of y.\n",
      "        \n",
      "        Return x - n*y where n*y is the closest integer multiple of y.\n",
      "        In the case where x is exactly halfway between two multiples of\n",
      "        y, the nearest even value of n is used. The result is always exact.\n",
      "    \n",
      "    sin(x, /)\n",
      "        Return the sine of x (measured in radians).\n",
      "    \n",
      "    sinh(x, /)\n",
      "        Return the hyperbolic sine of x.\n",
      "    \n",
      "    sqrt(x, /)\n",
      "        Return the square root of x.\n",
      "    \n",
      "    tan(x, /)\n",
      "        Return the tangent of x (measured in radians).\n",
      "    \n",
      "    tanh(x, /)\n",
      "        Return the hyperbolic tangent of x.\n",
      "    \n",
      "    trunc(x, /)\n",
      "        Truncates the Real x to the nearest Integral toward 0.\n",
      "        \n",
      "        Uses the __trunc__ magic method.\n",
      "\n",
      "DATA\n",
      "    e = 2.718281828459045\n",
      "    inf = inf\n",
      "    nan = nan\n",
      "    pi = 3.141592653589793\n",
      "    tau = 6.283185307179586\n",
      "\n",
      "FILE\n",
      "    /Users/mnikifor/opt/anaconda3/lib/python3.8/lib-dynload/math.cpython-38-darwin.so\n",
      "\n",
      "\n"
     ]
    }
   ],
   "source": [
    "help(math)"
   ]
  },
  {
   "cell_type": "markdown",
   "id": "a325ce50-6277-4dc5-8aad-534713d472c2",
   "metadata": {},
   "source": [
    "Calling functions directly will not work."
   ]
  },
  {
   "cell_type": "code",
   "execution_count": 3,
   "id": "10630357-2e50-489d-81c5-a5538456a5e6",
   "metadata": {},
   "outputs": [
    {
     "ename": "NameError",
     "evalue": "name 'sqrt' is not defined",
     "output_type": "error",
     "traceback": [
      "\u001b[0;31m---------------------------------------------------------------------------\u001b[0m",
      "\u001b[0;31mNameError\u001b[0m                                 Traceback (most recent call last)",
      "\u001b[0;32m/var/folders/tt/0c52n6v91jv0np5kcxrr9pzm0000gn/T/ipykernel_8515/3918740153.py\u001b[0m in \u001b[0;36m<module>\u001b[0;34m\u001b[0m\n\u001b[0;32m----> 1\u001b[0;31m \u001b[0msqrt\u001b[0m\u001b[0;34m(\u001b[0m\u001b[0;36m9\u001b[0m\u001b[0;34m)\u001b[0m\u001b[0;34m\u001b[0m\u001b[0;34m\u001b[0m\u001b[0m\n\u001b[0m",
      "\u001b[0;31mNameError\u001b[0m: name 'sqrt' is not defined"
     ]
    }
   ],
   "source": [
    "sqrt(9)"
   ]
  },
  {
   "cell_type": "markdown",
   "id": "9b32d934-81e8-4aa3-a563-aed64781b0cc",
   "metadata": {},
   "source": [
    "Instead, if we're importing `math`, we need to reference the module first."
   ]
  },
  {
   "cell_type": "code",
   "execution_count": 4,
   "id": "82b0e2c7-7eb3-4fc1-be2a-03935662408b",
   "metadata": {},
   "outputs": [
    {
     "data": {
      "text/plain": [
       "3.0"
      ]
     },
     "execution_count": 4,
     "metadata": {},
     "output_type": "execute_result"
    }
   ],
   "source": [
    "import math\n",
    "math.sqrt(9)"
   ]
  },
  {
   "cell_type": "code",
   "execution_count": 6,
   "id": "e33b538a-7f88-48f0-8521-a863c9566d9a",
   "metadata": {},
   "outputs": [
    {
     "data": {
      "text/plain": [
       "120"
      ]
     },
     "execution_count": 6,
     "metadata": {},
     "output_type": "execute_result"
    }
   ],
   "source": [
    "math.factorial(5)"
   ]
  },
  {
   "cell_type": "markdown",
   "id": "a68e7cf9-4f49-44c0-87b8-811f04cb3bdd",
   "metadata": {},
   "source": [
    "The `math` module allows us to perform common statistical computations, such as finding the value of a normal distribution PDF at 1. \n",
    "\n",
    "$$f(1; u=0, \\sigma = 1) = \\frac{1}{2\\pi}exp^{-\\frac{1}{2}(1-0)^2}$$\n",
    "\n",
    "We can evaluate this normal distribution PDF expression using"
   ]
  },
  {
   "cell_type": "code",
   "execution_count": 7,
   "id": "017b22d1-04d7-4487-81bb-b4e01352987a",
   "metadata": {},
   "outputs": [
    {
     "data": {
      "text/plain": [
       "0.24197072451914337"
      ]
     },
     "execution_count": 7,
     "metadata": {},
     "output_type": "execute_result"
    }
   ],
   "source": [
    "(1.0/math.sqrt(2*math.pi))*math.exp(-0.5*(1 - 0.0)**2)"
   ]
  },
  {
   "cell_type": "markdown",
   "id": "4396e61b-73c8-499a-9caa-23d19e087a6c",
   "metadata": {},
   "source": [
    "We won't actually do this because `scipy` has functions to do this for us."
   ]
  },
  {
   "cell_type": "markdown",
   "id": "65d81342-31bb-4974-b688-af27ecd24327",
   "metadata": {},
   "source": [
    "There are also a variety of mathematical constants."
   ]
  },
  {
   "cell_type": "code",
   "execution_count": 8,
   "id": "467449a5-548c-4ac1-8dea-4817ab100ec2",
   "metadata": {},
   "outputs": [
    {
     "data": {
      "text/plain": [
       "2.718281828459045"
      ]
     },
     "execution_count": 8,
     "metadata": {},
     "output_type": "execute_result"
    }
   ],
   "source": [
    "import math\n",
    "math.e"
   ]
  },
  {
   "cell_type": "code",
   "execution_count": 9,
   "id": "f2c2d4a8-0bd4-4bd3-9449-84d0723b3dc2",
   "metadata": {},
   "outputs": [
    {
     "data": {
      "text/plain": [
       "3.141592653589793"
      ]
     },
     "execution_count": 9,
     "metadata": {},
     "output_type": "execute_result"
    }
   ],
   "source": [
    "math.pi"
   ]
  },
  {
   "cell_type": "code",
   "execution_count": 10,
   "id": "8fa9d83a-6631-436f-8be1-c99a60cba7d7",
   "metadata": {},
   "outputs": [],
   "source": [
    "radius = 5"
   ]
  },
  {
   "cell_type": "code",
   "execution_count": 11,
   "id": "9495f03a-eed6-47e8-8c01-5351461c37c7",
   "metadata": {},
   "outputs": [
    {
     "name": "stdout",
     "output_type": "stream",
     "text": [
      "The area is 78.53981633974483\n"
     ]
    }
   ],
   "source": [
    "print('The area is', math.pi*radius**2)"
   ]
  },
  {
   "cell_type": "markdown",
   "id": "7096c756-807a-4f3e-befd-a9b5c702bc11",
   "metadata": {},
   "source": [
    "We'll occasionally deal with random sampling, so the `random` module gives us functionality to do so!"
   ]
  },
  {
   "cell_type": "code",
   "execution_count": 15,
   "id": "4986dbcd-c833-41ed-a32b-8327e0d6a721",
   "metadata": {
    "tags": []
   },
   "outputs": [
    {
     "data": {
      "text/plain": [
       "0.5714025946899135"
      ]
     },
     "execution_count": 15,
     "metadata": {},
     "output_type": "execute_result"
    }
   ],
   "source": [
    "import random\n",
    "\n",
    "# Set seed for reproducibility of our random number generation\n",
    "random.seed(10)\n",
    "random.random()"
   ]
  },
  {
   "cell_type": "code",
   "execution_count": 16,
   "id": "b6084016-7f51-4063-bb9e-6acc84b84247",
   "metadata": {},
   "outputs": [
    {
     "data": {
      "text/plain": [
       "0.4288890546751146"
      ]
     },
     "execution_count": 16,
     "metadata": {},
     "output_type": "execute_result"
    }
   ],
   "source": [
    "random.random()"
   ]
  },
  {
   "cell_type": "markdown",
   "id": "478d74bd-99e8-40c3-9006-f5ee092df193",
   "metadata": {},
   "source": [
    "We can obtain random integers between 10 and 25 using"
   ]
  },
  {
   "cell_type": "code",
   "execution_count": 17,
   "id": "cba0a532-da4c-4203-87f6-dc28776c53e9",
   "metadata": {},
   "outputs": [
    {
     "data": {
      "text/plain": [
       "[19, 10, 13, 17]"
      ]
     },
     "execution_count": 17,
     "metadata": {},
     "output_type": "execute_result"
    }
   ],
   "source": [
    "random.sample(range(10, 25), 4)"
   ]
  },
  {
   "cell_type": "markdown",
   "id": "17a5c0d1-96c3-4571-a29c-f62c2844175c",
   "metadata": {},
   "source": [
    "We can also import with a different name for brevity."
   ]
  },
  {
   "cell_type": "code",
   "execution_count": 18,
   "id": "257565b9-80a7-4711-8b05-61b0d9ae25bd",
   "metadata": {},
   "outputs": [
    {
     "data": {
      "text/plain": [
       "0.5714025946899135"
      ]
     },
     "execution_count": 18,
     "metadata": {},
     "output_type": "execute_result"
    }
   ],
   "source": [
    "import random as ran\n",
    "ran.seed(10)\n",
    "ran.random()"
   ]
  },
  {
   "cell_type": "code",
   "execution_count": 19,
   "id": "cf0e03b2-28fa-4e4e-b75b-c7aec3d28654",
   "metadata": {},
   "outputs": [
    {
     "data": {
      "text/plain": [
       "0.4288890546751146"
      ]
     },
     "execution_count": 19,
     "metadata": {},
     "output_type": "execute_result"
    }
   ],
   "source": [
    "ran.random()"
   ]
  },
  {
   "cell_type": "code",
   "execution_count": 21,
   "id": "d2ba11e2-9a28-485e-a4df-e92117f877df",
   "metadata": {},
   "outputs": [
    {
     "data": {
      "text/plain": [
       "[10, 13, 17, 23]"
      ]
     },
     "execution_count": 21,
     "metadata": {},
     "output_type": "execute_result"
    }
   ],
   "source": [
    "ran.sample(range(10, 26), 4)"
   ]
  },
  {
   "cell_type": "markdown",
   "id": "b92449af-4761-4fb2-a20f-8a2410ae0b57",
   "metadata": {},
   "source": [
    "To selectively import functions and variables from a module, use the `from` statement."
   ]
  },
  {
   "cell_type": "code",
   "execution_count": 22,
   "id": "105433d6-fcb9-4f88-8f2a-8450f97f7b78",
   "metadata": {},
   "outputs": [
    {
     "data": {
      "text/plain": [
       "3.0"
      ]
     },
     "execution_count": 22,
     "metadata": {},
     "output_type": "execute_result"
    }
   ],
   "source": [
    "from math import sqrt, pi\n",
    "sqrt(9)"
   ]
  },
  {
   "cell_type": "code",
   "execution_count": 23,
   "id": "12f6a0f7-58d3-485b-ad78-99ff28baa8fb",
   "metadata": {},
   "outputs": [
    {
     "data": {
      "text/plain": [
       "3.141592653589793"
      ]
     },
     "execution_count": 23,
     "metadata": {},
     "output_type": "execute_result"
    }
   ],
   "source": [
    "pi"
   ]
  },
  {
   "cell_type": "markdown",
   "id": "ebc1120f-1362-4080-90ad-0d570fb80f50",
   "metadata": {},
   "source": [
    "To import everything from a module into the current namespace, use `*`. However, this can make your namespace crowded, or it may overwrite something unintentionally. "
   ]
  },
  {
   "cell_type": "code",
   "execution_count": 24,
   "id": "089705a6-daa9-4c41-8754-46b7e8afb5fb",
   "metadata": {},
   "outputs": [],
   "source": [
    "from math import *"
   ]
  },
  {
   "cell_type": "markdown",
   "id": "356cd150-c7ab-4075-8b6f-3793bf35c6f3",
   "metadata": {},
   "source": [
    "If you intend to use a function often, you can assign it to a local machine."
   ]
  },
  {
   "cell_type": "code",
   "execution_count": 25,
   "id": "8495c493-6f08-400c-8c07-2fc31824e851",
   "metadata": {},
   "outputs": [
    {
     "data": {
      "text/plain": [
       "0.8235888725334455"
      ]
     },
     "execution_count": 25,
     "metadata": {},
     "output_type": "execute_result"
    }
   ],
   "source": [
    "sample = random.random\n",
    "sample()"
   ]
  },
  {
   "cell_type": "markdown",
   "id": "15dafe19-afeb-4066-afc8-05b66b84e982",
   "metadata": {},
   "source": [
    "To see which modules we have installed, we can run"
   ]
  },
  {
   "cell_type": "code",
   "execution_count": 26,
   "id": "98dfe60b-7dbe-4753-82cf-8e3ff6a2abcb",
   "metadata": {
    "collapsed": true,
    "jupyter": {
     "outputs_hidden": true
    },
    "tags": []
   },
   "outputs": [
    {
     "name": "stdout",
     "output_type": "stream",
     "text": [
      "Package                            Version\n",
      "---------------------------------- ---------\n",
      "alabaster                          0.7.12\n",
      "anaconda-client                    1.7.2\n",
      "anaconda-navigator                 2.0.4\n",
      "anaconda-project                   0.10.1\n",
      "anyio                              3.3.0\n",
      "appdirs                            1.4.4\n",
      "applaunchservices                  0.2.1\n",
      "appnope                            0.1.2\n",
      "appscript                          1.1.2\n",
      "argh                               0.26.2\n",
      "argon2-cffi                        20.1.0\n",
      "arrow                              1.1.1\n",
      "asn1crypto                         1.4.0\n",
      "astroid                            2.8.0\n",
      "astropy                            4.3.1\n",
      "async-generator                    1.10\n",
      "atomicwrites                       1.4.0\n",
      "attrs                              21.2.0\n",
      "autopep8                           1.5.5\n",
      "Babel                              2.9.1\n",
      "backcall                           0.2.0\n",
      "backports.functools-lru-cache      1.6.4\n",
      "backports.shutil-get-terminal-size 1.0.0\n",
      "beakerx                            2.3.8\n",
      "beakerx-base                       2.0.1\n",
      "beautifulsoup4                     4.10.0\n",
      "bibtexparser                       1.2.0\n",
      "binaryornot                        0.4.4\n",
      "bitarray                           2.3.4\n",
      "bkcharts                           0.2\n",
      "black                              21.9b0\n",
      "bleach                             4.1.0\n",
      "bokeh                              2.3.3\n",
      "boto                               2.49.0\n",
      "bottle                             0.12.19\n",
      "Bottleneck                         1.3.2\n",
      "brotlipy                           0.7.0\n",
      "certifi                            2021.5.30\n",
      "cffi                               1.14.6\n",
      "chardet                            4.0.0\n",
      "charset-normalizer                 2.0.0\n",
      "click                              8.0.1\n",
      "cloudpickle                        2.0.0\n",
      "clyent                             1.2.2\n",
      "colorama                           0.4.4\n",
      "conda                              4.10.3\n",
      "conda-build                        3.21.4\n",
      "conda-content-trust                0.1.3\n",
      "conda-pack                         0.6.0\n",
      "conda-package-handling             1.7.3\n",
      "conda-repo-cli                     1.0.4\n",
      "conda-token                        0.3.0\n",
      "conda-verify                       3.1.1\n",
      "contextlib2                        21.6.0\n",
      "cookiecutter                       1.6.0\n",
      "cryptography                       3.4.7\n",
      "cycler                             0.10.0\n",
      "Cython                             0.29.24\n",
      "cytoolz                            0.11.0\n",
      "dask                               2021.9.0\n",
      "databricks-cli                     0.16.2\n",
      "dataclasses                        0.8\n",
      "debugpy                            1.4.1\n",
      "decorator                          4.4.2\n",
      "defusedxml                         0.7.1\n",
      "diff-match-patch                   20200713\n",
      "distributed                        2021.9.0\n",
      "docutils                           0.17.1\n",
      "doi2bib                            0.4.0\n",
      "entrypoints                        0.3\n",
      "et-xmlfile                         1.0.1\n",
      "fastcache                          1.1.0\n",
      "filelock                           3.0.12\n",
      "flake8                             3.8.4\n",
      "Flask                              2.0.1\n",
      "fsspec                             2021.8.1\n",
      "future                             0.18.2\n",
      "gevent                             21.8.0\n",
      "gitdb                              4.0.9\n",
      "GitPython                          3.1.24\n",
      "glob2                              0.7\n",
      "gmpy2                              2.1.0b5\n",
      "greenlet                           1.1.1\n",
      "h5py                               2.10.0\n",
      "HeapDict                           1.0.1\n",
      "html5lib                           1.1\n",
      "idna                               3.1\n",
      "imagecodecs                        2021.7.30\n",
      "imageio                            2.9.0\n",
      "imagesize                          1.2.0\n",
      "importlib-metadata                 4.8.1\n",
      "inflection                         0.5.1\n",
      "iniconfig                          1.1.1\n",
      "intervaltree                       3.0.2\n",
      "ipykernel                          6.4.1\n",
      "ipython                            7.27.0\n",
      "ipython-genutils                   0.2.0\n",
      "ipywidgets                         7.6.5\n",
      "isort                              5.9.3\n",
      "itsdangerous                       2.0.1\n",
      "jdcal                              1.4.1\n",
      "jedi                               0.17.2\n",
      "Jinja2                             3.0.1\n",
      "jinja2-time                        0.2.0\n",
      "joblib                             1.0.1\n",
      "json5                              0.9.5\n",
      "jsonschema                         3.2.0\n",
      "jupyter                            1.0.0\n",
      "jupyter-client                     7.0.3\n",
      "jupyter-console                    6.4.0\n",
      "jupyter-core                       4.8.1\n",
      "jupyter-server                     1.11.0\n",
      "jupyter-server-mathjax             0.2.3\n",
      "jupyterlab                         3.1.12\n",
      "jupyterlab-pygments                0.1.2\n",
      "jupyterlab-server                  2.8.1\n",
      "jupyterlab-spellchecker            0.7.2\n",
      "jupyterlab-widgets                 1.0.2\n",
      "keyring                            23.2.1\n",
      "kiwisolver                         1.3.2\n",
      "lazy-object-proxy                  1.6.0\n",
      "libarchive-c                       3.1\n",
      "llvmlite                           0.37.0\n",
      "locket                             0.2.0\n",
      "lxml                               4.6.3\n",
      "MarkupSafe                         2.0.1\n",
      "matplotlib                         3.4.3\n",
      "matplotlib-inline                  0.1.3\n",
      "mccabe                             0.6.1\n",
      "mistune                            0.8.4\n",
      "mkl-fft                            1.3.0\n",
      "mkl-random                         1.2.2\n",
      "mkl-service                        2.4.0\n",
      "mock                               4.0.3\n",
      "more-itertools                     8.10.0\n",
      "mpmath                             1.2.1\n",
      "msgpack                            1.0.2\n",
      "multipledispatch                   0.6.0\n",
      "mypy-extensions                    0.4.3\n",
      "navigator-updater                  0.2.1\n",
      "nbclassic                          0.3.2\n",
      "nbclient                           0.5.4\n",
      "nbconvert                          6.1.0\n",
      "nbdime                             3.1.1\n",
      "nbformat                           5.1.3\n",
      "nest-asyncio                       1.5.1\n",
      "networkx                           2.6.3\n",
      "nltk                               3.6.3\n",
      "nose                               1.3.7\n",
      "notebook                           6.4.4\n",
      "numba                              0.54.0\n",
      "numexpr                            2.7.3\n",
      "numpy                              1.20.3\n",
      "numpydoc                           1.1.0\n",
      "olefile                            0.46\n",
      "openpyxl                           3.0.8\n",
      "packaging                          21.0\n",
      "pandas                             1.3.3\n",
      "pandocfilters                      1.5.0\n",
      "parso                              0.7.0\n",
      "partd                              1.2.0\n",
      "path                               16.2.0\n",
      "pathlib2                           2.3.6\n",
      "pathspec                           0.9.0\n",
      "pathtools                          0.1.2\n",
      "patsy                              0.5.1\n",
      "pep8                               1.7.1\n",
      "pexpect                            4.8.0\n",
      "pickleshare                        0.7.5\n",
      "Pillow                             8.3.2\n",
      "pip                                21.3.1\n",
      "pkginfo                            1.7.1\n",
      "platformdirs                       2.3.0\n",
      "pluggy                             1.0.0\n",
      "ply                                3.11\n",
      "pooch                              1.5.1\n",
      "poyo                               0.5.0\n",
      "prometheus-client                  0.11.0\n",
      "prompt-toolkit                     3.0.20\n",
      "psutil                             5.8.0\n",
      "ptyprocess                         0.7.0\n",
      "py                                 1.10.0\n",
      "py4j                               0.10.9.2\n",
      "pycodestyle                        2.6.0\n",
      "pycosat                            0.6.3\n",
      "pycparser                          2.20\n",
      "pycurl                             7.44.1\n",
      "pydocstyle                         6.1.1\n",
      "pyerfa                             2.0.0\n",
      "pyflakes                           2.2.0\n",
      "Pygments                           2.10.0\n",
      "pylint                             2.11.1\n",
      "pyls-black                         0.4.6\n",
      "pyls-spyder                        0.3.2\n",
      "pyodbc                             4.0.32\n",
      "pyOpenSSL                          20.0.1\n",
      "pyparsing                          2.4.7\n",
      "PyQt5                              5.12.3\n",
      "PyQt5_sip                          4.19.18\n",
      "PyQtChart                          5.12\n",
      "PyQtWebEngine                      5.12.1\n",
      "pyrsistent                         0.17.3\n",
      "PySocks                            1.7.1\n",
      "pyspark                            3.2.0\n",
      "pytest                             6.2.5\n",
      "python-dateutil                    2.8.2\n",
      "python-jsonrpc-server              0.4.0\n",
      "python-language-server             0.36.2\n",
      "pytz                               2021.1\n",
      "PyWavelets                         1.1.1\n",
      "PyYAML                             5.4.1\n",
      "pyzmq                              22.3.0\n",
      "QDarkStyle                         3.0.2\n",
      "qstylizer                          0.2.1\n",
      "QtAwesome                          1.0.3\n",
      "qtconsole                          5.1.1\n",
      "QtPy                               1.11.1\n",
      "regex                              2021.8.28\n",
      "requests                           2.26.0\n",
      "requests-unixsocket                0.2.0\n",
      "rope                               0.20.1\n",
      "Rtree                              0.9.7\n",
      "ruamel-yaml-conda                  0.15.80\n",
      "scikit-image                       0.18.3\n",
      "scikit-learn                       0.24.2\n",
      "scipy                              1.7.1\n",
      "seaborn                            0.11.2\n",
      "Send2Trash                         1.8.0\n",
      "setuptools                         58.0.4\n",
      "simplegeneric                      0.8.1\n",
      "singledispatch                     0.0.0\n",
      "sip                                4.19.25\n",
      "six                                1.16.0\n",
      "smmap                              5.0.0\n",
      "sniffio                            1.2.0\n",
      "snowballstemmer                    2.1.0\n",
      "sortedcollections                  2.1.0\n",
      "sortedcontainers                   2.4.0\n",
      "soupsieve                          2.0.1\n",
      "Sphinx                             4.2.0\n",
      "sphinxcontrib-applehelp            1.0.2\n",
      "sphinxcontrib-devhelp              1.0.2\n",
      "sphinxcontrib-htmlhelp             2.0.0\n",
      "sphinxcontrib-jsmath               1.0.1\n",
      "sphinxcontrib-qthelp               1.0.3\n",
      "sphinxcontrib-serializinghtml      1.1.5\n",
      "sphinxcontrib-websupport           1.2.4\n",
      "spyder                             5.0.5\n",
      "spyder-kernels                     2.0.5\n",
      "SQLAlchemy                         1.4.23\n",
      "statsmodels                        0.12.2\n",
      "sympy                              1.8\n",
      "tables                             3.6.1\n",
      "tabulate                           0.8.9\n",
      "tblib                              1.7.0\n",
      "terminado                          0.12.1\n",
      "testpath                           0.5.0\n",
      "textdistance                       4.2.1\n",
      "threadpoolctl                      2.2.0\n",
      "three-merge                        0.1.1\n",
      "tifffile                           2021.8.30\n",
      "tinycss2                           1.1.0\n",
      "toml                               0.10.2\n",
      "tomli                              1.2.1\n",
      "toolz                              0.11.1\n",
      "tornado                            6.1\n",
      "tqdm                               4.62.3\n",
      "traitlets                          5.1.0\n",
      "typed-ast                          1.4.3\n",
      "typing-extensions                  3.10.0.0\n",
      "ujson                              4.1.0\n",
      "unicodecsv                         0.14.1\n",
      "urllib3                            1.26.6\n",
      "watchdog                           2.1.5\n",
      "wcwidth                            0.2.5\n",
      "webencodings                       0.5.1\n",
      "websocket-client                   0.57.0\n",
      "Werkzeug                           2.0.1\n",
      "wheel                              0.37.0\n",
      "whichcraft                         0.6.1\n",
      "widgetsnbextension                 3.5.1\n",
      "wrapt                              1.12.1\n",
      "wurlitzer                          3.0.2\n",
      "xlrd                               2.0.1\n",
      "XlsxWriter                         3.0.1\n",
      "xlwings                            0.24.9\n",
      "xlwt                               1.3.0\n",
      "xmltodict                          0.12.0\n",
      "yapf                               0.31.0\n",
      "zict                               2.0.0\n",
      "zipp                               3.5.0\n",
      "zope.event                         4.5.0\n",
      "zope.interface                     5.4.0\n",
      "Note: you may need to restart the kernel to use updated packages.\n"
     ]
    }
   ],
   "source": [
    "pip list"
   ]
  },
  {
   "cell_type": "markdown",
   "id": "5b61cd48-d551-4dc6-a219-6d323729a709",
   "metadata": {},
   "source": [
    "To install new modules, we can run `pip install module_name`."
   ]
  },
  {
   "cell_type": "code",
   "execution_count": 27,
   "id": "c9a74cc4-6263-4aef-a279-b5c17f4bdab1",
   "metadata": {},
   "outputs": [
    {
     "name": "stdout",
     "output_type": "stream",
     "text": [
      "Requirement already satisfied: scipy in /Users/mnikifor/opt/anaconda3/lib/python3.8/site-packages (1.7.1)\n",
      "Requirement already satisfied: numpy<1.23.0,>=1.16.5 in /Users/mnikifor/opt/anaconda3/lib/python3.8/site-packages (from scipy) (1.20.3)\n",
      "Note: you may need to restart the kernel to use updated packages.\n"
     ]
    }
   ],
   "source": [
    "pip install scipy"
   ]
  },
  {
   "cell_type": "markdown",
   "id": "790e7164-b00f-4304-a0b3-33084a3ef35b",
   "metadata": {},
   "source": [
    "### scipy "
   ]
  },
  {
   "cell_type": "code",
   "execution_count": 28,
   "id": "b80b3f71-c1f3-4367-9f8f-6eab643e8308",
   "metadata": {},
   "outputs": [],
   "source": [
    "# https://scipy.github.io/devdocs/reference/stats.html#module-scipy.stats \n",
    "import scipy.stats"
   ]
  },
  {
   "cell_type": "code",
   "execution_count": 29,
   "id": "f1dffb65-08d2-4f79-b74d-d2f7d89ec679",
   "metadata": {},
   "outputs": [
    {
     "data": {
      "text/plain": [
       "0.24197072451914337"
      ]
     },
     "execution_count": 29,
     "metadata": {},
     "output_type": "execute_result"
    }
   ],
   "source": [
    "# Value of the standard normal PDF at the value of 1\n",
    "# (i.e. height of the bell curve at 1)\n",
    "scipy.stats.norm.pdf(1)"
   ]
  },
  {
   "cell_type": "code",
   "execution_count": 32,
   "id": "7468f872-c2d9-47eb-967a-6ff66bd2e51a",
   "metadata": {},
   "outputs": [],
   "source": [
    "# Shorthand\n",
    "import scipy.stats as stats"
   ]
  },
  {
   "cell_type": "code",
   "execution_count": 31,
   "id": "485d3d20-d5c2-4429-8667-f60a9ff4a6b9",
   "metadata": {},
   "outputs": [
    {
     "data": {
      "text/plain": [
       "0.24197072451914337"
      ]
     },
     "execution_count": 31,
     "metadata": {},
     "output_type": "execute_result"
    }
   ],
   "source": [
    "stats.norm.pdf(1)"
   ]
  },
  {
   "cell_type": "code",
   "execution_count": 35,
   "id": "19f2009e-07d0-4590-a6d1-c9666be19fb3",
   "metadata": {},
   "outputs": [],
   "source": [
    "# We can also import everything, but we may interfere with other functions\n",
    "from scipy.stats import *"
   ]
  },
  {
   "cell_type": "code",
   "execution_count": 34,
   "id": "e71d5ebb-818c-46bc-8b5e-b0600be015ca",
   "metadata": {},
   "outputs": [
    {
     "data": {
      "text/plain": [
       "0.24197072451914337"
      ]
     },
     "execution_count": 34,
     "metadata": {},
     "output_type": "execute_result"
    }
   ],
   "source": [
    "norm.pdf(1)"
   ]
  },
  {
   "cell_type": "code",
   "execution_count": 36,
   "id": "100c1f04-8601-479a-a58b-530eb198f870",
   "metadata": {},
   "outputs": [],
   "source": [
    "from scipy.stats import chi2"
   ]
  },
  {
   "cell_type": "code",
   "execution_count": 39,
   "id": "50fcf615-42b7-4e53-9cb2-a5d07c2229bb",
   "metadata": {},
   "outputs": [
    {
     "data": {
      "text/plain": [
       "0.0007897534631674914"
      ]
     },
     "execution_count": 39,
     "metadata": {},
     "output_type": "execute_result"
    }
   ],
   "source": [
    "# chi-squared with ten degrees of freedom\n",
    "chi2.pdf(1, df = 10)"
   ]
  },
  {
   "cell_type": "code",
   "execution_count": null,
   "id": "20a8b0f6-ead5-41c8-bea3-1e12f856ff09",
   "metadata": {},
   "outputs": [],
   "source": []
  }
 ],
 "metadata": {
  "kernelspec": {
   "display_name": "Python 3 (ipykernel)",
   "language": "python",
   "name": "python3"
  },
  "language_info": {
   "codemirror_mode": {
    "name": "ipython",
    "version": 3
   },
   "file_extension": ".py",
   "mimetype": "text/x-python",
   "name": "python",
   "nbconvert_exporter": "python",
   "pygments_lexer": "ipython3",
   "version": "3.8.12"
  }
 },
 "nbformat": 4,
 "nbformat_minor": 5
}
