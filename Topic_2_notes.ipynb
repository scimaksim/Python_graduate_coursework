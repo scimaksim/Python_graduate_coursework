{
 "cells": [
  {
   "cell_type": "markdown",
   "id": "61158bce-413e-47aa-a7b7-d55028902d80",
   "metadata": {},
   "source": [
    "## Module 6 - Big Data Concepts"
   ]
  },
  {
   "cell_type": "markdown",
   "id": "15ac3a66-8209-478d-9fb3-a212e227c97b",
   "metadata": {},
   "source": [
    "\"Big data\" is data we cannot handle \"normally\". That is, data that does not fit on a single computer and/or data that is constantly being added and updated (streaming data). The common attributes of big data include\n",
    "\n",
    "- Volume (scale of data)\n",
    "- Velocity (analysis of streaming data)\n",
    "- Variety (different forms of data such as images, text, etc.)\n",
    "- Veracity (uncertainty of data)\n",
    "- Value"
   ]
  },
  {
   "cell_type": "markdown",
   "id": "82d19b6e-d489-4401-9751-67f689b1f1c4",
   "metadata": {},
   "source": [
    "### Do we still need statistics with big data? Yes! "
   ]
  },
  {
   "cell_type": "markdown",
   "id": "303b0430-dfb8-4a8b-935b-58be8f947fdf",
   "metadata": {},
   "source": [
    "Statisticians usually consider **populations** and **samples** and try to account for the variability in samples as they are related to populations. A population is the group of _all_ units we care about (e.g. all credit card transactions, all people who have a credit card in our company). It's difficult to measure everyone in a population, so statisticians measure a subset of the population (the so-called \"sample\"). Every sample will be a different subset of the population and will have different values in it. Our job as statisticians is to take the sample and relate it back to the population through _inference_ (i.e. infer something about the population from our samples). The main way to do this is through _hypothesis tests_ and _confidence intervals_."
   ]
  },
  {
   "cell_type": "markdown",
   "id": "b22a7088-5636-40a4-bb55-80263fc94106",
   "metadata": {},
   "source": [
    "The way we deal with inference, hypothesis tests, and confidence intervals is by making assumptions about the data-generating processes (e.g. our data will be sampled and we will assume that the population follows a normal distribution). We look at **sampling distributions**, which are the pattern and frequency with which we observe a statistic over the long run. There are many statistics, such as measures of center and spread (mean, median, standard deviation, etc.). Summaries about a population are called **parameters**. "
   ]
  },
  {
   "cell_type": "markdown",
   "id": "4d1969c7-45cf-4fa7-8772-4f1abeddf5ce",
   "metadata": {},
   "source": [
    "The most commonly looked-at statistic is the sample mean, $\\bar{Y}$. We then try to infer the population mean, $\\mu$. The central limit theorem (CLT) tells us that we know the distribution of our sample mean in large samples - $\\bar{Y} \\sim N(\\mu, \\frac{\\sigma^2}{n})$ (read as \"Y bar has a distribution that is normal with mean $\\mu$ and variance of sigma squared over n\"). We take this sampling distribution idea and we construct a hypothesis test (HT) or we create a confidence interval (CI) to make our inference."
   ]
  },
  {
   "cell_type": "markdown",
   "id": "b7feb214-34ce-47de-a6ff-988fade3294d",
   "metadata": {},
   "source": [
    "#### Example - sampling distributions"
   ]
  },
  {
   "cell_type": "markdown",
   "id": "501dd695-dc63-4521-8942-cb2f409632ac",
   "metadata": {},
   "source": [
    "- Population - all customers at a bank\n",
    "- Parameter (p) - proportion of customers willing to open an additional account (historically 0.15)\n",
    "- Sample - observe 40 _independent_ customers\n",
    "- Statistic - sample proportion, $\\hat{p}=8/40=0.2$, where 8 customers out of the 40 we asked would open a new account after intervention"
   ]
  },
  {
   "cell_type": "markdown",
   "id": "97d95485-2144-4300-b929-62c4e9794bcd",
   "metadata": {},
   "source": [
    "Suppose we've done an intervention, whereby we've either changed the structure of the additional accounts to make them more lucrative to people or we're marketing it in a different way. We want to see if $p$ has changed (increased) after our intervention. We want to relate (or infer) our $8/40$ ratio back to the population.   "
   ]
  },
  {
   "cell_type": "markdown",
   "id": "93bc0c5f-4664-4f4e-bcb0-0fefdce6e38f",
   "metadata": {},
   "source": [
    "Question: is the population proportion greater than 0.15?\n",
    "\n",
    "Answer: one way to answer is to use a hypothesis test and ask if observing $\\hat{p}=8/40=0.2$ reasonable of $p=0.15$ is the true proportion."
   ]
  },
  {
   "cell_type": "markdown",
   "id": "0f5a5e09-1a3f-40d9-8eb4-fe86e916473f",
   "metadata": {},
   "source": [
    "We can draw samples. In one possible sample, $\\hat{p}=8/40$, and in another, $\\hat{p}=11/40$. What is the pattern and frequency here? Normally, we'd need to learn sampling theory. However, with Python, we can simulate this experiment many times to understand the sampling distribution of $\\hat{p}$."
   ]
  },
  {
   "cell_type": "markdown",
   "id": "3486c20c-032f-458a-bc0a-a24c66374be7",
   "metadata": {},
   "source": [
    "- Assumptions on our data generating process: \n",
    "    - p = 0.15\n",
    "    - n = 40\n",
    "    - Independent customers coming in"
   ]
  },
  {
   "cell_type": "markdown",
   "id": "f347114a-ab41-4e74-bb88-785218ff2ee6",
   "metadata": {},
   "source": [
    "It turns out that, if we define $Y$ as the number of people (out of the 40) willing to open an account, then a reasonable distribution for $Y$ is a binomial, $Y \\sim Bin(n=40, p=0.15)$. The tilde is shorthand for \"is distributed\"."
   ]
  },
  {
   "cell_type": "code",
   "execution_count": 2,
   "id": "93f51142-53f3-418c-9adc-0af26f8f893d",
   "metadata": {},
   "outputs": [],
   "source": [
    "import numpy as np\n",
    "import scipy.stats as stats\n",
    "import matplotlib.pyplot as plt"
   ]
  },
  {
   "cell_type": "code",
   "execution_count": 7,
   "id": "c0c8a16d-55ab-4e6f-a883-b83161ec1a59",
   "metadata": {},
   "outputs": [
    {
     "data": {
      "text/plain": [
       "array([4])"
      ]
     },
     "execution_count": 7,
     "metadata": {},
     "output_type": "execute_result"
    }
   ],
   "source": [
    "# Generate random values from different statistical distributions\n",
    "np.random.seed(5)\n",
    "\n",
    "# Get random values from a binomial\n",
    "stats.binom.rvs(n=40, p=0.15, size=1) # size is the number of Y's to draw (i.e. give me 1 draw of 40 people and count the number of people that would open a new account)"
   ]
  },
  {
   "cell_type": "markdown",
   "id": "edde94e9-1eac-4466-8bf9-01c8db161cdb",
   "metadata": {},
   "source": [
    "Above, 4 people out of 40 would open a new account."
   ]
  },
  {
   "cell_type": "code",
   "execution_count": 4,
   "id": "430e4f2e-acc7-4aa4-8dd9-a884919be6b7",
   "metadata": {},
   "outputs": [
    {
     "data": {
      "text/plain": [
       "array([9, 4])"
      ]
     },
     "execution_count": 4,
     "metadata": {},
     "output_type": "execute_result"
    }
   ],
   "source": [
    "stats.binom.rvs(n=40, p=0.15, size=2)"
   ]
  },
  {
   "cell_type": "markdown",
   "id": "107266e9-835e-4b09-b576-2ac44c7d5da7",
   "metadata": {},
   "source": [
    "Above, in the first run, 9 people said \"yes\". In the second run, only 4 people said \"yes\"."
   ]
  },
  {
   "cell_type": "markdown",
   "id": "0dc6f220-9797-4b99-8ed9-8d8a873f00db",
   "metadata": {},
   "source": [
    "These have been actual counts, but we want $\\hat{p}$, the proportion."
   ]
  },
  {
   "cell_type": "code",
   "execution_count": 10,
   "id": "e6685fff-eb0d-41b4-8885-26a66ba604a2",
   "metadata": {},
   "outputs": [
    {
     "data": {
      "text/plain": [
       "array([0.1])"
      ]
     },
     "execution_count": 10,
     "metadata": {},
     "output_type": "execute_result"
    }
   ],
   "source": [
    "# Get proportion (p-hat), rather than count\n",
    "np.random.seed(5)\n",
    "stats.binom.rvs(n=40, p=0.15, size=1)/40"
   ]
  },
  {
   "cell_type": "code",
   "execution_count": 11,
   "id": "0ff04456-7ee6-4c82-9fc5-d2027aa4300b",
   "metadata": {},
   "outputs": [
    {
     "data": {
      "text/plain": [
       "array([0.225, 0.1  ])"
      ]
     },
     "execution_count": 11,
     "metadata": {},
     "output_type": "execute_result"
    }
   ],
   "source": [
    "stats.binom.rvs(n=40, p=0.15, size=2)/40"
   ]
  },
  {
   "cell_type": "markdown",
   "id": "0330bd3c-429a-48e3-a7dc-592dfb0714c1",
   "metadata": {},
   "source": [
    "We can very easily generate $\\hat{p}$ values. To generate far more than just 2, we can do the following:"
   ]
  },
  {
   "cell_type": "code",
   "execution_count": 12,
   "id": "16b21d23-6119-4d44-bbe0-7543c5650821",
   "metadata": {},
   "outputs": [
    {
     "data": {
      "text/plain": [
       "Text(0.5, 1.0, 'Sampling Distribution of p-hat for n=40 and p=0.15')"
      ]
     },
     "execution_count": 12,
     "metadata": {},
     "output_type": "execute_result"
    },
    {
     "data": {
      "image/png": "[encoded data removed]",
      "text/plain": [
       "<Figure size 864x504 with 1 Axes>"
      ]
     },
     "metadata": {
      "needs_background": "light"
     },
     "output_type": "display_data"
    }
   ],
   "source": [
    "proportion_draws = stats.binom.rvs(n=40, p=0.15, size=100000)/40\n",
    "plt.figure(figsize=(12,7))\n",
    "plt.hist(proportion_draws, bins = [x/40 for x in range(0,21)])\n",
    "plt.axvline(x=8/40, c=\"Red\")\n",
    "plt.text(\n",
    "    x=0.3,\n",
    "    y=12500,\n",
    "    s = \"Probability of seeing 0.2 or \\n larger is \" + str(round(np.mean(proportion_draws>=0.2), 4))\n",
    ")\n",
    "plt.xlabel(\"Sample proportions\")\n",
    "plt.ylabel(\"# of occurences\")\n",
    "plt.title(\"Sampling Distribution of p-hat for n=40 and p=0.15\")"
   ]
  },
  {
   "cell_type": "markdown",
   "id": "63145977-015f-4b70-a7d3-d6acd85940bf",
   "metadata": {},
   "source": [
    "We see that our p-value is 0.2448. Therefore, we do not have much evidence to reject our assumptions on the data-generating process. There's a 25% chance of seeing what we saw (or worse) under the assumptions in our title. What we saw is perfectly reasonable under these assumptions, so we do not have evidence to reject these assumptions.    "
   ]
  },
  {
   "cell_type": "markdown",
   "id": "eef9a50f-ad3b-4572-a246-6b4529bd58c8",
   "metadata": {},
   "source": [
    "Sometimes, we can record every user action...don't we have everything? Is there any variability to consider (i.e. \"with enough data, the numbers speak for themselves\"). The issues are\n",
    "\n",
    "1. We don't actually observe everything that would be relevant (did the user mean to click on an ad, or was it clicked by accident?)\n",
    "2. Superpopulation idea - we have \"n=all\", such as all of the emails within a company (who's emailing who, the content, etc.). If this day happened again, would those emails go exactly the same? Or, would one person get a call to pick up their child, cancel meetings, and cascade to others? Thus, the one day we actually observed is just a subset of the superpopulation of all possible days we could have observed (i.e. there is day-to-day variability), and we can still make inferences on the data-generating process. "
   ]
  },
  {
   "cell_type": "markdown",
   "id": "83265295-01c7-4c35-a54b-6eb29602d281",
   "metadata": {},
   "source": [
    "#### Modeling for n=1"
   ]
  },
  {
   "cell_type": "markdown",
   "id": "562c5429-2801-4f2f-aa21-e08c67d09e47",
   "metadata": {},
   "source": [
    "Moreover, with big data, we can now consider user-level (or observational unit level) modeling. In past years, with a population size of $n=1$, we couldn't really do any statistics on it because with statistics, we generally look at variability. If one alien on Mars approached out and it was 4 feet tall, what could we say about the heights of aliens? We have an estimate of how tall the aliens are (4 feet), but we do have any idea about the variability in heights? No! However, as soon as we see a second alien ($n=2$), we now have an idea of the variability between heights."
   ]
  },
  {
   "cell_type": "markdown",
   "id": "d9383d08-3209-48be-85f4-2a6a769bb567",
   "metadata": {},
   "source": [
    "However, now, even with one unit, we will be able to observe it over time (and still see other units over time also). This allows us to aggregate across people and look at individual user paths as well. Some studies have attempted to model user intention on social media networks to detect depression. There is a baseline model with all status updates analyzed using sentiment analysis (positive and negative words), when statuses are updated, etc.  "
   ]
  },
  {
   "cell_type": "markdown",
   "id": "00bfa9a0-254c-4510-a4a3-f7cc39cf25b0",
   "metadata": {},
   "source": [
    "#### Rare events in big data"
   ]
  },
  {
   "cell_type": "markdown",
   "id": "9d3a794d-c977-4e7d-8b0d-4697374f89b8",
   "metadata": {},
   "source": [
    "When we have tons and tons of data, even a rare event can happen reasonably often, just by chance.  "
   ]
  },
  {
   "cell_type": "markdown",
   "id": "8eaba52f-9d6b-431b-a2e7-a3ff174c7d43",
   "metadata": {},
   "source": [
    "##### Independence of events"
   ]
  },
  {
   "cell_type": "markdown",
   "id": "91e6b913-bf59-4d42-b262-3917d44bd80d",
   "metadata": {},
   "source": [
    "Two events A and B are independent if the probability of them occurring together is equal to the product of the two individual probabilities - i.e. $P(A \\cap B) = P(A)P(B)$. Intuitively, this implies that knowledge of one event tells us nothing about the probability of another."
   ]
  },
  {
   "cell_type": "markdown",
   "id": "e50ced1d-04be-4f9b-8a46-bcbf29d17ffc",
   "metadata": {},
   "source": [
    "Is a certain type of coin fair (equal probability of flipping a head and a tail)? Assume $p=P(head)=0.5$. \n",
    "\n",
    "Experiment: flip one of these coins 10 times. If 10 heads or 10 tails appear, declare the coin biased."
   ]
  },
  {
   "cell_type": "markdown",
   "id": "875056c6-2515-41f8-9f80-45f71f12e850",
   "metadata": {},
   "source": [
    "P(false positive) = P(concluding coin is biased) = P(10 heads) + P(10 tails) = $0.5^{10} + 0.5^{10} = 0.001953125$. This is very rare!"
   ]
  },
  {
   "cell_type": "markdown",
   "id": "0b5de880-c63d-4b8d-ac41-14fe38a58a8e",
   "metadata": {},
   "source": [
    "P(10 heads) = P(1st H $\\cap$ 2nd H $\\cap$ 3rd H $\\cap$ ... $\\cap$ 10th H) = P(1st H)P(2nd H)...P(10th H) (assuming independence)"
   ]
  },
  {
   "cell_type": "markdown",
   "id": "98b4eb52-6348-4bda-adfb-2161039f6889",
   "metadata": {},
   "source": [
    "Suppose we don't just run this experiment once, but we look at 1000 separate (independent) runs of the experiment. Seeing any 1 coin of the 1000 being declared is quite likely!"
   ]
  },
  {
   "cell_type": "markdown",
   "id": "f016f4be-b37f-4347-a1c3-0a3285ab8f9a",
   "metadata": {},
   "source": [
    "P(all 1000 coins identified as fair) = P(1st fair $\\cap$ 2nd fair $\\cap$...1000th fair) = $(1-0.001953125)^{1000}=0.1416$"
   ]
  },
  {
   "cell_type": "markdown",
   "id": "96ad3156-933e-4f3c-bd2d-f592d24f696f",
   "metadata": {},
   "source": [
    "P(at least 1 false positive) = P(at least 1 coin of the 1000 is classified as biased) = $1-0.1416 = 0.8584$"
   ]
  },
  {
   "cell_type": "code",
   "execution_count": null,
   "id": "3c5486b8-22d6-40f4-92b7-c80ae09af435",
   "metadata": {},
   "outputs": [],
   "source": []
  }
 ],
 "metadata": {
  "kernelspec": {
   "display_name": "Python 3 (ipykernel)",
   "language": "python",
   "name": "python3"
  },
  "language_info": {
   "codemirror_mode": {
    "name": "ipython",
    "version": 3
   },
   "file_extension": ".py",
   "mimetype": "text/x-python",
   "name": "python",
   "nbconvert_exporter": "python",
   "pygments_lexer": "ipython3",
   "version": "3.10.2"
  }
 },
 "nbformat": 4,
 "nbformat_minor": 5
}
