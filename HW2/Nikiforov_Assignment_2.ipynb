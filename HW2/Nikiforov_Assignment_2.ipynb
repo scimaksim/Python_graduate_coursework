{
 "cells": [
  {
   "cell_type": "markdown",
   "id": "2e6c93da-bf58-4596-8337-9280c18fdabd",
   "metadata": {},
   "source": [
    "# Homework 2 Solution"
   ]
  },
  {
   "cell_type": "markdown",
   "id": "5c90af29-f71f-441f-9653-f4f0331ca6d9",
   "metadata": {},
   "source": [
    "Maksim Nikiforov"
   ]
  },
  {
   "cell_type": "markdown",
   "id": "239e572c-39d9-4653-b27b-0b6a0b50df8a",
   "metadata": {},
   "source": [
    "## Let's Read in the Data"
   ]
  },
  {
   "cell_type": "markdown",
   "id": "42a83652-fbad-442e-9497-43511e885ae1",
   "metadata": {},
   "source": [
    "The code below will read in the novel Pride and Prejudice by Jane Austen from a local text file. Our file was originally downloaded from [this repo](https://github.com/laumann/ds/tree/master/hashing/books) and the text itself comes from [Project Gutenberg](https://www.gutenberg.org/). The first 1000 characters are printed out below to check that it was read in correctly."
   ]
  },
  {
   "cell_type": "code",
   "execution_count": 1,
   "id": "4c759696-9428-49cd-98ba-d0e567e5f8c5",
   "metadata": {},
   "outputs": [
    {
     "name": "stdout",
     "output_type": "stream",
     "text": [
      "﻿The Project Gutenberg eBook, Pride and Prejudice, by Jane Austen, Edited\n",
      "by R. W. (Robert William) Chapman\n",
      "\n",
      "\n",
      "This eBook is for the use of anyone anywhere at no cost and with\n",
      "almost no restrictions whatsoever.  You may copy it, give it away or\n",
      "re-use it under the terms of the Project Gutenberg License included\n",
      "with this eBook or online at www.gutenberg.org\n",
      "\n",
      "\n",
      "\n",
      "\n",
      "\n",
      "Title: Pride and Prejudice\n",
      "\n",
      "\n",
      "Author: Jane Austen\n",
      "\n",
      "Editor: R. W. (Robert William) Chapman\n",
      "\n",
      "Release Date: May 9, 2013  [eBook #42671]\n",
      "\n",
      "Language: English\n",
      "\n",
      "\n",
      "***START OF THE PROJECT GUTENBERG EBOOK PRIDE AND PREJUDICE***\n",
      "\n",
      "\n",
      "E-text prepared by Greg Weeks, Jon Hurst, Mary Meehan, and the Online\n",
      "Distributed Proofreading Team (http://www.pgdp.net) from page images\n",
      "generously made available by Internet Archive (https://archive.org)\n",
      "\n",
      "\n",
      "\n",
      "Note: Project Gutenberg also has an HTML version of this\n",
      "      file which includes the original illustrations.\n",
      "      See 42671-h.htm or 42671-h.zip:\n",
      "      (http://www.gutenberg.org/files/42671/42671-h/42671-h\n"
     ]
    }
   ],
   "source": [
    "#read in string\n",
    "with open('jane-austen-pride-prejudice.txt', 'r') as f:\n",
    "    lines = f.read()\n",
    "print(lines[:1000])"
   ]
  },
  {
   "cell_type": "markdown",
   "id": "fdb7b7c8-34f6-468c-a7b0-1a0ec38bc7dd",
   "metadata": {},
   "source": [
    "## Part 2: Trim the Data Down to the Text"
   ]
  },
  {
   "cell_type": "markdown",
   "id": "807b2a86-011e-4b26-8ee1-e00bb2a5308e",
   "metadata": {},
   "source": [
    "In this section, we want to remove everything up to “CHAPTER I” and everything after the last “Transcriber’s note”."
   ]
  },
  {
   "cell_type": "code",
   "execution_count": 3,
   "id": "da41fed7-6100-44cd-a9eb-4d150419db20",
   "metadata": {},
   "outputs": [
    {
     "data": {
      "text/plain": [
       "1844"
      ]
     },
     "execution_count": 3,
     "metadata": {},
     "output_type": "execute_result"
    }
   ],
   "source": [
    "# Find index corresponding to \"CHAPTER I\"\n",
    "lines.find(\"CHAPTER I\")"
   ]
  },
  {
   "cell_type": "code",
   "execution_count": 22,
   "id": "4d476443-752e-43b3-bc7f-7c09a9ca93c0",
   "metadata": {},
   "outputs": [
    {
     "data": {
      "text/plain": [
       "692548"
      ]
     },
     "execution_count": 22,
     "metadata": {},
     "output_type": "execute_result"
    }
   ],
   "source": [
    "# Find index corresponding to the last \"Transcriber's note\"\n",
    "# by starting search after the first instance at index 1238\n",
    "lines.find(\"Transcriber's note\", 1844)"
   ]
  },
  {
   "cell_type": "code",
   "execution_count": 24,
   "id": "1d7f4d9f-44ac-41d9-9dba-3afb81138de0",
   "metadata": {},
   "outputs": [
    {
     "name": "stdout",
     "output_type": "stream",
     "text": [
      "CHAPTER I.\n",
      "\n",
      "\n",
      "It is a truth universally acknowledged, that a single man in possession\n",
      "of a good fortune, must be in want of a wife.\n",
      "\n",
      "However little known the feelings or views of such a man may be on his\n",
      "first entering a neighbourhood, this truth is s\n"
     ]
    }
   ],
   "source": [
    "# Store desired slice with starting and ending indexes that correspond\n",
    "# to what we found above\n",
    "desiredSlice = slice(1844, 692548)\n",
    "\n",
    "# Subset using our stored slice\n",
    "desiredText = lines[desiredSlice]\n",
    "\n",
    "# Print the first 250 characters\n",
    "print(desiredText[:250])"
   ]
  },
  {
   "cell_type": "code",
   "execution_count": 23,
   "id": "f4d0f9f4-7fd1-41be-a37e-8112b5bd28b4",
   "metadata": {},
   "outputs": [
    {
     "name": "stdout",
     "output_type": "stream",
     "text": [
      " Darcy,\n",
      "as well as Elizabeth, really loved them; and they were both ever\n",
      "sensible of the warmest gratitude towards the persons who, by bringing\n",
      "her into Derbyshire, had been the means of uniting them.\n",
      "\n",
      "\n",
      "\n",
      "\n",
      "       *       *       *       *       *\n",
      "\n",
      "\n",
      "\n",
      "\n",
      "\n"
     ]
    }
   ],
   "source": [
    "# Print the last 250 characters\n",
    "print(desiredText[-250:])"
   ]
  },
  {
   "cell_type": "markdown",
   "id": "4333bb94-fcfd-4cc9-b882-bd29ad1b80a0",
   "metadata": {},
   "source": [
    "## Part 3: Obtain Just the First Chapter"
   ]
  },
  {
   "cell_type": "markdown",
   "id": "35f5fd3a-20a6-4ca4-b2df-79970d303373",
   "metadata": {},
   "source": [
    "Using the resulting object from the previous part, we’ll now obtain just the first chapter."
   ]
  },
  {
   "cell_type": "code",
   "execution_count": 26,
   "id": "399456e1-d557-48b4-82bd-b61d9279ae0d",
   "metadata": {},
   "outputs": [
    {
     "data": {
      "text/plain": [
       "6345"
      ]
     },
     "execution_count": 26,
     "metadata": {},
     "output_type": "execute_result"
    }
   ],
   "source": [
    "# Find index corresponding to start of \"CHAPTER II\"\n",
    "lines.find(\"CHAPTER II\")"
   ]
  },
  {
   "cell_type": "code",
   "execution_count": 29,
   "id": "4490ae30-9cca-46df-bae2-dcc70338c5d8",
   "metadata": {},
   "outputs": [
    {
     "data": {
      "text/plain": [
       "'CHAPTER I.\\n\\n\\nIt is a truth universally acknowledged, that a single man in possession\\nof a good fortune, must be in want of a wife.\\n\\nHowever little known the feelings or views of such a man may be on his\\nfirst entering a neighbourhood, this truth is so well fixed in the minds\\nof the surrounding families, that he is considered as the rightful\\nproperty of some one or other of their daughters.\\n\\n\"My dear Mr. Bennet,\" said his lady to him one day, \"have you heard that\\nNetherfield Park is let at last?\"\\n\\nMr. Bennet replied that he had not.\\n\\n\"But it is,\" returned she; \"for Mrs. Long has just been here, and she\\ntold me all about it.\"\\n\\nMr. Bennet made no answer.\\n\\n\"Do not you want to know who has taken it?\" cried his wife impatiently.\\n\\n\"_You_ want to tell me, and I have no objection to hearing it.\"\\n\\nThis was invitation enough.\\n\\n\"Why, my dear, you must know, Mrs. Long says that Netherfield is taken\\nby a young man of large fortune from the north of England; that he came\\ndown on Monday in a chaise and four to see the place, and was so much\\ndelighted with it that he agreed with Mr. Morris immediately; that he is\\nto take possession before Michaelmas, and some of his servants are to be\\nin the house by the end of next week.\"\\n\\n\"What is his name?\"\\n\\n\"Bingley.\"\\n\\n\"Is he married or single?\"\\n\\n\"Oh! single, my dear, to be sure! A single man of large fortune; four\\nor five thousand a year. What a fine thing for our girls!\"\\n\\n\"How so? how can it affect them?\"\\n\\n\"My dear Mr. Bennet,\" replied his wife, \"how can you be so tiresome! You\\nmust know that I am thinking of his marrying one of them.\"\\n\\n\"Is that his design in settling here?\"\\n\\n\"Design! nonsense, how can you talk so! But it is very likely that he\\n_may_ fall in love with one of them, and therefore you must visit him as\\nsoon as he comes.\"\\n\\n\"I see no occasion for that. You and the girls may go, or you may send\\nthem by themselves, which perhaps will be still better, for as you are\\nas handsome as any of them, Mr. Bingley might like you the best of the\\nparty.\"\\n\\n\"My dear, you flatter me. I certainly _have_ had my share of beauty, but\\nI do not pretend to be any thing extraordinary now. When a woman has\\nfive grown up daughters, she ought to give over thinking of her own\\nbeauty.\"\\n\\n\"In such cases, a woman has not often much beauty to think of.\"\\n\\n\"But, my dear, you must indeed go and see Mr. Bingley when he comes into\\nthe neighbourhood.\"\\n\\n\"It is more than I engage for, I assure you.\"\\n\\n\"But consider your daughters. Only think what an establishment it would\\nbe for one of them. Sir William and Lady Lucas are determined to go,\\nmerely on that account, for in general you know they visit no new\\ncomers. Indeed you must go, for it will be impossible for _us_ to visit\\nhim, if you do not.\"\\n\\n\"You are over scrupulous surely. I dare say Mr. Bingley will be very\\nglad to see you; and I will send a few lines by you to assure him of my\\nhearty consent to his marrying which ever he chuses of the girls; though\\nI must throw in a good word for my little Lizzy.\"\\n\\n\"I desire you will do no such thing. Lizzy is not a bit better than the\\nothers; and I am sure she is not half so handsome as Jane, nor half so\\ngood humoured as Lydia. But you are always giving _her_ the\\npreference.\"\\n\\n\"They have none of them much to recommend them,\" replied he; \"they are\\nall silly and ignorant like other girls; but Lizzy has something more of\\nquickness than her sisters.\"\\n\\n\"Mr. Bennet, how can you abuse your own children in such a way? You take\\ndelight in vexing me. You have no compassion on my poor nerves.\"\\n\\n\"You mistake me, my dear. I have a high respect for your nerves. They\\nare my old friends. I have heard you mention them with consideration\\nthese twenty years at least.\"\\n\\n\"Ah! you do not know what I suffer.\"\\n\\n\"But I hope you will get over it, and live to see many young men of four\\nthousand a year come into the neighbourhood.\"\\n\\n\"It will be no use to us, if twenty such should come since you will not\\nvisit them.\"\\n\\n\"Depend upon it, my dear, that when there are twenty, I will visit them\\nall.\"\\n\\nMr. Bennet was so odd a mixture of quick parts, sarcastic humour,\\nreserve, and caprice, that the experience of three and twenty years had\\nbeen insufficient to make his wife understand his character. _Her_ mind\\nwas less difficult to develope. She was a woman of mean understanding,\\nlittle information, and uncertain temper. When she was discontented she\\nfancied herself nervous. The business of her life was to get her\\ndaughters married; its solace was visiting and news.\\n\\n\\n\\n\\n'"
      ]
     },
     "execution_count": 29,
     "metadata": {},
     "output_type": "execute_result"
    }
   ],
   "source": [
    "# Store desired slice with starting and ending indexes that correspond\n",
    "# to what we found\n",
    "newSlice = slice(1844, 6345)\n",
    "\n",
    "# Subset using our stored slice\n",
    "newDesiredText = lines[newSlice]\n",
    "newDesiredText"
   ]
  },
  {
   "cell_type": "code",
   "execution_count": 30,
   "id": "a2bb0fd3-2470-4c50-8dfe-f92a21116214",
   "metadata": {},
   "outputs": [
    {
     "name": "stdout",
     "output_type": "stream",
     "text": [
      "CHAPTER I.\n",
      "\n",
      "\n",
      "It is a truth universally acknowledged, that a single man in possession\n",
      "of a good fortune, must be in want of a wife.\n",
      "\n",
      "However little known the feelings or views of such a man may be on his\n",
      "first entering a neighbourhood, this truth is so well fixed in the minds\n",
      "of the surrounding families, that he is considered as the rightful\n",
      "property of some one or other of their daughters.\n",
      "\n",
      "\"My dear Mr. Bennet,\" said his lady to him one day, \"have you heard that\n",
      "Netherfield Park is let at last?\"\n",
      "\n",
      "Mr. Bennet replied that he had not.\n",
      "\n",
      "\"But it is,\" returned she; \"for Mrs. Long has just been here, and she\n",
      "told me all about it.\"\n",
      "\n",
      "Mr. Bennet made no answer.\n",
      "\n",
      "\"Do not you want to know who has taken it?\" cried his wife impatiently.\n",
      "\n",
      "\"_You_ want to tell me, and I have no objection to hearing it.\"\n",
      "\n",
      "This was invitation enough.\n",
      "\n",
      "\"Why, my dear, you must know, Mrs. Long says that Netherfield is taken\n",
      "by a young man of large fortune from the north of England; that he came\n",
      "down on Monday in a chaise and four to see the place, and was so much\n",
      "delighted with it that he agreed with Mr. Morris immediately; that he is\n",
      "to take possession before Michaelmas, and some of his servants are to be\n",
      "in the house by the end of next week.\"\n",
      "\n",
      "\"What is his name?\"\n",
      "\n",
      "\"Bingley.\"\n",
      "\n",
      "\"Is he married or single?\"\n",
      "\n",
      "\"Oh! single, my dear, to be sure! A single man of large fortune; four\n",
      "or five thousand a year. What a fine thing for our girls!\"\n",
      "\n",
      "\"How so? how can it affect them?\"\n",
      "\n",
      "\"My dear Mr. Bennet,\" replied his wife, \"how can you be so tiresome! You\n",
      "must know that I am thinking of his marrying one of them.\"\n",
      "\n",
      "\"Is that his design in settling here?\"\n",
      "\n",
      "\"Design! nonsense, how can you talk so! But it is very likely that he\n",
      "_may_ fall in love with one of them, and therefore you must visit him as\n",
      "soon as he comes.\"\n",
      "\n",
      "\"I see no occasion for that. You and the girls may go, or you may send\n",
      "them by themselves, which perhaps will be still better, for as you are\n",
      "as handsome as any of them, Mr. Bingley might like you the best of the\n",
      "party.\"\n",
      "\n",
      "\"My dear, you flatter me. I certainly _have_ had my share of beauty, but\n",
      "I do not pretend to be any thing extraordinary now. When a woman has\n",
      "five grown up daughters, she ought to give over thinking of her own\n",
      "beauty.\"\n",
      "\n",
      "\"In such cases, a woman has not often much beauty to think of.\"\n",
      "\n",
      "\"But, my dear, you must indeed go and see Mr. Bingley when he comes into\n",
      "the neighbourhood.\"\n",
      "\n",
      "\"It is more than I engage for, I assure you.\"\n",
      "\n",
      "\"But consider your daughters. Only think what an establishment it would\n",
      "be for one of them. Sir William and Lady Lucas are determined to go,\n",
      "merely on that account, for in general you know they visit no new\n",
      "comers. Indeed you must go, for it will be impossible for _us_ to visit\n",
      "him, if you do not.\"\n",
      "\n",
      "\"You are over scrupulous surely. I dare say Mr. Bingley will be very\n",
      "glad to see you; and I will send a few lines by you to assure him of my\n",
      "hearty consent to his marrying which ever he chuses of the girls; though\n",
      "I must throw in a good word for my little Lizzy.\"\n",
      "\n",
      "\"I desire you will do no such thing. Lizzy is not a bit better than the\n",
      "others; and I am sure she is not half so handsome as Jane, nor half so\n",
      "good humoured as Lydia. But you are always giving _her_ the\n",
      "preference.\"\n",
      "\n",
      "\"They have none of them much to recommend them,\" replied he; \"they are\n",
      "all silly and ignorant like other girls; but Lizzy has something more of\n",
      "quickness than her sisters.\"\n",
      "\n",
      "\"Mr. Bennet, how can you abuse your own children in such a way? You take\n",
      "delight in vexing me. You have no compassion on my poor nerves.\"\n",
      "\n",
      "\"You mistake me, my dear. I have a high respect for your nerves. They\n",
      "are my old friends. I have heard you mention them with consideration\n",
      "these twenty years at least.\"\n",
      "\n",
      "\"Ah! you do not know what I suffer.\"\n",
      "\n",
      "\"But I hope you will get over it, and live to see many young men of four\n",
      "thousand a year come into the neighbourhood.\"\n",
      "\n",
      "\"It will be no use to us, if twenty such should come since you will not\n",
      "visit them.\"\n",
      "\n",
      "\"Depend upon it, my dear, that when there are twenty, I will visit them\n",
      "all.\"\n",
      "\n",
      "Mr. Bennet was so odd a mixture of quick parts, sarcastic humour,\n",
      "reserve, and caprice, that the experience of three and twenty years had\n",
      "been insufficient to make his wife understand his character. _Her_ mind\n",
      "was less difficult to develope. She was a woman of mean understanding,\n",
      "little information, and uncertain temper. When she was discontented she\n",
      "fancied herself nervous. The business of her life was to get her\n",
      "daughters married; its solace was visiting and news.\n",
      "\n",
      "\n",
      "\n",
      "\n",
      "\n"
     ]
    }
   ],
   "source": [
    "print(newDesiredText)"
   ]
  },
  {
   "cell_type": "code",
   "execution_count": 36,
   "id": "2f3d4a37-eb86-4db6-aaee-9e0980b2fcb2",
   "metadata": {},
   "outputs": [],
   "source": [
    "# Replace the \\n characters with a ' ' using a string method\n",
    "repNewLine = newDesiredText.replace(\"\\n\", ' ')\n",
    "splitNewLine = repNewLine.split(' ')"
   ]
  },
  {
   "cell_type": "code",
   "execution_count": 42,
   "id": "d12a621f-fcc3-46f7-8c73-0428056ef2a4",
   "metadata": {
    "tags": []
   },
   "outputs": [
    {
     "name": "stdout",
     "output_type": "stream",
     "text": [
      "There are 897 words in the first chapter.\n"
     ]
    }
   ],
   "source": [
    "wordCount = 0\n",
    "\n",
    "for i in splitNewLine:\n",
    "    if i == False:\n",
    "        continue\n",
    "    else:\n",
    "        wordCount += 1\n",
    "\n",
    "print(\"There are \" + str(wordCount) + \" words in the first chapter.\")"
   ]
  },
  {
   "cell_type": "markdown",
   "id": "eb563900-e371-4aab-85c8-062b68fd804e",
   "metadata": {},
   "source": [
    "## Counting Vowels, Consonants, and Other Characters"
   ]
  },
  {
   "cell_type": "markdown",
   "id": "9c2a6ac7-f8af-4e01-8f28-0b61bf7e07e1",
   "metadata": {},
   "source": [
    "Here, we will write a `for` loop and use `if/then/else` logic to count the number of vowels, consonants, and other characters."
   ]
  },
  {
   "cell_type": "code",
   "execution_count": 44,
   "id": "cedff8ef-3769-4d31-b9f7-d0f87706af3f",
   "metadata": {},
   "outputs": [],
   "source": [
    "# Convert all of the text to lower case using a string method\n",
    "lowerCaseText = desiredText.lower()"
   ]
  },
  {
   "cell_type": "code",
   "execution_count": 46,
   "id": "e42a4fa8-3cf9-4f22-8091-40bfcee05d8b",
   "metadata": {},
   "outputs": [],
   "source": [
    "# Intialize four variables to count the number of vowels, consonants, spaces,\n",
    "# and other characters\n",
    "numVowels, numCons, numSpaces, numOthers = 0, 0, 0, 0"
   ]
  },
  {
   "cell_type": "code",
   "execution_count": 47,
   "id": "ffa0dd8d-a384-460f-b115-22ff23694357",
   "metadata": {},
   "outputs": [],
   "source": [
    "for i in lowerCaseText:\n",
    "    if i == '_':\n",
    "        continue\n",
    "    elif i in ['a', 'e', 'i', 'o', 'u']:\n",
    "        numVowels += 1\n",
    "    elif i in ['b', 'c', 'd', 'f', 'g', 'h', 'j', 'k', 'l', 'm', 'n', \n",
    "              'p', 'q', 'r', 's', 't', 'u', 'v', 'w', 'x', 'y', 'z']:\n",
    "        numCons += 1\n",
    "    elif i == ' ':\n",
    "        numSpaces += 1\n",
    "    else:\n",
    "        numOthers += 1      "
   ]
  },
  {
   "cell_type": "code",
   "execution_count": 60,
   "id": "b6c5e33b-b752-4435-863d-aa0b1d756d09",
   "metadata": {},
   "outputs": [
    {
     "name": "stdout",
     "output_type": "stream",
     "text": [
      "The number of vowels is: 204285 \n",
      "The number of consonants is: 333087\n",
      "The number of spaces is: 114698\n",
      "The number of other characters is: 37702\n"
     ]
    }
   ],
   "source": [
    "# Use the .format() string method to \n",
    "# insert the counter variables into a string\n",
    "print(\"The number of vowels is: {} \\n\\\n",
    "The number of consonants is: {}\\n\\\n",
    "The number of spaces is: {}\\n\\\n",
    "The number of other characters is: {}\" \\\n",
    "      .format(numVowels, numCons, numSpaces, numOthers))"
   ]
  },
  {
   "cell_type": "code",
   "execution_count": 56,
   "id": "b1e6e9da-724a-4d27-9e35-a01ed97d251f",
   "metadata": {},
   "outputs": [
    {
     "data": {
      "text/plain": [
       "204285"
      ]
     },
     "execution_count": 56,
     "metadata": {},
     "output_type": "execute_result"
    }
   ],
   "source": [
    "countVowels = lowerCaseText.count('a') + lowerCaseText.count('e') + \\\n",
    "lowerCaseText.count('i') + \\\n",
    "lowerCaseText.count('o') + \\\n",
    "lowerCaseText.count('u')\n",
    "\n",
    "countVowels"
   ]
  },
  {
   "cell_type": "code",
   "execution_count": 69,
   "id": "e8faf410-a406-4d75-be43-9d11b3b50529",
   "metadata": {},
   "outputs": [
    {
     "name": "stdout",
     "output_type": "stream",
     "text": [
      "The proportion of vowels is: 0.355 \n",
      "The proportion of consonants is: 0.579\n",
      "The proportion of other characters is: 0.066\n"
     ]
    }
   ],
   "source": [
    "# Calculate sum of non-space characters\n",
    "denom = numVowels + numCons + numOthers\n",
    "\n",
    "# Calculate proportions\n",
    "vowelProp = numVowels/denom\n",
    "consProp = numCons/denom\n",
    "otherCharProp = numOthers/denom\n",
    "\n",
    "print(\"The proportion of vowels is: {} \\n\\\n",
    "The proportion of consonants is: {}\\n\\\n",
    "The proportion of other characters is: {}\" \\\n",
    "      .format(round(vowelProp, 3), round(consProp, 3), round(otherCharProp, 3)))"
   ]
  }
 ],
 "metadata": {
  "kernelspec": {
   "display_name": "Python 3 (ipykernel)",
   "language": "python",
   "name": "python3"
  },
  "language_info": {
   "codemirror_mode": {
    "name": "ipython",
    "version": 3
   },
   "file_extension": ".py",
   "mimetype": "text/x-python",
   "name": "python",
   "nbconvert_exporter": "python",
   "pygments_lexer": "ipython3",
   "version": "3.8.12"
  }
 },
 "nbformat": 4,
 "nbformat_minor": 5
}
