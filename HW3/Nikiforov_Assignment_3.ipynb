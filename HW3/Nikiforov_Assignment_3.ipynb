{
 "cells": [
  {
   "cell_type": "markdown",
   "id": "3192be75-e63e-419c-a1c9-12f8f7996e1c",
   "metadata": {},
   "source": [
    "# Homework 3"
   ]
  },
  {
   "cell_type": "markdown",
   "id": "0251aca9-b81c-4f29-b395-0367175a6939",
   "metadata": {},
   "source": [
    "Maksim Nikiforov"
   ]
  },
  {
   "cell_type": "markdown",
   "id": "1c3e7aea-3be0-455f-a640-0e8fa42b3566",
   "metadata": {},
   "source": [
    "## Part 1 - list and `numpy` practice"
   ]
  },
  {
   "cell_type": "code",
   "execution_count": 4,
   "id": "20cf81d2-d3a6-43a2-aed0-05a586bac7c7",
   "metadata": {},
   "outputs": [
    {
     "name": "stdout",
     "output_type": "stream",
     "text": [
      "[ 1.10345565 -0.65441772  1.41312411 -0.1029957  -0.08796534  2.73650571\n",
      "  0.54154776 -1.85787935 -0.2027653   1.96962412]\n"
     ]
    }
   ],
   "source": [
    "# Import the numpy library and the new way to do random number generation using numpy\n",
    "import numpy as np\n",
    "\n",
    "# https://numpy.org/doc/stable/reference/random/index.html#random-quick-start\n",
    "from numpy.random import default_rng\n",
    "rng = default_rng()\n",
    "\n",
    "# Generate 10 values from a standard normal distribution and print those out\n",
    "vals = rng.standard_normal(10)\n",
    "\n",
    "print(vals)"
   ]
  },
  {
   "cell_type": "code",
   "execution_count": 6,
   "id": "f1155c98-fdc8-4224-86c8-bf9d3fd9eb90",
   "metadata": {},
   "outputs": [
    {
     "data": {
      "text/plain": [
       "0.48582339485494713"
      ]
     },
     "execution_count": 6,
     "metadata": {},
     "output_type": "execute_result"
    }
   ],
   "source": [
    "# Use numpy’s mean function to find the mean of your 10 values above.\n",
    "np.mean(vals)"
   ]
  },
  {
   "cell_type": "code",
   "execution_count": 20,
   "id": "2f7406d6-46ed-4421-b2ce-721028670a95",
   "metadata": {},
   "outputs": [],
   "source": [
    "# Use a list comprehension to generate 1000 data sets of size 10 from a standard normal.\n",
    "# In your list comprehension, return the mean of the 10 randomly generated values.\n",
    "normal_means = [np.mean(rng.standard_normal(10)) for x in range(0, 999)]"
   ]
  },
  {
   "cell_type": "code",
   "execution_count": 21,
   "id": "74c54e3c-8a77-45dc-913b-672f51f5dd38",
   "metadata": {},
   "outputs": [
    {
     "data": {
      "text/plain": [
       "(array([  1.,  16.,  51., 118., 210., 251., 186., 124.,  33.,   9.]),\n",
       " array([-1.08408204, -0.88172173, -0.67936142, -0.4770011 , -0.27464079,\n",
       "        -0.07228048,  0.13007984,  0.33244015,  0.53480046,  0.73716078,\n",
       "         0.93952109]),\n",
       " <BarContainer object of 10 artists>)"
      ]
     },
     "execution_count": 21,
     "metadata": {},
     "output_type": "execute_result"
    },
    {
     "data": {
      "image/png": "[encoded data removed]",
      "text/plain": [
       "<Figure size 432x288 with 1 Axes>"
      ]
     },
     "metadata": {
      "needs_background": "light"
     },
     "output_type": "display_data"
    }
   ],
   "source": [
    "# Create a histogram of the means\n",
    "import matplotlib.pyplot as plt\n",
    "plt.hist(normal_means)"
   ]
  },
  {
   "cell_type": "markdown",
   "id": "c7d44ea2-7cd8-4749-ae00-9f1a12af40c0",
   "metadata": {},
   "source": [
    "## Part 2 - dictionary practice\n",
    "\n",
    "In this part, we’ll count the number of words in a book using a for loop and a dictionary."
   ]
  },
  {
   "cell_type": "code",
   "execution_count": 22,
   "id": "2f8856d3-9f89-4774-93ca-c1381300e34c",
   "metadata": {},
   "outputs": [
    {
     "name": "stdout",
     "output_type": "stream",
     "text": [
      "﻿The Project Gutenberg EBook of Oliver Twist, by Charles Dickens\n",
      "\n",
      "This eBook is for the use of anyon\n"
     ]
    }
   ],
   "source": [
    "# Read in charles-dickens-oliver-twist.txt as a string\n",
    "with open('charles-dickens-oliver-twist.txt', 'r') as f: lines = f.read()\n",
    "print(lines[:100])"
   ]
  },
  {
   "cell_type": "code",
   "execution_count": null,
   "id": "6d5dc44e-fc5f-4829-a46f-6c0135ea5c9a",
   "metadata": {},
   "outputs": [],
   "source": [
    "# Remove the first part of the book (up to “CHAPTER I”) and the last portion of the book."
   ]
  }
 ],
 "metadata": {
  "kernelspec": {
   "display_name": "Python 3 (ipykernel)",
   "language": "python",
   "name": "python3"
  },
  "language_info": {
   "codemirror_mode": {
    "name": "ipython",
    "version": 3
   },
   "file_extension": ".py",
   "mimetype": "text/x-python",
   "name": "python",
   "nbconvert_exporter": "python",
   "pygments_lexer": "ipython3",
   "version": "3.10.2"
  }
 },
 "nbformat": 4,
 "nbformat_minor": 5
}
